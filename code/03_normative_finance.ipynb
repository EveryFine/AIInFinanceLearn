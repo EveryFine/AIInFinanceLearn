{
 "cells": [
  {
   "cell_type": "markdown",
   "metadata": {},
   "source": [
    "<img src='http://hilpisch.com/taim_logo.png' width=\"350px\" align=\"right\">"
   ]
  },
  {
   "cell_type": "markdown",
   "metadata": {},
   "source": [
    "# Artificial Intelligence in Finance"
   ]
  },
  {
   "cell_type": "markdown",
   "metadata": {},
   "source": [
    "## Normative Finance"
   ]
  },
  {
   "cell_type": "markdown",
   "metadata": {},
   "source": [
    "Dr Yves J Hilpisch | The AI Machine\n",
    "\n",
    "http://aimachine.io | http://twitter.com/dyjh"
   ]
  },
  {
   "cell_type": "markdown",
   "metadata": {},
   "source": [
    "## Uncertainty and Risk"
   ]
  },
  {
   "cell_type": "code",
   "metadata": {
    "ExecuteTime": {
     "end_time": "2024-09-16T10:52:29.452725Z",
     "start_time": "2024-09-16T10:52:29.373723Z"
    }
   },
   "source": [
    "import numpy as np"
   ],
   "outputs": [],
   "execution_count": 1
  },
  {
   "cell_type": "code",
   "metadata": {
    "ExecuteTime": {
     "end_time": "2024-09-16T10:52:31.062835Z",
     "start_time": "2024-09-16T10:52:31.059948Z"
    }
   },
   "source": [
    "S0 = 10\n",
    "B0 = 10"
   ],
   "outputs": [],
   "execution_count": 2
  },
  {
   "cell_type": "code",
   "metadata": {
    "ExecuteTime": {
     "end_time": "2024-09-16T10:52:33.563024Z",
     "start_time": "2024-09-16T10:52:33.560734Z"
    }
   },
   "source": [
    "S1 = np.array((20, 5))\n",
    "B1 = np.array((11, 11))"
   ],
   "outputs": [],
   "execution_count": 3
  },
  {
   "cell_type": "code",
   "metadata": {
    "ExecuteTime": {
     "end_time": "2024-09-16T10:52:35.366997Z",
     "start_time": "2024-09-16T10:52:35.363479Z"
    }
   },
   "source": [
    "M0 = np.array((S0, B0))\n",
    "M0"
   ],
   "outputs": [
    {
     "data": {
      "text/plain": [
       "array([10, 10])"
      ]
     },
     "execution_count": 4,
     "metadata": {},
     "output_type": "execute_result"
    }
   ],
   "execution_count": 4
  },
  {
   "cell_type": "code",
   "metadata": {
    "ExecuteTime": {
     "end_time": "2024-09-16T10:52:42.287045Z",
     "start_time": "2024-09-16T10:52:42.283341Z"
    }
   },
   "source": [
    "M1 = np.array((S1, B1)).T\n",
    "M1"
   ],
   "outputs": [
    {
     "data": {
      "text/plain": [
       "array([[20, 11],\n",
       "       [ 5, 11]])"
      ]
     },
     "execution_count": 6,
     "metadata": {},
     "output_type": "execute_result"
    }
   ],
   "execution_count": 6
  },
  {
   "cell_type": "code",
   "metadata": {
    "ExecuteTime": {
     "end_time": "2024-09-16T10:56:21.625527Z",
     "start_time": "2024-09-16T10:56:21.623025Z"
    }
   },
   "source": [
    "K = 14.5"
   ],
   "outputs": [],
   "execution_count": 7
  },
  {
   "cell_type": "code",
   "metadata": {
    "ExecuteTime": {
     "end_time": "2024-09-16T10:59:36.127017Z",
     "start_time": "2024-09-16T10:59:36.124532Z"
    }
   },
   "source": [
    "C1 = np.maximum(S1 - K, 0)\n",
    "C1"
   ],
   "outputs": [
    {
     "data": {
      "text/plain": [
       "array([5.5, 0. ])"
      ]
     },
     "execution_count": 9,
     "metadata": {},
     "output_type": "execute_result"
    }
   ],
   "execution_count": 9
  },
  {
   "cell_type": "code",
   "metadata": {
    "ExecuteTime": {
     "end_time": "2024-09-16T11:01:51.823677Z",
     "start_time": "2024-09-16T11:01:51.820378Z"
    }
   },
   "source": [
    "phi = np.linalg.solve(M1, C1)\n",
    "phi"
   ],
   "outputs": [
    {
     "data": {
      "text/plain": [
       "array([ 0.36666667, -0.16666667])"
      ]
     },
     "execution_count": 10,
     "metadata": {},
     "output_type": "execute_result"
    }
   ],
   "execution_count": 10
  },
  {
   "cell_type": "code",
   "metadata": {
    "ExecuteTime": {
     "end_time": "2024-09-16T11:12:48.909559Z",
     "start_time": "2024-09-16T11:12:48.905893Z"
    }
   },
   "source": [
    "np.allclose(C1, np.dot(M1, phi))"
   ],
   "outputs": [
    {
     "data": {
      "text/plain": [
       "True"
      ]
     },
     "execution_count": 12,
     "metadata": {},
     "output_type": "execute_result"
    }
   ],
   "execution_count": 12
  },
  {
   "cell_type": "code",
   "metadata": {
    "ExecuteTime": {
     "end_time": "2024-09-16T11:21:07.181364Z",
     "start_time": "2024-09-16T11:21:07.176984Z"
    }
   },
   "source": [
    "C0 = np.dot(M0, phi)\n",
    "C0"
   ],
   "outputs": [
    {
     "data": {
      "text/plain": [
       "2.0"
      ]
     },
     "execution_count": 13,
     "metadata": {},
     "output_type": "execute_result"
    }
   ],
   "execution_count": 13
  },
  {
   "cell_type": "markdown",
   "metadata": {},
   "source": [
    "## Expected Utility Theory"
   ]
  },
  {
   "cell_type": "code",
   "metadata": {
    "ExecuteTime": {
     "end_time": "2024-09-16T11:23:16.945639Z",
     "start_time": "2024-09-16T11:23:16.943800Z"
    }
   },
   "source": [
    "def u(x):\n",
    "    return np.sqrt(x)"
   ],
   "outputs": [],
   "execution_count": 14
  },
  {
   "cell_type": "code",
   "metadata": {
    "ExecuteTime": {
     "end_time": "2024-09-16T11:23:19.087765Z",
     "start_time": "2024-09-16T11:23:19.085425Z"
    }
   },
   "source": [
    "phi_A = np.array((0.75, 0.25))\n",
    "phi_D = np.array((0.25, 0.75))"
   ],
   "outputs": [],
   "execution_count": 15
  },
  {
   "cell_type": "code",
   "metadata": {
    "ExecuteTime": {
     "end_time": "2024-09-16T11:23:20.639221Z",
     "start_time": "2024-09-16T11:23:20.636543Z"
    }
   },
   "source": [
    "np.dot(M0, phi_A) == np.dot(M0, phi_D)"
   ],
   "outputs": [
    {
     "data": {
      "text/plain": [
       "True"
      ]
     },
     "execution_count": 16,
     "metadata": {},
     "output_type": "execute_result"
    }
   ],
   "execution_count": 16
  },
  {
   "cell_type": "code",
   "metadata": {
    "ExecuteTime": {
     "end_time": "2024-09-16T11:27:28.097570Z",
     "start_time": "2024-09-16T11:27:28.093091Z"
    }
   },
   "source": [
    "A1 = np.dot(M1, phi_A)\n",
    "A1"
   ],
   "outputs": [
    {
     "data": {
      "text/plain": [
       "array([17.75,  6.5 ])"
      ]
     },
     "execution_count": 19,
     "metadata": {},
     "output_type": "execute_result"
    }
   ],
   "execution_count": 19
  },
  {
   "cell_type": "code",
   "metadata": {
    "ExecuteTime": {
     "end_time": "2024-09-16T11:27:30.306484Z",
     "start_time": "2024-09-16T11:27:30.303305Z"
    }
   },
   "source": [
    "D1 = np.dot(M1, phi_D)\n",
    "D1"
   ],
   "outputs": [
    {
     "data": {
      "text/plain": [
       "array([13.25,  9.5 ])"
      ]
     },
     "execution_count": 20,
     "metadata": {},
     "output_type": "execute_result"
    }
   ],
   "execution_count": 20
  },
  {
   "cell_type": "code",
   "metadata": {
    "ExecuteTime": {
     "end_time": "2024-09-16T11:28:07.026442Z",
     "start_time": "2024-09-16T11:28:07.024187Z"
    }
   },
   "source": [
    "P = np.array((0.5, 0.5))"
   ],
   "outputs": [],
   "execution_count": 21
  },
  {
   "cell_type": "code",
   "metadata": {
    "ExecuteTime": {
     "end_time": "2024-09-16T11:28:10.234208Z",
     "start_time": "2024-09-16T11:28:10.232038Z"
    }
   },
   "source": [
    "def EUT(x):\n",
    "    return np.dot(P, u(x))"
   ],
   "outputs": [],
   "execution_count": 22
  },
  {
   "cell_type": "code",
   "metadata": {
    "ExecuteTime": {
     "end_time": "2024-09-16T11:28:43.287850Z",
     "start_time": "2024-09-16T11:28:43.284310Z"
    }
   },
   "source": [
    "EUT(A1)"
   ],
   "outputs": [
    {
     "data": {
      "text/plain": [
       "3.381292321692286"
      ]
     },
     "execution_count": 23,
     "metadata": {},
     "output_type": "execute_result"
    }
   ],
   "execution_count": 23
  },
  {
   "cell_type": "code",
   "metadata": {
    "ExecuteTime": {
     "end_time": "2024-09-16T11:31:24.079282Z",
     "start_time": "2024-09-16T11:31:24.076308Z"
    }
   },
   "source": [
    "EUT(D1)"
   ],
   "outputs": [
    {
     "data": {
      "text/plain": [
       "3.3611309730623735"
      ]
     },
     "execution_count": 25,
     "metadata": {},
     "output_type": "execute_result"
    }
   ],
   "execution_count": 25
  },
  {
   "cell_type": "code",
   "metadata": {
    "ExecuteTime": {
     "end_time": "2024-09-16T11:31:26.829265Z",
     "start_time": "2024-09-16T11:31:26.631789Z"
    }
   },
   "source": [
    "from scipy.optimize import minimize"
   ],
   "outputs": [],
   "execution_count": 26
  },
  {
   "cell_type": "code",
   "metadata": {
    "ExecuteTime": {
     "end_time": "2024-09-16T11:31:28.880818Z",
     "start_time": "2024-09-16T11:31:28.878473Z"
    }
   },
   "source": [
    "w = 10"
   ],
   "outputs": [],
   "execution_count": 27
  },
  {
   "cell_type": "code",
   "metadata": {
    "ExecuteTime": {
     "end_time": "2024-09-16T11:31:30.453310Z",
     "start_time": "2024-09-16T11:31:30.451342Z"
    }
   },
   "source": [
    "cons = {'type': 'eq', 'fun': lambda phi: np.dot(M0, phi) - w}"
   ],
   "outputs": [],
   "execution_count": 28
  },
  {
   "cell_type": "code",
   "metadata": {
    "ExecuteTime": {
     "end_time": "2024-09-16T11:34:20.988343Z",
     "start_time": "2024-09-16T11:34:20.986090Z"
    }
   },
   "source": [
    "def EUT_(phi):\n",
    "    x = np.dot(M1, phi)\n",
    "    return EUT(x)"
   ],
   "outputs": [],
   "execution_count": 33
  },
  {
   "cell_type": "code",
   "metadata": {
    "ExecuteTime": {
     "end_time": "2024-09-16T11:34:22.544002Z",
     "start_time": "2024-09-16T11:34:22.539530Z"
    }
   },
   "source": [
    "opt = minimize(lambda phi: -EUT_(phi),\n",
    "               x0=phi_A,\n",
    "               constraints=cons)"
   ],
   "outputs": [],
   "execution_count": 34
  },
  {
   "cell_type": "code",
   "metadata": {
    "ExecuteTime": {
     "end_time": "2024-09-16T11:34:25.975073Z",
     "start_time": "2024-09-16T11:34:25.972175Z"
    }
   },
   "source": [
    "opt"
   ],
   "outputs": [
    {
     "data": {
      "text/plain": [
       " message: Optimization terminated successfully\n",
       " success: True\n",
       "  status: 0\n",
       "     fun: -3.3850159994933975\n",
       "       x: [ 6.112e-01  3.888e-01]\n",
       "     nit: 4\n",
       "     jac: [-1.692e+00 -1.693e+00]\n",
       "    nfev: 12\n",
       "    njev: 4"
      ]
     },
     "execution_count": 35,
     "metadata": {},
     "output_type": "execute_result"
    }
   ],
   "execution_count": 35
  },
  {
   "cell_type": "code",
   "metadata": {
    "ExecuteTime": {
     "end_time": "2024-09-16T11:34:28.770624Z",
     "start_time": "2024-09-16T11:34:28.767678Z"
    }
   },
   "source": [
    "EUT_(opt['x'])"
   ],
   "outputs": [
    {
     "data": {
      "text/plain": [
       "3.3850159994933975"
      ]
     },
     "execution_count": 36,
     "metadata": {},
     "output_type": "execute_result"
    }
   ],
   "execution_count": 36
  },
  {
   "cell_type": "code",
   "metadata": {
    "ExecuteTime": {
     "end_time": "2024-09-16T11:34:31.408226Z",
     "start_time": "2024-09-16T11:34:31.405143Z"
    }
   },
   "source": [
    "np.dot(M0, opt['x'])"
   ],
   "outputs": [
    {
     "data": {
      "text/plain": [
       "10.000000000000002"
      ]
     },
     "execution_count": 37,
     "metadata": {},
     "output_type": "execute_result"
    }
   ],
   "execution_count": 37
  },
  {
   "cell_type": "markdown",
   "metadata": {},
   "source": [
    "## Mean-Variance Portfolio Theory"
   ]
  },
  {
   "cell_type": "code",
   "metadata": {
    "ExecuteTime": {
     "end_time": "2024-09-17T00:30:27.810440Z",
     "start_time": "2024-09-17T00:30:27.796524Z"
    }
   },
   "source": [
    "rS = S1 / S0 - 1\n",
    "rS"
   ],
   "outputs": [
    {
     "data": {
      "text/plain": [
       "array([ 1. , -0.5])"
      ]
     },
     "execution_count": 38,
     "metadata": {},
     "output_type": "execute_result"
    }
   ],
   "execution_count": 38
  },
  {
   "cell_type": "code",
   "metadata": {
    "ExecuteTime": {
     "end_time": "2024-09-17T00:30:30.225953Z",
     "start_time": "2024-09-17T00:30:30.223059Z"
    }
   },
   "source": [
    "rB = B1 / B0 - 1\n",
    "rB"
   ],
   "outputs": [
    {
     "data": {
      "text/plain": [
       "array([0.1, 0.1])"
      ]
     },
     "execution_count": 39,
     "metadata": {},
     "output_type": "execute_result"
    }
   ],
   "execution_count": 39
  },
  {
   "cell_type": "code",
   "metadata": {
    "ExecuteTime": {
     "end_time": "2024-09-17T00:30:32.268723Z",
     "start_time": "2024-09-17T00:30:32.266426Z"
    }
   },
   "source": [
    "def mu(rX):\n",
    "    return np.dot(P, rX)"
   ],
   "outputs": [],
   "execution_count": 40
  },
  {
   "cell_type": "code",
   "metadata": {
    "ExecuteTime": {
     "end_time": "2024-09-17T00:30:34.500313Z",
     "start_time": "2024-09-17T00:30:34.497089Z"
    }
   },
   "source": [
    "mu(rS)"
   ],
   "outputs": [
    {
     "data": {
      "text/plain": [
       "0.25"
      ]
     },
     "execution_count": 41,
     "metadata": {},
     "output_type": "execute_result"
    }
   ],
   "execution_count": 41
  },
  {
   "cell_type": "code",
   "metadata": {
    "ExecuteTime": {
     "end_time": "2024-09-17T00:30:36.306231Z",
     "start_time": "2024-09-17T00:30:36.303431Z"
    }
   },
   "source": [
    "mu(rB)"
   ],
   "outputs": [
    {
     "data": {
      "text/plain": [
       "0.10000000000000009"
      ]
     },
     "execution_count": 42,
     "metadata": {},
     "output_type": "execute_result"
    }
   ],
   "execution_count": 42
  },
  {
   "cell_type": "code",
   "metadata": {
    "ExecuteTime": {
     "end_time": "2024-09-17T00:30:38.070438Z",
     "start_time": "2024-09-17T00:30:38.067404Z"
    }
   },
   "source": [
    "rM = M1 / M0 - 1\n",
    "rM"
   ],
   "outputs": [
    {
     "data": {
      "text/plain": [
       "array([[ 1. ,  0.1],\n",
       "       [-0.5,  0.1]])"
      ]
     },
     "execution_count": 43,
     "metadata": {},
     "output_type": "execute_result"
    }
   ],
   "execution_count": 43
  },
  {
   "cell_type": "code",
   "metadata": {
    "ExecuteTime": {
     "end_time": "2024-09-17T00:30:42.275112Z",
     "start_time": "2024-09-17T00:30:42.272277Z"
    }
   },
   "source": [
    "mu(rM)"
   ],
   "outputs": [
    {
     "data": {
      "text/plain": [
       "array([0.25, 0.1 ])"
      ]
     },
     "execution_count": 44,
     "metadata": {},
     "output_type": "execute_result"
    }
   ],
   "execution_count": 44
  },
  {
   "cell_type": "code",
   "metadata": {
    "ExecuteTime": {
     "end_time": "2024-09-17T00:30:44.522382Z",
     "start_time": "2024-09-17T00:30:44.520146Z"
    }
   },
   "source": [
    "def var(rX):\n",
    "    return ((rX - mu(rX)) ** 2).mean()"
   ],
   "outputs": [],
   "execution_count": 45
  },
  {
   "cell_type": "code",
   "metadata": {
    "ExecuteTime": {
     "end_time": "2024-09-17T00:30:46.890290Z",
     "start_time": "2024-09-17T00:30:46.887198Z"
    }
   },
   "source": [
    "var(rS)"
   ],
   "outputs": [
    {
     "data": {
      "text/plain": [
       "0.5625"
      ]
     },
     "execution_count": 46,
     "metadata": {},
     "output_type": "execute_result"
    }
   ],
   "execution_count": 46
  },
  {
   "cell_type": "code",
   "metadata": {
    "ExecuteTime": {
     "end_time": "2024-09-17T00:30:49.061907Z",
     "start_time": "2024-09-17T00:30:49.059057Z"
    }
   },
   "source": [
    "var(rB)"
   ],
   "outputs": [
    {
     "data": {
      "text/plain": [
       "0.0"
      ]
     },
     "execution_count": 47,
     "metadata": {},
     "output_type": "execute_result"
    }
   ],
   "execution_count": 47
  },
  {
   "cell_type": "code",
   "metadata": {
    "ExecuteTime": {
     "end_time": "2024-09-17T00:30:51.143707Z",
     "start_time": "2024-09-17T00:30:51.141530Z"
    }
   },
   "source": [
    "def sigma(rX):\n",
    "    return np.sqrt(var(rX))"
   ],
   "outputs": [],
   "execution_count": 48
  },
  {
   "cell_type": "code",
   "metadata": {
    "ExecuteTime": {
     "end_time": "2024-09-17T00:30:53.147976Z",
     "start_time": "2024-09-17T00:30:53.145204Z"
    }
   },
   "source": [
    "sigma(rS)"
   ],
   "outputs": [
    {
     "data": {
      "text/plain": [
       "0.75"
      ]
     },
     "execution_count": 49,
     "metadata": {},
     "output_type": "execute_result"
    }
   ],
   "execution_count": 49
  },
  {
   "cell_type": "code",
   "metadata": {
    "ExecuteTime": {
     "end_time": "2024-09-17T00:30:55.393567Z",
     "start_time": "2024-09-17T00:30:55.390747Z"
    }
   },
   "source": [
    "sigma(rB)"
   ],
   "outputs": [
    {
     "data": {
      "text/plain": [
       "0.0"
      ]
     },
     "execution_count": 50,
     "metadata": {},
     "output_type": "execute_result"
    }
   ],
   "execution_count": 50
  },
  {
   "cell_type": "code",
   "metadata": {
    "ExecuteTime": {
     "end_time": "2024-09-17T00:30:57.688535Z",
     "start_time": "2024-09-17T00:30:57.684811Z"
    }
   },
   "source": [
    "np.cov(rM.T, aweights=P, ddof=0)"
   ],
   "outputs": [
    {
     "data": {
      "text/plain": [
       "array([[0.5625, 0.    ],\n",
       "       [0.    , 0.    ]])"
      ]
     },
     "execution_count": 51,
     "metadata": {},
     "output_type": "execute_result"
    }
   ],
   "execution_count": 51
  },
  {
   "cell_type": "code",
   "metadata": {
    "ExecuteTime": {
     "end_time": "2024-09-17T00:31:00.575457Z",
     "start_time": "2024-09-17T00:31:00.573473Z"
    }
   },
   "source": [
    "phi = np.array((0.5, 0.5))"
   ],
   "outputs": [],
   "execution_count": 52
  },
  {
   "cell_type": "code",
   "metadata": {
    "ExecuteTime": {
     "end_time": "2024-09-17T00:31:02.176318Z",
     "start_time": "2024-09-17T00:31:02.173961Z"
    }
   },
   "source": [
    "def mu_phi(phi):\n",
    "    return np.dot(phi, mu(rM))"
   ],
   "outputs": [],
   "execution_count": 53
  },
  {
   "cell_type": "code",
   "metadata": {
    "ExecuteTime": {
     "end_time": "2024-09-17T00:31:04.264140Z",
     "start_time": "2024-09-17T00:31:04.261051Z"
    }
   },
   "source": [
    "mu_phi(phi)"
   ],
   "outputs": [
    {
     "data": {
      "text/plain": [
       "0.17500000000000004"
      ]
     },
     "execution_count": 54,
     "metadata": {},
     "output_type": "execute_result"
    }
   ],
   "execution_count": 54
  },
  {
   "cell_type": "code",
   "metadata": {
    "ExecuteTime": {
     "end_time": "2024-09-17T00:31:07.404206Z",
     "start_time": "2024-09-17T00:31:07.401637Z"
    }
   },
   "source": [
    "def var_phi(phi):\n",
    "    cv = np.cov(rM.T, aweights=P, ddof=0)\n",
    "    return np.dot(phi, np.dot(cv, phi))"
   ],
   "outputs": [],
   "execution_count": 55
  },
  {
   "cell_type": "code",
   "metadata": {
    "ExecuteTime": {
     "end_time": "2024-09-17T00:31:09.114164Z",
     "start_time": "2024-09-17T00:31:09.110099Z"
    }
   },
   "source": [
    "var_phi(phi)"
   ],
   "outputs": [
    {
     "data": {
      "text/plain": [
       "0.140625"
      ]
     },
     "execution_count": 56,
     "metadata": {},
     "output_type": "execute_result"
    }
   ],
   "execution_count": 56
  },
  {
   "cell_type": "code",
   "metadata": {
    "ExecuteTime": {
     "end_time": "2024-09-17T00:31:11.155173Z",
     "start_time": "2024-09-17T00:31:11.153168Z"
    }
   },
   "source": [
    "def sigma_phi(phi):\n",
    "    return var_phi(phi) ** 0.5"
   ],
   "outputs": [],
   "execution_count": 57
  },
  {
   "cell_type": "code",
   "metadata": {
    "ExecuteTime": {
     "end_time": "2024-09-17T00:31:13.411593Z",
     "start_time": "2024-09-17T00:31:13.408217Z"
    }
   },
   "source": [
    "sigma_phi(phi)"
   ],
   "outputs": [
    {
     "data": {
      "text/plain": [
       "0.375"
      ]
     },
     "execution_count": 58,
     "metadata": {},
     "output_type": "execute_result"
    }
   ],
   "execution_count": 58
  },
  {
   "cell_type": "code",
   "metadata": {
    "ExecuteTime": {
     "end_time": "2024-09-17T00:31:15.820036Z",
     "start_time": "2024-09-17T00:31:15.496872Z"
    }
   },
   "source": [
    "from pylab import plt, mpl\n",
    "plt.style.use('seaborn-v0_8')\n",
    "mpl.rcParams['savefig.dpi'] = 300\n",
    "mpl.rcParams['font.family'] = 'serif'"
   ],
   "outputs": [],
   "execution_count": 59
  },
  {
   "cell_type": "code",
   "metadata": {
    "ExecuteTime": {
     "end_time": "2024-09-17T00:31:17.822199Z",
     "start_time": "2024-09-17T00:31:17.819828Z"
    }
   },
   "source": [
    "phi_mcs = np.random.random((2, 200))"
   ],
   "outputs": [],
   "execution_count": 60
  },
  {
   "cell_type": "code",
   "metadata": {
    "ExecuteTime": {
     "end_time": "2024-09-17T00:31:20.074834Z",
     "start_time": "2024-09-17T00:31:20.072655Z"
    }
   },
   "source": [
    "phi_mcs = (phi_mcs / phi_mcs.sum(axis=0)).T"
   ],
   "outputs": [],
   "execution_count": 61
  },
  {
   "cell_type": "code",
   "metadata": {
    "ExecuteTime": {
     "end_time": "2024-09-17T00:31:22.657137Z",
     "start_time": "2024-09-17T00:31:22.647070Z"
    }
   },
   "source": [
    "mcs = np.array([(sigma_phi(phi), mu_phi(phi))\n",
    "                for phi in phi_mcs])"
   ],
   "outputs": [],
   "execution_count": 62
  },
  {
   "cell_type": "code",
   "metadata": {
    "ExecuteTime": {
     "end_time": "2024-09-17T00:31:24.866558Z",
     "start_time": "2024-09-17T00:31:24.769821Z"
    }
   },
   "source": [
    "plt.figure(figsize=(10, 6))\n",
    "plt.plot(mcs[:, 0], mcs[:, 1], 'ro')\n",
    "plt.xlabel('expected volatility')\n",
    "plt.ylabel('expected return');"
   ],
   "outputs": [
    {
     "data": {
      "text/plain": [
       "<Figure size 1000x600 with 1 Axes>"
      ],
      "image/png": "[encoded data removed]"
     },
     "metadata": {},
     "output_type": "display_data"
    }
   ],
   "execution_count": 63
  },
  {
   "cell_type": "code",
   "execution_count": 54,
   "metadata": {},
   "outputs": [
    {
     "data": {
      "text/plain": [
       "array([0.33333333, 0.33333333, 0.33333333])"
      ]
     },
     "execution_count": 54,
     "metadata": {},
     "output_type": "execute_result"
    }
   ],
   "source": [
    "P = np.ones(3) / 3\n",
    "P"
   ]
  },
  {
   "cell_type": "code",
   "metadata": {
    "ExecuteTime": {
     "end_time": "2024-09-17T00:33:13.546532Z",
     "start_time": "2024-09-17T00:33:13.544314Z"
    }
   },
   "source": [
    "S1 = np.array((20, 10, 5))"
   ],
   "outputs": [],
   "execution_count": 64
  },
  {
   "cell_type": "code",
   "metadata": {
    "ExecuteTime": {
     "end_time": "2024-09-17T00:33:15.121947Z",
     "start_time": "2024-09-17T00:33:15.119647Z"
    }
   },
   "source": [
    "T0 = 10\n",
    "T1 = np.array((1, 12, 13))"
   ],
   "outputs": [],
   "execution_count": 65
  },
  {
   "cell_type": "code",
   "metadata": {
    "ExecuteTime": {
     "end_time": "2024-09-17T00:33:16.844054Z",
     "start_time": "2024-09-17T00:33:16.840066Z"
    }
   },
   "source": [
    "M0 = np.array((S0, T0))\n",
    "M0"
   ],
   "outputs": [
    {
     "data": {
      "text/plain": [
       "array([10, 10])"
      ]
     },
     "execution_count": 66,
     "metadata": {},
     "output_type": "execute_result"
    }
   ],
   "execution_count": 66
  },
  {
   "cell_type": "code",
   "metadata": {
    "ExecuteTime": {
     "end_time": "2024-09-17T00:33:18.832175Z",
     "start_time": "2024-09-17T00:33:18.829065Z"
    }
   },
   "source": [
    "M1 = np.array((S1, T1)).T\n",
    "M1"
   ],
   "outputs": [
    {
     "data": {
      "text/plain": [
       "array([[20,  1],\n",
       "       [10, 12],\n",
       "       [ 5, 13]])"
      ]
     },
     "execution_count": 67,
     "metadata": {},
     "output_type": "execute_result"
    }
   ],
   "execution_count": 67
  },
  {
   "cell_type": "code",
   "metadata": {
    "ExecuteTime": {
     "end_time": "2024-09-17T00:33:21.774311Z",
     "start_time": "2024-09-17T00:33:21.769929Z"
    }
   },
   "source": [
    "rM = M1 / M0 - 1\n",
    "rM"
   ],
   "outputs": [
    {
     "data": {
      "text/plain": [
       "array([[ 1. , -0.9],\n",
       "       [ 0. ,  0.2],\n",
       "       [-0.5,  0.3]])"
      ]
     },
     "execution_count": 68,
     "metadata": {},
     "output_type": "execute_result"
    }
   ],
   "execution_count": 68
  },
  {
   "cell_type": "code",
   "metadata": {
    "ExecuteTime": {
     "end_time": "2024-09-17T00:33:25.618070Z",
     "start_time": "2024-09-17T00:33:25.264363Z"
    }
   },
   "source": [
    "mcs = np.array([(sigma_phi(phi), mu_phi(phi))\n",
    "                for phi in phi_mcs])"
   ],
   "outputs": [
    {
     "ename": "RuntimeError",
     "evalue": "incompatible numbers of samples and aweights",
     "output_type": "error",
     "traceback": [
      "\u001B[0;31m---------------------------------------------------------------------------\u001B[0m",
      "\u001B[0;31mRuntimeError\u001B[0m                              Traceback (most recent call last)",
      "Cell \u001B[0;32mIn[69], line 1\u001B[0m\n\u001B[0;32m----> 1\u001B[0m mcs \u001B[38;5;241m=\u001B[39m np\u001B[38;5;241m.\u001B[39marray([(sigma_phi(phi), mu_phi(phi))\n\u001B[1;32m      2\u001B[0m                 \u001B[38;5;28;01mfor\u001B[39;00m phi \u001B[38;5;129;01min\u001B[39;00m phi_mcs])\n",
      "Cell \u001B[0;32mIn[69], line 1\u001B[0m, in \u001B[0;36m<listcomp>\u001B[0;34m(.0)\u001B[0m\n\u001B[0;32m----> 1\u001B[0m mcs \u001B[38;5;241m=\u001B[39m np\u001B[38;5;241m.\u001B[39marray([(\u001B[43msigma_phi\u001B[49m\u001B[43m(\u001B[49m\u001B[43mphi\u001B[49m\u001B[43m)\u001B[49m, mu_phi(phi))\n\u001B[1;32m      2\u001B[0m                 \u001B[38;5;28;01mfor\u001B[39;00m phi \u001B[38;5;129;01min\u001B[39;00m phi_mcs])\n",
      "Cell \u001B[0;32mIn[57], line 2\u001B[0m, in \u001B[0;36msigma_phi\u001B[0;34m(phi)\u001B[0m\n\u001B[1;32m      1\u001B[0m \u001B[38;5;28;01mdef\u001B[39;00m \u001B[38;5;21msigma_phi\u001B[39m(phi):\n\u001B[0;32m----> 2\u001B[0m     \u001B[38;5;28;01mreturn\u001B[39;00m \u001B[43mvar_phi\u001B[49m\u001B[43m(\u001B[49m\u001B[43mphi\u001B[49m\u001B[43m)\u001B[49m \u001B[38;5;241m*\u001B[39m\u001B[38;5;241m*\u001B[39m \u001B[38;5;241m0.5\u001B[39m\n",
      "Cell \u001B[0;32mIn[55], line 2\u001B[0m, in \u001B[0;36mvar_phi\u001B[0;34m(phi)\u001B[0m\n\u001B[1;32m      1\u001B[0m \u001B[38;5;28;01mdef\u001B[39;00m \u001B[38;5;21mvar_phi\u001B[39m(phi):\n\u001B[0;32m----> 2\u001B[0m     cv \u001B[38;5;241m=\u001B[39m \u001B[43mnp\u001B[49m\u001B[38;5;241;43m.\u001B[39;49m\u001B[43mcov\u001B[49m\u001B[43m(\u001B[49m\u001B[43mrM\u001B[49m\u001B[38;5;241;43m.\u001B[39;49m\u001B[43mT\u001B[49m\u001B[43m,\u001B[49m\u001B[43m \u001B[49m\u001B[43maweights\u001B[49m\u001B[38;5;241;43m=\u001B[39;49m\u001B[43mP\u001B[49m\u001B[43m,\u001B[49m\u001B[43m \u001B[49m\u001B[43mddof\u001B[49m\u001B[38;5;241;43m=\u001B[39;49m\u001B[38;5;241;43m0\u001B[39;49m\u001B[43m)\u001B[49m\n\u001B[1;32m      3\u001B[0m     \u001B[38;5;28;01mreturn\u001B[39;00m np\u001B[38;5;241m.\u001B[39mdot(phi, np\u001B[38;5;241m.\u001B[39mdot(cv, phi))\n",
      "File \u001B[0;32m~/miniconda3/envs/aiif/lib/python3.10/site-packages/numpy/lib/function_base.py:2714\u001B[0m, in \u001B[0;36mcov\u001B[0;34m(m, y, rowvar, bias, ddof, fweights, aweights, dtype)\u001B[0m\n\u001B[1;32m   2711\u001B[0m     \u001B[38;5;28;01mraise\u001B[39;00m \u001B[38;5;167;01mRuntimeError\u001B[39;00m(\n\u001B[1;32m   2712\u001B[0m         \u001B[38;5;124m\"\u001B[39m\u001B[38;5;124mcannot handle multidimensional aweights\u001B[39m\u001B[38;5;124m\"\u001B[39m)\n\u001B[1;32m   2713\u001B[0m \u001B[38;5;28;01mif\u001B[39;00m aweights\u001B[38;5;241m.\u001B[39mshape[\u001B[38;5;241m0\u001B[39m] \u001B[38;5;241m!=\u001B[39m X\u001B[38;5;241m.\u001B[39mshape[\u001B[38;5;241m1\u001B[39m]:\n\u001B[0;32m-> 2714\u001B[0m     \u001B[38;5;28;01mraise\u001B[39;00m \u001B[38;5;167;01mRuntimeError\u001B[39;00m(\n\u001B[1;32m   2715\u001B[0m         \u001B[38;5;124m\"\u001B[39m\u001B[38;5;124mincompatible numbers of samples and aweights\u001B[39m\u001B[38;5;124m\"\u001B[39m)\n\u001B[1;32m   2716\u001B[0m \u001B[38;5;28;01mif\u001B[39;00m \u001B[38;5;28many\u001B[39m(aweights \u001B[38;5;241m<\u001B[39m \u001B[38;5;241m0\u001B[39m):\n\u001B[1;32m   2717\u001B[0m     \u001B[38;5;28;01mraise\u001B[39;00m \u001B[38;5;167;01mValueError\u001B[39;00m(\n\u001B[1;32m   2718\u001B[0m         \u001B[38;5;124m\"\u001B[39m\u001B[38;5;124maweights cannot be negative\u001B[39m\u001B[38;5;124m\"\u001B[39m)\n",
      "\u001B[0;31mRuntimeError\u001B[0m: incompatible numbers of samples and aweights"
     ]
    }
   ],
   "execution_count": 69
  },
  {
   "cell_type": "code",
   "metadata": {
    "ExecuteTime": {
     "end_time": "2024-09-17T00:33:30.771593Z",
     "start_time": "2024-09-17T00:33:30.689442Z"
    }
   },
   "source": [
    "plt.figure(figsize=(10, 6))\n",
    "plt.plot(mcs[:, 0], mcs[:, 1], 'ro')\n",
    "plt.xlabel('expected volatility')\n",
    "plt.ylabel('expected return');"
   ],
   "outputs": [
    {
     "data": {
      "text/plain": [
       "<Figure size 1000x600 with 1 Axes>"
      ],
      "image/png": "[encoded data removed]"
     },
     "metadata": {},
     "output_type": "display_data"
    }
   ],
   "execution_count": 70
  },
  {
   "cell_type": "code",
   "execution_count": 62,
   "metadata": {},
   "outputs": [],
   "source": [
    "cons = {'type': 'eq', 'fun': lambda phi: np.sum(phi) - 1}"
   ]
  },
  {
   "cell_type": "code",
   "execution_count": 63,
   "metadata": {},
   "outputs": [],
   "source": [
    "bnds = ((0, 1), (0, 1))"
   ]
  },
  {
   "cell_type": "code",
   "execution_count": 64,
   "metadata": {},
   "outputs": [],
   "source": [
    "min_var = minimize(sigma_phi, (0.5, 0.5),\n",
    "                   constraints=cons, bounds=bnds)"
   ]
  },
  {
   "cell_type": "code",
   "execution_count": 65,
   "metadata": {},
   "outputs": [
    {
     "data": {
      "text/plain": [
       " message: Optimization terminated successfully\n",
       " success: True\n",
       "  status: 0\n",
       "     fun: 0.07481322946935583\n",
       "       x: [ 4.651e-01  5.349e-01]\n",
       "     nit: 4\n",
       "     jac: [ 7.427e-02  7.529e-02]\n",
       "    nfev: 13\n",
       "    njev: 4"
      ]
     },
     "execution_count": 65,
     "metadata": {},
     "output_type": "execute_result"
    }
   ],
   "source": [
    "min_var"
   ]
  },
  {
   "cell_type": "code",
   "execution_count": 66,
   "metadata": {},
   "outputs": [],
   "source": [
    "def sharpe(phi):\n",
    "    return mu_phi(phi) / sigma_phi(phi)"
   ]
  },
  {
   "cell_type": "code",
   "execution_count": 67,
   "metadata": {},
   "outputs": [],
   "source": [
    "max_sharpe = minimize(lambda phi: -sharpe(phi), (0.5, 0.5),\n",
    "               constraints=cons, bounds=bnds)"
   ]
  },
  {
   "cell_type": "code",
   "execution_count": 68,
   "metadata": {},
   "outputs": [
    {
     "data": {
      "text/plain": [
       " message: Optimization terminated successfully\n",
       " success: True\n",
       "  status: 0\n",
       "     fun: -0.27216540990401067\n",
       "       x: [ 6.673e-01  3.327e-01]\n",
       "     nit: 9\n",
       "     jac: [ 1.205e-04 -2.417e-04]\n",
       "    nfev: 29\n",
       "    njev: 9"
      ]
     },
     "execution_count": 68,
     "metadata": {},
     "output_type": "execute_result"
    }
   ],
   "source": [
    "max_sharpe"
   ]
  },
  {
   "cell_type": "code",
   "execution_count": 69,
   "metadata": {},
   "outputs": [
    {
     "data": {
      "image/png": "[encoded data removed]",
      "text/plain": [
       "<Figure size 1000x600 with 1 Axes>"
      ]
     },
     "metadata": {},
     "output_type": "display_data"
    }
   ],
   "source": [
    "plt.figure(figsize=(10, 6))\n",
    "plt.plot(mcs[:, 0], mcs[:, 1], 'ro', ms=5)\n",
    "plt.plot(sigma_phi(min_var['x']), mu_phi(min_var['x']),\n",
    "         '^', ms=12.5, label='minimum volatility')\n",
    "plt.plot(sigma_phi(max_sharpe['x']), mu_phi(max_sharpe['x']),\n",
    "         'v', ms=12.5, label='maximum Sharpe ratio')\n",
    "plt.xlabel('expected volatility')\n",
    "plt.ylabel('expected return')\n",
    "plt.legend();"
   ]
  },
  {
   "cell_type": "code",
   "execution_count": 70,
   "metadata": {},
   "outputs": [],
   "source": [
    "cons = [{'type': 'eq', 'fun': lambda phi: np.sum(phi) - 1},\n",
    "       {'type': 'eq', 'fun': lambda phi: mu_phi(phi) - target}]"
   ]
  },
  {
   "cell_type": "code",
   "execution_count": 71,
   "metadata": {},
   "outputs": [],
   "source": [
    "bnds = ((0, 1), (0, 1))"
   ]
  },
  {
   "cell_type": "code",
   "execution_count": 72,
   "metadata": {},
   "outputs": [],
   "source": [
    "targets = np.linspace(mu_phi(min_var['x']), 0.16)"
   ]
  },
  {
   "cell_type": "code",
   "execution_count": 73,
   "metadata": {},
   "outputs": [],
   "source": [
    "frontier = []\n",
    "for target in targets:\n",
    "    phi_eff = minimize(sigma_phi, (0.5, 0.5),\n",
    "                       constraints=cons, bounds=bnds)['x']\n",
    "    frontier.append((sigma_phi(phi_eff), mu_phi(phi_eff)))\n",
    "frontier = np.array(frontier)"
   ]
  },
  {
   "cell_type": "code",
   "execution_count": 74,
   "metadata": {},
   "outputs": [
    {
     "data": {
      "image/png": "[encoded data removed]",
      "text/plain": [
       "<Figure size 1000x600 with 1 Axes>"
      ]
     },
     "metadata": {},
     "output_type": "display_data"
    }
   ],
   "source": [
    "plt.figure(figsize=(10, 6))\n",
    "plt.plot(frontier[:, 0], frontier[:, 1], 'mo', ms=5,\n",
    "         label='efficient frontier')\n",
    "plt.plot(sigma_phi(min_var['x']), mu_phi(min_var['x']),\n",
    "         '^', ms=12.5, label='minimum volatility')\n",
    "plt.plot(sigma_phi(max_sharpe['x']), mu_phi(max_sharpe['x']),\n",
    "         'v', ms=12.5, label='maximum Sharpe ratio')\n",
    "plt.xlabel('expected volatility')\n",
    "plt.ylabel('expected return')\n",
    "plt.legend();"
   ]
  },
  {
   "cell_type": "markdown",
   "metadata": {},
   "source": [
    "## Capital Asset Pricing Model"
   ]
  },
  {
   "cell_type": "code",
   "metadata": {
    "ExecuteTime": {
     "end_time": "2024-09-17T00:44:07.472764Z",
     "start_time": "2024-09-17T00:44:07.276047Z"
    }
   },
   "source": [
    "plt.figure(figsize=(10, 6))\n",
    "plt.plot((0, 0.3), (0.01, 0.22), label='capital market line')\n",
    "plt.plot(0, 0.01, 'o', ms=9, label='risk-less asset')\n",
    "plt.plot(0.2, 0.15, '^', ms=9, label='market portfolio')\n",
    "plt.annotate('$(0, \\\\bar{r})$', (0, 0.01), (-0.01, 0.02))\n",
    "plt.annotate('$(\\sigma_M, \\mu_M)$', (0.2, 0.15), (0.19, 0.16))\n",
    "plt.xlabel('expected volatility')\n",
    "plt.ylabel('expected return')\n",
    "plt.legend();"
   ],
   "outputs": [
    {
     "data": {
      "text/plain": [
       "<Figure size 1000x600 with 1 Axes>"
      ],
      "image/png": "[encoded data removed]"
     },
     "metadata": {},
     "output_type": "display_data"
    }
   ],
   "execution_count": 71
  },
  {
   "cell_type": "code",
   "metadata": {
    "ExecuteTime": {
     "end_time": "2024-09-17T00:45:52.023516Z",
     "start_time": "2024-09-17T00:45:52.021271Z"
    }
   },
   "source": [
    "phi_M = np.array((0.8, 0.2))"
   ],
   "outputs": [],
   "execution_count": 72
  },
  {
   "cell_type": "code",
   "metadata": {
    "ExecuteTime": {
     "end_time": "2024-09-17T00:45:58.238311Z",
     "start_time": "2024-09-17T00:45:58.220986Z"
    }
   },
   "source": [
    "mu_M = mu_phi(phi_M)\n",
    "mu_M"
   ],
   "outputs": [
    {
     "ename": "ValueError",
     "evalue": "shapes (2,) and (3,2) not aligned: 2 (dim 0) != 3 (dim 0)",
     "output_type": "error",
     "traceback": [
      "\u001B[0;31m---------------------------------------------------------------------------\u001B[0m",
      "\u001B[0;31mValueError\u001B[0m                                Traceback (most recent call last)",
      "Cell \u001B[0;32mIn[74], line 1\u001B[0m\n\u001B[0;32m----> 1\u001B[0m mu_M \u001B[38;5;241m=\u001B[39m \u001B[43mmu_phi\u001B[49m\u001B[43m(\u001B[49m\u001B[43mphi_M\u001B[49m\u001B[43m)\u001B[49m\n\u001B[1;32m      2\u001B[0m mu_M\n",
      "Cell \u001B[0;32mIn[53], line 2\u001B[0m, in \u001B[0;36mmu_phi\u001B[0;34m(phi)\u001B[0m\n\u001B[1;32m      1\u001B[0m \u001B[38;5;28;01mdef\u001B[39;00m \u001B[38;5;21mmu_phi\u001B[39m(phi):\n\u001B[0;32m----> 2\u001B[0m     \u001B[38;5;28;01mreturn\u001B[39;00m np\u001B[38;5;241m.\u001B[39mdot(phi, \u001B[43mmu\u001B[49m\u001B[43m(\u001B[49m\u001B[43mrM\u001B[49m\u001B[43m)\u001B[49m)\n",
      "Cell \u001B[0;32mIn[40], line 2\u001B[0m, in \u001B[0;36mmu\u001B[0;34m(rX)\u001B[0m\n\u001B[1;32m      1\u001B[0m \u001B[38;5;28;01mdef\u001B[39;00m \u001B[38;5;21mmu\u001B[39m(rX):\n\u001B[0;32m----> 2\u001B[0m     \u001B[38;5;28;01mreturn\u001B[39;00m \u001B[43mnp\u001B[49m\u001B[38;5;241;43m.\u001B[39;49m\u001B[43mdot\u001B[49m\u001B[43m(\u001B[49m\u001B[43mP\u001B[49m\u001B[43m,\u001B[49m\u001B[43m \u001B[49m\u001B[43mrX\u001B[49m\u001B[43m)\u001B[49m\n",
      "\u001B[0;31mValueError\u001B[0m: shapes (2,) and (3,2) not aligned: 2 (dim 0) != 3 (dim 0)"
     ]
    }
   ],
   "execution_count": 74
  },
  {
   "cell_type": "code",
   "metadata": {
    "ExecuteTime": {
     "end_time": "2024-09-17T00:46:00.448696Z",
     "start_time": "2024-09-17T00:46:00.422435Z"
    }
   },
   "source": [
    "sigma_M = sigma_phi(phi_M)\n",
    "sigma_M"
   ],
   "outputs": [
    {
     "ename": "RuntimeError",
     "evalue": "incompatible numbers of samples and aweights",
     "output_type": "error",
     "traceback": [
      "\u001B[0;31m---------------------------------------------------------------------------\u001B[0m",
      "\u001B[0;31mRuntimeError\u001B[0m                              Traceback (most recent call last)",
      "Cell \u001B[0;32mIn[75], line 1\u001B[0m\n\u001B[0;32m----> 1\u001B[0m sigma_M \u001B[38;5;241m=\u001B[39m \u001B[43msigma_phi\u001B[49m\u001B[43m(\u001B[49m\u001B[43mphi_M\u001B[49m\u001B[43m)\u001B[49m\n\u001B[1;32m      2\u001B[0m sigma_M\n",
      "Cell \u001B[0;32mIn[57], line 2\u001B[0m, in \u001B[0;36msigma_phi\u001B[0;34m(phi)\u001B[0m\n\u001B[1;32m      1\u001B[0m \u001B[38;5;28;01mdef\u001B[39;00m \u001B[38;5;21msigma_phi\u001B[39m(phi):\n\u001B[0;32m----> 2\u001B[0m     \u001B[38;5;28;01mreturn\u001B[39;00m \u001B[43mvar_phi\u001B[49m\u001B[43m(\u001B[49m\u001B[43mphi\u001B[49m\u001B[43m)\u001B[49m \u001B[38;5;241m*\u001B[39m\u001B[38;5;241m*\u001B[39m \u001B[38;5;241m0.5\u001B[39m\n",
      "Cell \u001B[0;32mIn[55], line 2\u001B[0m, in \u001B[0;36mvar_phi\u001B[0;34m(phi)\u001B[0m\n\u001B[1;32m      1\u001B[0m \u001B[38;5;28;01mdef\u001B[39;00m \u001B[38;5;21mvar_phi\u001B[39m(phi):\n\u001B[0;32m----> 2\u001B[0m     cv \u001B[38;5;241m=\u001B[39m \u001B[43mnp\u001B[49m\u001B[38;5;241;43m.\u001B[39;49m\u001B[43mcov\u001B[49m\u001B[43m(\u001B[49m\u001B[43mrM\u001B[49m\u001B[38;5;241;43m.\u001B[39;49m\u001B[43mT\u001B[49m\u001B[43m,\u001B[49m\u001B[43m \u001B[49m\u001B[43maweights\u001B[49m\u001B[38;5;241;43m=\u001B[39;49m\u001B[43mP\u001B[49m\u001B[43m,\u001B[49m\u001B[43m \u001B[49m\u001B[43mddof\u001B[49m\u001B[38;5;241;43m=\u001B[39;49m\u001B[38;5;241;43m0\u001B[39;49m\u001B[43m)\u001B[49m\n\u001B[1;32m      3\u001B[0m     \u001B[38;5;28;01mreturn\u001B[39;00m np\u001B[38;5;241m.\u001B[39mdot(phi, np\u001B[38;5;241m.\u001B[39mdot(cv, phi))\n",
      "File \u001B[0;32m~/miniconda3/envs/aiif/lib/python3.10/site-packages/numpy/lib/function_base.py:2714\u001B[0m, in \u001B[0;36mcov\u001B[0;34m(m, y, rowvar, bias, ddof, fweights, aweights, dtype)\u001B[0m\n\u001B[1;32m   2711\u001B[0m     \u001B[38;5;28;01mraise\u001B[39;00m \u001B[38;5;167;01mRuntimeError\u001B[39;00m(\n\u001B[1;32m   2712\u001B[0m         \u001B[38;5;124m\"\u001B[39m\u001B[38;5;124mcannot handle multidimensional aweights\u001B[39m\u001B[38;5;124m\"\u001B[39m)\n\u001B[1;32m   2713\u001B[0m \u001B[38;5;28;01mif\u001B[39;00m aweights\u001B[38;5;241m.\u001B[39mshape[\u001B[38;5;241m0\u001B[39m] \u001B[38;5;241m!=\u001B[39m X\u001B[38;5;241m.\u001B[39mshape[\u001B[38;5;241m1\u001B[39m]:\n\u001B[0;32m-> 2714\u001B[0m     \u001B[38;5;28;01mraise\u001B[39;00m \u001B[38;5;167;01mRuntimeError\u001B[39;00m(\n\u001B[1;32m   2715\u001B[0m         \u001B[38;5;124m\"\u001B[39m\u001B[38;5;124mincompatible numbers of samples and aweights\u001B[39m\u001B[38;5;124m\"\u001B[39m)\n\u001B[1;32m   2716\u001B[0m \u001B[38;5;28;01mif\u001B[39;00m \u001B[38;5;28many\u001B[39m(aweights \u001B[38;5;241m<\u001B[39m \u001B[38;5;241m0\u001B[39m):\n\u001B[1;32m   2717\u001B[0m     \u001B[38;5;28;01mraise\u001B[39;00m \u001B[38;5;167;01mValueError\u001B[39;00m(\n\u001B[1;32m   2718\u001B[0m         \u001B[38;5;124m\"\u001B[39m\u001B[38;5;124maweights cannot be negative\u001B[39m\u001B[38;5;124m\"\u001B[39m)\n",
      "\u001B[0;31mRuntimeError\u001B[0m: incompatible numbers of samples and aweights"
     ]
    }
   ],
   "execution_count": 75
  },
  {
   "cell_type": "code",
   "metadata": {
    "ExecuteTime": {
     "end_time": "2024-09-17T00:46:04.892316Z",
     "start_time": "2024-09-17T00:46:04.890358Z"
    }
   },
   "source": [
    "r = 0.0025"
   ],
   "outputs": [],
   "execution_count": 76
  },
  {
   "cell_type": "code",
   "metadata": {
    "ExecuteTime": {
     "end_time": "2024-09-17T00:46:06.930856Z",
     "start_time": "2024-09-17T00:46:06.915450Z"
    }
   },
   "source": [
    "plt.figure(figsize=(10, 6))\n",
    "plt.plot(frontier[:, 0], frontier[:, 1], 'm.', ms=5,\n",
    "         label='efficient frontier')\n",
    "plt.plot(0, r, 'o', ms=9, label='risk-less asset')\n",
    "plt.plot(sigma_M, mu_M, '^', ms=9, label='market portfolio')\n",
    "plt.plot((0, 0.6), (r, r + ((mu_M - r) / sigma_M) * 0.6),\n",
    "         'r', label='capital market line', lw=2.0)\n",
    "plt.annotate('$(0, \\\\bar{r})$', (0, r), (-0.015, r + 0.01))\n",
    "plt.annotate('$(\\sigma_M, \\mu_M)$', (sigma_M, mu_M),\n",
    "             (sigma_M - 0.025, mu_M + 0.01))\n",
    "plt.xlabel('expected volatility')\n",
    "plt.ylabel('expected return')\n",
    "plt.legend();"
   ],
   "outputs": [
    {
     "ename": "NameError",
     "evalue": "name 'frontier' is not defined",
     "output_type": "error",
     "traceback": [
      "\u001B[0;31m---------------------------------------------------------------------------\u001B[0m",
      "\u001B[0;31mNameError\u001B[0m                                 Traceback (most recent call last)",
      "Cell \u001B[0;32mIn[77], line 2\u001B[0m\n\u001B[1;32m      1\u001B[0m plt\u001B[38;5;241m.\u001B[39mfigure(figsize\u001B[38;5;241m=\u001B[39m(\u001B[38;5;241m10\u001B[39m, \u001B[38;5;241m6\u001B[39m))\n\u001B[0;32m----> 2\u001B[0m plt\u001B[38;5;241m.\u001B[39mplot(\u001B[43mfrontier\u001B[49m[:, \u001B[38;5;241m0\u001B[39m], frontier[:, \u001B[38;5;241m1\u001B[39m], \u001B[38;5;124m'\u001B[39m\u001B[38;5;124mm.\u001B[39m\u001B[38;5;124m'\u001B[39m, ms\u001B[38;5;241m=\u001B[39m\u001B[38;5;241m5\u001B[39m,\n\u001B[1;32m      3\u001B[0m          label\u001B[38;5;241m=\u001B[39m\u001B[38;5;124m'\u001B[39m\u001B[38;5;124mefficient frontier\u001B[39m\u001B[38;5;124m'\u001B[39m)\n\u001B[1;32m      4\u001B[0m plt\u001B[38;5;241m.\u001B[39mplot(\u001B[38;5;241m0\u001B[39m, r, \u001B[38;5;124m'\u001B[39m\u001B[38;5;124mo\u001B[39m\u001B[38;5;124m'\u001B[39m, ms\u001B[38;5;241m=\u001B[39m\u001B[38;5;241m9\u001B[39m, label\u001B[38;5;241m=\u001B[39m\u001B[38;5;124m'\u001B[39m\u001B[38;5;124mrisk-less asset\u001B[39m\u001B[38;5;124m'\u001B[39m)\n\u001B[1;32m      5\u001B[0m plt\u001B[38;5;241m.\u001B[39mplot(sigma_M, mu_M, \u001B[38;5;124m'\u001B[39m\u001B[38;5;124m^\u001B[39m\u001B[38;5;124m'\u001B[39m, ms\u001B[38;5;241m=\u001B[39m\u001B[38;5;241m9\u001B[39m, label\u001B[38;5;241m=\u001B[39m\u001B[38;5;124m'\u001B[39m\u001B[38;5;124mmarket portfolio\u001B[39m\u001B[38;5;124m'\u001B[39m)\n",
      "\u001B[0;31mNameError\u001B[0m: name 'frontier' is not defined"
     ]
    },
    {
     "data": {
      "text/plain": [
       "<Figure size 1000x600 with 0 Axes>"
      ]
     },
     "metadata": {},
     "output_type": "display_data"
    }
   ],
   "execution_count": 77
  },
  {
   "cell_type": "code",
   "metadata": {
    "ExecuteTime": {
     "end_time": "2024-09-17T00:46:16.908504Z",
     "start_time": "2024-09-17T00:46:16.906093Z"
    }
   },
   "source": [
    "def U(p):\n",
    "    mu, sigma = p\n",
    "    return mu - 1 / 2 * (sigma ** 2 + mu ** 2)"
   ],
   "outputs": [],
   "execution_count": 78
  },
  {
   "cell_type": "code",
   "execution_count": 82,
   "metadata": {},
   "outputs": [],
   "source": [
    "cons = {'type': 'eq',\n",
    "        'fun': lambda p: p[0] - (r + (mu_M - r) / sigma_M * p[1])}"
   ]
  },
  {
   "cell_type": "code",
   "execution_count": 83,
   "metadata": {},
   "outputs": [],
   "source": [
    "opt = minimize(lambda p: -U(p), (0.1, 0.3), constraints=cons)"
   ]
  },
  {
   "cell_type": "code",
   "execution_count": 84,
   "metadata": {},
   "outputs": [
    {
     "data": {
      "text/plain": [
       " message: Optimization terminated successfully\n",
       " success: True\n",
       "  status: 0\n",
       "     fun: -0.03488518682673941\n",
       "       x: [ 6.744e-02  2.461e-01]\n",
       "     nit: 2\n",
       "     jac: [-9.326e-01  2.461e-01]\n",
       "    nfev: 6\n",
       "    njev: 2"
      ]
     },
     "execution_count": 84,
     "metadata": {},
     "output_type": "execute_result"
    }
   ],
   "source": [
    "opt"
   ]
  },
  {
   "cell_type": "code",
   "metadata": {
    "ExecuteTime": {
     "end_time": "2024-09-17T00:54:05.055428Z",
     "start_time": "2024-09-17T00:54:04.752549Z"
    }
   },
   "source": [
    "from sympy import *\n",
    "init_printing(use_unicode=False, use_latex=False)"
   ],
   "outputs": [],
   "execution_count": 79
  },
  {
   "cell_type": "code",
   "metadata": {
    "ExecuteTime": {
     "end_time": "2024-09-17T00:54:06.787073Z",
     "start_time": "2024-09-17T00:54:06.785003Z"
    }
   },
   "source": [
    "mu, sigma, b, v = symbols('mu sigma b v')"
   ],
   "outputs": [],
   "execution_count": 80
  },
  {
   "cell_type": "code",
   "metadata": {
    "ExecuteTime": {
     "end_time": "2024-09-17T00:54:10.795917Z",
     "start_time": "2024-09-17T00:54:10.596705Z"
    }
   },
   "source": [
    "sol = solve('mu - b / 2 * (sigma ** 2 + mu ** 2) - v', mu)"
   ],
   "outputs": [],
   "execution_count": 81
  },
  {
   "cell_type": "code",
   "metadata": {
    "ExecuteTime": {
     "end_time": "2024-09-17T00:54:12.809596Z",
     "start_time": "2024-09-17T00:54:12.802407Z"
    }
   },
   "source": [
    "sol"
   ],
   "outputs": [
    {
     "data": {
      "text/plain": [
       "        _________________________     _________________________     \n",
       "       /    2      2                 /    2      2                  \n",
       " 1 - \\/  - b *sigma  - 2*b*v + 1   \\/  - b *sigma  - 2*b*v + 1  + 1 \n",
       "[--------------------------------, --------------------------------]\n",
       "                b                                 b                 "
      ]
     },
     "execution_count": 82,
     "metadata": {},
     "output_type": "execute_result"
    }
   ],
   "execution_count": 82
  },
  {
   "cell_type": "code",
   "metadata": {
    "ExecuteTime": {
     "end_time": "2024-09-17T00:54:15.899332Z",
     "start_time": "2024-09-17T00:54:15.894316Z"
    }
   },
   "source": [
    "u1 = sol[0].subs({'b': 1, 'v': 0.1})\n",
    "u1"
   ],
   "outputs": [
    {
     "data": {
      "text/plain": [
       "       ______________\n",
       "      /            2 \n",
       "1 - \\/  0.8 - sigma  "
      ]
     },
     "execution_count": 83,
     "metadata": {},
     "output_type": "execute_result"
    }
   ],
   "execution_count": 83
  },
  {
   "cell_type": "code",
   "metadata": {
    "ExecuteTime": {
     "end_time": "2024-09-17T00:54:18.971489Z",
     "start_time": "2024-09-17T00:54:18.967504Z"
    }
   },
   "source": [
    "u2 = sol[0].subs({'b': 1, 'v': 0.125})\n",
    "u2"
   ],
   "outputs": [
    {
     "data": {
      "text/plain": [
       "       _______________\n",
       "      /             2 \n",
       "1 - \\/  0.75 - sigma  "
      ]
     },
     "execution_count": 84,
     "metadata": {},
     "output_type": "execute_result"
    }
   ],
   "execution_count": 84
  },
  {
   "cell_type": "code",
   "metadata": {
    "ExecuteTime": {
     "end_time": "2024-09-17T00:54:21.162410Z",
     "start_time": "2024-09-17T00:54:21.154640Z"
    }
   },
   "source": [
    "f1 = lambdify(sigma, u1)\n",
    "f2 = lambdify(sigma, u2)"
   ],
   "outputs": [],
   "execution_count": 85
  },
  {
   "cell_type": "code",
   "metadata": {
    "ExecuteTime": {
     "end_time": "2024-09-17T00:54:23.557869Z",
     "start_time": "2024-09-17T00:54:23.555668Z"
    }
   },
   "source": [
    "sigma_ = np.linspace(0.0, 0.5)\n",
    "u1_ = f1(sigma_)\n",
    "u2_ = f2(sigma_)"
   ],
   "outputs": [],
   "execution_count": 86
  },
  {
   "cell_type": "code",
   "metadata": {
    "ExecuteTime": {
     "end_time": "2024-09-17T00:54:26.188949Z",
     "start_time": "2024-09-17T00:54:26.091779Z"
    }
   },
   "source": [
    "plt.figure(figsize=(10, 6))\n",
    "plt.plot(sigma_, u1_, label='$v=0.1$')\n",
    "plt.plot(sigma_, u2_, '--', label='$v=0.125$')\n",
    "plt.xlabel('expected volatility')\n",
    "plt.ylabel('expected return')\n",
    "plt.legend();"
   ],
   "outputs": [
    {
     "data": {
      "text/plain": [
       "<Figure size 1000x600 with 1 Axes>"
      ],
      "image/png": "[encoded data removed]"
     },
     "metadata": {},
     "output_type": "display_data"
    }
   ],
   "execution_count": 87
  },
  {
   "cell_type": "code",
   "metadata": {
    "ExecuteTime": {
     "end_time": "2024-09-17T00:56:43.999841Z",
     "start_time": "2024-09-17T00:56:43.991399Z"
    }
   },
   "source": [
    "u = sol[0].subs({'b': 1, 'v': -opt['fun']})\n",
    "u"
   ],
   "outputs": [
    {
     "data": {
      "text/plain": [
       "                        ________________________________\n",
       "                       /                          2     \n",
       "1 - 2.40208909055988*\\/  - 0.173309264173162*sigma  - 1 "
      ]
     },
     "execution_count": 88,
     "metadata": {},
     "output_type": "execute_result"
    }
   ],
   "execution_count": 88
  },
  {
   "cell_type": "code",
   "metadata": {
    "ExecuteTime": {
     "end_time": "2024-09-17T00:56:46.244342Z",
     "start_time": "2024-09-17T00:56:46.241038Z"
    }
   },
   "source": [
    "f = lambdify(sigma, u)"
   ],
   "outputs": [],
   "execution_count": 89
  },
  {
   "cell_type": "code",
   "metadata": {
    "ExecuteTime": {
     "end_time": "2024-09-17T00:56:48.026882Z",
     "start_time": "2024-09-17T00:56:48.024447Z"
    }
   },
   "source": [
    "u_ = f(sigma_)"
   ],
   "outputs": [
    {
     "name": "stderr",
     "output_type": "stream",
     "text": [
      "<lambdifygenerated-3>:2: RuntimeWarning: invalid value encountered in sqrt\n",
      "  return 1 - 2.40208909055988*sqrt(-0.173309264173162*sigma**2 - 1)\n"
     ]
    }
   ],
   "execution_count": 90
  },
  {
   "cell_type": "code",
   "metadata": {
    "ExecuteTime": {
     "end_time": "2024-09-17T00:57:04.521682Z",
     "start_time": "2024-09-17T00:57:04.450387Z"
    }
   },
   "source": [
    "plt.figure(figsize=(10, 6))\n",
    "plt.plot(0, r, 'o', ms=9, label='risk-less asset')\n",
    "plt.plot(sigma_M, mu_M, '^', ms=9, label='market portfolio')\n",
    "plt.plot(opt['x'][1], opt['x'][0], 'v', ms=9, label='optimal portfolio')\n",
    "plt.plot((0, 0.5), (r, r + (mu_M - r) / sigma_M * 0.5),\n",
    "         label='capital market line', lw=2.0)\n",
    "plt.plot(sigma_, u_, '--', label='$v={}$'.format(-round(opt['fun'], 3)))\n",
    "plt.xlabel('expected volatility')\n",
    "plt.ylabel('expected return')\n",
    "plt.legend();"
   ],
   "outputs": [
    {
     "ename": "NameError",
     "evalue": "name 'sigma_M' is not defined",
     "output_type": "error",
     "traceback": [
      "\u001B[0;31m---------------------------------------------------------------------------\u001B[0m",
      "\u001B[0;31mNameError\u001B[0m                                 Traceback (most recent call last)",
      "Cell \u001B[0;32mIn[92], line 3\u001B[0m\n\u001B[1;32m      1\u001B[0m plt\u001B[38;5;241m.\u001B[39mfigure(figsize\u001B[38;5;241m=\u001B[39m(\u001B[38;5;241m10\u001B[39m, \u001B[38;5;241m6\u001B[39m))\n\u001B[1;32m      2\u001B[0m plt\u001B[38;5;241m.\u001B[39mplot(\u001B[38;5;241m0\u001B[39m, r, \u001B[38;5;124m'\u001B[39m\u001B[38;5;124mo\u001B[39m\u001B[38;5;124m'\u001B[39m, ms\u001B[38;5;241m=\u001B[39m\u001B[38;5;241m9\u001B[39m, label\u001B[38;5;241m=\u001B[39m\u001B[38;5;124m'\u001B[39m\u001B[38;5;124mrisk-less asset\u001B[39m\u001B[38;5;124m'\u001B[39m)\n\u001B[0;32m----> 3\u001B[0m plt\u001B[38;5;241m.\u001B[39mplot(\u001B[43msigma_M\u001B[49m, mu_M, \u001B[38;5;124m'\u001B[39m\u001B[38;5;124m^\u001B[39m\u001B[38;5;124m'\u001B[39m, ms\u001B[38;5;241m=\u001B[39m\u001B[38;5;241m9\u001B[39m, label\u001B[38;5;241m=\u001B[39m\u001B[38;5;124m'\u001B[39m\u001B[38;5;124mmarket portfolio\u001B[39m\u001B[38;5;124m'\u001B[39m)\n\u001B[1;32m      4\u001B[0m plt\u001B[38;5;241m.\u001B[39mplot(opt[\u001B[38;5;124m'\u001B[39m\u001B[38;5;124mx\u001B[39m\u001B[38;5;124m'\u001B[39m][\u001B[38;5;241m1\u001B[39m], opt[\u001B[38;5;124m'\u001B[39m\u001B[38;5;124mx\u001B[39m\u001B[38;5;124m'\u001B[39m][\u001B[38;5;241m0\u001B[39m], \u001B[38;5;124m'\u001B[39m\u001B[38;5;124mv\u001B[39m\u001B[38;5;124m'\u001B[39m, ms\u001B[38;5;241m=\u001B[39m\u001B[38;5;241m9\u001B[39m, label\u001B[38;5;241m=\u001B[39m\u001B[38;5;124m'\u001B[39m\u001B[38;5;124moptimal portfolio\u001B[39m\u001B[38;5;124m'\u001B[39m)\n\u001B[1;32m      5\u001B[0m plt\u001B[38;5;241m.\u001B[39mplot((\u001B[38;5;241m0\u001B[39m, \u001B[38;5;241m0.5\u001B[39m), (r, r \u001B[38;5;241m+\u001B[39m (mu_M \u001B[38;5;241m-\u001B[39m r) \u001B[38;5;241m/\u001B[39m sigma_M \u001B[38;5;241m*\u001B[39m \u001B[38;5;241m0.5\u001B[39m),\n\u001B[1;32m      6\u001B[0m          label\u001B[38;5;241m=\u001B[39m\u001B[38;5;124m'\u001B[39m\u001B[38;5;124mcapital market line\u001B[39m\u001B[38;5;124m'\u001B[39m, lw\u001B[38;5;241m=\u001B[39m\u001B[38;5;241m2.0\u001B[39m)\n",
      "\u001B[0;31mNameError\u001B[0m: name 'sigma_M' is not defined"
     ]
    },
    {
     "data": {
      "text/plain": [
       "<Figure size 1000x600 with 1 Axes>"
      ],
      "image/png": "[encoded data removed]"
     },
     "metadata": {},
     "output_type": "display_data"
    }
   ],
   "execution_count": 92
  },
  {
   "cell_type": "markdown",
   "metadata": {},
   "source": [
    "## Arbitrage Pricing Theory"
   ]
  },
  {
   "cell_type": "code",
   "metadata": {
    "ExecuteTime": {
     "end_time": "2024-09-17T00:57:14.162186Z",
     "start_time": "2024-09-17T00:57:14.159141Z"
    }
   },
   "source": [
    "M1"
   ],
   "outputs": [
    {
     "data": {
      "text/plain": [
       "array([[20,  1],\n",
       "       [10, 12],\n",
       "       [ 5, 13]])"
      ]
     },
     "execution_count": 93,
     "metadata": {},
     "output_type": "execute_result"
    }
   ],
   "execution_count": 93
  },
  {
   "cell_type": "code",
   "metadata": {
    "ExecuteTime": {
     "end_time": "2024-09-17T00:57:16.943213Z",
     "start_time": "2024-09-17T00:57:16.939641Z"
    }
   },
   "source": [
    "M0"
   ],
   "outputs": [
    {
     "data": {
      "text/plain": [
       "array([10, 10])"
      ]
     },
     "execution_count": 94,
     "metadata": {},
     "output_type": "execute_result"
    }
   ],
   "execution_count": 94
  },
  {
   "cell_type": "code",
   "metadata": {
    "ExecuteTime": {
     "end_time": "2024-09-17T00:57:18.828486Z",
     "start_time": "2024-09-17T00:57:18.826394Z"
    }
   },
   "source": [
    "V1 = np.array((12, 15, 7))"
   ],
   "outputs": [],
   "execution_count": 95
  },
  {
   "cell_type": "code",
   "metadata": {
    "ExecuteTime": {
     "end_time": "2024-09-17T00:57:20.657460Z",
     "start_time": "2024-09-17T00:57:20.654730Z"
    }
   },
   "source": [
    "reg = np.linalg.lstsq(M1, V1, rcond=-1)[0]\n",
    "reg"
   ],
   "outputs": [
    {
     "data": {
      "text/plain": [
       "array([0.6141665 , 0.50030531])"
      ]
     },
     "execution_count": 96,
     "metadata": {},
     "output_type": "execute_result"
    }
   ],
   "execution_count": 96
  },
  {
   "cell_type": "code",
   "metadata": {
    "ExecuteTime": {
     "end_time": "2024-09-17T00:57:23.993857Z",
     "start_time": "2024-09-17T00:57:23.990553Z"
    }
   },
   "source": [
    "np.dot(M1, reg)"
   ],
   "outputs": [
    {
     "data": {
      "text/plain": [
       "array([12.78363525, 12.14532872,  9.57480155])"
      ]
     },
     "execution_count": 97,
     "metadata": {},
     "output_type": "execute_result"
    }
   ],
   "execution_count": 97
  },
  {
   "cell_type": "code",
   "metadata": {
    "ExecuteTime": {
     "end_time": "2024-09-17T00:57:25.824027Z",
     "start_time": "2024-09-17T00:57:25.821659Z"
    }
   },
   "source": [
    "np.dot(M1, reg) - V1"
   ],
   "outputs": [
    {
     "data": {
      "text/plain": [
       "array([ 0.78363525, -2.85467128,  2.57480155])"
      ]
     },
     "execution_count": 98,
     "metadata": {},
     "output_type": "execute_result"
    }
   ],
   "execution_count": 98
  },
  {
   "cell_type": "code",
   "metadata": {
    "ExecuteTime": {
     "end_time": "2024-09-17T00:57:28.549259Z",
     "start_time": "2024-09-17T00:57:28.546297Z"
    }
   },
   "source": [
    "V0 = np.dot(M0, reg)\n",
    "V0"
   ],
   "outputs": [
    {
     "data": {
      "text/plain": [
       "11.144718094850402"
      ]
     },
     "execution_count": 99,
     "metadata": {},
     "output_type": "execute_result"
    }
   ],
   "execution_count": 99
  },
  {
   "cell_type": "code",
   "metadata": {
    "ExecuteTime": {
     "end_time": "2024-09-17T00:57:30.844477Z",
     "start_time": "2024-09-17T00:57:30.842166Z"
    }
   },
   "source": [
    "U0 = 10\n",
    "U1 = np.array((12, 5, 11))"
   ],
   "outputs": [],
   "execution_count": 100
  },
  {
   "cell_type": "code",
   "metadata": {
    "ExecuteTime": {
     "end_time": "2024-09-17T00:57:32.269686Z",
     "start_time": "2024-09-17T00:57:32.267927Z"
    }
   },
   "source": [
    "M0_ = np.array((S0, T0, U0))"
   ],
   "outputs": [],
   "execution_count": 101
  },
  {
   "cell_type": "code",
   "metadata": {
    "ExecuteTime": {
     "end_time": "2024-09-17T00:57:34.277945Z",
     "start_time": "2024-09-17T00:57:34.275516Z"
    }
   },
   "source": [
    "M1_ = np.concatenate((M1.T, np.array([U1,]))).T"
   ],
   "outputs": [],
   "execution_count": 102
  },
  {
   "cell_type": "code",
   "metadata": {
    "ExecuteTime": {
     "end_time": "2024-09-17T00:57:35.899385Z",
     "start_time": "2024-09-17T00:57:35.896846Z"
    }
   },
   "source": [
    "M1_"
   ],
   "outputs": [
    {
     "data": {
      "text/plain": [
       "array([[20,  1, 12],\n",
       "       [10, 12,  5],\n",
       "       [ 5, 13, 11]])"
      ]
     },
     "execution_count": 103,
     "metadata": {},
     "output_type": "execute_result"
    }
   ],
   "execution_count": 103
  },
  {
   "cell_type": "code",
   "metadata": {
    "ExecuteTime": {
     "end_time": "2024-09-17T00:57:38.582213Z",
     "start_time": "2024-09-17T00:57:38.574867Z"
    }
   },
   "source": [
    "np.linalg.matrix_rank(M1_)"
   ],
   "outputs": [
    {
     "data": {
      "text/plain": [
       "3"
      ]
     },
     "execution_count": 104,
     "metadata": {},
     "output_type": "execute_result"
    }
   ],
   "execution_count": 104
  },
  {
   "cell_type": "code",
   "metadata": {
    "ExecuteTime": {
     "end_time": "2024-09-17T00:57:43.467221Z",
     "start_time": "2024-09-17T00:57:43.464258Z"
    }
   },
   "source": [
    "reg = np.linalg.lstsq(M1_, V1, rcond=-1)[0]\n",
    "reg"
   ],
   "outputs": [
    {
     "data": {
      "text/plain": [
       "array([ 0.9575179 ,  0.72553699, -0.65632458])"
      ]
     },
     "execution_count": 105,
     "metadata": {},
     "output_type": "execute_result"
    }
   ],
   "execution_count": 105
  },
  {
   "cell_type": "code",
   "metadata": {
    "ExecuteTime": {
     "end_time": "2024-09-17T01:07:51.429698Z",
     "start_time": "2024-09-17T01:07:51.425322Z"
    }
   },
   "source": [
    "np.allclose(np.dot(M1_, reg), V1)"
   ],
   "outputs": [
    {
     "data": {
      "text/plain": [
       "True"
      ]
     },
     "execution_count": 108,
     "metadata": {},
     "output_type": "execute_result"
    }
   ],
   "execution_count": 108
  },
  {
   "cell_type": "code",
   "metadata": {
    "ExecuteTime": {
     "end_time": "2024-09-17T01:07:52.912875Z",
     "start_time": "2024-09-17T01:07:52.909564Z"
    }
   },
   "source": [
    "V0_ = np.dot(M0_, reg)\n",
    "V0_"
   ],
   "outputs": [
    {
     "data": {
      "text/plain": [
       "10.267303102625304"
      ]
     },
     "execution_count": 109,
     "metadata": {},
     "output_type": "execute_result"
    }
   ],
   "execution_count": 109
  },
  {
   "cell_type": "markdown",
   "metadata": {},
   "source": [
    "<img src='http://hilpisch.com/taim_logo.png' width=\"350px\" align=\"right\">\n",
    "\n",
    "<br><br><br><a href=\"http://tpq.io\" target=\"_blank\">http://tpq.io</a> | <a href=\"http://twitter.com/dyjh\" target=\"_blank\">@dyjh</a> | <a href=\"mailto:ai@tpq.io\">ai@tpq.io</a>"
   ]
  }
 ],
 "metadata": {
  "kernelspec": {
   "display_name": "Python 3 (ipykernel)",
   "language": "python",
   "name": "python3"
  },
  "language_info": {
   "codemirror_mode": {
    "name": "ipython",
    "version": 3
   },
   "file_extension": ".py",
   "mimetype": "text/x-python",
   "name": "python",
   "nbconvert_exporter": "python",
   "pygments_lexer": "ipython3",
   "version": "3.10.12"
  }
 },
 "nbformat": 4,
 "nbformat_minor": 4
}
