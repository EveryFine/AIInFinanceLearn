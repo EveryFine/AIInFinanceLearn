{
 "cells": [
  {
   "cell_type": "markdown",
   "metadata": {},
   "source": [
    "<img src='http://hilpisch.com/taim_logo.png' width=\"350px\" align=\"right\">"
   ]
  },
  {
   "cell_type": "markdown",
   "metadata": {},
   "source": [
    "# Artificial Intelligence in Finance"
   ]
  },
  {
   "cell_type": "markdown",
   "metadata": {},
   "source": [
    "## Artificial Intelligence"
   ]
  },
  {
   "cell_type": "markdown",
   "metadata": {},
   "source": [
    "Dr Yves J Hilpisch | The AI Machine\n",
    "\n",
    "http://aimachine.io | http://twitter.com/dyjh"
   ]
  },
  {
   "cell_type": "markdown",
   "metadata": {},
   "source": [
    "## Unsupervised Learning"
   ]
  },
  {
   "cell_type": "code",
   "metadata": {
    "ExecuteTime": {
     "end_time": "2024-09-15T13:01:05.753261Z",
     "start_time": "2024-09-15T13:01:05.750509Z"
    }
   },
   "source": [
    "import numpy as np\n",
    "import pandas as pd\n",
    "from pylab import plt, mpl\n",
    "plt.style.use('seaborn-v0_8')\n",
    "mpl.rcParams['savefig.dpi'] = 300\n",
    "mpl.rcParams['font.family'] = 'serif'\n",
    "np.set_printoptions(precision=4, suppress=True)"
   ],
   "outputs": [],
   "execution_count": 23
  },
  {
   "cell_type": "code",
   "metadata": {
    "ExecuteTime": {
     "end_time": "2024-09-15T13:01:08.358301Z",
     "start_time": "2024-09-15T13:01:08.356118Z"
    }
   },
   "source": [
    "from sklearn.cluster import KMeans\n",
    "from sklearn.datasets import make_blobs"
   ],
   "outputs": [],
   "execution_count": 24
  },
  {
   "cell_type": "code",
   "metadata": {
    "ExecuteTime": {
     "end_time": "2024-09-15T13:01:10.168716Z",
     "start_time": "2024-09-15T13:01:10.165533Z"
    }
   },
   "source": [
    "x, y = make_blobs(n_samples=100, centers=4,\n",
    "                  random_state=500, cluster_std=3)"
   ],
   "outputs": [],
   "execution_count": 25
  },
  {
   "cell_type": "code",
   "metadata": {
    "ExecuteTime": {
     "end_time": "2024-09-15T13:01:12.122920Z",
     "start_time": "2024-09-15T13:01:12.120587Z"
    }
   },
   "source": [
    "model = KMeans(n_clusters=4, random_state=0, n_init='auto')"
   ],
   "outputs": [],
   "execution_count": 26
  },
  {
   "cell_type": "code",
   "metadata": {
    "ExecuteTime": {
     "end_time": "2024-09-15T13:01:15.442874Z",
     "start_time": "2024-09-15T13:01:15.436785Z"
    }
   },
   "source": [
    "model.fit(x)"
   ],
   "outputs": [
    {
     "data": {
      "text/plain": [
       "KMeans(n_clusters=4, n_init='auto', random_state=0)"
      ],
      "text/html": [
       "<style>#sk-container-id-3 {color: black;}#sk-container-id-3 pre{padding: 0;}#sk-container-id-3 div.sk-toggleable {background-color: white;}#sk-container-id-3 label.sk-toggleable__label {cursor: pointer;display: block;width: 100%;margin-bottom: 0;padding: 0.3em;box-sizing: border-box;text-align: center;}#sk-container-id-3 label.sk-toggleable__label-arrow:before {content: \"▸\";float: left;margin-right: 0.25em;color: #696969;}#sk-container-id-3 label.sk-toggleable__label-arrow:hover:before {color: black;}#sk-container-id-3 div.sk-estimator:hover label.sk-toggleable__label-arrow:before {color: black;}#sk-container-id-3 div.sk-toggleable__content {max-height: 0;max-width: 0;overflow: hidden;text-align: left;background-color: #f0f8ff;}#sk-container-id-3 div.sk-toggleable__content pre {margin: 0.2em;color: black;border-radius: 0.25em;background-color: #f0f8ff;}#sk-container-id-3 input.sk-toggleable__control:checked~div.sk-toggleable__content {max-height: 200px;max-width: 100%;overflow: auto;}#sk-container-id-3 input.sk-toggleable__control:checked~label.sk-toggleable__label-arrow:before {content: \"▾\";}#sk-container-id-3 div.sk-estimator input.sk-toggleable__control:checked~label.sk-toggleable__label {background-color: #d4ebff;}#sk-container-id-3 div.sk-label input.sk-toggleable__control:checked~label.sk-toggleable__label {background-color: #d4ebff;}#sk-container-id-3 input.sk-hidden--visually {border: 0;clip: rect(1px 1px 1px 1px);clip: rect(1px, 1px, 1px, 1px);height: 1px;margin: -1px;overflow: hidden;padding: 0;position: absolute;width: 1px;}#sk-container-id-3 div.sk-estimator {font-family: monospace;background-color: #f0f8ff;border: 1px dotted black;border-radius: 0.25em;box-sizing: border-box;margin-bottom: 0.5em;}#sk-container-id-3 div.sk-estimator:hover {background-color: #d4ebff;}#sk-container-id-3 div.sk-parallel-item::after {content: \"\";width: 100%;border-bottom: 1px solid gray;flex-grow: 1;}#sk-container-id-3 div.sk-label:hover label.sk-toggleable__label {background-color: #d4ebff;}#sk-container-id-3 div.sk-serial::before {content: \"\";position: absolute;border-left: 1px solid gray;box-sizing: border-box;top: 0;bottom: 0;left: 50%;z-index: 0;}#sk-container-id-3 div.sk-serial {display: flex;flex-direction: column;align-items: center;background-color: white;padding-right: 0.2em;padding-left: 0.2em;position: relative;}#sk-container-id-3 div.sk-item {position: relative;z-index: 1;}#sk-container-id-3 div.sk-parallel {display: flex;align-items: stretch;justify-content: center;background-color: white;position: relative;}#sk-container-id-3 div.sk-item::before, #sk-container-id-3 div.sk-parallel-item::before {content: \"\";position: absolute;border-left: 1px solid gray;box-sizing: border-box;top: 0;bottom: 0;left: 50%;z-index: -1;}#sk-container-id-3 div.sk-parallel-item {display: flex;flex-direction: column;z-index: 1;position: relative;background-color: white;}#sk-container-id-3 div.sk-parallel-item:first-child::after {align-self: flex-end;width: 50%;}#sk-container-id-3 div.sk-parallel-item:last-child::after {align-self: flex-start;width: 50%;}#sk-container-id-3 div.sk-parallel-item:only-child::after {width: 0;}#sk-container-id-3 div.sk-dashed-wrapped {border: 1px dashed gray;margin: 0 0.4em 0.5em 0.4em;box-sizing: border-box;padding-bottom: 0.4em;background-color: white;}#sk-container-id-3 div.sk-label label {font-family: monospace;font-weight: bold;display: inline-block;line-height: 1.2em;}#sk-container-id-3 div.sk-label-container {text-align: center;}#sk-container-id-3 div.sk-container {/* jupyter's `normalize.less` sets `[hidden] { display: none; }` but bootstrap.min.css set `[hidden] { display: none !important; }` so we also need the `!important` here to be able to override the default hidden behavior on the sphinx rendered scikit-learn.org. See: https://github.com/scikit-learn/scikit-learn/issues/21755 */display: inline-block !important;position: relative;}#sk-container-id-3 div.sk-text-repr-fallback {display: none;}</style><div id=\"sk-container-id-3\" class=\"sk-top-container\"><div class=\"sk-text-repr-fallback\"><pre>KMeans(n_clusters=4, n_init=&#x27;auto&#x27;, random_state=0)</pre><b>In a Jupyter environment, please rerun this cell to show the HTML representation or trust the notebook. <br />On GitHub, the HTML representation is unable to render, please try loading this page with nbviewer.org.</b></div><div class=\"sk-container\" hidden><div class=\"sk-item\"><div class=\"sk-estimator sk-toggleable\"><input class=\"sk-toggleable__control sk-hidden--visually\" id=\"sk-estimator-id-3\" type=\"checkbox\" checked><label for=\"sk-estimator-id-3\" class=\"sk-toggleable__label sk-toggleable__label-arrow\">KMeans</label><div class=\"sk-toggleable__content\"><pre>KMeans(n_clusters=4, n_init=&#x27;auto&#x27;, random_state=0)</pre></div></div></div></div></div>"
      ]
     },
     "execution_count": 27,
     "metadata": {},
     "output_type": "execute_result"
    }
   ],
   "execution_count": 27
  },
  {
   "cell_type": "code",
   "metadata": {
    "ExecuteTime": {
     "end_time": "2024-09-15T13:01:20.256375Z",
     "start_time": "2024-09-15T13:01:20.253977Z"
    }
   },
   "source": [
    "y_ = model.predict(x)"
   ],
   "outputs": [],
   "execution_count": 28
  },
  {
   "metadata": {
    "ExecuteTime": {
     "end_time": "2024-09-15T13:01:22.571743Z",
     "start_time": "2024-09-15T13:01:22.568666Z"
    }
   },
   "cell_type": "code",
   "source": "y",
   "outputs": [
    {
     "data": {
      "text/plain": [
       "array([1, 1, 2, 3, 2, 2, 1, 3, 2, 3, 3, 1, 3, 0, 0, 1, 3, 0, 3, 0, 0, 1,\n",
       "       2, 3, 2, 2, 0, 0, 2, 1, 3, 2, 2, 0, 2, 1, 2, 1, 3, 3, 3, 2, 0, 0,\n",
       "       1, 2, 3, 0, 3, 0, 1, 0, 2, 0, 2, 1, 2, 3, 0, 1, 2, 0, 1, 3, 1, 0,\n",
       "       2, 2, 2, 3, 1, 2, 3, 0, 3, 1, 3, 0, 3, 3, 2, 1, 2, 1, 3, 3, 1, 3,\n",
       "       0, 0, 0, 1, 1, 1, 1, 0, 1, 2, 0, 0])"
      ]
     },
     "execution_count": 29,
     "metadata": {},
     "output_type": "execute_result"
    }
   ],
   "execution_count": 29
  },
  {
   "cell_type": "code",
   "metadata": {
    "ExecuteTime": {
     "end_time": "2024-09-15T13:01:25.665625Z",
     "start_time": "2024-09-15T13:01:25.662120Z"
    }
   },
   "source": [
    "y_"
   ],
   "outputs": [
    {
     "data": {
      "text/plain": [
       "array([1, 3, 0, 0, 0, 0, 3, 1, 0, 1, 1, 3, 2, 2, 2, 3, 1, 2, 1, 2, 1, 1,\n",
       "       0, 1, 0, 0, 2, 2, 0, 3, 1, 0, 0, 2, 0, 3, 0, 3, 3, 1, 0, 0, 2, 2,\n",
       "       3, 0, 2, 2, 0, 2, 3, 2, 0, 2, 0, 3, 0, 2, 2, 3, 0, 2, 1, 3, 3, 2,\n",
       "       0, 0, 0, 1, 3, 0, 2, 2, 0, 1, 1, 2, 1, 1, 0, 3, 0, 3, 1, 1, 3, 1,\n",
       "       2, 2, 2, 3, 3, 3, 3, 2, 3, 0, 2, 2], dtype=int32)"
      ]
     },
     "execution_count": 30,
     "metadata": {},
     "output_type": "execute_result"
    }
   ],
   "execution_count": 30
  },
  {
   "metadata": {
    "ExecuteTime": {
     "end_time": "2024-09-15T13:01:31.941434Z",
     "start_time": "2024-09-15T13:01:31.938136Z"
    }
   },
   "cell_type": "code",
   "source": [
    "y1 = np.ones_like(y)\n",
    "y1"
   ],
   "outputs": [
    {
     "data": {
      "text/plain": [
       "array([1, 1, 1, 1, 1, 1, 1, 1, 1, 1, 1, 1, 1, 1, 1, 1, 1, 1, 1, 1, 1, 1,\n",
       "       1, 1, 1, 1, 1, 1, 1, 1, 1, 1, 1, 1, 1, 1, 1, 1, 1, 1, 1, 1, 1, 1,\n",
       "       1, 1, 1, 1, 1, 1, 1, 1, 1, 1, 1, 1, 1, 1, 1, 1, 1, 1, 1, 1, 1, 1,\n",
       "       1, 1, 1, 1, 1, 1, 1, 1, 1, 1, 1, 1, 1, 1, 1, 1, 1, 1, 1, 1, 1, 1,\n",
       "       1, 1, 1, 1, 1, 1, 1, 1, 1, 1, 1, 1])"
      ]
     },
     "execution_count": 31,
     "metadata": {},
     "output_type": "execute_result"
    }
   ],
   "execution_count": 31
  },
  {
   "metadata": {
    "ExecuteTime": {
     "end_time": "2024-09-15T13:01:34.973724Z",
     "start_time": "2024-09-15T13:01:34.970615Z"
    }
   },
   "cell_type": "code",
   "source": [
    "y1 = np.where(y==0, 2,np.where(y==2,0,y))\n",
    "y1"
   ],
   "outputs": [
    {
     "data": {
      "text/plain": [
       "array([1, 1, 0, 3, 0, 0, 1, 3, 0, 3, 3, 1, 3, 2, 2, 1, 3, 2, 3, 2, 2, 1,\n",
       "       0, 3, 0, 0, 2, 2, 0, 1, 3, 0, 0, 2, 0, 1, 0, 1, 3, 3, 3, 0, 2, 2,\n",
       "       1, 0, 3, 2, 3, 2, 1, 2, 0, 2, 0, 1, 0, 3, 2, 1, 0, 2, 1, 3, 1, 2,\n",
       "       0, 0, 0, 3, 1, 0, 3, 2, 3, 1, 3, 2, 3, 3, 0, 1, 0, 1, 3, 3, 1, 3,\n",
       "       2, 2, 2, 1, 1, 1, 1, 2, 1, 0, 2, 2])"
      ]
     },
     "execution_count": 32,
     "metadata": {},
     "output_type": "execute_result"
    }
   ],
   "execution_count": 32
  },
  {
   "metadata": {
    "ExecuteTime": {
     "end_time": "2024-09-15T13:01:36.945335Z",
     "start_time": "2024-09-15T13:01:36.942095Z"
    }
   },
   "cell_type": "code",
   "source": "y1 == y_",
   "outputs": [
    {
     "data": {
      "text/plain": [
       "array([ True, False,  True, False,  True,  True, False, False,  True,\n",
       "       False, False, False, False,  True,  True, False, False,  True,\n",
       "       False,  True, False,  True,  True, False,  True,  True,  True,\n",
       "        True,  True, False, False,  True,  True,  True,  True, False,\n",
       "        True, False,  True, False, False,  True,  True,  True, False,\n",
       "        True, False,  True, False,  True, False,  True,  True,  True,\n",
       "        True, False,  True, False,  True, False,  True,  True,  True,\n",
       "        True, False,  True,  True,  True,  True, False, False,  True,\n",
       "       False,  True, False,  True, False,  True, False, False,  True,\n",
       "       False,  True, False, False, False, False, False,  True,  True,\n",
       "        True, False, False, False, False,  True, False,  True,  True,\n",
       "        True])"
      ]
     },
     "execution_count": 33,
     "metadata": {},
     "output_type": "execute_result"
    }
   ],
   "execution_count": 33
  },
  {
   "metadata": {
    "ExecuteTime": {
     "end_time": "2024-09-15T13:01:40.117187Z",
     "start_time": "2024-09-15T13:01:40.114318Z"
    }
   },
   "cell_type": "code",
   "source": "(y1 == y_).sum()",
   "outputs": [
    {
     "data": {
      "text/plain": [
       "55"
      ]
     },
     "execution_count": 34,
     "metadata": {},
     "output_type": "execute_result"
    }
   ],
   "execution_count": 34
  },
  {
   "cell_type": "code",
   "metadata": {
    "ExecuteTime": {
     "end_time": "2024-09-15T13:01:42.433767Z",
     "start_time": "2024-09-15T13:01:42.370863Z"
    }
   },
   "source": [
    "plt.figure(figsize=(10, 6))\n",
    "plt.scatter(x[:, 0], x[:, 1], c=y_,  cmap='coolwarm');"
   ],
   "outputs": [
    {
     "data": {
      "text/plain": [
       "<Figure size 1000x600 with 1 Axes>"
      ],
      "image/png": "[encoded data removed]"
     },
     "metadata": {},
     "output_type": "display_data"
    }
   ],
   "execution_count": 35
  },
  {
   "cell_type": "markdown",
   "metadata": {},
   "source": [
    "## Reinforcement Learning"
   ]
  },
  {
   "cell_type": "code",
   "metadata": {
    "ExecuteTime": {
     "end_time": "2024-09-15T13:03:21.264946Z",
     "start_time": "2024-09-15T13:03:21.261743Z"
    }
   },
   "source": [
    "ssp = [1, 1, 1, 1, 0]"
   ],
   "outputs": [],
   "execution_count": 36
  },
  {
   "cell_type": "code",
   "metadata": {
    "ExecuteTime": {
     "end_time": "2024-09-15T13:03:41.833351Z",
     "start_time": "2024-09-15T13:03:41.830843Z"
    }
   },
   "source": [
    "asp = [1, 0]"
   ],
   "outputs": [],
   "execution_count": 37
  },
  {
   "cell_type": "code",
   "metadata": {
    "ExecuteTime": {
     "end_time": "2024-09-15T13:07:30.814327Z",
     "start_time": "2024-09-15T13:07:30.811802Z"
    }
   },
   "source": [
    "def epoch():\n",
    "    tr = 0\n",
    "    for _ in range(100):\n",
    "        a = np.random.choice(asp)\n",
    "        s = np.random.choice(ssp)\n",
    "        if a == s:\n",
    "            tr += 1\n",
    "    return tr"
   ],
   "outputs": [],
   "execution_count": 40
  },
  {
   "metadata": {
    "ExecuteTime": {
     "end_time": "2024-09-15T13:05:41.468271Z",
     "start_time": "2024-09-15T13:05:41.462146Z"
    }
   },
   "cell_type": "code",
   "source": "np.random.choice?",
   "outputs": [],
   "execution_count": 39
  },
  {
   "cell_type": "code",
   "metadata": {
    "ExecuteTime": {
     "end_time": "2024-09-15T13:09:20.882803Z",
     "start_time": "2024-09-15T13:09:20.794305Z"
    }
   },
   "source": [
    "rl = np.array([epoch() for _ in range(100)])\n",
    "rl"
   ],
   "outputs": [
    {
     "data": {
      "text/plain": [
       "array([49, 54, 53, 41, 45, 55, 44, 51, 54, 46, 50, 46, 54, 47, 53, 56, 52,\n",
       "       62, 50, 54, 47, 53, 45, 52, 44, 51, 45, 56, 43, 54, 39, 52, 48, 51,\n",
       "       54, 51, 46, 56, 55, 52, 39, 55, 54, 45, 53, 63, 54, 55, 51, 47, 56,\n",
       "       46, 47, 51, 47, 57, 49, 54, 64, 47, 51, 45, 56, 45, 52, 53, 43, 51,\n",
       "       53, 50, 60, 40, 47, 51, 46, 49, 56, 53, 47, 49, 46, 51, 53, 49, 54,\n",
       "       46, 52, 64, 47, 50, 56, 54, 49, 48, 52, 60, 52, 53, 45, 55])"
      ]
     },
     "execution_count": 49,
     "metadata": {},
     "output_type": "execute_result"
    }
   ],
   "execution_count": 49
  },
  {
   "cell_type": "code",
   "metadata": {
    "ExecuteTime": {
     "end_time": "2024-09-15T13:09:23.242792Z",
     "start_time": "2024-09-15T13:09:23.239988Z"
    }
   },
   "source": [
    "rl.mean()"
   ],
   "outputs": [
    {
     "data": {
      "text/plain": [
       "50.77"
      ]
     },
     "execution_count": 50,
     "metadata": {},
     "output_type": "execute_result"
    }
   ],
   "execution_count": 50
  },
  {
   "cell_type": "code",
   "metadata": {
    "ExecuteTime": {
     "end_time": "2024-09-15T13:10:15.613522Z",
     "start_time": "2024-09-15T13:10:15.610665Z"
    }
   },
   "source": [
    "ssp = [1, 1, 1, 1, 0]"
   ],
   "outputs": [],
   "execution_count": 51
  },
  {
   "cell_type": "code",
   "metadata": {
    "ExecuteTime": {
     "end_time": "2024-09-15T13:12:13.116811Z",
     "start_time": "2024-09-15T13:12:13.113775Z"
    }
   },
   "source": [
    "def epoch():\n",
    "    tr = 0\n",
    "    asp = [0, 1]\n",
    "    for _ in range(100):\n",
    "        a = np.random.choice(asp)\n",
    "        s = np.random.choice(ssp)\n",
    "        if a == s:\n",
    "            tr += 1\n",
    "        asp.append(s)\n",
    "    return tr"
   ],
   "outputs": [],
   "execution_count": 52
  },
  {
   "cell_type": "code",
   "metadata": {
    "ExecuteTime": {
     "end_time": "2024-09-15T13:12:42.118695Z",
     "start_time": "2024-09-15T13:12:41.162891Z"
    }
   },
   "source": [
    "rl = np.array([epoch() for _ in range(1000)])\n",
    "rl"
   ],
   "outputs": [
    {
     "data": {
      "text/plain": [
       "array([74, 65, 54, 70, 64, 60, 72, 58, 67, 77, 57, 72, 58, 54, 76, 58, 56,\n",
       "       65, 73, 70, 60, 73, 71, 68, 55, 68, 64, 74, 63, 63, 66, 61, 66, 55,\n",
       "       65, 68, 64, 71, 68, 75, 68, 70, 64, 69, 81, 60, 84, 70, 68, 67, 69,\n",
       "       71, 63, 55, 66, 66, 65, 71, 61, 60, 67, 70, 62, 61, 59, 73, 74, 64,\n",
       "       68, 73, 85, 67, 61, 63, 64, 60, 66, 73, 53, 65, 64, 67, 59, 59, 72,\n",
       "       61, 76, 54, 64, 61, 66, 68, 51, 71, 62, 67, 74, 63, 64, 68, 73, 60,\n",
       "       72, 74, 68, 60, 80, 72, 70, 70, 61, 72, 63, 66, 65, 74, 66, 71, 71,\n",
       "       69, 69, 72, 54, 62, 73, 59, 61, 57, 67, 71, 63, 66, 64, 69, 68, 77,\n",
       "       58, 61, 73, 63, 62, 69, 65, 57, 60, 70, 69, 73, 69, 67, 68, 70, 75,\n",
       "       80, 73, 66, 70, 67, 69, 65, 70, 67, 68, 70, 63, 79, 64, 49, 61, 74,\n",
       "       65, 60, 76, 67, 69, 70, 67, 70, 64, 75, 64, 66, 67, 67, 73, 65, 70,\n",
       "       64, 60, 69, 61, 63, 72, 82, 63, 69, 62, 66, 70, 66, 66, 76, 68, 64,\n",
       "       70, 67, 64, 73, 63, 66, 53, 66, 77, 55, 74, 64, 72, 69, 61, 57, 64,\n",
       "       76, 65, 69, 59, 54, 65, 76, 75, 83, 64, 65, 64, 71, 68, 61, 61, 66,\n",
       "       61, 65, 64, 65, 60, 57, 66, 62, 63, 66, 69, 71, 64, 64, 69, 69, 63,\n",
       "       79, 65, 73, 71, 70, 67, 63, 60, 65, 63, 59, 70, 77, 65, 67, 79, 76,\n",
       "       73, 69, 64, 66, 71, 62, 66, 63, 73, 73, 60, 71, 65, 60, 70, 69, 60,\n",
       "       73, 64, 70, 63, 81, 57, 73, 65, 69, 65, 64, 56, 66, 71, 64, 61, 70,\n",
       "       54, 66, 74, 68, 74, 65, 63, 55, 67, 68, 77, 62, 68, 75, 72, 67, 71,\n",
       "       61, 74, 71, 68, 65, 77, 68, 76, 64, 57, 62, 70, 53, 59, 66, 69, 66,\n",
       "       62, 61, 73, 70, 58, 64, 80, 61, 53, 57, 60, 56, 77, 72, 75, 65, 62,\n",
       "       68, 65, 66, 70, 55, 56, 71, 58, 69, 61, 64, 70, 70, 56, 69, 67, 64,\n",
       "       59, 75, 72, 75, 78, 72, 70, 71, 70, 63, 71, 64, 70, 64, 64, 70, 65,\n",
       "       72, 72, 66, 70, 67, 63, 86, 67, 69, 73, 66, 62, 62, 56, 62, 56, 73,\n",
       "       65, 59, 60, 61, 72, 77, 72, 75, 64, 67, 66, 72, 67, 76, 65, 77, 63,\n",
       "       57, 80, 67, 62, 63, 67, 79, 61, 55, 61, 68, 67, 62, 65, 66, 68, 65,\n",
       "       61, 68, 70, 68, 65, 65, 65, 59, 60, 66, 62, 65, 71, 71, 65, 62, 66,\n",
       "       73, 67, 55, 69, 71, 74, 59, 71, 62, 68, 59, 69, 63, 79, 70, 77, 67,\n",
       "       69, 73, 60, 66, 68, 50, 69, 61, 68, 64, 64, 59, 58, 72, 63, 73, 63,\n",
       "       62, 64, 56, 69, 77, 64, 65, 69, 78, 72, 64, 81, 69, 71, 71, 69, 72,\n",
       "       66, 54, 69, 64, 75, 65, 72, 62, 62, 62, 72, 66, 61, 72, 67, 65, 79,\n",
       "       72, 57, 63, 65, 69, 79, 72, 56, 75, 64, 55, 64, 71, 64, 70, 56, 72,\n",
       "       76, 65, 67, 76, 67, 68, 71, 61, 68, 65, 68, 72, 71, 70, 73, 64, 68,\n",
       "       64, 69, 63, 58, 68, 56, 73, 57, 56, 65, 77, 65, 65, 73, 62, 67, 63,\n",
       "       70, 75, 70, 71, 74, 73, 58, 65, 68, 68, 70, 70, 65, 76, 75, 80, 69,\n",
       "       70, 61, 68, 63, 68, 73, 61, 62, 73, 57, 66, 65, 72, 75, 69, 61, 56,\n",
       "       72, 68, 65, 65, 59, 70, 72, 56, 65, 73, 65, 70, 60, 68, 60, 65, 65,\n",
       "       65, 62, 73, 62, 80, 55, 64, 67, 70, 71, 58, 66, 72, 72, 64, 63, 65,\n",
       "       69, 51, 66, 72, 62, 57, 66, 72, 73, 65, 75, 61, 68, 60, 77, 61, 63,\n",
       "       64, 77, 64, 71, 68, 62, 77, 61, 59, 69, 66, 72, 64, 62, 61, 69, 71,\n",
       "       65, 65, 65, 59, 52, 64, 70, 75, 66, 64, 55, 74, 71, 68, 61, 73, 80,\n",
       "       66, 67, 62, 69, 61, 77, 72, 60, 64, 67, 63, 63, 69, 83, 84, 75, 54,\n",
       "       55, 58, 77, 78, 61, 70, 57, 60, 74, 63, 63, 52, 67, 71, 66, 54, 67,\n",
       "       64, 72, 61, 78, 73, 60, 71, 69, 67, 70, 75, 63, 76, 58, 61, 65, 72,\n",
       "       66, 66, 56, 67, 65, 70, 58, 64, 73, 67, 65, 67, 65, 69, 68, 63, 69,\n",
       "       74, 68, 70, 69, 66, 63, 68, 58, 57, 69, 65, 69, 72, 71, 76, 69, 68,\n",
       "       65, 61, 71, 66, 59, 57, 67, 73, 66, 70, 72, 73, 60, 62, 66, 68, 62,\n",
       "       57, 71, 68, 73, 65, 69, 62, 59, 62, 73, 63, 66, 67, 56, 71, 63, 72,\n",
       "       62, 63, 61, 69, 66, 74, 63, 67, 73, 75, 67, 70, 67, 64, 68, 67, 66,\n",
       "       68, 65, 70, 67, 68, 61, 59, 64, 63, 78, 63, 77, 71, 67, 63, 67, 70,\n",
       "       66, 77, 50, 66, 71, 73, 64, 65, 68, 64, 69, 71, 66, 78, 70, 66, 71,\n",
       "       72, 77, 56, 72, 69, 63, 65, 71, 56, 65, 70, 70, 72, 64, 62, 59, 72,\n",
       "       50, 78, 66, 66, 59, 58, 66, 72, 72, 72, 72, 69, 70, 67, 77, 66, 64,\n",
       "       65, 66, 58, 72, 70, 73, 58, 71, 71, 66, 66, 74, 70, 68, 68, 54, 63,\n",
       "       64, 67, 73, 66, 61, 72, 65, 63, 67, 63, 66, 72, 72, 73, 63, 81, 64,\n",
       "       68, 67, 63, 67, 62, 75, 58, 74, 64, 73, 65, 66, 64, 67, 66, 64, 59,\n",
       "       68, 65, 62, 70, 64, 69, 75, 54, 58, 68, 57, 64, 52, 72, 66, 67, 76,\n",
       "       73, 63, 67, 61, 68, 78, 66, 64, 73, 70, 72, 60, 63, 70, 66, 59, 53,\n",
       "       64, 63, 73, 42, 66, 57, 67, 69, 77, 64, 67, 70, 79, 74])"
      ]
     },
     "execution_count": 57,
     "metadata": {},
     "output_type": "execute_result"
    }
   ],
   "execution_count": 57
  },
  {
   "cell_type": "code",
   "metadata": {
    "ExecuteTime": {
     "end_time": "2024-09-15T13:15:03.104482Z",
     "start_time": "2024-09-15T13:15:03.101391Z"
    }
   },
   "source": [
    "rl.mean()"
   ],
   "outputs": [
    {
     "data": {
      "text/plain": [
       "66.655"
      ]
     },
     "execution_count": 60,
     "metadata": {},
     "output_type": "execute_result"
    }
   ],
   "execution_count": 60
  },
  {
   "cell_type": "markdown",
   "metadata": {},
   "source": [
    "## Supervised Learning"
   ]
  },
  {
   "cell_type": "markdown",
   "metadata": {},
   "source": [
    "### OLS Regression"
   ]
  },
  {
   "cell_type": "code",
   "metadata": {
    "ExecuteTime": {
     "end_time": "2024-09-15T13:23:23.304854Z",
     "start_time": "2024-09-15T13:23:23.301635Z"
    }
   },
   "source": [
    "def f(x):\n",
    "    return 2 * x ** 2 - x ** 3 / 3"
   ],
   "outputs": [],
   "execution_count": 61
  },
  {
   "cell_type": "code",
   "metadata": {
    "ExecuteTime": {
     "end_time": "2024-09-15T13:26:19.690233Z",
     "start_time": "2024-09-15T13:26:19.686911Z"
    }
   },
   "source": [
    "x = np.linspace(-2, 4, 25)\n",
    "x"
   ],
   "outputs": [
    {
     "data": {
      "text/plain": [
       "array([-2.  , -1.75, -1.5 , -1.25, -1.  , -0.75, -0.5 , -0.25,  0.  ,\n",
       "        0.25,  0.5 ,  0.75,  1.  ,  1.25,  1.5 ,  1.75,  2.  ,  2.25,\n",
       "        2.5 ,  2.75,  3.  ,  3.25,  3.5 ,  3.75,  4.  ])"
      ]
     },
     "execution_count": 68,
     "metadata": {},
     "output_type": "execute_result"
    }
   ],
   "execution_count": 68
  },
  {
   "cell_type": "code",
   "metadata": {
    "ExecuteTime": {
     "end_time": "2024-09-15T13:26:22.311115Z",
     "start_time": "2024-09-15T13:26:22.307675Z"
    }
   },
   "source": [
    "y = f(x)\n",
    "y"
   ],
   "outputs": [
    {
     "data": {
      "text/plain": [
       "array([10.6667,  7.9115,  5.625 ,  3.776 ,  2.3333,  1.2656,  0.5417,\n",
       "        0.1302,  0.    ,  0.1198,  0.4583,  0.9844,  1.6667,  2.474 ,\n",
       "        3.375 ,  4.3385,  5.3333,  6.3281,  7.2917,  8.1927,  9.    ,\n",
       "        9.6823, 10.2083, 10.5469, 10.6667])"
      ]
     },
     "execution_count": 69,
     "metadata": {},
     "output_type": "execute_result"
    }
   ],
   "execution_count": 69
  },
  {
   "cell_type": "code",
   "metadata": {
    "ExecuteTime": {
     "end_time": "2024-09-15T13:26:24.955835Z",
     "start_time": "2024-09-15T13:26:24.863565Z"
    }
   },
   "source": [
    "plt.figure(figsize=(10, 6))\n",
    "plt.plot(x, y, 'ro');"
   ],
   "outputs": [
    {
     "data": {
      "text/plain": [
       "<Figure size 1000x600 with 1 Axes>"
      ],
      "image/png": "[encoded data removed]"
     },
     "metadata": {},
     "output_type": "display_data"
    }
   ],
   "execution_count": 70
  },
  {
   "cell_type": "code",
   "metadata": {
    "ExecuteTime": {
     "end_time": "2024-09-15T13:26:28.598683Z",
     "start_time": "2024-09-15T13:26:28.594898Z"
    }
   },
   "source": [
    "beta = np.cov(x, y, ddof=0)[0, 1] / np.var(x)\n",
    "beta"
   ],
   "outputs": [
    {
     "data": {
      "text/plain": [
       "1.0541666666666667"
      ]
     },
     "execution_count": 71,
     "metadata": {},
     "output_type": "execute_result"
    }
   ],
   "execution_count": 71
  },
  {
   "cell_type": "code",
   "metadata": {
    "ExecuteTime": {
     "end_time": "2024-09-15T13:29:50.892930Z",
     "start_time": "2024-09-15T13:29:50.889567Z"
    }
   },
   "source": [
    "alpha = y.mean() - beta * x.mean()\n",
    "alpha"
   ],
   "outputs": [
    {
     "data": {
      "text/plain": [
       "3.8625000000000003"
      ]
     },
     "execution_count": 72,
     "metadata": {},
     "output_type": "execute_result"
    }
   ],
   "execution_count": 72
  },
  {
   "cell_type": "code",
   "metadata": {
    "ExecuteTime": {
     "end_time": "2024-09-15T13:30:08.783678Z",
     "start_time": "2024-09-15T13:30:08.781481Z"
    }
   },
   "source": [
    "y_ = alpha + beta * x"
   ],
   "outputs": [],
   "execution_count": 73
  },
  {
   "cell_type": "code",
   "metadata": {
    "ExecuteTime": {
     "end_time": "2024-09-15T13:30:11.870322Z",
     "start_time": "2024-09-15T13:30:11.865469Z"
    }
   },
   "source": [
    "MSE = ((y - y_) ** 2).mean()\n",
    "MSE"
   ],
   "outputs": [
    {
     "data": {
      "text/plain": [
       "10.721953125"
      ]
     },
     "execution_count": 74,
     "metadata": {},
     "output_type": "execute_result"
    }
   ],
   "execution_count": 74
  },
  {
   "cell_type": "code",
   "metadata": {
    "ExecuteTime": {
     "end_time": "2024-09-15T13:30:16.218261Z",
     "start_time": "2024-09-15T13:30:16.136863Z"
    }
   },
   "source": [
    "plt.figure(figsize=(10, 6))\n",
    "plt.plot(x, y, 'ro', label='sample data')\n",
    "plt.plot(x, y_, lw=3.0, label='linear regression')\n",
    "plt.legend();"
   ],
   "outputs": [
    {
     "data": {
      "text/plain": [
       "<Figure size 1000x600 with 1 Axes>"
      ],
      "image/png": "[encoded data removed]"
     },
     "metadata": {},
     "output_type": "display_data"
    }
   ],
   "execution_count": 75
  },
  {
   "cell_type": "code",
   "metadata": {
    "ExecuteTime": {
     "end_time": "2024-09-15T13:47:39.314627Z",
     "start_time": "2024-09-15T13:47:39.211916Z"
    }
   },
   "source": [
    "plt.figure(figsize=(10, 6))\n",
    "plt.plot(x, y, 'ro', label='sample data')\n",
    "for deg in [1, 2, 3]:\n",
    "    reg = np.polyfit(x, y, deg=deg)\n",
    "    print(f'reg={reg}')\n",
    "    y_ = np.polyval(reg, x)\n",
    "    MSE = ((y - y_) ** 2).mean()\n",
    "    print(f'deg={deg} | MSE={MSE:.5f}')\n",
    "    plt.plot(x, np.polyval(reg, x), label=f'deg={deg}')\n",
    "plt.legend();"
   ],
   "outputs": [
    {
     "name": "stdout",
     "output_type": "stream",
     "text": [
      "reg=[1.0542 3.8625]\n",
      "deg=1 | MSE=10.72195\n",
      "reg=[ 1.     -0.9458  1.6125]\n",
      "deg=2 | MSE=2.31258\n",
      "reg=[-0.3333  2.      0.     -0.    ]\n",
      "deg=3 | MSE=0.00000\n"
     ]
    },
    {
     "data": {
      "text/plain": [
       "<Figure size 1000x600 with 1 Axes>"
      ],
      "image/png": "[encoded data removed]"
     },
     "metadata": {},
     "output_type": "display_data"
    }
   ],
   "execution_count": 79
  },
  {
   "cell_type": "code",
   "execution_count": 28,
   "metadata": {},
   "outputs": [
    {
     "data": {
      "text/plain": [
       "array([-0.3333,  2.    ,  0.    , -0.    ])"
      ]
     },
     "execution_count": 28,
     "metadata": {},
     "output_type": "execute_result"
    }
   ],
   "source": [
    "reg"
   ]
  },
  {
   "metadata": {},
   "cell_type": "markdown",
   "source": "## Neural Network &mdash; `sklearn`"
  },
  {
   "metadata": {
    "ExecuteTime": {
     "end_time": "2024-09-15T13:59:13.151884Z",
     "start_time": "2024-09-15T13:59:13.139315Z"
    }
   },
   "cell_type": "code",
   "source": "from sklearn.neural_network import MLPRegressor",
   "outputs": [],
   "execution_count": 81
  },
  {
   "metadata": {
    "ExecuteTime": {
     "end_time": "2024-09-15T13:59:15.910737Z",
     "start_time": "2024-09-15T13:59:15.908636Z"
    }
   },
   "cell_type": "code",
   "source": [
    "model = MLPRegressor(hidden_layer_sizes=3 * [256],\n",
    "                     learning_rate_init=0.03,\n",
    "                     max_iter=5000)"
   ],
   "outputs": [],
   "execution_count": 82
  },
  {
   "metadata": {
    "ExecuteTime": {
     "end_time": "2024-09-15T14:08:03.654361Z",
     "start_time": "2024-09-15T14:08:03.648986Z"
    }
   },
   "cell_type": "code",
   "source": "x.shape",
   "outputs": [
    {
     "data": {
      "text/plain": [
       "(25,)"
      ]
     },
     "execution_count": 83,
     "metadata": {},
     "output_type": "execute_result"
    }
   ],
   "execution_count": 83
  },
  {
   "metadata": {
    "ExecuteTime": {
     "end_time": "2024-09-15T14:08:15.998449Z",
     "start_time": "2024-09-15T14:08:15.995556Z"
    }
   },
   "cell_type": "code",
   "source": "x",
   "outputs": [
    {
     "data": {
      "text/plain": [
       "array([-2.  , -1.75, -1.5 , -1.25, -1.  , -0.75, -0.5 , -0.25,  0.  ,\n",
       "        0.25,  0.5 ,  0.75,  1.  ,  1.25,  1.5 ,  1.75,  2.  ,  2.25,\n",
       "        2.5 ,  2.75,  3.  ,  3.25,  3.5 ,  3.75,  4.  ])"
      ]
     },
     "execution_count": 84,
     "metadata": {},
     "output_type": "execute_result"
    }
   ],
   "execution_count": 84
  },
  {
   "metadata": {
    "ExecuteTime": {
     "end_time": "2024-09-15T14:09:24.832965Z",
     "start_time": "2024-09-15T14:09:24.830756Z"
    }
   },
   "cell_type": "code",
   "source": "x_=x.reshape(-1, 1)",
   "outputs": [],
   "execution_count": 87
  },
  {
   "metadata": {
    "ExecuteTime": {
     "end_time": "2024-09-15T14:09:35.905896Z",
     "start_time": "2024-09-15T14:09:35.903061Z"
    }
   },
   "cell_type": "code",
   "source": "x_.shape",
   "outputs": [
    {
     "data": {
      "text/plain": [
       "(25, 1)"
      ]
     },
     "execution_count": 89,
     "metadata": {},
     "output_type": "execute_result"
    }
   ],
   "execution_count": 89
  },
  {
   "metadata": {
    "ExecuteTime": {
     "end_time": "2024-09-15T14:10:23.144497Z",
     "start_time": "2024-09-15T14:10:21.219094Z"
    }
   },
   "cell_type": "code",
   "source": "model.fit(x.reshape(-1, 1), y)",
   "outputs": [
    {
     "data": {
      "text/plain": [
       "MLPRegressor(hidden_layer_sizes=[256, 256, 256], learning_rate_init=0.03,\n",
       "             max_iter=5000)"
      ],
      "text/html": [
       "<style>#sk-container-id-4 {color: black;}#sk-container-id-4 pre{padding: 0;}#sk-container-id-4 div.sk-toggleable {background-color: white;}#sk-container-id-4 label.sk-toggleable__label {cursor: pointer;display: block;width: 100%;margin-bottom: 0;padding: 0.3em;box-sizing: border-box;text-align: center;}#sk-container-id-4 label.sk-toggleable__label-arrow:before {content: \"▸\";float: left;margin-right: 0.25em;color: #696969;}#sk-container-id-4 label.sk-toggleable__label-arrow:hover:before {color: black;}#sk-container-id-4 div.sk-estimator:hover label.sk-toggleable__label-arrow:before {color: black;}#sk-container-id-4 div.sk-toggleable__content {max-height: 0;max-width: 0;overflow: hidden;text-align: left;background-color: #f0f8ff;}#sk-container-id-4 div.sk-toggleable__content pre {margin: 0.2em;color: black;border-radius: 0.25em;background-color: #f0f8ff;}#sk-container-id-4 input.sk-toggleable__control:checked~div.sk-toggleable__content {max-height: 200px;max-width: 100%;overflow: auto;}#sk-container-id-4 input.sk-toggleable__control:checked~label.sk-toggleable__label-arrow:before {content: \"▾\";}#sk-container-id-4 div.sk-estimator input.sk-toggleable__control:checked~label.sk-toggleable__label {background-color: #d4ebff;}#sk-container-id-4 div.sk-label input.sk-toggleable__control:checked~label.sk-toggleable__label {background-color: #d4ebff;}#sk-container-id-4 input.sk-hidden--visually {border: 0;clip: rect(1px 1px 1px 1px);clip: rect(1px, 1px, 1px, 1px);height: 1px;margin: -1px;overflow: hidden;padding: 0;position: absolute;width: 1px;}#sk-container-id-4 div.sk-estimator {font-family: monospace;background-color: #f0f8ff;border: 1px dotted black;border-radius: 0.25em;box-sizing: border-box;margin-bottom: 0.5em;}#sk-container-id-4 div.sk-estimator:hover {background-color: #d4ebff;}#sk-container-id-4 div.sk-parallel-item::after {content: \"\";width: 100%;border-bottom: 1px solid gray;flex-grow: 1;}#sk-container-id-4 div.sk-label:hover label.sk-toggleable__label {background-color: #d4ebff;}#sk-container-id-4 div.sk-serial::before {content: \"\";position: absolute;border-left: 1px solid gray;box-sizing: border-box;top: 0;bottom: 0;left: 50%;z-index: 0;}#sk-container-id-4 div.sk-serial {display: flex;flex-direction: column;align-items: center;background-color: white;padding-right: 0.2em;padding-left: 0.2em;position: relative;}#sk-container-id-4 div.sk-item {position: relative;z-index: 1;}#sk-container-id-4 div.sk-parallel {display: flex;align-items: stretch;justify-content: center;background-color: white;position: relative;}#sk-container-id-4 div.sk-item::before, #sk-container-id-4 div.sk-parallel-item::before {content: \"\";position: absolute;border-left: 1px solid gray;box-sizing: border-box;top: 0;bottom: 0;left: 50%;z-index: -1;}#sk-container-id-4 div.sk-parallel-item {display: flex;flex-direction: column;z-index: 1;position: relative;background-color: white;}#sk-container-id-4 div.sk-parallel-item:first-child::after {align-self: flex-end;width: 50%;}#sk-container-id-4 div.sk-parallel-item:last-child::after {align-self: flex-start;width: 50%;}#sk-container-id-4 div.sk-parallel-item:only-child::after {width: 0;}#sk-container-id-4 div.sk-dashed-wrapped {border: 1px dashed gray;margin: 0 0.4em 0.5em 0.4em;box-sizing: border-box;padding-bottom: 0.4em;background-color: white;}#sk-container-id-4 div.sk-label label {font-family: monospace;font-weight: bold;display: inline-block;line-height: 1.2em;}#sk-container-id-4 div.sk-label-container {text-align: center;}#sk-container-id-4 div.sk-container {/* jupyter's `normalize.less` sets `[hidden] { display: none; }` but bootstrap.min.css set `[hidden] { display: none !important; }` so we also need the `!important` here to be able to override the default hidden behavior on the sphinx rendered scikit-learn.org. See: https://github.com/scikit-learn/scikit-learn/issues/21755 */display: inline-block !important;position: relative;}#sk-container-id-4 div.sk-text-repr-fallback {display: none;}</style><div id=\"sk-container-id-4\" class=\"sk-top-container\"><div class=\"sk-text-repr-fallback\"><pre>MLPRegressor(hidden_layer_sizes=[256, 256, 256], learning_rate_init=0.03,\n",
       "             max_iter=5000)</pre><b>In a Jupyter environment, please rerun this cell to show the HTML representation or trust the notebook. <br />On GitHub, the HTML representation is unable to render, please try loading this page with nbviewer.org.</b></div><div class=\"sk-container\" hidden><div class=\"sk-item\"><div class=\"sk-estimator sk-toggleable\"><input class=\"sk-toggleable__control sk-hidden--visually\" id=\"sk-estimator-id-4\" type=\"checkbox\" checked><label for=\"sk-estimator-id-4\" class=\"sk-toggleable__label sk-toggleable__label-arrow\">MLPRegressor</label><div class=\"sk-toggleable__content\"><pre>MLPRegressor(hidden_layer_sizes=[256, 256, 256], learning_rate_init=0.03,\n",
       "             max_iter=5000)</pre></div></div></div></div></div>"
      ]
     },
     "execution_count": 90,
     "metadata": {},
     "output_type": "execute_result"
    }
   ],
   "execution_count": 90
  },
  {
   "metadata": {
    "ExecuteTime": {
     "end_time": "2024-09-15T14:10:38.761307Z",
     "start_time": "2024-09-15T14:10:38.743355Z"
    }
   },
   "cell_type": "code",
   "source": "y_ = model.predict(x.reshape(-1, 1))",
   "outputs": [],
   "execution_count": 91
  },
  {
   "metadata": {
    "ExecuteTime": {
     "end_time": "2024-09-15T14:12:20.453584Z",
     "start_time": "2024-09-15T14:12:20.448400Z"
    }
   },
   "cell_type": "code",
   "source": [
    "MSE = ((y - y_) ** 2).mean()\n",
    "MSE"
   ],
   "outputs": [
    {
     "data": {
      "text/plain": [
       "0.012665432600584337"
      ]
     },
     "execution_count": 96,
     "metadata": {},
     "output_type": "execute_result"
    }
   ],
   "execution_count": 96
  },
  {
   "metadata": {
    "ExecuteTime": {
     "end_time": "2024-09-15T14:11:42.457230Z",
     "start_time": "2024-09-15T14:11:42.376824Z"
    }
   },
   "cell_type": "code",
   "source": [
    "plt.figure(figsize=(10, 6))\n",
    "plt.plot(x, y, 'ro', label='sample data')\n",
    "plt.plot(x, y_, lw=3.0, label='dnn estimation')\n",
    "plt.legend();"
   ],
   "outputs": [
    {
     "data": {
      "text/plain": [
       "<Figure size 1000x600 with 1 Axes>"
      ],
      "image/png": "[encoded data removed]"
     },
     "metadata": {},
     "output_type": "display_data"
    }
   ],
   "execution_count": 95
  },
  {
   "cell_type": "markdown",
   "metadata": {},
   "source": [
    "### Neural Network &mdash; `Keras`"
   ]
  },
  {
   "cell_type": "code",
   "metadata": {
    "ExecuteTime": {
     "end_time": "2024-09-15T14:16:24.488968Z",
     "start_time": "2024-09-15T14:16:24.485793Z"
    }
   },
   "source": [
    "import os\n",
    "os.environ['TF_CPP_MIN_LOG_LEVEL'] = '3'"
   ],
   "outputs": [],
   "execution_count": 97
  },
  {
   "cell_type": "code",
   "metadata": {
    "ExecuteTime": {
     "end_time": "2024-09-15T14:16:29.053371Z",
     "start_time": "2024-09-15T14:16:26.675137Z"
    }
   },
   "source": [
    "import tensorflow as tf\n",
    "from tensorflow import keras\n",
    "tf.random.set_seed(100)"
   ],
   "outputs": [],
   "execution_count": 98
  },
  {
   "cell_type": "code",
   "metadata": {
    "ExecuteTime": {
     "end_time": "2024-09-15T14:16:31.850893Z",
     "start_time": "2024-09-15T14:16:31.848224Z"
    }
   },
   "source": [
    "from keras.layers import Dense\n",
    "from keras.models import Sequential"
   ],
   "outputs": [],
   "execution_count": 99
  },
  {
   "cell_type": "code",
   "metadata": {
    "ExecuteTime": {
     "end_time": "2024-09-15T14:22:48.830897Z",
     "start_time": "2024-09-15T14:22:48.816920Z"
    }
   },
   "source": [
    "model = Sequential()\n",
    "model.add(Dense(256, activation='relu', input_dim=1)) # <2>\n",
    "model.add(Dense(1, activation='linear'))\n",
    "model.compile(loss='mse', optimizer='rmsprop')"
   ],
   "outputs": [],
   "execution_count": 105
  },
  {
   "metadata": {
    "ExecuteTime": {
     "end_time": "2024-09-15T14:22:51.416861Z",
     "start_time": "2024-09-15T14:22:51.410810Z"
    }
   },
   "cell_type": "code",
   "source": "model.summary()",
   "outputs": [
    {
     "name": "stdout",
     "output_type": "stream",
     "text": [
      "Model: \"sequential_1\"\n",
      "_________________________________________________________________\n",
      " Layer (type)                Output Shape              Param #   \n",
      "=================================================================\n",
      " dense_2 (Dense)             (None, 256)               512       \n",
      "                                                                 \n",
      " dense_3 (Dense)             (None, 1)                 257       \n",
      "                                                                 \n",
      "=================================================================\n",
      "Total params: 769\n",
      "Trainable params: 769\n",
      "Non-trainable params: 0\n",
      "_________________________________________________________________\n"
     ]
    }
   ],
   "execution_count": 106
  },
  {
   "cell_type": "code",
   "metadata": {
    "ExecuteTime": {
     "end_time": "2024-09-15T14:22:55.301041Z",
     "start_time": "2024-09-15T14:22:55.298061Z"
    }
   },
   "source": [
    "((y - y_) ** 2).mean()"
   ],
   "outputs": [
    {
     "data": {
      "text/plain": [
       "28.46933064527075"
      ]
     },
     "execution_count": 107,
     "metadata": {},
     "output_type": "execute_result"
    }
   ],
   "execution_count": 107
  },
  {
   "cell_type": "code",
   "metadata": {
    "ExecuteTime": {
     "end_time": "2024-09-15T14:26:29.014115Z",
     "start_time": "2024-09-15T14:26:28.325020Z"
    }
   },
   "source": [
    "plt.figure(figsize=(10, 6))\n",
    "plt.plot(x, y, 'ro', label='sample data')\n",
    "for _ in range(1, 6):\n",
    "    model.fit(x, y, epochs=100, verbose=False)\n",
    "    y_ =  model.predict(x)\n",
    "    MSE = ((y - y_.flatten()) ** 2).mean()\n",
    "    print(f'round={_} | MSE={MSE:.5f}')\n",
    "    plt.plot(x, y_, '--', label=f'round={_}')\n",
    "plt.legend();"
   ],
   "outputs": [
    {
     "name": "stdout",
     "output_type": "stream",
     "text": [
      "1/1 [==============================] - 0s 10ms/step\n",
      "round=1 | MSE=0.01210\n",
      "1/1 [==============================] - 0s 8ms/step\n",
      "round=2 | MSE=0.01086\n",
      "1/1 [==============================] - 0s 9ms/step\n",
      "round=3 | MSE=0.00984\n",
      "1/1 [==============================] - 0s 9ms/step\n",
      "round=4 | MSE=0.00901\n",
      "1/1 [==============================] - 0s 8ms/step\n",
      "round=5 | MSE=0.00862\n"
     ]
    },
    {
     "data": {
      "text/plain": [
       "<Figure size 1000x600 with 1 Axes>"
      ],
      "image/png": "[encoded data removed]"
     },
     "metadata": {},
     "output_type": "display_data"
    }
   ],
   "execution_count": 111
  },
  {
   "cell_type": "markdown",
   "metadata": {},
   "source": [
    "## Universal Approximation"
   ]
  },
  {
   "cell_type": "code",
   "metadata": {
    "ExecuteTime": {
     "end_time": "2024-09-15T22:27:16.687284Z",
     "start_time": "2024-09-15T22:27:16.682550Z"
    }
   },
   "source": [
    "np.random.seed(0)\n",
    "x = np.linspace(-1, 1)\n",
    "y = np.random.random(len(x)) * 2 - 1"
   ],
   "outputs": [],
   "execution_count": 113
  },
  {
   "cell_type": "code",
   "metadata": {
    "ExecuteTime": {
     "end_time": "2024-09-15T22:27:29.510875Z",
     "start_time": "2024-09-15T22:27:29.390031Z"
    }
   },
   "source": [
    "plt.figure(figsize=(10, 6))\n",
    "plt.plot(x, y, 'ro', label='sample data')\n",
    "for deg in [1, 5, 9, 11, 13, 15]:\n",
    "    reg = np.polyfit(x, y, deg=deg)\n",
    "    y_ = np.polyval(reg, x)\n",
    "    MSE = ((y - y_) ** 2).mean()\n",
    "    print(f'deg={deg:2d} | MSE={MSE:.5f}')\n",
    "    plt.plot(x, np.polyval(reg, x), label=f'deg={deg}')\n",
    "plt.legend();"
   ],
   "outputs": [
    {
     "name": "stdout",
     "output_type": "stream",
     "text": [
      "deg= 1 | MSE=0.28153\n",
      "deg= 5 | MSE=0.27331\n",
      "deg= 9 | MSE=0.25442\n",
      "deg=11 | MSE=0.23458\n",
      "deg=13 | MSE=0.22989\n",
      "deg=15 | MSE=0.21672\n"
     ]
    },
    {
     "data": {
      "text/plain": [
       "<Figure size 1000x600 with 1 Axes>"
      ],
      "image/png": "[encoded data removed]"
     },
     "metadata": {},
     "output_type": "display_data"
    }
   ],
   "execution_count": 115
  },
  {
   "cell_type": "code",
   "metadata": {
    "ExecuteTime": {
     "end_time": "2024-09-15T22:27:33.619868Z",
     "start_time": "2024-09-15T22:27:33.481036Z"
    }
   },
   "source": [
    "model = Sequential()\n",
    "model.add(Dense(256, activation='relu', input_dim=1))\n",
    "for _ in range(3):\n",
    "    model.add(Dense(256, activation='relu'))\n",
    "model.add(Dense(1, activation='linear'))\n",
    "model.compile(loss='mse', optimizer='rmsprop')"
   ],
   "outputs": [],
   "execution_count": 116
  },
  {
   "cell_type": "code",
   "metadata": {
    "ExecuteTime": {
     "end_time": "2024-09-15T22:27:36.652965Z",
     "start_time": "2024-09-15T22:27:36.644544Z"
    }
   },
   "source": [
    "model.summary()"
   ],
   "outputs": [
    {
     "name": "stdout",
     "output_type": "stream",
     "text": [
      "Model: \"sequential_2\"\n",
      "_________________________________________________________________\n",
      " Layer (type)                Output Shape              Param #   \n",
      "=================================================================\n",
      " dense_4 (Dense)             (None, 256)               512       \n",
      "                                                                 \n",
      " dense_5 (Dense)             (None, 256)               65792     \n",
      "                                                                 \n",
      " dense_6 (Dense)             (None, 256)               65792     \n",
      "                                                                 \n",
      " dense_7 (Dense)             (None, 256)               65792     \n",
      "                                                                 \n",
      " dense_8 (Dense)             (None, 1)                 257       \n",
      "                                                                 \n",
      "=================================================================\n",
      "Total params: 198,145\n",
      "Trainable params: 198,145\n",
      "Non-trainable params: 0\n",
      "_________________________________________________________________\n"
     ]
    }
   ],
   "execution_count": 117
  },
  {
   "cell_type": "code",
   "metadata": {
    "ExecuteTime": {
     "end_time": "2024-09-15T22:38:48.950453Z",
     "start_time": "2024-09-15T22:38:34.907251Z"
    }
   },
   "source": [
    "%%time\n",
    "plt.figure(figsize=(10, 6))\n",
    "plt.plot(x, y, 'ro', label='sample data')\n",
    "for _ in range(1, 8):\n",
    "    model.fit(x, y, epochs=500, verbose=False)\n",
    "    y_ =  model.predict(x)\n",
    "    MSE = ((y - y_.flatten()) ** 2).mean()\n",
    "    print(f'round={_} | MSE={MSE:.5f}')\n",
    "    plt.plot(x, y_, '--', label=f'round={_}')\n",
    "plt.legend();"
   ],
   "outputs": [
    {
     "name": "stdout",
     "output_type": "stream",
     "text": [
      "2/2 [==============================] - 0s 1ms/step\n",
      "round=1 | MSE=0.00409\n",
      "2/2 [==============================] - 0s 1ms/step\n",
      "round=2 | MSE=0.00242\n",
      "2/2 [==============================] - 0s 1ms/step\n",
      "round=3 | MSE=0.00207\n",
      "2/2 [==============================] - 0s 1ms/step\n",
      "round=4 | MSE=0.00392\n",
      "2/2 [==============================] - 0s 1ms/step\n",
      "round=5 | MSE=0.00178\n",
      "2/2 [==============================] - 0s 1ms/step\n",
      "round=6 | MSE=0.00512\n",
      "2/2 [==============================] - 0s 1ms/step\n",
      "round=7 | MSE=0.03385\n",
      "CPU times: user 14.9 s, sys: 6.37 s, total: 21.2 s\n",
      "Wall time: 13.9 s\n"
     ]
    },
    {
     "data": {
      "text/plain": [
       "<Figure size 1000x600 with 1 Axes>"
      ],
      "image/png": "[encoded data removed]"
     },
     "metadata": {},
     "output_type": "display_data"
    }
   ],
   "execution_count": 119
  },
  {
   "metadata": {},
   "cell_type": "markdown",
   "source": "## Classification by Neutral Network"
  },
  {
   "metadata": {
    "ExecuteTime": {
     "end_time": "2024-09-16T00:02:59.896063Z",
     "start_time": "2024-09-16T00:02:59.894260Z"
    }
   },
   "cell_type": "code",
   "source": [
    "f = 5\n",
    "n = 10"
   ],
   "outputs": [],
   "execution_count": 120
  },
  {
   "metadata": {
    "ExecuteTime": {
     "end_time": "2024-09-16T00:03:15.645012Z",
     "start_time": "2024-09-16T00:03:15.642759Z"
    }
   },
   "cell_type": "code",
   "source": "np.random.seed(100)",
   "outputs": [],
   "execution_count": 121
  },
  {
   "metadata": {
    "ExecuteTime": {
     "end_time": "2024-09-16T00:04:05.237638Z",
     "start_time": "2024-09-16T00:04:05.234987Z"
    }
   },
   "cell_type": "code",
   "source": [
    "x = np.random.randint(0,2, (n, f))\n",
    "x"
   ],
   "outputs": [
    {
     "data": {
      "text/plain": [
       "array([[0, 0, 1, 1, 1],\n",
       "       [1, 0, 0, 0, 0],\n",
       "       [0, 1, 0, 0, 0],\n",
       "       [0, 1, 0, 0, 1],\n",
       "       [0, 1, 0, 0, 0],\n",
       "       [1, 1, 1, 0, 0],\n",
       "       [1, 0, 0, 1, 1],\n",
       "       [1, 1, 1, 0, 0],\n",
       "       [1, 1, 1, 1, 1],\n",
       "       [1, 1, 1, 0, 1]])"
      ]
     },
     "execution_count": 122,
     "metadata": {},
     "output_type": "execute_result"
    }
   ],
   "execution_count": 122
  },
  {
   "metadata": {
    "ExecuteTime": {
     "end_time": "2024-09-16T00:05:56.409644Z",
     "start_time": "2024-09-16T00:05:56.406794Z"
    }
   },
   "cell_type": "code",
   "source": [
    "y = np.random.randint(0,2, n)\n",
    "y"
   ],
   "outputs": [
    {
     "data": {
      "text/plain": [
       "array([1, 1, 0, 0, 1, 1, 0, 1, 0, 1])"
      ]
     },
     "execution_count": 123,
     "metadata": {},
     "output_type": "execute_result"
    }
   ],
   "execution_count": 123
  },
  {
   "metadata": {
    "ExecuteTime": {
     "end_time": "2024-09-16T00:09:10.969776Z",
     "start_time": "2024-09-16T00:09:10.956889Z"
    }
   },
   "cell_type": "code",
   "source": [
    "model = Sequential()\n",
    "model.add(Dense(256, activation='relu', input_dim=f))\n",
    "model.add(Dense(1, activation='sigmoid'))\n",
    "model.compile(loss='binary_crossentropy', optimizer='rmsprop',metrics=['accuracy'])"
   ],
   "outputs": [],
   "execution_count": 124
  },
  {
   "metadata": {
    "ExecuteTime": {
     "end_time": "2024-09-16T00:13:38.798503Z",
     "start_time": "2024-09-16T00:13:38.793416Z"
    }
   },
   "cell_type": "code",
   "source": "model.summary()",
   "outputs": [
    {
     "name": "stdout",
     "output_type": "stream",
     "text": [
      "Model: \"sequential_3\"\n",
      "_________________________________________________________________\n",
      " Layer (type)                Output Shape              Param #   \n",
      "=================================================================\n",
      " dense_9 (Dense)             (None, 256)               1536      \n",
      "                                                                 \n",
      " dense_10 (Dense)            (None, 1)                 257       \n",
      "                                                                 \n",
      "=================================================================\n",
      "Total params: 1,793\n",
      "Trainable params: 1,793\n",
      "Non-trainable params: 0\n",
      "_________________________________________________________________\n"
     ]
    }
   ],
   "execution_count": 127
  },
  {
   "metadata": {
    "ExecuteTime": {
     "end_time": "2024-09-16T00:09:41.400297Z",
     "start_time": "2024-09-16T00:09:41.174337Z"
    }
   },
   "cell_type": "code",
   "source": "h = model.fit(x, y, epochs=50, verbose=False)",
   "outputs": [],
   "execution_count": 125
  },
  {
   "metadata": {
    "ExecuteTime": {
     "end_time": "2024-09-16T00:10:39.135061Z",
     "start_time": "2024-09-16T00:10:39.098213Z"
    }
   },
   "cell_type": "code",
   "source": [
    "y_ = np.where(model.predict(x).flatten() > 0.5, 1, 0)\n",
    "y_"
   ],
   "outputs": [
    {
     "name": "stdout",
     "output_type": "stream",
     "text": [
      "1/1 [==============================] - 0s 18ms/step\n"
     ]
    },
    {
     "data": {
      "text/plain": [
       "array([1, 1, 0, 0, 0, 1, 0, 1, 0, 1])"
      ]
     },
     "execution_count": 126,
     "metadata": {},
     "output_type": "execute_result"
    }
   ],
   "execution_count": 126
  },
  {
   "cell_type": "markdown",
   "metadata": {},
   "source": [
    "## Importance of Big Data"
   ]
  },
  {
   "cell_type": "code",
   "metadata": {
    "ExecuteTime": {
     "end_time": "2024-09-16T00:15:08.404424Z",
     "start_time": "2024-09-16T00:15:08.402277Z"
    }
   },
   "source": [
    "f = 5\n",
    "n = 10"
   ],
   "outputs": [],
   "execution_count": 128
  },
  {
   "cell_type": "code",
   "metadata": {
    "ExecuteTime": {
     "end_time": "2024-09-16T00:15:10.167996Z",
     "start_time": "2024-09-16T00:15:10.165534Z"
    }
   },
   "source": [
    "np.random.seed(100)"
   ],
   "outputs": [],
   "execution_count": 129
  },
  {
   "cell_type": "code",
   "metadata": {
    "ExecuteTime": {
     "end_time": "2024-09-16T00:15:12.592465Z",
     "start_time": "2024-09-16T00:15:12.589068Z"
    }
   },
   "source": [
    "x = np.random.randint(0, 2, (n, f))\n",
    "x"
   ],
   "outputs": [
    {
     "data": {
      "text/plain": [
       "array([[0, 0, 1, 1, 1],\n",
       "       [1, 0, 0, 0, 0],\n",
       "       [0, 1, 0, 0, 0],\n",
       "       [0, 1, 0, 0, 1],\n",
       "       [0, 1, 0, 0, 0],\n",
       "       [1, 1, 1, 0, 0],\n",
       "       [1, 0, 0, 1, 1],\n",
       "       [1, 1, 1, 0, 0],\n",
       "       [1, 1, 1, 1, 1],\n",
       "       [1, 1, 1, 0, 1]])"
      ]
     },
     "execution_count": 130,
     "metadata": {},
     "output_type": "execute_result"
    }
   ],
   "execution_count": 130
  },
  {
   "cell_type": "code",
   "metadata": {
    "ExecuteTime": {
     "end_time": "2024-09-16T00:15:15.849927Z",
     "start_time": "2024-09-16T00:15:15.846433Z"
    }
   },
   "source": [
    "y = np.random.randint(0, 2, n)\n",
    "y"
   ],
   "outputs": [
    {
     "data": {
      "text/plain": [
       "array([1, 1, 0, 0, 1, 1, 0, 1, 0, 1])"
      ]
     },
     "execution_count": 131,
     "metadata": {},
     "output_type": "execute_result"
    }
   ],
   "execution_count": 131
  },
  {
   "cell_type": "code",
   "metadata": {
    "ExecuteTime": {
     "end_time": "2024-09-16T00:15:18.751480Z",
     "start_time": "2024-09-16T00:15:18.738011Z"
    }
   },
   "source": [
    "model = Sequential()\n",
    "model.add(Dense(256, activation='relu', input_dim=f))\n",
    "model.add(Dense(1, activation='sigmoid'))\n",
    "model.compile(loss='binary_crossentropy', optimizer='rmsprop',\n",
    "             metrics=['acc'])"
   ],
   "outputs": [],
   "execution_count": 132
  },
  {
   "cell_type": "code",
   "metadata": {
    "ExecuteTime": {
     "end_time": "2024-09-16T00:15:21.526522Z",
     "start_time": "2024-09-16T00:15:21.300097Z"
    }
   },
   "source": [
    "hist = model.fit(x, y, epochs=50, verbose=False)"
   ],
   "outputs": [],
   "execution_count": 133
  },
  {
   "metadata": {
    "ExecuteTime": {
     "end_time": "2024-09-16T00:18:03.101500Z",
     "start_time": "2024-09-16T00:18:03.098898Z"
    }
   },
   "cell_type": "code",
   "source": "hist.history",
   "outputs": [
    {
     "data": {
      "text/plain": [
       "{'loss': [0.6692792773246765,\n",
       "  0.6436986923217773,\n",
       "  0.627112627029419,\n",
       "  0.6140287518501282,\n",
       "  0.6030084490776062,\n",
       "  0.593185544013977,\n",
       "  0.584430992603302,\n",
       "  0.5762675404548645,\n",
       "  0.5688366889953613,\n",
       "  0.5618104934692383,\n",
       "  0.5551705360412598,\n",
       "  0.5487276315689087,\n",
       "  0.5425481796264648,\n",
       "  0.5365564227104187,\n",
       "  0.5306968688964844,\n",
       "  0.5249883532524109,\n",
       "  0.5194545984268188,\n",
       "  0.5140168070793152,\n",
       "  0.5085994005203247,\n",
       "  0.5033871531486511,\n",
       "  0.49820828437805176,\n",
       "  0.4931338429450989,\n",
       "  0.4880542755126953,\n",
       "  0.4831736087799072,\n",
       "  0.47828635573387146,\n",
       "  0.4735225737094879,\n",
       "  0.46878737211227417,\n",
       "  0.4640865921974182,\n",
       "  0.4594324231147766,\n",
       "  0.45474568009376526,\n",
       "  0.45015424489974976,\n",
       "  0.44562119245529175,\n",
       "  0.4410926401615143,\n",
       "  0.4366151690483093,\n",
       "  0.432208389043808,\n",
       "  0.42786484956741333,\n",
       "  0.42357030510902405,\n",
       "  0.4193796217441559,\n",
       "  0.41519442200660706,\n",
       "  0.41106900572776794,\n",
       "  0.4069906175136566,\n",
       "  0.4030117392539978,\n",
       "  0.399040549993515,\n",
       "  0.3950673043727875,\n",
       "  0.39118728041648865,\n",
       "  0.38732004165649414,\n",
       "  0.3835026025772095,\n",
       "  0.3797207176685333,\n",
       "  0.3759616017341614,\n",
       "  0.3723137080669403],\n",
       " 'acc': [0.699999988079071,\n",
       "  0.800000011920929,\n",
       "  0.800000011920929,\n",
       "  0.800000011920929,\n",
       "  0.800000011920929,\n",
       "  0.800000011920929,\n",
       "  0.699999988079071,\n",
       "  0.699999988079071,\n",
       "  0.699999988079071,\n",
       "  0.699999988079071,\n",
       "  0.699999988079071,\n",
       "  0.699999988079071,\n",
       "  0.699999988079071,\n",
       "  0.699999988079071,\n",
       "  0.800000011920929,\n",
       "  0.800000011920929,\n",
       "  0.800000011920929,\n",
       "  0.800000011920929,\n",
       "  0.800000011920929,\n",
       "  0.800000011920929,\n",
       "  0.800000011920929,\n",
       "  0.800000011920929,\n",
       "  0.800000011920929,\n",
       "  0.800000011920929,\n",
       "  0.800000011920929,\n",
       "  0.8999999761581421,\n",
       "  0.8999999761581421,\n",
       "  0.8999999761581421,\n",
       "  0.8999999761581421,\n",
       "  0.8999999761581421,\n",
       "  0.8999999761581421,\n",
       "  0.8999999761581421,\n",
       "  0.8999999761581421,\n",
       "  0.8999999761581421,\n",
       "  0.8999999761581421,\n",
       "  0.8999999761581421,\n",
       "  0.8999999761581421,\n",
       "  0.8999999761581421,\n",
       "  0.8999999761581421,\n",
       "  0.8999999761581421,\n",
       "  0.8999999761581421,\n",
       "  0.8999999761581421,\n",
       "  0.8999999761581421,\n",
       "  0.8999999761581421,\n",
       "  0.8999999761581421,\n",
       "  0.8999999761581421,\n",
       "  0.8999999761581421,\n",
       "  0.8999999761581421,\n",
       "  0.8999999761581421,\n",
       "  0.8999999761581421]}"
      ]
     },
     "execution_count": 140,
     "metadata": {},
     "output_type": "execute_result"
    }
   ],
   "execution_count": 140
  },
  {
   "cell_type": "code",
   "metadata": {
    "ExecuteTime": {
     "end_time": "2024-09-16T00:15:23.327629Z",
     "start_time": "2024-09-16T00:15:23.293064Z"
    }
   },
   "source": [
    "y_ = np.where(model.predict(x).flatten() > 0.5, 1, 0)\n",
    "y_"
   ],
   "outputs": [
    {
     "name": "stdout",
     "output_type": "stream",
     "text": [
      "1/1 [==============================] - 0s 19ms/step\n"
     ]
    },
    {
     "data": {
      "text/plain": [
       "array([1, 1, 0, 0, 0, 1, 0, 1, 0, 1])"
      ]
     },
     "execution_count": 134,
     "metadata": {},
     "output_type": "execute_result"
    }
   ],
   "execution_count": 134
  },
  {
   "cell_type": "code",
   "metadata": {
    "ExecuteTime": {
     "end_time": "2024-09-16T00:15:29.298317Z",
     "start_time": "2024-09-16T00:15:29.295499Z"
    }
   },
   "source": [
    "y == y_"
   ],
   "outputs": [
    {
     "data": {
      "text/plain": [
       "array([ True,  True,  True,  True, False,  True,  True,  True,  True,\n",
       "        True])"
      ]
     },
     "execution_count": 135,
     "metadata": {},
     "output_type": "execute_result"
    }
   ],
   "execution_count": 135
  },
  {
   "cell_type": "code",
   "metadata": {
    "ExecuteTime": {
     "end_time": "2024-09-16T00:15:37.781929Z",
     "start_time": "2024-09-16T00:15:37.777396Z"
    }
   },
   "source": [
    "res = pd.DataFrame(hist.history)"
   ],
   "outputs": [],
   "execution_count": 136
  },
  {
   "cell_type": "code",
   "metadata": {
    "ExecuteTime": {
     "end_time": "2024-09-16T00:15:41.914170Z",
     "start_time": "2024-09-16T00:15:41.832301Z"
    }
   },
   "source": [
    "res.plot(figsize=(10, 6));"
   ],
   "outputs": [
    {
     "data": {
      "text/plain": [
       "<Figure size 1000x600 with 1 Axes>"
      ],
      "image/png": "[encoded data removed]"
     },
     "metadata": {},
     "output_type": "display_data"
    }
   ],
   "execution_count": 137
  },
  {
   "cell_type": "code",
   "metadata": {
    "ExecuteTime": {
     "end_time": "2024-09-16T00:19:08.750550Z",
     "start_time": "2024-09-16T00:19:08.748060Z"
    }
   },
   "source": [
    "f = 10\n",
    "n = 250"
   ],
   "outputs": [],
   "execution_count": 141
  },
  {
   "cell_type": "code",
   "metadata": {
    "ExecuteTime": {
     "end_time": "2024-09-16T00:19:10.090780Z",
     "start_time": "2024-09-16T00:19:10.088589Z"
    }
   },
   "source": [
    "np.random.seed(100)"
   ],
   "outputs": [],
   "execution_count": 142
  },
  {
   "cell_type": "code",
   "metadata": {
    "ExecuteTime": {
     "end_time": "2024-09-16T00:19:12.070550Z",
     "start_time": "2024-09-16T00:19:12.067181Z"
    }
   },
   "source": [
    "x = np.random.randint(0, 2, (n, f))\n",
    "x[:4]"
   ],
   "outputs": [
    {
     "data": {
      "text/plain": [
       "array([[0, 0, 1, 1, 1, 1, 0, 0, 0, 0],\n",
       "       [0, 1, 0, 0, 0, 0, 1, 0, 0, 1],\n",
       "       [0, 1, 0, 0, 0, 1, 1, 1, 0, 0],\n",
       "       [1, 0, 0, 1, 1, 1, 1, 1, 0, 0]])"
      ]
     },
     "execution_count": 143,
     "metadata": {},
     "output_type": "execute_result"
    }
   ],
   "execution_count": 143
  },
  {
   "cell_type": "code",
   "metadata": {
    "ExecuteTime": {
     "end_time": "2024-09-16T00:21:47.431830Z",
     "start_time": "2024-09-16T00:21:47.428529Z"
    }
   },
   "source": [
    "y = np.random.randint(0, 2, n)\n",
    "y[:4]"
   ],
   "outputs": [
    {
     "data": {
      "text/plain": [
       "array([0, 1, 0, 0])"
      ]
     },
     "execution_count": 144,
     "metadata": {},
     "output_type": "execute_result"
    }
   ],
   "execution_count": 144
  },
  {
   "cell_type": "code",
   "metadata": {
    "ExecuteTime": {
     "end_time": "2024-09-16T00:21:50.079893Z",
     "start_time": "2024-09-16T00:21:50.077275Z"
    }
   },
   "source": [
    "2 ** f"
   ],
   "outputs": [
    {
     "data": {
      "text/plain": [
       "1024"
      ]
     },
     "execution_count": 145,
     "metadata": {},
     "output_type": "execute_result"
    }
   ],
   "execution_count": 145
  },
  {
   "cell_type": "code",
   "metadata": {
    "ExecuteTime": {
     "end_time": "2024-09-16T00:21:53.244898Z",
     "start_time": "2024-09-16T00:21:53.241757Z"
    }
   },
   "source": [
    "fcols = [f'f{_}' for _ in range(f)]\n",
    "fcols"
   ],
   "outputs": [
    {
     "data": {
      "text/plain": [
       "['f0', 'f1', 'f2', 'f3', 'f4', 'f5', 'f6', 'f7', 'f8', 'f9']"
      ]
     },
     "execution_count": 146,
     "metadata": {},
     "output_type": "execute_result"
    }
   ],
   "execution_count": 146
  },
  {
   "cell_type": "code",
   "metadata": {
    "ExecuteTime": {
     "end_time": "2024-09-16T00:23:10.706112Z",
     "start_time": "2024-09-16T00:23:10.703377Z"
    }
   },
   "source": [
    "data = pd.DataFrame(x, columns=fcols)\n",
    "data['l'] = y"
   ],
   "outputs": [],
   "execution_count": 149
  },
  {
   "cell_type": "code",
   "metadata": {
    "ExecuteTime": {
     "end_time": "2024-09-16T00:22:06.155971Z",
     "start_time": "2024-09-16T00:22:06.148156Z"
    }
   },
   "source": [
    "data.info()"
   ],
   "outputs": [
    {
     "name": "stdout",
     "output_type": "stream",
     "text": [
      "<class 'pandas.core.frame.DataFrame'>\n",
      "RangeIndex: 250 entries, 0 to 249\n",
      "Data columns (total 11 columns):\n",
      " #   Column  Non-Null Count  Dtype\n",
      "---  ------  --------------  -----\n",
      " 0   f0      250 non-null    int64\n",
      " 1   f1      250 non-null    int64\n",
      " 2   f2      250 non-null    int64\n",
      " 3   f3      250 non-null    int64\n",
      " 4   f4      250 non-null    int64\n",
      " 5   f5      250 non-null    int64\n",
      " 6   f6      250 non-null    int64\n",
      " 7   f7      250 non-null    int64\n",
      " 8   f8      250 non-null    int64\n",
      " 9   f9      250 non-null    int64\n",
      " 10  l       250 non-null    int64\n",
      "dtypes: int64(11)\n",
      "memory usage: 21.6 KB\n"
     ]
    }
   ],
   "execution_count": 148
  },
  {
   "metadata": {
    "ExecuteTime": {
     "end_time": "2024-09-16T00:23:31.209390Z",
     "start_time": "2024-09-16T00:23:31.203308Z"
    }
   },
   "cell_type": "code",
   "source": "data",
   "outputs": [
    {
     "data": {
      "text/plain": [
       "     f0  f1  f2  f3  f4  f5  f6  f7  f8  f9  l\n",
       "0     0   0   1   1   1   1   0   0   0   0  0\n",
       "1     0   1   0   0   0   0   1   0   0   1  1\n",
       "2     0   1   0   0   0   1   1   1   0   0  0\n",
       "3     1   0   0   1   1   1   1   1   0   0  0\n",
       "4     1   1   1   1   1   1   1   1   0   1  1\n",
       "..   ..  ..  ..  ..  ..  ..  ..  ..  ..  .. ..\n",
       "245   0   1   0   0   0   0   0   0   0   0  0\n",
       "246   0   0   0   0   0   1   0   0   0   1  1\n",
       "247   0   0   0   0   1   1   1   0   0   1  1\n",
       "248   0   1   1   1   1   0   0   0   1   0  0\n",
       "249   0   1   1   0   0   0   1   1   1   1  0\n",
       "\n",
       "[250 rows x 11 columns]"
      ],
      "text/html": [
       "<div>\n",
       "<style scoped>\n",
       "    .dataframe tbody tr th:only-of-type {\n",
       "        vertical-align: middle;\n",
       "    }\n",
       "\n",
       "    .dataframe tbody tr th {\n",
       "        vertical-align: top;\n",
       "    }\n",
       "\n",
       "    .dataframe thead th {\n",
       "        text-align: right;\n",
       "    }\n",
       "</style>\n",
       "<table border=\"1\" class=\"dataframe\">\n",
       "  <thead>\n",
       "    <tr style=\"text-align: right;\">\n",
       "      <th></th>\n",
       "      <th>f0</th>\n",
       "      <th>f1</th>\n",
       "      <th>f2</th>\n",
       "      <th>f3</th>\n",
       "      <th>f4</th>\n",
       "      <th>f5</th>\n",
       "      <th>f6</th>\n",
       "      <th>f7</th>\n",
       "      <th>f8</th>\n",
       "      <th>f9</th>\n",
       "      <th>l</th>\n",
       "    </tr>\n",
       "  </thead>\n",
       "  <tbody>\n",
       "    <tr>\n",
       "      <th>0</th>\n",
       "      <td>0</td>\n",
       "      <td>0</td>\n",
       "      <td>1</td>\n",
       "      <td>1</td>\n",
       "      <td>1</td>\n",
       "      <td>1</td>\n",
       "      <td>0</td>\n",
       "      <td>0</td>\n",
       "      <td>0</td>\n",
       "      <td>0</td>\n",
       "      <td>0</td>\n",
       "    </tr>\n",
       "    <tr>\n",
       "      <th>1</th>\n",
       "      <td>0</td>\n",
       "      <td>1</td>\n",
       "      <td>0</td>\n",
       "      <td>0</td>\n",
       "      <td>0</td>\n",
       "      <td>0</td>\n",
       "      <td>1</td>\n",
       "      <td>0</td>\n",
       "      <td>0</td>\n",
       "      <td>1</td>\n",
       "      <td>1</td>\n",
       "    </tr>\n",
       "    <tr>\n",
       "      <th>2</th>\n",
       "      <td>0</td>\n",
       "      <td>1</td>\n",
       "      <td>0</td>\n",
       "      <td>0</td>\n",
       "      <td>0</td>\n",
       "      <td>1</td>\n",
       "      <td>1</td>\n",
       "      <td>1</td>\n",
       "      <td>0</td>\n",
       "      <td>0</td>\n",
       "      <td>0</td>\n",
       "    </tr>\n",
       "    <tr>\n",
       "      <th>3</th>\n",
       "      <td>1</td>\n",
       "      <td>0</td>\n",
       "      <td>0</td>\n",
       "      <td>1</td>\n",
       "      <td>1</td>\n",
       "      <td>1</td>\n",
       "      <td>1</td>\n",
       "      <td>1</td>\n",
       "      <td>0</td>\n",
       "      <td>0</td>\n",
       "      <td>0</td>\n",
       "    </tr>\n",
       "    <tr>\n",
       "      <th>4</th>\n",
       "      <td>1</td>\n",
       "      <td>1</td>\n",
       "      <td>1</td>\n",
       "      <td>1</td>\n",
       "      <td>1</td>\n",
       "      <td>1</td>\n",
       "      <td>1</td>\n",
       "      <td>1</td>\n",
       "      <td>0</td>\n",
       "      <td>1</td>\n",
       "      <td>1</td>\n",
       "    </tr>\n",
       "    <tr>\n",
       "      <th>...</th>\n",
       "      <td>...</td>\n",
       "      <td>...</td>\n",
       "      <td>...</td>\n",
       "      <td>...</td>\n",
       "      <td>...</td>\n",
       "      <td>...</td>\n",
       "      <td>...</td>\n",
       "      <td>...</td>\n",
       "      <td>...</td>\n",
       "      <td>...</td>\n",
       "      <td>...</td>\n",
       "    </tr>\n",
       "    <tr>\n",
       "      <th>245</th>\n",
       "      <td>0</td>\n",
       "      <td>1</td>\n",
       "      <td>0</td>\n",
       "      <td>0</td>\n",
       "      <td>0</td>\n",
       "      <td>0</td>\n",
       "      <td>0</td>\n",
       "      <td>0</td>\n",
       "      <td>0</td>\n",
       "      <td>0</td>\n",
       "      <td>0</td>\n",
       "    </tr>\n",
       "    <tr>\n",
       "      <th>246</th>\n",
       "      <td>0</td>\n",
       "      <td>0</td>\n",
       "      <td>0</td>\n",
       "      <td>0</td>\n",
       "      <td>0</td>\n",
       "      <td>1</td>\n",
       "      <td>0</td>\n",
       "      <td>0</td>\n",
       "      <td>0</td>\n",
       "      <td>1</td>\n",
       "      <td>1</td>\n",
       "    </tr>\n",
       "    <tr>\n",
       "      <th>247</th>\n",
       "      <td>0</td>\n",
       "      <td>0</td>\n",
       "      <td>0</td>\n",
       "      <td>0</td>\n",
       "      <td>1</td>\n",
       "      <td>1</td>\n",
       "      <td>1</td>\n",
       "      <td>0</td>\n",
       "      <td>0</td>\n",
       "      <td>1</td>\n",
       "      <td>1</td>\n",
       "    </tr>\n",
       "    <tr>\n",
       "      <th>248</th>\n",
       "      <td>0</td>\n",
       "      <td>1</td>\n",
       "      <td>1</td>\n",
       "      <td>1</td>\n",
       "      <td>1</td>\n",
       "      <td>0</td>\n",
       "      <td>0</td>\n",
       "      <td>0</td>\n",
       "      <td>1</td>\n",
       "      <td>0</td>\n",
       "      <td>0</td>\n",
       "    </tr>\n",
       "    <tr>\n",
       "      <th>249</th>\n",
       "      <td>0</td>\n",
       "      <td>1</td>\n",
       "      <td>1</td>\n",
       "      <td>0</td>\n",
       "      <td>0</td>\n",
       "      <td>0</td>\n",
       "      <td>1</td>\n",
       "      <td>1</td>\n",
       "      <td>1</td>\n",
       "      <td>1</td>\n",
       "      <td>0</td>\n",
       "    </tr>\n",
       "  </tbody>\n",
       "</table>\n",
       "<p>250 rows × 11 columns</p>\n",
       "</div>"
      ]
     },
     "execution_count": 150,
     "metadata": {},
     "output_type": "execute_result"
    }
   ],
   "execution_count": 150
  },
  {
   "cell_type": "code",
   "metadata": {
    "ExecuteTime": {
     "end_time": "2024-09-16T00:26:58.050592Z",
     "start_time": "2024-09-16T00:26:58.048336Z"
    }
   },
   "source": [
    "grouped = data.groupby(list(data.columns))"
   ],
   "outputs": [],
   "execution_count": 151
  },
  {
   "metadata": {
    "ExecuteTime": {
     "end_time": "2024-09-16T00:29:09.288637Z",
     "start_time": "2024-09-16T00:29:09.279624Z"
    }
   },
   "cell_type": "code",
   "source": "list(grouped)[23]",
   "outputs": [
    {
     "data": {
      "text/plain": [
       "((0, 0, 0, 1, 1, 0, 1, 1, 0, 1, 0),\n",
       "      f0  f1  f2  f3  f4  f5  f6  f7  f8  f9  l\n",
       " 37    0   0   0   1   1   0   1   1   0   1  0\n",
       " 237   0   0   0   1   1   0   1   1   0   1  0)"
      ]
     },
     "execution_count": 162,
     "metadata": {},
     "output_type": "execute_result"
    }
   ],
   "execution_count": 162
  },
  {
   "metadata": {
    "ExecuteTime": {
     "end_time": "2024-09-16T00:29:42.909197Z",
     "start_time": "2024-09-16T00:29:42.903918Z"
    }
   },
   "cell_type": "code",
   "source": "data.loc[[37]]",
   "outputs": [
    {
     "data": {
      "text/plain": [
       "    f0  f1  f2  f3  f4  f5  f6  f7  f8  f9  l\n",
       "37   0   0   0   1   1   0   1   1   0   1  0"
      ],
      "text/html": [
       "<div>\n",
       "<style scoped>\n",
       "    .dataframe tbody tr th:only-of-type {\n",
       "        vertical-align: middle;\n",
       "    }\n",
       "\n",
       "    .dataframe tbody tr th {\n",
       "        vertical-align: top;\n",
       "    }\n",
       "\n",
       "    .dataframe thead th {\n",
       "        text-align: right;\n",
       "    }\n",
       "</style>\n",
       "<table border=\"1\" class=\"dataframe\">\n",
       "  <thead>\n",
       "    <tr style=\"text-align: right;\">\n",
       "      <th></th>\n",
       "      <th>f0</th>\n",
       "      <th>f1</th>\n",
       "      <th>f2</th>\n",
       "      <th>f3</th>\n",
       "      <th>f4</th>\n",
       "      <th>f5</th>\n",
       "      <th>f6</th>\n",
       "      <th>f7</th>\n",
       "      <th>f8</th>\n",
       "      <th>f9</th>\n",
       "      <th>l</th>\n",
       "    </tr>\n",
       "  </thead>\n",
       "  <tbody>\n",
       "    <tr>\n",
       "      <th>37</th>\n",
       "      <td>0</td>\n",
       "      <td>0</td>\n",
       "      <td>0</td>\n",
       "      <td>1</td>\n",
       "      <td>1</td>\n",
       "      <td>0</td>\n",
       "      <td>1</td>\n",
       "      <td>1</td>\n",
       "      <td>0</td>\n",
       "      <td>1</td>\n",
       "      <td>0</td>\n",
       "    </tr>\n",
       "  </tbody>\n",
       "</table>\n",
       "</div>"
      ]
     },
     "execution_count": 164,
     "metadata": {},
     "output_type": "execute_result"
    }
   ],
   "execution_count": 164
  },
  {
   "metadata": {
    "ExecuteTime": {
     "end_time": "2024-09-16T00:32:15.070559Z",
     "start_time": "2024-09-16T00:32:15.065929Z"
    }
   },
   "cell_type": "code",
   "source": "grouped['l'].size()",
   "outputs": [
    {
     "data": {
      "text/plain": [
       "f0  f1  f2  f3  f4  f5  f6  f7  f8  f9  l\n",
       "0   0   0   0   0   0   0   1   1   1   1    1\n",
       "                        1   0   1   0   0    1\n",
       "                                        1    1\n",
       "                                    1   1    1\n",
       "                    1   0   0   0   0   0    1\n",
       "                                            ..\n",
       "1   1   1   1   1   0   0   0   0   0   1    1\n",
       "                            1   0   0   0    1\n",
       "                        1   1   0   0   1    1\n",
       "                    1   1   0   0   0   0    1\n",
       "                            1   0   1   1    2\n",
       "Name: l, Length: 239, dtype: int64"
      ]
     },
     "execution_count": 166,
     "metadata": {},
     "output_type": "execute_result"
    }
   ],
   "execution_count": 166
  },
  {
   "cell_type": "code",
   "metadata": {
    "ExecuteTime": {
     "end_time": "2024-09-16T00:29:50.591704Z",
     "start_time": "2024-09-16T00:29:50.588001Z"
    }
   },
   "source": [
    "freq = grouped['l'].size().unstack(fill_value=0)"
   ],
   "outputs": [],
   "execution_count": 165
  },
  {
   "metadata": {
    "ExecuteTime": {
     "end_time": "2024-09-16T00:37:07.582457Z",
     "start_time": "2024-09-16T00:37:07.575561Z"
    }
   },
   "cell_type": "code",
   "source": "freq",
   "outputs": [
    {
     "data": {
      "text/plain": [
       "l                              0  1\n",
       "f0 f1 f2 f3 f4 f5 f6 f7 f8 f9      \n",
       "0  0  0  0  0  0  0  1  1  1   0  1\n",
       "                  1  0  1  0   1  1\n",
       "                           1   0  1\n",
       "               1  0  0  0  0   1  0\n",
       "                           1   0  1\n",
       "...                           .. ..\n",
       "1  1  1  1  1  0  0  0  0  0   0  1\n",
       "                     1  0  0   1  0\n",
       "                  1  1  0  0   0  1\n",
       "               1  1  0  0  0   1  0\n",
       "                     1  0  1   0  2\n",
       "\n",
       "[227 rows x 2 columns]"
      ],
      "text/html": [
       "<div>\n",
       "<style scoped>\n",
       "    .dataframe tbody tr th:only-of-type {\n",
       "        vertical-align: middle;\n",
       "    }\n",
       "\n",
       "    .dataframe tbody tr th {\n",
       "        vertical-align: top;\n",
       "    }\n",
       "\n",
       "    .dataframe thead th {\n",
       "        text-align: right;\n",
       "    }\n",
       "</style>\n",
       "<table border=\"1\" class=\"dataframe\">\n",
       "  <thead>\n",
       "    <tr style=\"text-align: right;\">\n",
       "      <th></th>\n",
       "      <th></th>\n",
       "      <th></th>\n",
       "      <th></th>\n",
       "      <th></th>\n",
       "      <th></th>\n",
       "      <th></th>\n",
       "      <th></th>\n",
       "      <th></th>\n",
       "      <th>l</th>\n",
       "      <th>0</th>\n",
       "      <th>1</th>\n",
       "    </tr>\n",
       "    <tr>\n",
       "      <th>f0</th>\n",
       "      <th>f1</th>\n",
       "      <th>f2</th>\n",
       "      <th>f3</th>\n",
       "      <th>f4</th>\n",
       "      <th>f5</th>\n",
       "      <th>f6</th>\n",
       "      <th>f7</th>\n",
       "      <th>f8</th>\n",
       "      <th>f9</th>\n",
       "      <th></th>\n",
       "      <th></th>\n",
       "    </tr>\n",
       "  </thead>\n",
       "  <tbody>\n",
       "    <tr>\n",
       "      <th rowspan=\"5\" valign=\"top\">0</th>\n",
       "      <th rowspan=\"5\" valign=\"top\">0</th>\n",
       "      <th rowspan=\"5\" valign=\"top\">0</th>\n",
       "      <th rowspan=\"5\" valign=\"top\">0</th>\n",
       "      <th rowspan=\"5\" valign=\"top\">0</th>\n",
       "      <th rowspan=\"3\" valign=\"top\">0</th>\n",
       "      <th>0</th>\n",
       "      <th>1</th>\n",
       "      <th>1</th>\n",
       "      <th>1</th>\n",
       "      <td>0</td>\n",
       "      <td>1</td>\n",
       "    </tr>\n",
       "    <tr>\n",
       "      <th rowspan=\"2\" valign=\"top\">1</th>\n",
       "      <th rowspan=\"2\" valign=\"top\">0</th>\n",
       "      <th rowspan=\"2\" valign=\"top\">1</th>\n",
       "      <th>0</th>\n",
       "      <td>1</td>\n",
       "      <td>1</td>\n",
       "    </tr>\n",
       "    <tr>\n",
       "      <th>1</th>\n",
       "      <td>0</td>\n",
       "      <td>1</td>\n",
       "    </tr>\n",
       "    <tr>\n",
       "      <th rowspan=\"2\" valign=\"top\">1</th>\n",
       "      <th rowspan=\"2\" valign=\"top\">0</th>\n",
       "      <th rowspan=\"2\" valign=\"top\">0</th>\n",
       "      <th rowspan=\"2\" valign=\"top\">0</th>\n",
       "      <th>0</th>\n",
       "      <td>1</td>\n",
       "      <td>0</td>\n",
       "    </tr>\n",
       "    <tr>\n",
       "      <th>1</th>\n",
       "      <td>0</td>\n",
       "      <td>1</td>\n",
       "    </tr>\n",
       "    <tr>\n",
       "      <th>...</th>\n",
       "      <th>...</th>\n",
       "      <th>...</th>\n",
       "      <th>...</th>\n",
       "      <th>...</th>\n",
       "      <th>...</th>\n",
       "      <th>...</th>\n",
       "      <th>...</th>\n",
       "      <th>...</th>\n",
       "      <th>...</th>\n",
       "      <td>...</td>\n",
       "      <td>...</td>\n",
       "    </tr>\n",
       "    <tr>\n",
       "      <th rowspan=\"5\" valign=\"top\">1</th>\n",
       "      <th rowspan=\"5\" valign=\"top\">1</th>\n",
       "      <th rowspan=\"5\" valign=\"top\">1</th>\n",
       "      <th rowspan=\"5\" valign=\"top\">1</th>\n",
       "      <th rowspan=\"5\" valign=\"top\">1</th>\n",
       "      <th rowspan=\"3\" valign=\"top\">0</th>\n",
       "      <th rowspan=\"2\" valign=\"top\">0</th>\n",
       "      <th>0</th>\n",
       "      <th>0</th>\n",
       "      <th>0</th>\n",
       "      <td>0</td>\n",
       "      <td>1</td>\n",
       "    </tr>\n",
       "    <tr>\n",
       "      <th>1</th>\n",
       "      <th>0</th>\n",
       "      <th>0</th>\n",
       "      <td>1</td>\n",
       "      <td>0</td>\n",
       "    </tr>\n",
       "    <tr>\n",
       "      <th>1</th>\n",
       "      <th>1</th>\n",
       "      <th>0</th>\n",
       "      <th>0</th>\n",
       "      <td>0</td>\n",
       "      <td>1</td>\n",
       "    </tr>\n",
       "    <tr>\n",
       "      <th rowspan=\"2\" valign=\"top\">1</th>\n",
       "      <th rowspan=\"2\" valign=\"top\">1</th>\n",
       "      <th>0</th>\n",
       "      <th>0</th>\n",
       "      <th>0</th>\n",
       "      <td>1</td>\n",
       "      <td>0</td>\n",
       "    </tr>\n",
       "    <tr>\n",
       "      <th>1</th>\n",
       "      <th>0</th>\n",
       "      <th>1</th>\n",
       "      <td>0</td>\n",
       "      <td>2</td>\n",
       "    </tr>\n",
       "  </tbody>\n",
       "</table>\n",
       "<p>227 rows × 2 columns</p>\n",
       "</div>"
      ]
     },
     "execution_count": 167,
     "metadata": {},
     "output_type": "execute_result"
    }
   ],
   "execution_count": 167
  },
  {
   "cell_type": "code",
   "metadata": {
    "ExecuteTime": {
     "end_time": "2024-09-16T00:38:35.203758Z",
     "start_time": "2024-09-16T00:38:35.200804Z"
    }
   },
   "source": [
    "freq['sum'] = freq[0] + freq[1]"
   ],
   "outputs": [],
   "execution_count": 168
  },
  {
   "cell_type": "code",
   "metadata": {
    "ExecuteTime": {
     "end_time": "2024-09-16T00:38:37.584257Z",
     "start_time": "2024-09-16T00:38:37.578431Z"
    }
   },
   "source": [
    "freq.head(10)"
   ],
   "outputs": [
    {
     "data": {
      "text/plain": [
       "l                              0  1  sum\n",
       "f0 f1 f2 f3 f4 f5 f6 f7 f8 f9           \n",
       "0  0  0  0  0  0  0  1  1  1   0  1    1\n",
       "                  1  0  1  0   1  1    2\n",
       "                           1   0  1    1\n",
       "               1  0  0  0  0   1  0    1\n",
       "                           1   0  1    1\n",
       "                     1  1  1   0  1    1\n",
       "                  1  0  0  0   0  1    1\n",
       "                        1  0   0  1    1\n",
       "            1  0  0  0  1  1   1  0    1\n",
       "                  1  1  0  0   1  0    1"
      ],
      "text/html": [
       "<div>\n",
       "<style scoped>\n",
       "    .dataframe tbody tr th:only-of-type {\n",
       "        vertical-align: middle;\n",
       "    }\n",
       "\n",
       "    .dataframe tbody tr th {\n",
       "        vertical-align: top;\n",
       "    }\n",
       "\n",
       "    .dataframe thead th {\n",
       "        text-align: right;\n",
       "    }\n",
       "</style>\n",
       "<table border=\"1\" class=\"dataframe\">\n",
       "  <thead>\n",
       "    <tr style=\"text-align: right;\">\n",
       "      <th></th>\n",
       "      <th></th>\n",
       "      <th></th>\n",
       "      <th></th>\n",
       "      <th></th>\n",
       "      <th></th>\n",
       "      <th></th>\n",
       "      <th></th>\n",
       "      <th></th>\n",
       "      <th>l</th>\n",
       "      <th>0</th>\n",
       "      <th>1</th>\n",
       "      <th>sum</th>\n",
       "    </tr>\n",
       "    <tr>\n",
       "      <th>f0</th>\n",
       "      <th>f1</th>\n",
       "      <th>f2</th>\n",
       "      <th>f3</th>\n",
       "      <th>f4</th>\n",
       "      <th>f5</th>\n",
       "      <th>f6</th>\n",
       "      <th>f7</th>\n",
       "      <th>f8</th>\n",
       "      <th>f9</th>\n",
       "      <th></th>\n",
       "      <th></th>\n",
       "      <th></th>\n",
       "    </tr>\n",
       "  </thead>\n",
       "  <tbody>\n",
       "    <tr>\n",
       "      <th rowspan=\"10\" valign=\"top\">0</th>\n",
       "      <th rowspan=\"10\" valign=\"top\">0</th>\n",
       "      <th rowspan=\"10\" valign=\"top\">0</th>\n",
       "      <th rowspan=\"10\" valign=\"top\">0</th>\n",
       "      <th rowspan=\"8\" valign=\"top\">0</th>\n",
       "      <th rowspan=\"3\" valign=\"top\">0</th>\n",
       "      <th>0</th>\n",
       "      <th>1</th>\n",
       "      <th>1</th>\n",
       "      <th>1</th>\n",
       "      <td>0</td>\n",
       "      <td>1</td>\n",
       "      <td>1</td>\n",
       "    </tr>\n",
       "    <tr>\n",
       "      <th rowspan=\"2\" valign=\"top\">1</th>\n",
       "      <th rowspan=\"2\" valign=\"top\">0</th>\n",
       "      <th rowspan=\"2\" valign=\"top\">1</th>\n",
       "      <th>0</th>\n",
       "      <td>1</td>\n",
       "      <td>1</td>\n",
       "      <td>2</td>\n",
       "    </tr>\n",
       "    <tr>\n",
       "      <th>1</th>\n",
       "      <td>0</td>\n",
       "      <td>1</td>\n",
       "      <td>1</td>\n",
       "    </tr>\n",
       "    <tr>\n",
       "      <th rowspan=\"5\" valign=\"top\">1</th>\n",
       "      <th rowspan=\"3\" valign=\"top\">0</th>\n",
       "      <th rowspan=\"2\" valign=\"top\">0</th>\n",
       "      <th rowspan=\"2\" valign=\"top\">0</th>\n",
       "      <th>0</th>\n",
       "      <td>1</td>\n",
       "      <td>0</td>\n",
       "      <td>1</td>\n",
       "    </tr>\n",
       "    <tr>\n",
       "      <th>1</th>\n",
       "      <td>0</td>\n",
       "      <td>1</td>\n",
       "      <td>1</td>\n",
       "    </tr>\n",
       "    <tr>\n",
       "      <th>1</th>\n",
       "      <th>1</th>\n",
       "      <th>1</th>\n",
       "      <td>0</td>\n",
       "      <td>1</td>\n",
       "      <td>1</td>\n",
       "    </tr>\n",
       "    <tr>\n",
       "      <th rowspan=\"2\" valign=\"top\">1</th>\n",
       "      <th rowspan=\"2\" valign=\"top\">0</th>\n",
       "      <th>0</th>\n",
       "      <th>0</th>\n",
       "      <td>0</td>\n",
       "      <td>1</td>\n",
       "      <td>1</td>\n",
       "    </tr>\n",
       "    <tr>\n",
       "      <th>1</th>\n",
       "      <th>0</th>\n",
       "      <td>0</td>\n",
       "      <td>1</td>\n",
       "      <td>1</td>\n",
       "    </tr>\n",
       "    <tr>\n",
       "      <th rowspan=\"2\" valign=\"top\">1</th>\n",
       "      <th rowspan=\"2\" valign=\"top\">0</th>\n",
       "      <th>0</th>\n",
       "      <th>0</th>\n",
       "      <th>1</th>\n",
       "      <th>1</th>\n",
       "      <td>1</td>\n",
       "      <td>0</td>\n",
       "      <td>1</td>\n",
       "    </tr>\n",
       "    <tr>\n",
       "      <th>1</th>\n",
       "      <th>1</th>\n",
       "      <th>0</th>\n",
       "      <th>0</th>\n",
       "      <td>1</td>\n",
       "      <td>0</td>\n",
       "      <td>1</td>\n",
       "    </tr>\n",
       "  </tbody>\n",
       "</table>\n",
       "</div>"
      ]
     },
     "execution_count": 169,
     "metadata": {},
     "output_type": "execute_result"
    }
   ],
   "execution_count": 169
  },
  {
   "cell_type": "code",
   "metadata": {
    "ExecuteTime": {
     "end_time": "2024-09-16T00:39:19.272954Z",
     "start_time": "2024-09-16T00:39:19.268005Z"
    }
   },
   "source": [
    "freq['sum'].describe().astype(int)"
   ],
   "outputs": [
    {
     "data": {
      "text/plain": [
       "count    227\n",
       "mean       1\n",
       "std        0\n",
       "min        1\n",
       "25%        1\n",
       "50%        1\n",
       "75%        1\n",
       "max        2\n",
       "Name: sum, dtype: int64"
      ]
     },
     "execution_count": 170,
     "metadata": {},
     "output_type": "execute_result"
    }
   ],
   "execution_count": 170
  },
  {
   "cell_type": "code",
   "metadata": {
    "ExecuteTime": {
     "end_time": "2024-09-16T00:41:21.224262Z",
     "start_time": "2024-09-16T00:41:21.222191Z"
    }
   },
   "source": [
    "from sklearn.neural_network import MLPClassifier\n",
    "from sklearn.metrics import accuracy_score"
   ],
   "outputs": [],
   "execution_count": 171
  },
  {
   "cell_type": "code",
   "metadata": {
    "ExecuteTime": {
     "end_time": "2024-09-16T00:41:55.374827Z",
     "start_time": "2024-09-16T00:41:55.372322Z"
    }
   },
   "source": [
    "model = MLPClassifier(hidden_layer_sizes=[128, 128, 128],\n",
    "                      max_iter=1000, random_state=100)"
   ],
   "outputs": [],
   "execution_count": 173
  },
  {
   "cell_type": "code",
   "metadata": {
    "ExecuteTime": {
     "end_time": "2024-09-16T00:43:10.755093Z",
     "start_time": "2024-09-16T00:43:08.635380Z"
    }
   },
   "source": [
    "model.fit(data[fcols], data['l'])"
   ],
   "outputs": [
    {
     "data": {
      "text/plain": [
       "MLPClassifier(hidden_layer_sizes=[128, 128, 128], max_iter=1000,\n",
       "              random_state=100)"
      ],
      "text/html": [
       "<style>#sk-container-id-6 {color: black;}#sk-container-id-6 pre{padding: 0;}#sk-container-id-6 div.sk-toggleable {background-color: white;}#sk-container-id-6 label.sk-toggleable__label {cursor: pointer;display: block;width: 100%;margin-bottom: 0;padding: 0.3em;box-sizing: border-box;text-align: center;}#sk-container-id-6 label.sk-toggleable__label-arrow:before {content: \"▸\";float: left;margin-right: 0.25em;color: #696969;}#sk-container-id-6 label.sk-toggleable__label-arrow:hover:before {color: black;}#sk-container-id-6 div.sk-estimator:hover label.sk-toggleable__label-arrow:before {color: black;}#sk-container-id-6 div.sk-toggleable__content {max-height: 0;max-width: 0;overflow: hidden;text-align: left;background-color: #f0f8ff;}#sk-container-id-6 div.sk-toggleable__content pre {margin: 0.2em;color: black;border-radius: 0.25em;background-color: #f0f8ff;}#sk-container-id-6 input.sk-toggleable__control:checked~div.sk-toggleable__content {max-height: 200px;max-width: 100%;overflow: auto;}#sk-container-id-6 input.sk-toggleable__control:checked~label.sk-toggleable__label-arrow:before {content: \"▾\";}#sk-container-id-6 div.sk-estimator input.sk-toggleable__control:checked~label.sk-toggleable__label {background-color: #d4ebff;}#sk-container-id-6 div.sk-label input.sk-toggleable__control:checked~label.sk-toggleable__label {background-color: #d4ebff;}#sk-container-id-6 input.sk-hidden--visually {border: 0;clip: rect(1px 1px 1px 1px);clip: rect(1px, 1px, 1px, 1px);height: 1px;margin: -1px;overflow: hidden;padding: 0;position: absolute;width: 1px;}#sk-container-id-6 div.sk-estimator {font-family: monospace;background-color: #f0f8ff;border: 1px dotted black;border-radius: 0.25em;box-sizing: border-box;margin-bottom: 0.5em;}#sk-container-id-6 div.sk-estimator:hover {background-color: #d4ebff;}#sk-container-id-6 div.sk-parallel-item::after {content: \"\";width: 100%;border-bottom: 1px solid gray;flex-grow: 1;}#sk-container-id-6 div.sk-label:hover label.sk-toggleable__label {background-color: #d4ebff;}#sk-container-id-6 div.sk-serial::before {content: \"\";position: absolute;border-left: 1px solid gray;box-sizing: border-box;top: 0;bottom: 0;left: 50%;z-index: 0;}#sk-container-id-6 div.sk-serial {display: flex;flex-direction: column;align-items: center;background-color: white;padding-right: 0.2em;padding-left: 0.2em;position: relative;}#sk-container-id-6 div.sk-item {position: relative;z-index: 1;}#sk-container-id-6 div.sk-parallel {display: flex;align-items: stretch;justify-content: center;background-color: white;position: relative;}#sk-container-id-6 div.sk-item::before, #sk-container-id-6 div.sk-parallel-item::before {content: \"\";position: absolute;border-left: 1px solid gray;box-sizing: border-box;top: 0;bottom: 0;left: 50%;z-index: -1;}#sk-container-id-6 div.sk-parallel-item {display: flex;flex-direction: column;z-index: 1;position: relative;background-color: white;}#sk-container-id-6 div.sk-parallel-item:first-child::after {align-self: flex-end;width: 50%;}#sk-container-id-6 div.sk-parallel-item:last-child::after {align-self: flex-start;width: 50%;}#sk-container-id-6 div.sk-parallel-item:only-child::after {width: 0;}#sk-container-id-6 div.sk-dashed-wrapped {border: 1px dashed gray;margin: 0 0.4em 0.5em 0.4em;box-sizing: border-box;padding-bottom: 0.4em;background-color: white;}#sk-container-id-6 div.sk-label label {font-family: monospace;font-weight: bold;display: inline-block;line-height: 1.2em;}#sk-container-id-6 div.sk-label-container {text-align: center;}#sk-container-id-6 div.sk-container {/* jupyter's `normalize.less` sets `[hidden] { display: none; }` but bootstrap.min.css set `[hidden] { display: none !important; }` so we also need the `!important` here to be able to override the default hidden behavior on the sphinx rendered scikit-learn.org. See: https://github.com/scikit-learn/scikit-learn/issues/21755 */display: inline-block !important;position: relative;}#sk-container-id-6 div.sk-text-repr-fallback {display: none;}</style><div id=\"sk-container-id-6\" class=\"sk-top-container\"><div class=\"sk-text-repr-fallback\"><pre>MLPClassifier(hidden_layer_sizes=[128, 128, 128], max_iter=1000,\n",
       "              random_state=100)</pre><b>In a Jupyter environment, please rerun this cell to show the HTML representation or trust the notebook. <br />On GitHub, the HTML representation is unable to render, please try loading this page with nbviewer.org.</b></div><div class=\"sk-container\" hidden><div class=\"sk-item\"><div class=\"sk-estimator sk-toggleable\"><input class=\"sk-toggleable__control sk-hidden--visually\" id=\"sk-estimator-id-6\" type=\"checkbox\" checked><label for=\"sk-estimator-id-6\" class=\"sk-toggleable__label sk-toggleable__label-arrow\">MLPClassifier</label><div class=\"sk-toggleable__content\"><pre>MLPClassifier(hidden_layer_sizes=[128, 128, 128], max_iter=1000,\n",
       "              random_state=100)</pre></div></div></div></div></div>"
      ]
     },
     "execution_count": 175,
     "metadata": {},
     "output_type": "execute_result"
    }
   ],
   "execution_count": 175
  },
  {
   "cell_type": "code",
   "metadata": {
    "ExecuteTime": {
     "end_time": "2024-09-16T00:43:58.322597Z",
     "start_time": "2024-09-16T00:43:58.295985Z"
    }
   },
   "source": [
    "accuracy_score(data['l'], model.predict(data[fcols]))"
   ],
   "outputs": [
    {
     "data": {
      "text/plain": [
       "0.952"
      ]
     },
     "execution_count": 178,
     "metadata": {},
     "output_type": "execute_result"
    }
   ],
   "execution_count": 178
  },
  {
   "cell_type": "code",
   "metadata": {
    "ExecuteTime": {
     "end_time": "2024-09-16T02:23:11.932147Z",
     "start_time": "2024-09-16T02:23:11.929182Z"
    }
   },
   "source": [
    "split = int(len(data) * 0.7)\n",
    "split"
   ],
   "outputs": [
    {
     "data": {
      "text/plain": [
       "175"
      ]
     },
     "execution_count": 185,
     "metadata": {},
     "output_type": "execute_result"
    }
   ],
   "execution_count": 185
  },
  {
   "cell_type": "code",
   "metadata": {
    "ExecuteTime": {
     "end_time": "2024-09-16T02:22:14.012896Z",
     "start_time": "2024-09-16T02:22:14.010576Z"
    }
   },
   "source": [
    "train = data[:split]\n",
    "test = data[split:]"
   ],
   "outputs": [],
   "execution_count": 180
  },
  {
   "cell_type": "code",
   "metadata": {
    "ExecuteTime": {
     "end_time": "2024-09-16T02:22:18.386511Z",
     "start_time": "2024-09-16T02:22:17.046461Z"
    }
   },
   "source": [
    "model.fit(train[fcols], train['l'])"
   ],
   "outputs": [
    {
     "data": {
      "text/plain": [
       "MLPClassifier(hidden_layer_sizes=[128, 128, 128], max_iter=1000,\n",
       "              random_state=100)"
      ],
      "text/html": [
       "<style>#sk-container-id-7 {color: black;}#sk-container-id-7 pre{padding: 0;}#sk-container-id-7 div.sk-toggleable {background-color: white;}#sk-container-id-7 label.sk-toggleable__label {cursor: pointer;display: block;width: 100%;margin-bottom: 0;padding: 0.3em;box-sizing: border-box;text-align: center;}#sk-container-id-7 label.sk-toggleable__label-arrow:before {content: \"▸\";float: left;margin-right: 0.25em;color: #696969;}#sk-container-id-7 label.sk-toggleable__label-arrow:hover:before {color: black;}#sk-container-id-7 div.sk-estimator:hover label.sk-toggleable__label-arrow:before {color: black;}#sk-container-id-7 div.sk-toggleable__content {max-height: 0;max-width: 0;overflow: hidden;text-align: left;background-color: #f0f8ff;}#sk-container-id-7 div.sk-toggleable__content pre {margin: 0.2em;color: black;border-radius: 0.25em;background-color: #f0f8ff;}#sk-container-id-7 input.sk-toggleable__control:checked~div.sk-toggleable__content {max-height: 200px;max-width: 100%;overflow: auto;}#sk-container-id-7 input.sk-toggleable__control:checked~label.sk-toggleable__label-arrow:before {content: \"▾\";}#sk-container-id-7 div.sk-estimator input.sk-toggleable__control:checked~label.sk-toggleable__label {background-color: #d4ebff;}#sk-container-id-7 div.sk-label input.sk-toggleable__control:checked~label.sk-toggleable__label {background-color: #d4ebff;}#sk-container-id-7 input.sk-hidden--visually {border: 0;clip: rect(1px 1px 1px 1px);clip: rect(1px, 1px, 1px, 1px);height: 1px;margin: -1px;overflow: hidden;padding: 0;position: absolute;width: 1px;}#sk-container-id-7 div.sk-estimator {font-family: monospace;background-color: #f0f8ff;border: 1px dotted black;border-radius: 0.25em;box-sizing: border-box;margin-bottom: 0.5em;}#sk-container-id-7 div.sk-estimator:hover {background-color: #d4ebff;}#sk-container-id-7 div.sk-parallel-item::after {content: \"\";width: 100%;border-bottom: 1px solid gray;flex-grow: 1;}#sk-container-id-7 div.sk-label:hover label.sk-toggleable__label {background-color: #d4ebff;}#sk-container-id-7 div.sk-serial::before {content: \"\";position: absolute;border-left: 1px solid gray;box-sizing: border-box;top: 0;bottom: 0;left: 50%;z-index: 0;}#sk-container-id-7 div.sk-serial {display: flex;flex-direction: column;align-items: center;background-color: white;padding-right: 0.2em;padding-left: 0.2em;position: relative;}#sk-container-id-7 div.sk-item {position: relative;z-index: 1;}#sk-container-id-7 div.sk-parallel {display: flex;align-items: stretch;justify-content: center;background-color: white;position: relative;}#sk-container-id-7 div.sk-item::before, #sk-container-id-7 div.sk-parallel-item::before {content: \"\";position: absolute;border-left: 1px solid gray;box-sizing: border-box;top: 0;bottom: 0;left: 50%;z-index: -1;}#sk-container-id-7 div.sk-parallel-item {display: flex;flex-direction: column;z-index: 1;position: relative;background-color: white;}#sk-container-id-7 div.sk-parallel-item:first-child::after {align-self: flex-end;width: 50%;}#sk-container-id-7 div.sk-parallel-item:last-child::after {align-self: flex-start;width: 50%;}#sk-container-id-7 div.sk-parallel-item:only-child::after {width: 0;}#sk-container-id-7 div.sk-dashed-wrapped {border: 1px dashed gray;margin: 0 0.4em 0.5em 0.4em;box-sizing: border-box;padding-bottom: 0.4em;background-color: white;}#sk-container-id-7 div.sk-label label {font-family: monospace;font-weight: bold;display: inline-block;line-height: 1.2em;}#sk-container-id-7 div.sk-label-container {text-align: center;}#sk-container-id-7 div.sk-container {/* jupyter's `normalize.less` sets `[hidden] { display: none; }` but bootstrap.min.css set `[hidden] { display: none !important; }` so we also need the `!important` here to be able to override the default hidden behavior on the sphinx rendered scikit-learn.org. See: https://github.com/scikit-learn/scikit-learn/issues/21755 */display: inline-block !important;position: relative;}#sk-container-id-7 div.sk-text-repr-fallback {display: none;}</style><div id=\"sk-container-id-7\" class=\"sk-top-container\"><div class=\"sk-text-repr-fallback\"><pre>MLPClassifier(hidden_layer_sizes=[128, 128, 128], max_iter=1000,\n",
       "              random_state=100)</pre><b>In a Jupyter environment, please rerun this cell to show the HTML representation or trust the notebook. <br />On GitHub, the HTML representation is unable to render, please try loading this page with nbviewer.org.</b></div><div class=\"sk-container\" hidden><div class=\"sk-item\"><div class=\"sk-estimator sk-toggleable\"><input class=\"sk-toggleable__control sk-hidden--visually\" id=\"sk-estimator-id-7\" type=\"checkbox\" checked><label for=\"sk-estimator-id-7\" class=\"sk-toggleable__label sk-toggleable__label-arrow\">MLPClassifier</label><div class=\"sk-toggleable__content\"><pre>MLPClassifier(hidden_layer_sizes=[128, 128, 128], max_iter=1000,\n",
       "              random_state=100)</pre></div></div></div></div></div>"
      ]
     },
     "execution_count": 181,
     "metadata": {},
     "output_type": "execute_result"
    }
   ],
   "execution_count": 181
  },
  {
   "cell_type": "code",
   "metadata": {
    "ExecuteTime": {
     "end_time": "2024-09-16T02:22:25.034490Z",
     "start_time": "2024-09-16T02:22:25.014530Z"
    }
   },
   "source": [
    "accuracy_score(train['l'], model.predict(train[fcols]))"
   ],
   "outputs": [
    {
     "data": {
      "text/plain": [
       "0.9714285714285714"
      ]
     },
     "execution_count": 182,
     "metadata": {},
     "output_type": "execute_result"
    }
   ],
   "execution_count": 182
  },
  {
   "cell_type": "code",
   "metadata": {
    "ExecuteTime": {
     "end_time": "2024-09-16T02:22:30.484048Z",
     "start_time": "2024-09-16T02:22:30.463671Z"
    }
   },
   "source": [
    "accuracy_score(test['l'], model.predict(test[fcols]))"
   ],
   "outputs": [
    {
     "data": {
      "text/plain": [
       "0.38666666666666666"
      ]
     },
     "execution_count": 183,
     "metadata": {},
     "output_type": "execute_result"
    }
   ],
   "execution_count": 183
  },
  {
   "cell_type": "code",
   "metadata": {
    "ExecuteTime": {
     "end_time": "2024-09-16T02:31:33.810556Z",
     "start_time": "2024-09-16T02:31:33.808686Z"
    }
   },
   "source": [
    "factor = 50"
   ],
   "outputs": [],
   "execution_count": 186
  },
  {
   "cell_type": "code",
   "metadata": {
    "ExecuteTime": {
     "end_time": "2024-09-16T02:31:35.562562Z",
     "start_time": "2024-09-16T02:31:35.560058Z"
    }
   },
   "source": [
    "big = pd.DataFrame(np.random.randint(0, 2, (factor * n, f)),\n",
    "                   columns=fcols)"
   ],
   "outputs": [],
   "execution_count": 187
  },
  {
   "cell_type": "code",
   "metadata": {
    "ExecuteTime": {
     "end_time": "2024-09-16T02:31:37.939612Z",
     "start_time": "2024-09-16T02:31:37.937415Z"
    }
   },
   "source": [
    "big['l'] = np.random.randint(0, 2, factor * n)"
   ],
   "outputs": [],
   "execution_count": 188
  },
  {
   "cell_type": "code",
   "metadata": {
    "ExecuteTime": {
     "end_time": "2024-09-16T02:31:39.664278Z",
     "start_time": "2024-09-16T02:31:39.662132Z"
    }
   },
   "source": [
    "train = big[:split]\n",
    "test = big[split:]"
   ],
   "outputs": [],
   "execution_count": 189
  },
  {
   "cell_type": "code",
   "metadata": {
    "ExecuteTime": {
     "end_time": "2024-09-16T02:31:43.215199Z",
     "start_time": "2024-09-16T02:31:42.006161Z"
    }
   },
   "source": [
    "model.fit(train[fcols], train['l'])"
   ],
   "outputs": [
    {
     "data": {
      "text/plain": [
       "MLPClassifier(hidden_layer_sizes=[128, 128, 128], max_iter=1000,\n",
       "              random_state=100)"
      ],
      "text/html": [
       "<style>#sk-container-id-8 {color: black;}#sk-container-id-8 pre{padding: 0;}#sk-container-id-8 div.sk-toggleable {background-color: white;}#sk-container-id-8 label.sk-toggleable__label {cursor: pointer;display: block;width: 100%;margin-bottom: 0;padding: 0.3em;box-sizing: border-box;text-align: center;}#sk-container-id-8 label.sk-toggleable__label-arrow:before {content: \"▸\";float: left;margin-right: 0.25em;color: #696969;}#sk-container-id-8 label.sk-toggleable__label-arrow:hover:before {color: black;}#sk-container-id-8 div.sk-estimator:hover label.sk-toggleable__label-arrow:before {color: black;}#sk-container-id-8 div.sk-toggleable__content {max-height: 0;max-width: 0;overflow: hidden;text-align: left;background-color: #f0f8ff;}#sk-container-id-8 div.sk-toggleable__content pre {margin: 0.2em;color: black;border-radius: 0.25em;background-color: #f0f8ff;}#sk-container-id-8 input.sk-toggleable__control:checked~div.sk-toggleable__content {max-height: 200px;max-width: 100%;overflow: auto;}#sk-container-id-8 input.sk-toggleable__control:checked~label.sk-toggleable__label-arrow:before {content: \"▾\";}#sk-container-id-8 div.sk-estimator input.sk-toggleable__control:checked~label.sk-toggleable__label {background-color: #d4ebff;}#sk-container-id-8 div.sk-label input.sk-toggleable__control:checked~label.sk-toggleable__label {background-color: #d4ebff;}#sk-container-id-8 input.sk-hidden--visually {border: 0;clip: rect(1px 1px 1px 1px);clip: rect(1px, 1px, 1px, 1px);height: 1px;margin: -1px;overflow: hidden;padding: 0;position: absolute;width: 1px;}#sk-container-id-8 div.sk-estimator {font-family: monospace;background-color: #f0f8ff;border: 1px dotted black;border-radius: 0.25em;box-sizing: border-box;margin-bottom: 0.5em;}#sk-container-id-8 div.sk-estimator:hover {background-color: #d4ebff;}#sk-container-id-8 div.sk-parallel-item::after {content: \"\";width: 100%;border-bottom: 1px solid gray;flex-grow: 1;}#sk-container-id-8 div.sk-label:hover label.sk-toggleable__label {background-color: #d4ebff;}#sk-container-id-8 div.sk-serial::before {content: \"\";position: absolute;border-left: 1px solid gray;box-sizing: border-box;top: 0;bottom: 0;left: 50%;z-index: 0;}#sk-container-id-8 div.sk-serial {display: flex;flex-direction: column;align-items: center;background-color: white;padding-right: 0.2em;padding-left: 0.2em;position: relative;}#sk-container-id-8 div.sk-item {position: relative;z-index: 1;}#sk-container-id-8 div.sk-parallel {display: flex;align-items: stretch;justify-content: center;background-color: white;position: relative;}#sk-container-id-8 div.sk-item::before, #sk-container-id-8 div.sk-parallel-item::before {content: \"\";position: absolute;border-left: 1px solid gray;box-sizing: border-box;top: 0;bottom: 0;left: 50%;z-index: -1;}#sk-container-id-8 div.sk-parallel-item {display: flex;flex-direction: column;z-index: 1;position: relative;background-color: white;}#sk-container-id-8 div.sk-parallel-item:first-child::after {align-self: flex-end;width: 50%;}#sk-container-id-8 div.sk-parallel-item:last-child::after {align-self: flex-start;width: 50%;}#sk-container-id-8 div.sk-parallel-item:only-child::after {width: 0;}#sk-container-id-8 div.sk-dashed-wrapped {border: 1px dashed gray;margin: 0 0.4em 0.5em 0.4em;box-sizing: border-box;padding-bottom: 0.4em;background-color: white;}#sk-container-id-8 div.sk-label label {font-family: monospace;font-weight: bold;display: inline-block;line-height: 1.2em;}#sk-container-id-8 div.sk-label-container {text-align: center;}#sk-container-id-8 div.sk-container {/* jupyter's `normalize.less` sets `[hidden] { display: none; }` but bootstrap.min.css set `[hidden] { display: none !important; }` so we also need the `!important` here to be able to override the default hidden behavior on the sphinx rendered scikit-learn.org. See: https://github.com/scikit-learn/scikit-learn/issues/21755 */display: inline-block !important;position: relative;}#sk-container-id-8 div.sk-text-repr-fallback {display: none;}</style><div id=\"sk-container-id-8\" class=\"sk-top-container\"><div class=\"sk-text-repr-fallback\"><pre>MLPClassifier(hidden_layer_sizes=[128, 128, 128], max_iter=1000,\n",
       "              random_state=100)</pre><b>In a Jupyter environment, please rerun this cell to show the HTML representation or trust the notebook. <br />On GitHub, the HTML representation is unable to render, please try loading this page with nbviewer.org.</b></div><div class=\"sk-container\" hidden><div class=\"sk-item\"><div class=\"sk-estimator sk-toggleable\"><input class=\"sk-toggleable__control sk-hidden--visually\" id=\"sk-estimator-id-8\" type=\"checkbox\" checked><label for=\"sk-estimator-id-8\" class=\"sk-toggleable__label sk-toggleable__label-arrow\">MLPClassifier</label><div class=\"sk-toggleable__content\"><pre>MLPClassifier(hidden_layer_sizes=[128, 128, 128], max_iter=1000,\n",
       "              random_state=100)</pre></div></div></div></div></div>"
      ]
     },
     "execution_count": 190,
     "metadata": {},
     "output_type": "execute_result"
    }
   ],
   "execution_count": 190
  },
  {
   "cell_type": "code",
   "metadata": {
    "ExecuteTime": {
     "end_time": "2024-09-16T02:31:46.057221Z",
     "start_time": "2024-09-16T02:31:46.050301Z"
    }
   },
   "source": [
    "accuracy_score(train['l'], model.predict(train[fcols]))"
   ],
   "outputs": [
    {
     "data": {
      "text/plain": [
       "0.9657142857142857"
      ]
     },
     "execution_count": 191,
     "metadata": {},
     "output_type": "execute_result"
    }
   ],
   "execution_count": 191
  },
  {
   "cell_type": "code",
   "metadata": {
    "ExecuteTime": {
     "end_time": "2024-09-16T02:31:49.546086Z",
     "start_time": "2024-09-16T02:31:49.511281Z"
    }
   },
   "source": [
    "accuracy_score(test['l'], model.predict(test[fcols]))"
   ],
   "outputs": [
    {
     "data": {
      "text/plain": [
       "0.5043407707910751"
      ]
     },
     "execution_count": 192,
     "metadata": {},
     "output_type": "execute_result"
    }
   ],
   "execution_count": 192
  },
  {
   "cell_type": "code",
   "metadata": {
    "ExecuteTime": {
     "end_time": "2024-09-16T02:32:07.768591Z",
     "start_time": "2024-09-16T02:32:07.765378Z"
    }
   },
   "source": [
    "grouped = big.groupby(list(data.columns))"
   ],
   "outputs": [],
   "execution_count": 193
  },
  {
   "cell_type": "code",
   "metadata": {
    "ExecuteTime": {
     "end_time": "2024-09-16T02:32:09.753128Z",
     "start_time": "2024-09-16T02:32:09.747401Z"
    }
   },
   "source": [
    "freq = grouped['l'].size().unstack(fill_value=0)"
   ],
   "outputs": [],
   "execution_count": 194
  },
  {
   "cell_type": "code",
   "metadata": {
    "ExecuteTime": {
     "end_time": "2024-09-16T02:32:11.840543Z",
     "start_time": "2024-09-16T02:32:11.837937Z"
    }
   },
   "source": [
    "freq['sum'] = freq[0] + freq[1]"
   ],
   "outputs": [],
   "execution_count": 195
  },
  {
   "cell_type": "code",
   "metadata": {
    "ExecuteTime": {
     "end_time": "2024-09-16T02:32:14.343439Z",
     "start_time": "2024-09-16T02:32:14.338743Z"
    }
   },
   "source": [
    "freq.head(6)"
   ],
   "outputs": [
    {
     "data": {
      "text/plain": [
       "l                               0  1  sum\n",
       "f0 f1 f2 f3 f4 f5 f6 f7 f8 f9            \n",
       "0  0  0  0  0  0  0  0  0  0   10  9   19\n",
       "                           1    5  4    9\n",
       "                        1  0    2  5    7\n",
       "                           1    6  6   12\n",
       "                     1  0  0    9  8   17\n",
       "                           1    7  4   11"
      ],
      "text/html": [
       "<div>\n",
       "<style scoped>\n",
       "    .dataframe tbody tr th:only-of-type {\n",
       "        vertical-align: middle;\n",
       "    }\n",
       "\n",
       "    .dataframe tbody tr th {\n",
       "        vertical-align: top;\n",
       "    }\n",
       "\n",
       "    .dataframe thead th {\n",
       "        text-align: right;\n",
       "    }\n",
       "</style>\n",
       "<table border=\"1\" class=\"dataframe\">\n",
       "  <thead>\n",
       "    <tr style=\"text-align: right;\">\n",
       "      <th></th>\n",
       "      <th></th>\n",
       "      <th></th>\n",
       "      <th></th>\n",
       "      <th></th>\n",
       "      <th></th>\n",
       "      <th></th>\n",
       "      <th></th>\n",
       "      <th></th>\n",
       "      <th>l</th>\n",
       "      <th>0</th>\n",
       "      <th>1</th>\n",
       "      <th>sum</th>\n",
       "    </tr>\n",
       "    <tr>\n",
       "      <th>f0</th>\n",
       "      <th>f1</th>\n",
       "      <th>f2</th>\n",
       "      <th>f3</th>\n",
       "      <th>f4</th>\n",
       "      <th>f5</th>\n",
       "      <th>f6</th>\n",
       "      <th>f7</th>\n",
       "      <th>f8</th>\n",
       "      <th>f9</th>\n",
       "      <th></th>\n",
       "      <th></th>\n",
       "      <th></th>\n",
       "    </tr>\n",
       "  </thead>\n",
       "  <tbody>\n",
       "    <tr>\n",
       "      <th rowspan=\"6\" valign=\"top\">0</th>\n",
       "      <th rowspan=\"6\" valign=\"top\">0</th>\n",
       "      <th rowspan=\"6\" valign=\"top\">0</th>\n",
       "      <th rowspan=\"6\" valign=\"top\">0</th>\n",
       "      <th rowspan=\"6\" valign=\"top\">0</th>\n",
       "      <th rowspan=\"6\" valign=\"top\">0</th>\n",
       "      <th rowspan=\"6\" valign=\"top\">0</th>\n",
       "      <th rowspan=\"4\" valign=\"top\">0</th>\n",
       "      <th rowspan=\"2\" valign=\"top\">0</th>\n",
       "      <th>0</th>\n",
       "      <td>10</td>\n",
       "      <td>9</td>\n",
       "      <td>19</td>\n",
       "    </tr>\n",
       "    <tr>\n",
       "      <th>1</th>\n",
       "      <td>5</td>\n",
       "      <td>4</td>\n",
       "      <td>9</td>\n",
       "    </tr>\n",
       "    <tr>\n",
       "      <th rowspan=\"2\" valign=\"top\">1</th>\n",
       "      <th>0</th>\n",
       "      <td>2</td>\n",
       "      <td>5</td>\n",
       "      <td>7</td>\n",
       "    </tr>\n",
       "    <tr>\n",
       "      <th>1</th>\n",
       "      <td>6</td>\n",
       "      <td>6</td>\n",
       "      <td>12</td>\n",
       "    </tr>\n",
       "    <tr>\n",
       "      <th rowspan=\"2\" valign=\"top\">1</th>\n",
       "      <th rowspan=\"2\" valign=\"top\">0</th>\n",
       "      <th>0</th>\n",
       "      <td>9</td>\n",
       "      <td>8</td>\n",
       "      <td>17</td>\n",
       "    </tr>\n",
       "    <tr>\n",
       "      <th>1</th>\n",
       "      <td>7</td>\n",
       "      <td>4</td>\n",
       "      <td>11</td>\n",
       "    </tr>\n",
       "  </tbody>\n",
       "</table>\n",
       "</div>"
      ]
     },
     "execution_count": 196,
     "metadata": {},
     "output_type": "execute_result"
    }
   ],
   "execution_count": 196
  },
  {
   "cell_type": "code",
   "metadata": {
    "ExecuteTime": {
     "end_time": "2024-09-16T02:32:18.915934Z",
     "start_time": "2024-09-16T02:32:18.909823Z"
    }
   },
   "source": [
    "freq['sum'].describe().astype(int)"
   ],
   "outputs": [
    {
     "data": {
      "text/plain": [
       "count    1024\n",
       "mean       12\n",
       "std         3\n",
       "min         2\n",
       "25%        10\n",
       "50%        12\n",
       "75%        15\n",
       "max        26\n",
       "Name: sum, dtype: int64"
      ]
     },
     "execution_count": 197,
     "metadata": {},
     "output_type": "execute_result"
    }
   ],
   "execution_count": 197
  },
  {
   "cell_type": "code",
   "metadata": {
    "ExecuteTime": {
     "end_time": "2024-09-16T02:32:22.652082Z",
     "start_time": "2024-09-16T02:32:22.649058Z"
    }
   },
   "source": [
    "8 ** 25"
   ],
   "outputs": [
    {
     "data": {
      "text/plain": [
       "37778931862957161709568"
      ]
     },
     "execution_count": 198,
     "metadata": {},
     "output_type": "execute_result"
    }
   ],
   "execution_count": 198
  },
  {
   "cell_type": "markdown",
   "metadata": {},
   "source": [
    "<img src='http://hilpisch.com/taim_logo.png' width=\"350px\" align=\"right\">\n",
    "\n",
    "<br><br><br><a href=\"http://tpq.io\" target=\"_blank\">http://tpq.io</a> | <a href=\"http://twitter.com/dyjh\" target=\"_blank\">@dyjh</a> | <a href=\"mailto:ai@tpq.io\">ai@tpq.io</a>"
   ]
  }
 ],
 "metadata": {
  "kernelspec": {
   "display_name": "Python 3 (ipykernel)",
   "language": "python",
   "name": "python3"
  },
  "language_info": {
   "codemirror_mode": {
    "name": "ipython",
    "version": 3
   },
   "file_extension": ".py",
   "mimetype": "text/x-python",
   "name": "python",
   "nbconvert_exporter": "python",
   "pygments_lexer": "ipython3",
   "version": "3.10.12"
  }
 },
 "nbformat": 4,
 "nbformat_minor": 4
}
