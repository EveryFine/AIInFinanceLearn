{
 "cells": [
  {
   "cell_type": "markdown",
   "metadata": {},
   "source": [
    "<img src=\"https://certificate.tpq.io/taim_logo.png\" width=\"350px\" align=\"right\">"
   ]
  },
  {
   "cell_type": "markdown",
   "metadata": {},
   "source": [
    "# Artificial Intelligence in Finance"
   ]
  },
  {
   "cell_type": "markdown",
   "metadata": {},
   "source": [
    "## Dense Neural Networks"
   ]
  },
  {
   "cell_type": "markdown",
   "metadata": {},
   "source": [
    "Dr Yves J Hilpisch | The AI Machine\n",
    "\n",
    "http://aimachine.io | http://twitter.com/dyjh"
   ]
  },
  {
   "cell_type": "code",
   "metadata": {
    "ExecuteTime": {
     "end_time": "2024-09-22T06:52:10.470404Z",
     "start_time": "2024-09-22T06:52:09.917484Z"
    }
   },
   "source": [
    "import os\n",
    "import numpy as np\n",
    "import pandas as pd\n",
    "from pylab import plt, mpl\n",
    "plt.style.use('seaborn-v0_8')\n",
    "mpl.rcParams['savefig.dpi'] = 300\n",
    "mpl.rcParams['font.family'] = 'serif'\n",
    "pd.set_option('display.precision', 4)\n",
    "np.set_printoptions(suppress=True, precision=4)\n",
    "os.environ['PYTHONHASHSEED'] = '0'"
   ],
   "outputs": [],
   "execution_count": 1
  },
  {
   "metadata": {
    "ExecuteTime": {
     "end_time": "2024-09-22T06:54:02.915775Z",
     "start_time": "2024-09-22T06:54:02.912914Z"
    }
   },
   "cell_type": "code",
   "source": "os.environ?",
   "outputs": [],
   "execution_count": 4
  },
  {
   "cell_type": "markdown",
   "metadata": {},
   "source": [
    "## The Data"
   ]
  },
  {
   "cell_type": "code",
   "metadata": {
    "ExecuteTime": {
     "end_time": "2024-09-22T06:55:21.567601Z",
     "start_time": "2024-09-22T06:55:21.565398Z"
    }
   },
   "source": [
    "url = 'http://hilpisch.com/aiif_eikon_id_eur_usd.csv'"
   ],
   "outputs": [],
   "execution_count": 5
  },
  {
   "cell_type": "code",
   "metadata": {
    "ExecuteTime": {
     "end_time": "2024-09-22T06:55:22.910375Z",
     "start_time": "2024-09-22T06:55:22.908302Z"
    }
   },
   "source": [
    "symbol = 'EUR_USD'"
   ],
   "outputs": [],
   "execution_count": 6
  },
  {
   "cell_type": "code",
   "metadata": {
    "ExecuteTime": {
     "end_time": "2024-09-22T06:55:28.639010Z",
     "start_time": "2024-09-22T06:55:25.086343Z"
    }
   },
   "source": [
    "raw = pd.read_csv(url, index_col=0, parse_dates=True)"
   ],
   "outputs": [],
   "execution_count": 7
  },
  {
   "cell_type": "code",
   "metadata": {
    "ExecuteTime": {
     "end_time": "2024-09-22T06:55:30.615767Z",
     "start_time": "2024-09-22T06:55:30.608431Z"
    }
   },
   "source": [
    "raw.head()"
   ],
   "outputs": [
    {
     "data": {
      "text/plain": [
       "                       HIGH     LOW    OPEN   CLOSE\n",
       "Date                                               \n",
       "2019-10-01 00:00:00  1.0899  1.0897  1.0897  1.0899\n",
       "2019-10-01 00:01:00  1.0899  1.0896  1.0899  1.0898\n",
       "2019-10-01 00:02:00  1.0898  1.0896  1.0898  1.0896\n",
       "2019-10-01 00:03:00  1.0898  1.0896  1.0897  1.0898\n",
       "2019-10-01 00:04:00  1.0898  1.0896  1.0897  1.0898"
      ],
      "text/html": [
       "<div>\n",
       "<style scoped>\n",
       "    .dataframe tbody tr th:only-of-type {\n",
       "        vertical-align: middle;\n",
       "    }\n",
       "\n",
       "    .dataframe tbody tr th {\n",
       "        vertical-align: top;\n",
       "    }\n",
       "\n",
       "    .dataframe thead th {\n",
       "        text-align: right;\n",
       "    }\n",
       "</style>\n",
       "<table border=\"1\" class=\"dataframe\">\n",
       "  <thead>\n",
       "    <tr style=\"text-align: right;\">\n",
       "      <th></th>\n",
       "      <th>HIGH</th>\n",
       "      <th>LOW</th>\n",
       "      <th>OPEN</th>\n",
       "      <th>CLOSE</th>\n",
       "    </tr>\n",
       "    <tr>\n",
       "      <th>Date</th>\n",
       "      <th></th>\n",
       "      <th></th>\n",
       "      <th></th>\n",
       "      <th></th>\n",
       "    </tr>\n",
       "  </thead>\n",
       "  <tbody>\n",
       "    <tr>\n",
       "      <th>2019-10-01 00:00:00</th>\n",
       "      <td>1.0899</td>\n",
       "      <td>1.0897</td>\n",
       "      <td>1.0897</td>\n",
       "      <td>1.0899</td>\n",
       "    </tr>\n",
       "    <tr>\n",
       "      <th>2019-10-01 00:01:00</th>\n",
       "      <td>1.0899</td>\n",
       "      <td>1.0896</td>\n",
       "      <td>1.0899</td>\n",
       "      <td>1.0898</td>\n",
       "    </tr>\n",
       "    <tr>\n",
       "      <th>2019-10-01 00:02:00</th>\n",
       "      <td>1.0898</td>\n",
       "      <td>1.0896</td>\n",
       "      <td>1.0898</td>\n",
       "      <td>1.0896</td>\n",
       "    </tr>\n",
       "    <tr>\n",
       "      <th>2019-10-01 00:03:00</th>\n",
       "      <td>1.0898</td>\n",
       "      <td>1.0896</td>\n",
       "      <td>1.0897</td>\n",
       "      <td>1.0898</td>\n",
       "    </tr>\n",
       "    <tr>\n",
       "      <th>2019-10-01 00:04:00</th>\n",
       "      <td>1.0898</td>\n",
       "      <td>1.0896</td>\n",
       "      <td>1.0897</td>\n",
       "      <td>1.0898</td>\n",
       "    </tr>\n",
       "  </tbody>\n",
       "</table>\n",
       "</div>"
      ]
     },
     "execution_count": 8,
     "metadata": {},
     "output_type": "execute_result"
    }
   ],
   "execution_count": 8
  },
  {
   "metadata": {
    "ExecuteTime": {
     "end_time": "2024-09-22T06:56:50.789587Z",
     "start_time": "2024-09-22T06:56:50.784549Z"
    }
   },
   "cell_type": "code",
   "source": "raw.tail()",
   "outputs": [
    {
     "data": {
      "text/plain": [
       "                       HIGH     LOW    OPEN   CLOSE\n",
       "Date                                               \n",
       "2019-12-31 22:11:00  1.1212  1.1211  1.1212  1.1211\n",
       "2019-12-31 23:01:00  1.1212  1.1211  1.1211  1.1211\n",
       "2019-12-31 23:03:00  1.1212  1.1211  1.1212  1.1211\n",
       "2019-12-31 23:05:00  1.1212  1.1212  1.1212  1.1212\n",
       "2019-12-31 23:06:00  1.1211  1.1211  1.1211  1.1211"
      ],
      "text/html": [
       "<div>\n",
       "<style scoped>\n",
       "    .dataframe tbody tr th:only-of-type {\n",
       "        vertical-align: middle;\n",
       "    }\n",
       "\n",
       "    .dataframe tbody tr th {\n",
       "        vertical-align: top;\n",
       "    }\n",
       "\n",
       "    .dataframe thead th {\n",
       "        text-align: right;\n",
       "    }\n",
       "</style>\n",
       "<table border=\"1\" class=\"dataframe\">\n",
       "  <thead>\n",
       "    <tr style=\"text-align: right;\">\n",
       "      <th></th>\n",
       "      <th>HIGH</th>\n",
       "      <th>LOW</th>\n",
       "      <th>OPEN</th>\n",
       "      <th>CLOSE</th>\n",
       "    </tr>\n",
       "    <tr>\n",
       "      <th>Date</th>\n",
       "      <th></th>\n",
       "      <th></th>\n",
       "      <th></th>\n",
       "      <th></th>\n",
       "    </tr>\n",
       "  </thead>\n",
       "  <tbody>\n",
       "    <tr>\n",
       "      <th>2019-12-31 22:11:00</th>\n",
       "      <td>1.1212</td>\n",
       "      <td>1.1211</td>\n",
       "      <td>1.1212</td>\n",
       "      <td>1.1211</td>\n",
       "    </tr>\n",
       "    <tr>\n",
       "      <th>2019-12-31 23:01:00</th>\n",
       "      <td>1.1212</td>\n",
       "      <td>1.1211</td>\n",
       "      <td>1.1211</td>\n",
       "      <td>1.1211</td>\n",
       "    </tr>\n",
       "    <tr>\n",
       "      <th>2019-12-31 23:03:00</th>\n",
       "      <td>1.1212</td>\n",
       "      <td>1.1211</td>\n",
       "      <td>1.1212</td>\n",
       "      <td>1.1211</td>\n",
       "    </tr>\n",
       "    <tr>\n",
       "      <th>2019-12-31 23:05:00</th>\n",
       "      <td>1.1212</td>\n",
       "      <td>1.1212</td>\n",
       "      <td>1.1212</td>\n",
       "      <td>1.1212</td>\n",
       "    </tr>\n",
       "    <tr>\n",
       "      <th>2019-12-31 23:06:00</th>\n",
       "      <td>1.1211</td>\n",
       "      <td>1.1211</td>\n",
       "      <td>1.1211</td>\n",
       "      <td>1.1211</td>\n",
       "    </tr>\n",
       "  </tbody>\n",
       "</table>\n",
       "</div>"
      ]
     },
     "execution_count": 10,
     "metadata": {},
     "output_type": "execute_result"
    }
   ],
   "execution_count": 10
  },
  {
   "cell_type": "code",
   "metadata": {
    "ExecuteTime": {
     "end_time": "2024-09-22T06:55:35.564446Z",
     "start_time": "2024-09-22T06:55:35.556921Z"
    }
   },
   "source": [
    "raw.info()"
   ],
   "outputs": [
    {
     "name": "stdout",
     "output_type": "stream",
     "text": [
      "<class 'pandas.core.frame.DataFrame'>\n",
      "DatetimeIndex: 96526 entries, 2019-10-01 00:00:00 to 2019-12-31 23:06:00\n",
      "Data columns (total 4 columns):\n",
      " #   Column  Non-Null Count  Dtype  \n",
      "---  ------  --------------  -----  \n",
      " 0   HIGH    96526 non-null  float64\n",
      " 1   LOW     96526 non-null  float64\n",
      " 2   OPEN    96526 non-null  float64\n",
      " 3   CLOSE   96526 non-null  float64\n",
      "dtypes: float64(4)\n",
      "memory usage: 3.7 MB\n"
     ]
    }
   ],
   "execution_count": 9
  },
  {
   "metadata": {
    "ExecuteTime": {
     "end_time": "2024-09-22T06:58:52.359357Z",
     "start_time": "2024-09-22T06:58:52.344507Z"
    }
   },
   "cell_type": "code",
   "source": "raw.loc['2019-10-04 21:00:00':'2019-10-06 22:00:00']",
   "outputs": [
    {
     "data": {
      "text/plain": [
       "                       HIGH     LOW    OPEN   CLOSE\n",
       "Date                                               \n",
       "2019-10-04 21:00:00  1.0979  1.0976  1.0978  1.0976\n",
       "2019-10-04 21:01:00  1.0976  1.0976  1.0976  1.0976\n",
       "2019-10-06 17:51:00  1.0975  1.0975  1.0975  1.0975\n",
       "2019-10-06 17:58:00  1.0977  1.0977  1.0977  1.0977\n",
       "2019-10-06 18:01:00  1.0974  1.0974  1.0974  1.0974\n",
       "...                     ...     ...     ...     ...\n",
       "2019-10-06 21:56:00  1.0978  1.0977  1.0978  1.0978\n",
       "2019-10-06 21:57:00  1.0978  1.0977  1.0977  1.0978\n",
       "2019-10-06 21:58:00  1.0978  1.0977  1.0977  1.0978\n",
       "2019-10-06 21:59:00  1.0978  1.0977  1.0977  1.0978\n",
       "2019-10-06 22:00:00  1.0978  1.0975  1.0978  1.0977\n",
       "\n",
       "[151 rows x 4 columns]"
      ],
      "text/html": [
       "<div>\n",
       "<style scoped>\n",
       "    .dataframe tbody tr th:only-of-type {\n",
       "        vertical-align: middle;\n",
       "    }\n",
       "\n",
       "    .dataframe tbody tr th {\n",
       "        vertical-align: top;\n",
       "    }\n",
       "\n",
       "    .dataframe thead th {\n",
       "        text-align: right;\n",
       "    }\n",
       "</style>\n",
       "<table border=\"1\" class=\"dataframe\">\n",
       "  <thead>\n",
       "    <tr style=\"text-align: right;\">\n",
       "      <th></th>\n",
       "      <th>HIGH</th>\n",
       "      <th>LOW</th>\n",
       "      <th>OPEN</th>\n",
       "      <th>CLOSE</th>\n",
       "    </tr>\n",
       "    <tr>\n",
       "      <th>Date</th>\n",
       "      <th></th>\n",
       "      <th></th>\n",
       "      <th></th>\n",
       "      <th></th>\n",
       "    </tr>\n",
       "  </thead>\n",
       "  <tbody>\n",
       "    <tr>\n",
       "      <th>2019-10-04 21:00:00</th>\n",
       "      <td>1.0979</td>\n",
       "      <td>1.0976</td>\n",
       "      <td>1.0978</td>\n",
       "      <td>1.0976</td>\n",
       "    </tr>\n",
       "    <tr>\n",
       "      <th>2019-10-04 21:01:00</th>\n",
       "      <td>1.0976</td>\n",
       "      <td>1.0976</td>\n",
       "      <td>1.0976</td>\n",
       "      <td>1.0976</td>\n",
       "    </tr>\n",
       "    <tr>\n",
       "      <th>2019-10-06 17:51:00</th>\n",
       "      <td>1.0975</td>\n",
       "      <td>1.0975</td>\n",
       "      <td>1.0975</td>\n",
       "      <td>1.0975</td>\n",
       "    </tr>\n",
       "    <tr>\n",
       "      <th>2019-10-06 17:58:00</th>\n",
       "      <td>1.0977</td>\n",
       "      <td>1.0977</td>\n",
       "      <td>1.0977</td>\n",
       "      <td>1.0977</td>\n",
       "    </tr>\n",
       "    <tr>\n",
       "      <th>2019-10-06 18:01:00</th>\n",
       "      <td>1.0974</td>\n",
       "      <td>1.0974</td>\n",
       "      <td>1.0974</td>\n",
       "      <td>1.0974</td>\n",
       "    </tr>\n",
       "    <tr>\n",
       "      <th>...</th>\n",
       "      <td>...</td>\n",
       "      <td>...</td>\n",
       "      <td>...</td>\n",
       "      <td>...</td>\n",
       "    </tr>\n",
       "    <tr>\n",
       "      <th>2019-10-06 21:56:00</th>\n",
       "      <td>1.0978</td>\n",
       "      <td>1.0977</td>\n",
       "      <td>1.0978</td>\n",
       "      <td>1.0978</td>\n",
       "    </tr>\n",
       "    <tr>\n",
       "      <th>2019-10-06 21:57:00</th>\n",
       "      <td>1.0978</td>\n",
       "      <td>1.0977</td>\n",
       "      <td>1.0977</td>\n",
       "      <td>1.0978</td>\n",
       "    </tr>\n",
       "    <tr>\n",
       "      <th>2019-10-06 21:58:00</th>\n",
       "      <td>1.0978</td>\n",
       "      <td>1.0977</td>\n",
       "      <td>1.0977</td>\n",
       "      <td>1.0978</td>\n",
       "    </tr>\n",
       "    <tr>\n",
       "      <th>2019-10-06 21:59:00</th>\n",
       "      <td>1.0978</td>\n",
       "      <td>1.0977</td>\n",
       "      <td>1.0977</td>\n",
       "      <td>1.0978</td>\n",
       "    </tr>\n",
       "    <tr>\n",
       "      <th>2019-10-06 22:00:00</th>\n",
       "      <td>1.0978</td>\n",
       "      <td>1.0975</td>\n",
       "      <td>1.0978</td>\n",
       "      <td>1.0977</td>\n",
       "    </tr>\n",
       "  </tbody>\n",
       "</table>\n",
       "<p>151 rows × 4 columns</p>\n",
       "</div>"
      ]
     },
     "execution_count": 11,
     "metadata": {},
     "output_type": "execute_result"
    }
   ],
   "execution_count": 11
  },
  {
   "cell_type": "code",
   "metadata": {
    "ExecuteTime": {
     "end_time": "2024-09-22T07:14:19.383225Z",
     "start_time": "2024-09-22T07:14:19.379346Z"
    }
   },
   "source": [
    "data = pd.DataFrame(raw['CLOSE'].loc[:])\n",
    "data.columns = [symbol]"
   ],
   "outputs": [],
   "execution_count": 12
  },
  {
   "metadata": {
    "ExecuteTime": {
     "end_time": "2024-09-22T07:21:52.467558Z",
     "start_time": "2024-09-22T07:21:52.458977Z"
    }
   },
   "cell_type": "code",
   "source": "list(data.loc['2019-10-01 00:00:00':'2019-10-01 02:00:00'].resample('1h'))",
   "outputs": [
    {
     "data": {
      "text/plain": [
       "[(Timestamp('2019-10-01 00:00:00'),\n",
       "                       EUR_USD\n",
       "  Date                        \n",
       "  2019-10-01 00:00:00   1.0899\n",
       "  2019-10-01 00:01:00   1.0898\n",
       "  2019-10-01 00:02:00   1.0896\n",
       "  2019-10-01 00:03:00   1.0898\n",
       "  2019-10-01 00:04:00   1.0898\n",
       "  2019-10-01 00:05:00   1.0898\n",
       "  2019-10-01 00:06:00   1.0899\n",
       "  2019-10-01 00:07:00   1.0899\n",
       "  2019-10-01 00:08:00   1.0899\n",
       "  2019-10-01 00:09:00   1.0899\n",
       "  2019-10-01 00:10:00   1.0899\n",
       "  2019-10-01 00:11:00   1.0897\n",
       "  2019-10-01 00:12:00   1.0899\n",
       "  2019-10-01 00:13:00   1.0899\n",
       "  2019-10-01 00:14:00   1.0899\n",
       "  2019-10-01 00:15:00   1.0899\n",
       "  2019-10-01 00:16:00   1.0899\n",
       "  2019-10-01 00:17:00   1.0899\n",
       "  2019-10-01 00:18:00   1.0899\n",
       "  2019-10-01 00:19:00   1.0899\n",
       "  2019-10-01 00:20:00   1.0900\n",
       "  2019-10-01 00:21:00   1.0899\n",
       "  2019-10-01 00:22:00   1.0900\n",
       "  2019-10-01 00:23:00   1.0899\n",
       "  2019-10-01 00:24:00   1.0898\n",
       "  2019-10-01 00:25:00   1.0898\n",
       "  2019-10-01 00:26:00   1.0898\n",
       "  2019-10-01 00:27:00   1.0899\n",
       "  2019-10-01 00:28:00   1.0899\n",
       "  2019-10-01 00:29:00   1.0899\n",
       "  2019-10-01 00:30:00   1.0897\n",
       "  2019-10-01 00:31:00   1.0899\n",
       "  2019-10-01 00:32:00   1.0898\n",
       "  2019-10-01 00:33:00   1.0897\n",
       "  2019-10-01 00:34:00   1.0899\n",
       "  2019-10-01 00:35:00   1.0898\n",
       "  2019-10-01 00:36:00   1.0897\n",
       "  2019-10-01 00:37:00   1.0898\n",
       "  2019-10-01 00:38:00   1.0899\n",
       "  2019-10-01 00:39:00   1.0898\n",
       "  2019-10-01 00:40:00   1.0898\n",
       "  2019-10-01 00:41:00   1.0898\n",
       "  2019-10-01 00:42:00   1.0899\n",
       "  2019-10-01 00:43:00   1.0898\n",
       "  2019-10-01 00:44:00   1.0898\n",
       "  2019-10-01 00:45:00   1.0898\n",
       "  2019-10-01 00:46:00   1.0898\n",
       "  2019-10-01 00:47:00   1.0898\n",
       "  2019-10-01 00:48:00   1.0899\n",
       "  2019-10-01 00:49:00   1.0899\n",
       "  2019-10-01 00:50:00   1.0898\n",
       "  2019-10-01 00:51:00   1.0897\n",
       "  2019-10-01 00:52:00   1.0898\n",
       "  2019-10-01 00:53:00   1.0898\n",
       "  2019-10-01 00:54:00   1.0898\n",
       "  2019-10-01 00:55:00   1.0894\n",
       "  2019-10-01 00:56:00   1.0894\n",
       "  2019-10-01 00:57:00   1.0896\n",
       "  2019-10-01 00:58:00   1.0896\n",
       "  2019-10-01 00:59:00   1.0896),\n",
       " (Timestamp('2019-10-01 01:00:00'),\n",
       "                       EUR_USD\n",
       "  Date                        \n",
       "  2019-10-01 01:00:00   1.0895\n",
       "  2019-10-01 01:01:00   1.0896\n",
       "  2019-10-01 01:02:00   1.0894\n",
       "  2019-10-01 01:03:00   1.0894\n",
       "  2019-10-01 01:04:00   1.0895\n",
       "  2019-10-01 01:05:00   1.0893\n",
       "  2019-10-01 01:06:00   1.0893\n",
       "  2019-10-01 01:07:00   1.0895\n",
       "  2019-10-01 01:08:00   1.0895\n",
       "  2019-10-01 01:09:00   1.0896\n",
       "  2019-10-01 01:10:00   1.0895\n",
       "  2019-10-01 01:11:00   1.0895\n",
       "  2019-10-01 01:12:00   1.0895\n",
       "  2019-10-01 01:13:00   1.0894\n",
       "  2019-10-01 01:14:00   1.0894\n",
       "  2019-10-01 01:15:00   1.0893\n",
       "  2019-10-01 01:16:00   1.0893\n",
       "  2019-10-01 01:17:00   1.0893\n",
       "  2019-10-01 01:18:00   1.0893\n",
       "  2019-10-01 01:19:00   1.0891\n",
       "  2019-10-01 01:20:00   1.0889\n",
       "  2019-10-01 01:21:00   1.0890\n",
       "  2019-10-01 01:22:00   1.0888\n",
       "  2019-10-01 01:23:00   1.0888\n",
       "  2019-10-01 01:24:00   1.0889\n",
       "  2019-10-01 01:25:00   1.0890\n",
       "  2019-10-01 01:26:00   1.0892\n",
       "  2019-10-01 01:27:00   1.0892\n",
       "  2019-10-01 01:28:00   1.0892\n",
       "  2019-10-01 01:29:00   1.0892\n",
       "  2019-10-01 01:30:00   1.0892\n",
       "  2019-10-01 01:31:00   1.0891\n",
       "  2019-10-01 01:32:00   1.0891\n",
       "  2019-10-01 01:33:00   1.0893\n",
       "  2019-10-01 01:34:00   1.0893\n",
       "  2019-10-01 01:35:00   1.0893\n",
       "  2019-10-01 01:36:00   1.0894\n",
       "  2019-10-01 01:37:00   1.0893\n",
       "  2019-10-01 01:38:00   1.0894\n",
       "  2019-10-01 01:39:00   1.0894\n",
       "  2019-10-01 01:40:00   1.0894\n",
       "  2019-10-01 01:41:00   1.0894\n",
       "  2019-10-01 01:42:00   1.0892\n",
       "  2019-10-01 01:43:00   1.0894\n",
       "  2019-10-01 01:44:00   1.0894\n",
       "  2019-10-01 01:45:00   1.0894\n",
       "  2019-10-01 01:46:00   1.0894\n",
       "  2019-10-01 01:47:00   1.0894\n",
       "  2019-10-01 01:48:00   1.0891\n",
       "  2019-10-01 01:49:00   1.0892\n",
       "  2019-10-01 01:50:00   1.0892\n",
       "  2019-10-01 01:51:00   1.0891\n",
       "  2019-10-01 01:52:00   1.0891\n",
       "  2019-10-01 01:53:00   1.0890\n",
       "  2019-10-01 01:54:00   1.0889\n",
       "  2019-10-01 01:55:00   1.0890\n",
       "  2019-10-01 01:56:00   1.0889\n",
       "  2019-10-01 01:57:00   1.0891\n",
       "  2019-10-01 01:58:00   1.0888\n",
       "  2019-10-01 01:59:00   1.0890),\n",
       " (Timestamp('2019-10-01 02:00:00'),\n",
       "                       EUR_USD\n",
       "  Date                        \n",
       "  2019-10-01 02:00:00   1.0889)]"
      ]
     },
     "execution_count": 13,
     "metadata": {},
     "output_type": "execute_result"
    }
   ],
   "execution_count": 13
  },
  {
   "cell_type": "code",
   "metadata": {
    "ExecuteTime": {
     "end_time": "2024-09-22T07:35:26.171484Z",
     "start_time": "2024-09-22T07:35:26.162554Z"
    }
   },
   "source": [
    "data = data.resample('1h', label='right').last().ffill()"
   ],
   "outputs": [],
   "execution_count": 14
  },
  {
   "cell_type": "code",
   "metadata": {
    "ExecuteTime": {
     "end_time": "2024-09-22T07:37:06.100897Z",
     "start_time": "2024-09-22T07:37:06.095244Z"
    }
   },
   "source": [
    "data.info()"
   ],
   "outputs": [
    {
     "name": "stdout",
     "output_type": "stream",
     "text": [
      "<class 'pandas.core.frame.DataFrame'>\n",
      "DatetimeIndex: 2208 entries, 2019-10-01 01:00:00 to 2020-01-01 00:00:00\n",
      "Freq: H\n",
      "Data columns (total 1 columns):\n",
      " #   Column   Non-Null Count  Dtype  \n",
      "---  ------   --------------  -----  \n",
      " 0   EUR_USD  2208 non-null   float64\n",
      "dtypes: float64(1)\n",
      "memory usage: 34.5 KB\n"
     ]
    }
   ],
   "execution_count": 16
  },
  {
   "metadata": {
    "ExecuteTime": {
     "end_time": "2024-09-22T07:38:44.783616Z",
     "start_time": "2024-09-22T07:38:44.779150Z"
    }
   },
   "cell_type": "code",
   "source": "data.head()",
   "outputs": [
    {
     "data": {
      "text/plain": [
       "                     EUR_USD\n",
       "Date                        \n",
       "2019-10-01 01:00:00   1.0896\n",
       "2019-10-01 02:00:00   1.0890\n",
       "2019-10-01 03:00:00   1.0886\n",
       "2019-10-01 04:00:00   1.0888\n",
       "2019-10-01 05:00:00   1.0889"
      ],
      "text/html": [
       "<div>\n",
       "<style scoped>\n",
       "    .dataframe tbody tr th:only-of-type {\n",
       "        vertical-align: middle;\n",
       "    }\n",
       "\n",
       "    .dataframe tbody tr th {\n",
       "        vertical-align: top;\n",
       "    }\n",
       "\n",
       "    .dataframe thead th {\n",
       "        text-align: right;\n",
       "    }\n",
       "</style>\n",
       "<table border=\"1\" class=\"dataframe\">\n",
       "  <thead>\n",
       "    <tr style=\"text-align: right;\">\n",
       "      <th></th>\n",
       "      <th>EUR_USD</th>\n",
       "    </tr>\n",
       "    <tr>\n",
       "      <th>Date</th>\n",
       "      <th></th>\n",
       "    </tr>\n",
       "  </thead>\n",
       "  <tbody>\n",
       "    <tr>\n",
       "      <th>2019-10-01 01:00:00</th>\n",
       "      <td>1.0896</td>\n",
       "    </tr>\n",
       "    <tr>\n",
       "      <th>2019-10-01 02:00:00</th>\n",
       "      <td>1.0890</td>\n",
       "    </tr>\n",
       "    <tr>\n",
       "      <th>2019-10-01 03:00:00</th>\n",
       "      <td>1.0886</td>\n",
       "    </tr>\n",
       "    <tr>\n",
       "      <th>2019-10-01 04:00:00</th>\n",
       "      <td>1.0888</td>\n",
       "    </tr>\n",
       "    <tr>\n",
       "      <th>2019-10-01 05:00:00</th>\n",
       "      <td>1.0889</td>\n",
       "    </tr>\n",
       "  </tbody>\n",
       "</table>\n",
       "</div>"
      ]
     },
     "execution_count": 17,
     "metadata": {},
     "output_type": "execute_result"
    }
   ],
   "execution_count": 17
  },
  {
   "metadata": {
    "ExecuteTime": {
     "end_time": "2024-09-22T07:39:24.369829Z",
     "start_time": "2024-09-22T07:39:24.364186Z"
    }
   },
   "cell_type": "code",
   "source": "data.loc['2019-10-04 21:00:00':'2019-10-06 18:00:00']",
   "outputs": [
    {
     "data": {
      "text/plain": [
       "                     EUR_USD\n",
       "Date                        \n",
       "2019-10-04 21:00:00   1.0977\n",
       "2019-10-04 22:00:00   1.0976\n",
       "2019-10-04 23:00:00   1.0976\n",
       "2019-10-05 00:00:00   1.0976\n",
       "2019-10-05 01:00:00   1.0976\n",
       "2019-10-05 02:00:00   1.0976\n",
       "2019-10-05 03:00:00   1.0976\n",
       "2019-10-05 04:00:00   1.0976\n",
       "2019-10-05 05:00:00   1.0976\n",
       "2019-10-05 06:00:00   1.0976\n",
       "2019-10-05 07:00:00   1.0976\n",
       "2019-10-05 08:00:00   1.0976\n",
       "2019-10-05 09:00:00   1.0976\n",
       "2019-10-05 10:00:00   1.0976\n",
       "2019-10-05 11:00:00   1.0976\n",
       "2019-10-05 12:00:00   1.0976\n",
       "2019-10-05 13:00:00   1.0976\n",
       "2019-10-05 14:00:00   1.0976\n",
       "2019-10-05 15:00:00   1.0976\n",
       "2019-10-05 16:00:00   1.0976\n",
       "2019-10-05 17:00:00   1.0976\n",
       "2019-10-05 18:00:00   1.0976\n",
       "2019-10-05 19:00:00   1.0976\n",
       "2019-10-05 20:00:00   1.0976\n",
       "2019-10-05 21:00:00   1.0976\n",
       "2019-10-05 22:00:00   1.0976\n",
       "2019-10-05 23:00:00   1.0976\n",
       "2019-10-06 00:00:00   1.0976\n",
       "2019-10-06 01:00:00   1.0976\n",
       "2019-10-06 02:00:00   1.0976\n",
       "2019-10-06 03:00:00   1.0976\n",
       "2019-10-06 04:00:00   1.0976\n",
       "2019-10-06 05:00:00   1.0976\n",
       "2019-10-06 06:00:00   1.0976\n",
       "2019-10-06 07:00:00   1.0976\n",
       "2019-10-06 08:00:00   1.0976\n",
       "2019-10-06 09:00:00   1.0976\n",
       "2019-10-06 10:00:00   1.0976\n",
       "2019-10-06 11:00:00   1.0976\n",
       "2019-10-06 12:00:00   1.0976\n",
       "2019-10-06 13:00:00   1.0976\n",
       "2019-10-06 14:00:00   1.0976\n",
       "2019-10-06 15:00:00   1.0976\n",
       "2019-10-06 16:00:00   1.0976\n",
       "2019-10-06 17:00:00   1.0976\n",
       "2019-10-06 18:00:00   1.0977"
      ],
      "text/html": [
       "<div>\n",
       "<style scoped>\n",
       "    .dataframe tbody tr th:only-of-type {\n",
       "        vertical-align: middle;\n",
       "    }\n",
       "\n",
       "    .dataframe tbody tr th {\n",
       "        vertical-align: top;\n",
       "    }\n",
       "\n",
       "    .dataframe thead th {\n",
       "        text-align: right;\n",
       "    }\n",
       "</style>\n",
       "<table border=\"1\" class=\"dataframe\">\n",
       "  <thead>\n",
       "    <tr style=\"text-align: right;\">\n",
       "      <th></th>\n",
       "      <th>EUR_USD</th>\n",
       "    </tr>\n",
       "    <tr>\n",
       "      <th>Date</th>\n",
       "      <th></th>\n",
       "    </tr>\n",
       "  </thead>\n",
       "  <tbody>\n",
       "    <tr>\n",
       "      <th>2019-10-04 21:00:00</th>\n",
       "      <td>1.0977</td>\n",
       "    </tr>\n",
       "    <tr>\n",
       "      <th>2019-10-04 22:00:00</th>\n",
       "      <td>1.0976</td>\n",
       "    </tr>\n",
       "    <tr>\n",
       "      <th>2019-10-04 23:00:00</th>\n",
       "      <td>1.0976</td>\n",
       "    </tr>\n",
       "    <tr>\n",
       "      <th>2019-10-05 00:00:00</th>\n",
       "      <td>1.0976</td>\n",
       "    </tr>\n",
       "    <tr>\n",
       "      <th>2019-10-05 01:00:00</th>\n",
       "      <td>1.0976</td>\n",
       "    </tr>\n",
       "    <tr>\n",
       "      <th>2019-10-05 02:00:00</th>\n",
       "      <td>1.0976</td>\n",
       "    </tr>\n",
       "    <tr>\n",
       "      <th>2019-10-05 03:00:00</th>\n",
       "      <td>1.0976</td>\n",
       "    </tr>\n",
       "    <tr>\n",
       "      <th>2019-10-05 04:00:00</th>\n",
       "      <td>1.0976</td>\n",
       "    </tr>\n",
       "    <tr>\n",
       "      <th>2019-10-05 05:00:00</th>\n",
       "      <td>1.0976</td>\n",
       "    </tr>\n",
       "    <tr>\n",
       "      <th>2019-10-05 06:00:00</th>\n",
       "      <td>1.0976</td>\n",
       "    </tr>\n",
       "    <tr>\n",
       "      <th>2019-10-05 07:00:00</th>\n",
       "      <td>1.0976</td>\n",
       "    </tr>\n",
       "    <tr>\n",
       "      <th>2019-10-05 08:00:00</th>\n",
       "      <td>1.0976</td>\n",
       "    </tr>\n",
       "    <tr>\n",
       "      <th>2019-10-05 09:00:00</th>\n",
       "      <td>1.0976</td>\n",
       "    </tr>\n",
       "    <tr>\n",
       "      <th>2019-10-05 10:00:00</th>\n",
       "      <td>1.0976</td>\n",
       "    </tr>\n",
       "    <tr>\n",
       "      <th>2019-10-05 11:00:00</th>\n",
       "      <td>1.0976</td>\n",
       "    </tr>\n",
       "    <tr>\n",
       "      <th>2019-10-05 12:00:00</th>\n",
       "      <td>1.0976</td>\n",
       "    </tr>\n",
       "    <tr>\n",
       "      <th>2019-10-05 13:00:00</th>\n",
       "      <td>1.0976</td>\n",
       "    </tr>\n",
       "    <tr>\n",
       "      <th>2019-10-05 14:00:00</th>\n",
       "      <td>1.0976</td>\n",
       "    </tr>\n",
       "    <tr>\n",
       "      <th>2019-10-05 15:00:00</th>\n",
       "      <td>1.0976</td>\n",
       "    </tr>\n",
       "    <tr>\n",
       "      <th>2019-10-05 16:00:00</th>\n",
       "      <td>1.0976</td>\n",
       "    </tr>\n",
       "    <tr>\n",
       "      <th>2019-10-05 17:00:00</th>\n",
       "      <td>1.0976</td>\n",
       "    </tr>\n",
       "    <tr>\n",
       "      <th>2019-10-05 18:00:00</th>\n",
       "      <td>1.0976</td>\n",
       "    </tr>\n",
       "    <tr>\n",
       "      <th>2019-10-05 19:00:00</th>\n",
       "      <td>1.0976</td>\n",
       "    </tr>\n",
       "    <tr>\n",
       "      <th>2019-10-05 20:00:00</th>\n",
       "      <td>1.0976</td>\n",
       "    </tr>\n",
       "    <tr>\n",
       "      <th>2019-10-05 21:00:00</th>\n",
       "      <td>1.0976</td>\n",
       "    </tr>\n",
       "    <tr>\n",
       "      <th>2019-10-05 22:00:00</th>\n",
       "      <td>1.0976</td>\n",
       "    </tr>\n",
       "    <tr>\n",
       "      <th>2019-10-05 23:00:00</th>\n",
       "      <td>1.0976</td>\n",
       "    </tr>\n",
       "    <tr>\n",
       "      <th>2019-10-06 00:00:00</th>\n",
       "      <td>1.0976</td>\n",
       "    </tr>\n",
       "    <tr>\n",
       "      <th>2019-10-06 01:00:00</th>\n",
       "      <td>1.0976</td>\n",
       "    </tr>\n",
       "    <tr>\n",
       "      <th>2019-10-06 02:00:00</th>\n",
       "      <td>1.0976</td>\n",
       "    </tr>\n",
       "    <tr>\n",
       "      <th>2019-10-06 03:00:00</th>\n",
       "      <td>1.0976</td>\n",
       "    </tr>\n",
       "    <tr>\n",
       "      <th>2019-10-06 04:00:00</th>\n",
       "      <td>1.0976</td>\n",
       "    </tr>\n",
       "    <tr>\n",
       "      <th>2019-10-06 05:00:00</th>\n",
       "      <td>1.0976</td>\n",
       "    </tr>\n",
       "    <tr>\n",
       "      <th>2019-10-06 06:00:00</th>\n",
       "      <td>1.0976</td>\n",
       "    </tr>\n",
       "    <tr>\n",
       "      <th>2019-10-06 07:00:00</th>\n",
       "      <td>1.0976</td>\n",
       "    </tr>\n",
       "    <tr>\n",
       "      <th>2019-10-06 08:00:00</th>\n",
       "      <td>1.0976</td>\n",
       "    </tr>\n",
       "    <tr>\n",
       "      <th>2019-10-06 09:00:00</th>\n",
       "      <td>1.0976</td>\n",
       "    </tr>\n",
       "    <tr>\n",
       "      <th>2019-10-06 10:00:00</th>\n",
       "      <td>1.0976</td>\n",
       "    </tr>\n",
       "    <tr>\n",
       "      <th>2019-10-06 11:00:00</th>\n",
       "      <td>1.0976</td>\n",
       "    </tr>\n",
       "    <tr>\n",
       "      <th>2019-10-06 12:00:00</th>\n",
       "      <td>1.0976</td>\n",
       "    </tr>\n",
       "    <tr>\n",
       "      <th>2019-10-06 13:00:00</th>\n",
       "      <td>1.0976</td>\n",
       "    </tr>\n",
       "    <tr>\n",
       "      <th>2019-10-06 14:00:00</th>\n",
       "      <td>1.0976</td>\n",
       "    </tr>\n",
       "    <tr>\n",
       "      <th>2019-10-06 15:00:00</th>\n",
       "      <td>1.0976</td>\n",
       "    </tr>\n",
       "    <tr>\n",
       "      <th>2019-10-06 16:00:00</th>\n",
       "      <td>1.0976</td>\n",
       "    </tr>\n",
       "    <tr>\n",
       "      <th>2019-10-06 17:00:00</th>\n",
       "      <td>1.0976</td>\n",
       "    </tr>\n",
       "    <tr>\n",
       "      <th>2019-10-06 18:00:00</th>\n",
       "      <td>1.0977</td>\n",
       "    </tr>\n",
       "  </tbody>\n",
       "</table>\n",
       "</div>"
      ]
     },
     "execution_count": 18,
     "metadata": {},
     "output_type": "execute_result"
    }
   ],
   "execution_count": 18
  },
  {
   "cell_type": "code",
   "metadata": {
    "ExecuteTime": {
     "end_time": "2024-09-22T07:45:44.260489Z",
     "start_time": "2024-09-22T07:45:44.135711Z"
    }
   },
   "source": [
    "data.plot(figsize=(10, 6));"
   ],
   "outputs": [
    {
     "data": {
      "text/plain": [
       "<Figure size 1000x600 with 1 Axes>"
      ],
      "image/png": "[encoded data removed]"
     },
     "metadata": {},
     "output_type": "display_data"
    }
   ],
   "execution_count": 19
  },
  {
   "cell_type": "markdown",
   "metadata": {},
   "source": [
    "## Baseline Prediction"
   ]
  },
  {
   "cell_type": "code",
   "metadata": {
    "ExecuteTime": {
     "end_time": "2024-09-22T07:45:48.441027Z",
     "start_time": "2024-09-22T07:45:48.438878Z"
    }
   },
   "source": [
    "lags = 5"
   ],
   "outputs": [],
   "execution_count": 20
  },
  {
   "cell_type": "code",
   "metadata": {
    "ExecuteTime": {
     "end_time": "2024-09-22T07:56:27.994571Z",
     "start_time": "2024-09-22T07:56:27.986566Z"
    }
   },
   "source": [
    "def add_lags(data, symbol, lags, window=20):\n",
    "    cols = []\n",
    "    df = data.copy()\n",
    "    df.dropna(inplace=True)\n",
    "    df['r'] = np.log(df / df.shift())\n",
    "    df['sma'] = df[symbol].rolling(window).mean()\n",
    "    df['min'] = df[symbol].rolling(window).min()\n",
    "    df['max'] = df[symbol].rolling(window).max()\n",
    "    df['mom'] = df['r'].rolling(window).mean()\n",
    "    df['vol'] = df['r'].rolling(window).std()\n",
    "    df.dropna(inplace=True)\n",
    "    df['d'] = np.where(df['r'] > 0, 1, 0)\n",
    "    features = [symbol, 'r', 'd', 'sma', 'min', 'max', 'mom', 'vol']\n",
    "    for f in features:\n",
    "        for lag in range(1, lags + 1):\n",
    "            col = f'{f}_lag_{lag}'\n",
    "            df[col] = df[f].shift(lag)\n",
    "            cols.append(col)\n",
    "    df.dropna(inplace=True)\n",
    "    return df, cols"
   ],
   "outputs": [],
   "execution_count": 27
  },
  {
   "cell_type": "code",
   "metadata": {
    "ExecuteTime": {
     "end_time": "2024-09-22T07:56:31.141699Z",
     "start_time": "2024-09-22T07:56:31.051463Z"
    }
   },
   "source": [
    "data, cols = add_lags(data, symbol, lags)"
   ],
   "outputs": [
    {
     "name": "stderr",
     "output_type": "stream",
     "text": [
      "/Users/zhengshuang/miniconda3/envs/aiif/lib/python3.10/site-packages/pandas/core/internals/blocks.py:366: RuntimeWarning: divide by zero encountered in log\n",
      "  result = func(self.values, **kwargs)\n",
      "/Users/zhengshuang/miniconda3/envs/aiif/lib/python3.10/site-packages/pandas/core/internals/blocks.py:366: RuntimeWarning: invalid value encountered in log\n",
      "  result = func(self.values, **kwargs)\n"
     ]
    },
    {
     "ename": "ValueError",
     "evalue": "Columns must be same length as key",
     "output_type": "error",
     "traceback": [
      "\u001B[0;31m---------------------------------------------------------------------------\u001B[0m",
      "\u001B[0;31mValueError\u001B[0m                                Traceback (most recent call last)",
      "\u001B[0;32m/var/folders/dv/ly5hp_ms3bd9753868lg6c5w0000gn/T/ipykernel_74207/3374203011.py\u001B[0m in \u001B[0;36m?\u001B[0;34m()\u001B[0m\n\u001B[0;32m----> 1\u001B[0;31m \u001B[0mdata\u001B[0m\u001B[0;34m,\u001B[0m \u001B[0mcols\u001B[0m \u001B[0;34m=\u001B[0m \u001B[0madd_lags\u001B[0m\u001B[0;34m(\u001B[0m\u001B[0mdata\u001B[0m\u001B[0;34m,\u001B[0m \u001B[0msymbol\u001B[0m\u001B[0;34m,\u001B[0m \u001B[0mlags\u001B[0m\u001B[0;34m)\u001B[0m\u001B[0;34m\u001B[0m\u001B[0;34m\u001B[0m\u001B[0m\n\u001B[0m",
      "\u001B[0;32m/var/folders/dv/ly5hp_ms3bd9753868lg6c5w0000gn/T/ipykernel_74207/2710013092.py\u001B[0m in \u001B[0;36m?\u001B[0;34m(data, symbol, lags, window)\u001B[0m\n\u001B[1;32m      1\u001B[0m \u001B[0;32mdef\u001B[0m \u001B[0madd_lags\u001B[0m\u001B[0;34m(\u001B[0m\u001B[0mdata\u001B[0m\u001B[0;34m,\u001B[0m \u001B[0msymbol\u001B[0m\u001B[0;34m,\u001B[0m \u001B[0mlags\u001B[0m\u001B[0;34m,\u001B[0m \u001B[0mwindow\u001B[0m\u001B[0;34m=\u001B[0m\u001B[0;36m20\u001B[0m\u001B[0;34m)\u001B[0m\u001B[0;34m:\u001B[0m\u001B[0;34m\u001B[0m\u001B[0;34m\u001B[0m\u001B[0m\n\u001B[1;32m      2\u001B[0m     \u001B[0mcols\u001B[0m \u001B[0;34m=\u001B[0m \u001B[0;34m[\u001B[0m\u001B[0;34m]\u001B[0m\u001B[0;34m\u001B[0m\u001B[0;34m\u001B[0m\u001B[0m\n\u001B[1;32m      3\u001B[0m     \u001B[0mdf\u001B[0m \u001B[0;34m=\u001B[0m \u001B[0mdata\u001B[0m\u001B[0;34m.\u001B[0m\u001B[0mcopy\u001B[0m\u001B[0;34m(\u001B[0m\u001B[0;34m)\u001B[0m\u001B[0;34m\u001B[0m\u001B[0;34m\u001B[0m\u001B[0m\n\u001B[1;32m      4\u001B[0m     \u001B[0mdf\u001B[0m\u001B[0;34m.\u001B[0m\u001B[0mdropna\u001B[0m\u001B[0;34m(\u001B[0m\u001B[0minplace\u001B[0m\u001B[0;34m=\u001B[0m\u001B[0;32mTrue\u001B[0m\u001B[0;34m)\u001B[0m\u001B[0;34m\u001B[0m\u001B[0;34m\u001B[0m\u001B[0m\n\u001B[0;32m----> 5\u001B[0;31m     \u001B[0mdf\u001B[0m\u001B[0;34m[\u001B[0m\u001B[0;34m'r'\u001B[0m\u001B[0;34m]\u001B[0m \u001B[0;34m=\u001B[0m \u001B[0mnp\u001B[0m\u001B[0;34m.\u001B[0m\u001B[0mlog\u001B[0m\u001B[0;34m(\u001B[0m\u001B[0mdf\u001B[0m \u001B[0;34m/\u001B[0m \u001B[0mdf\u001B[0m\u001B[0;34m.\u001B[0m\u001B[0mshift\u001B[0m\u001B[0;34m(\u001B[0m\u001B[0;34m)\u001B[0m\u001B[0;34m)\u001B[0m\u001B[0;34m\u001B[0m\u001B[0;34m\u001B[0m\u001B[0m\n\u001B[0m\u001B[1;32m      6\u001B[0m     \u001B[0mdf\u001B[0m\u001B[0;34m[\u001B[0m\u001B[0;34m'sma'\u001B[0m\u001B[0;34m]\u001B[0m \u001B[0;34m=\u001B[0m \u001B[0mdf\u001B[0m\u001B[0;34m[\u001B[0m\u001B[0msymbol\u001B[0m\u001B[0;34m]\u001B[0m\u001B[0;34m.\u001B[0m\u001B[0mrolling\u001B[0m\u001B[0;34m(\u001B[0m\u001B[0mwindow\u001B[0m\u001B[0;34m)\u001B[0m\u001B[0;34m.\u001B[0m\u001B[0mmean\u001B[0m\u001B[0;34m(\u001B[0m\u001B[0;34m)\u001B[0m\u001B[0;34m\u001B[0m\u001B[0;34m\u001B[0m\u001B[0m\n\u001B[1;32m      7\u001B[0m     \u001B[0mdf\u001B[0m\u001B[0;34m[\u001B[0m\u001B[0;34m'min'\u001B[0m\u001B[0;34m]\u001B[0m \u001B[0;34m=\u001B[0m \u001B[0mdf\u001B[0m\u001B[0;34m[\u001B[0m\u001B[0msymbol\u001B[0m\u001B[0;34m]\u001B[0m\u001B[0;34m.\u001B[0m\u001B[0mrolling\u001B[0m\u001B[0;34m(\u001B[0m\u001B[0mwindow\u001B[0m\u001B[0;34m)\u001B[0m\u001B[0;34m.\u001B[0m\u001B[0mmin\u001B[0m\u001B[0;34m(\u001B[0m\u001B[0;34m)\u001B[0m\u001B[0;34m\u001B[0m\u001B[0;34m\u001B[0m\u001B[0m\n\u001B[1;32m      8\u001B[0m     \u001B[0mdf\u001B[0m\u001B[0;34m[\u001B[0m\u001B[0;34m'max'\u001B[0m\u001B[0;34m]\u001B[0m \u001B[0;34m=\u001B[0m \u001B[0mdf\u001B[0m\u001B[0;34m[\u001B[0m\u001B[0msymbol\u001B[0m\u001B[0;34m]\u001B[0m\u001B[0;34m.\u001B[0m\u001B[0mrolling\u001B[0m\u001B[0;34m(\u001B[0m\u001B[0mwindow\u001B[0m\u001B[0;34m)\u001B[0m\u001B[0;34m.\u001B[0m\u001B[0mmax\u001B[0m\u001B[0;34m(\u001B[0m\u001B[0;34m)\u001B[0m\u001B[0;34m\u001B[0m\u001B[0;34m\u001B[0m\u001B[0m\n",
      "\u001B[0;32m~/miniconda3/envs/aiif/lib/python3.10/site-packages/pandas/core/frame.py\u001B[0m in \u001B[0;36m?\u001B[0;34m(self, key, value)\u001B[0m\n\u001B[1;32m   4080\u001B[0m             \u001B[0mself\u001B[0m\u001B[0;34m.\u001B[0m\u001B[0m_setitem_frame\u001B[0m\u001B[0;34m(\u001B[0m\u001B[0mkey\u001B[0m\u001B[0;34m,\u001B[0m \u001B[0mvalue\u001B[0m\u001B[0;34m)\u001B[0m\u001B[0;34m\u001B[0m\u001B[0;34m\u001B[0m\u001B[0m\n\u001B[1;32m   4081\u001B[0m         \u001B[0;32melif\u001B[0m \u001B[0misinstance\u001B[0m\u001B[0;34m(\u001B[0m\u001B[0mkey\u001B[0m\u001B[0;34m,\u001B[0m \u001B[0;34m(\u001B[0m\u001B[0mSeries\u001B[0m\u001B[0;34m,\u001B[0m \u001B[0mnp\u001B[0m\u001B[0;34m.\u001B[0m\u001B[0mndarray\u001B[0m\u001B[0;34m,\u001B[0m \u001B[0mlist\u001B[0m\u001B[0;34m,\u001B[0m \u001B[0mIndex\u001B[0m\u001B[0;34m)\u001B[0m\u001B[0;34m)\u001B[0m\u001B[0;34m:\u001B[0m\u001B[0;34m\u001B[0m\u001B[0;34m\u001B[0m\u001B[0m\n\u001B[1;32m   4082\u001B[0m             \u001B[0mself\u001B[0m\u001B[0;34m.\u001B[0m\u001B[0m_setitem_array\u001B[0m\u001B[0;34m(\u001B[0m\u001B[0mkey\u001B[0m\u001B[0;34m,\u001B[0m \u001B[0mvalue\u001B[0m\u001B[0;34m)\u001B[0m\u001B[0;34m\u001B[0m\u001B[0;34m\u001B[0m\u001B[0m\n\u001B[1;32m   4083\u001B[0m         \u001B[0;32melif\u001B[0m \u001B[0misinstance\u001B[0m\u001B[0;34m(\u001B[0m\u001B[0mvalue\u001B[0m\u001B[0;34m,\u001B[0m \u001B[0mDataFrame\u001B[0m\u001B[0;34m)\u001B[0m\u001B[0;34m:\u001B[0m\u001B[0;34m\u001B[0m\u001B[0;34m\u001B[0m\u001B[0m\n\u001B[0;32m-> 4084\u001B[0;31m             \u001B[0mself\u001B[0m\u001B[0;34m.\u001B[0m\u001B[0m_set_item_frame_value\u001B[0m\u001B[0;34m(\u001B[0m\u001B[0mkey\u001B[0m\u001B[0;34m,\u001B[0m \u001B[0mvalue\u001B[0m\u001B[0;34m)\u001B[0m\u001B[0;34m\u001B[0m\u001B[0;34m\u001B[0m\u001B[0m\n\u001B[0m\u001B[1;32m   4085\u001B[0m         elif (\n\u001B[1;32m   4086\u001B[0m             \u001B[0mis_list_like\u001B[0m\u001B[0;34m(\u001B[0m\u001B[0mvalue\u001B[0m\u001B[0;34m)\u001B[0m\u001B[0;34m\u001B[0m\u001B[0;34m\u001B[0m\u001B[0m\n\u001B[1;32m   4087\u001B[0m             \u001B[0;32mand\u001B[0m \u001B[0;32mnot\u001B[0m \u001B[0mself\u001B[0m\u001B[0;34m.\u001B[0m\u001B[0mcolumns\u001B[0m\u001B[0;34m.\u001B[0m\u001B[0mis_unique\u001B[0m\u001B[0;34m\u001B[0m\u001B[0;34m\u001B[0m\u001B[0m\n",
      "\u001B[0;32m~/miniconda3/envs/aiif/lib/python3.10/site-packages/pandas/core/frame.py\u001B[0m in \u001B[0;36m?\u001B[0;34m(self, key, value)\u001B[0m\n\u001B[1;32m   4208\u001B[0m             \u001B[0mloc\u001B[0m \u001B[0;34m=\u001B[0m \u001B[0mself\u001B[0m\u001B[0;34m.\u001B[0m\u001B[0mcolumns\u001B[0m\u001B[0;34m.\u001B[0m\u001B[0mget_loc\u001B[0m\u001B[0;34m(\u001B[0m\u001B[0mkey\u001B[0m\u001B[0;34m)\u001B[0m\u001B[0;34m\u001B[0m\u001B[0;34m\u001B[0m\u001B[0m\n\u001B[1;32m   4209\u001B[0m             \u001B[0mcols\u001B[0m \u001B[0;34m=\u001B[0m \u001B[0mself\u001B[0m\u001B[0;34m.\u001B[0m\u001B[0mcolumns\u001B[0m\u001B[0;34m[\u001B[0m\u001B[0mloc\u001B[0m\u001B[0;34m]\u001B[0m\u001B[0;34m\u001B[0m\u001B[0;34m\u001B[0m\u001B[0m\n\u001B[1;32m   4210\u001B[0m             \u001B[0mlen_cols\u001B[0m \u001B[0;34m=\u001B[0m \u001B[0;36m1\u001B[0m \u001B[0;32mif\u001B[0m \u001B[0mis_scalar\u001B[0m\u001B[0;34m(\u001B[0m\u001B[0mcols\u001B[0m\u001B[0;34m)\u001B[0m \u001B[0;32mor\u001B[0m \u001B[0misinstance\u001B[0m\u001B[0;34m(\u001B[0m\u001B[0mcols\u001B[0m\u001B[0;34m,\u001B[0m \u001B[0mtuple\u001B[0m\u001B[0;34m)\u001B[0m \u001B[0;32melse\u001B[0m \u001B[0mlen\u001B[0m\u001B[0;34m(\u001B[0m\u001B[0mcols\u001B[0m\u001B[0;34m)\u001B[0m\u001B[0;34m\u001B[0m\u001B[0;34m\u001B[0m\u001B[0m\n\u001B[1;32m   4211\u001B[0m             \u001B[0;32mif\u001B[0m \u001B[0mlen_cols\u001B[0m \u001B[0;34m!=\u001B[0m \u001B[0mlen\u001B[0m\u001B[0;34m(\u001B[0m\u001B[0mvalue\u001B[0m\u001B[0;34m.\u001B[0m\u001B[0mcolumns\u001B[0m\u001B[0;34m)\u001B[0m\u001B[0;34m:\u001B[0m\u001B[0;34m\u001B[0m\u001B[0;34m\u001B[0m\u001B[0m\n\u001B[0;32m-> 4212\u001B[0;31m                 \u001B[0;32mraise\u001B[0m \u001B[0mValueError\u001B[0m\u001B[0;34m(\u001B[0m\u001B[0;34m\"Columns must be same length as key\"\u001B[0m\u001B[0;34m)\u001B[0m\u001B[0;34m\u001B[0m\u001B[0;34m\u001B[0m\u001B[0m\n\u001B[0m\u001B[1;32m   4213\u001B[0m \u001B[0;34m\u001B[0m\u001B[0m\n\u001B[1;32m   4214\u001B[0m             \u001B[0;31m# align right-hand-side columns if self.columns\u001B[0m\u001B[0;34m\u001B[0m\u001B[0;34m\u001B[0m\u001B[0m\n\u001B[1;32m   4215\u001B[0m             \u001B[0;31m# is multi-index and self[key] is a sub-frame\u001B[0m\u001B[0;34m\u001B[0m\u001B[0;34m\u001B[0m\u001B[0m\n",
      "\u001B[0;31mValueError\u001B[0m: Columns must be same length as key"
     ]
    }
   ],
   "execution_count": 28
  },
  {
   "metadata": {
    "ExecuteTime": {
     "end_time": "2024-09-22T07:56:36.573548Z",
     "start_time": "2024-09-22T07:56:36.560015Z"
    }
   },
   "cell_type": "code",
   "source": "data",
   "outputs": [
    {
     "data": {
      "text/plain": [
       "                     EUR_USD           r     sma     min     max         mom  \\\n",
       "Date                                                                           \n",
       "2019-10-02 02:00:00   1.0937 -9.1429e-05  1.0916  1.0879  1.0938  2.2911e-04   \n",
       "2019-10-02 03:00:00   1.0937  0.0000e+00  1.0918  1.0885  1.0938  2.6586e-04   \n",
       "2019-10-02 04:00:00   1.0936 -9.1437e-05  1.0921  1.0886  1.0938  2.3372e-04   \n",
       "2019-10-02 05:00:00   1.0933 -2.7436e-04  1.0923  1.0886  1.0938  1.8786e-04   \n",
       "2019-10-02 06:00:00   1.0935  1.8292e-04  1.0925  1.0886  1.0938  1.9700e-04   \n",
       "...                      ...         ...     ...     ...     ...         ...   \n",
       "2019-12-31 20:00:00   1.1216 -5.3481e-04  1.1216  1.1201  1.1238  4.9061e-05   \n",
       "2019-12-31 21:00:00   1.1215 -8.9162e-05  1.1216  1.1201  1.1238  3.5679e-05   \n",
       "2019-12-31 22:00:00   1.1208 -6.2436e-04  1.1216  1.1201  1.1238 -1.7841e-05   \n",
       "2019-12-31 23:00:00   1.1211  2.6763e-04  1.1216  1.1201  1.1238  8.9206e-06   \n",
       "2020-01-01 00:00:00   1.1211  0.0000e+00  1.1216  1.1201  1.1238  1.7843e-05   \n",
       "\n",
       "                        vol  d  EUR_USD_lag_1  EUR_USD_lag_2  ...   mom_lag_1  \\\n",
       "Date                                                          ...               \n",
       "2019-10-02 02:00:00  0.0008  0         1.0938         1.0932  ...  2.2449e-04   \n",
       "2019-10-02 03:00:00  0.0008  0         1.0937         1.0938  ...  2.2911e-04   \n",
       "2019-10-02 04:00:00  0.0008  0         1.0937         1.0937  ...  2.6586e-04   \n",
       "2019-10-02 05:00:00  0.0008  0         1.0936         1.0937  ...  2.3372e-04   \n",
       "2019-10-02 06:00:00  0.0008  1         1.0933         1.0936  ...  1.8786e-04   \n",
       "...                     ... ..            ...            ...  ...         ...   \n",
       "2019-12-31 20:00:00  0.0006  0         1.1222         1.1226  ...  9.8118e-05   \n",
       "2019-12-31 21:00:00  0.0006  0         1.1216         1.1222  ...  4.9061e-05   \n",
       "2019-12-31 22:00:00  0.0007  0         1.1215         1.1216  ...  3.5679e-05   \n",
       "2019-12-31 23:00:00  0.0007  1         1.1208         1.1215  ... -1.7841e-05   \n",
       "2020-01-01 00:00:00  0.0007  0         1.1211         1.1208  ...  8.9206e-06   \n",
       "\n",
       "                      mom_lag_2   mom_lag_3   mom_lag_4   mom_lag_5  \\\n",
       "Date                                                                  \n",
       "2019-10-02 02:00:00  2.0165e-04  2.0626e-04  1.8789e-04  1.6035e-04   \n",
       "2019-10-02 03:00:00  2.2449e-04  2.0165e-04  2.0626e-04  1.8789e-04   \n",
       "2019-10-02 04:00:00  2.2911e-04  2.2449e-04  2.0165e-04  2.0626e-04   \n",
       "2019-10-02 05:00:00  2.6586e-04  2.2911e-04  2.2449e-04  2.0165e-04   \n",
       "2019-10-02 06:00:00  2.3372e-04  2.6586e-04  2.2911e-04  2.2449e-04   \n",
       "...                         ...         ...         ...         ...   \n",
       "2019-12-31 20:00:00  1.0255e-04  1.2935e-04  1.0258e-04  7.1371e-05   \n",
       "2019-12-31 21:00:00  9.8118e-05  1.0255e-04  1.2935e-04  1.0258e-04   \n",
       "2019-12-31 22:00:00  4.9061e-05  9.8118e-05  1.0255e-04  1.2935e-04   \n",
       "2019-12-31 23:00:00  3.5679e-05  4.9061e-05  9.8118e-05  1.0255e-04   \n",
       "2020-01-01 00:00:00 -1.7841e-05  3.5679e-05  4.9061e-05  9.8118e-05   \n",
       "\n",
       "                     vol_lag_1  vol_lag_2  vol_lag_3  vol_lag_4  vol_lag_5  \n",
       "Date                                                                        \n",
       "2019-10-02 02:00:00     0.0008     0.0008     0.0008     0.0008     0.0008  \n",
       "2019-10-02 03:00:00     0.0008     0.0008     0.0008     0.0008     0.0008  \n",
       "2019-10-02 04:00:00     0.0008     0.0008     0.0008     0.0008     0.0008  \n",
       "2019-10-02 05:00:00     0.0008     0.0008     0.0008     0.0008     0.0008  \n",
       "2019-10-02 06:00:00     0.0008     0.0008     0.0008     0.0008     0.0008  \n",
       "...                        ...        ...        ...        ...        ...  \n",
       "2019-12-31 20:00:00     0.0006     0.0006     0.0006     0.0007     0.0007  \n",
       "2019-12-31 21:00:00     0.0006     0.0006     0.0006     0.0006     0.0007  \n",
       "2019-12-31 22:00:00     0.0006     0.0006     0.0006     0.0006     0.0006  \n",
       "2019-12-31 23:00:00     0.0007     0.0006     0.0006     0.0006     0.0006  \n",
       "2020-01-01 00:00:00     0.0007     0.0007     0.0006     0.0006     0.0006  \n",
       "\n",
       "[2183 rows x 48 columns]"
      ],
      "text/html": [
       "<div>\n",
       "<style scoped>\n",
       "    .dataframe tbody tr th:only-of-type {\n",
       "        vertical-align: middle;\n",
       "    }\n",
       "\n",
       "    .dataframe tbody tr th {\n",
       "        vertical-align: top;\n",
       "    }\n",
       "\n",
       "    .dataframe thead th {\n",
       "        text-align: right;\n",
       "    }\n",
       "</style>\n",
       "<table border=\"1\" class=\"dataframe\">\n",
       "  <thead>\n",
       "    <tr style=\"text-align: right;\">\n",
       "      <th></th>\n",
       "      <th>EUR_USD</th>\n",
       "      <th>r</th>\n",
       "      <th>sma</th>\n",
       "      <th>min</th>\n",
       "      <th>max</th>\n",
       "      <th>mom</th>\n",
       "      <th>vol</th>\n",
       "      <th>d</th>\n",
       "      <th>EUR_USD_lag_1</th>\n",
       "      <th>EUR_USD_lag_2</th>\n",
       "      <th>...</th>\n",
       "      <th>mom_lag_1</th>\n",
       "      <th>mom_lag_2</th>\n",
       "      <th>mom_lag_3</th>\n",
       "      <th>mom_lag_4</th>\n",
       "      <th>mom_lag_5</th>\n",
       "      <th>vol_lag_1</th>\n",
       "      <th>vol_lag_2</th>\n",
       "      <th>vol_lag_3</th>\n",
       "      <th>vol_lag_4</th>\n",
       "      <th>vol_lag_5</th>\n",
       "    </tr>\n",
       "    <tr>\n",
       "      <th>Date</th>\n",
       "      <th></th>\n",
       "      <th></th>\n",
       "      <th></th>\n",
       "      <th></th>\n",
       "      <th></th>\n",
       "      <th></th>\n",
       "      <th></th>\n",
       "      <th></th>\n",
       "      <th></th>\n",
       "      <th></th>\n",
       "      <th></th>\n",
       "      <th></th>\n",
       "      <th></th>\n",
       "      <th></th>\n",
       "      <th></th>\n",
       "      <th></th>\n",
       "      <th></th>\n",
       "      <th></th>\n",
       "      <th></th>\n",
       "      <th></th>\n",
       "      <th></th>\n",
       "    </tr>\n",
       "  </thead>\n",
       "  <tbody>\n",
       "    <tr>\n",
       "      <th>2019-10-02 02:00:00</th>\n",
       "      <td>1.0937</td>\n",
       "      <td>-9.1429e-05</td>\n",
       "      <td>1.0916</td>\n",
       "      <td>1.0879</td>\n",
       "      <td>1.0938</td>\n",
       "      <td>2.2911e-04</td>\n",
       "      <td>0.0008</td>\n",
       "      <td>0</td>\n",
       "      <td>1.0938</td>\n",
       "      <td>1.0932</td>\n",
       "      <td>...</td>\n",
       "      <td>2.2449e-04</td>\n",
       "      <td>2.0165e-04</td>\n",
       "      <td>2.0626e-04</td>\n",
       "      <td>1.8789e-04</td>\n",
       "      <td>1.6035e-04</td>\n",
       "      <td>0.0008</td>\n",
       "      <td>0.0008</td>\n",
       "      <td>0.0008</td>\n",
       "      <td>0.0008</td>\n",
       "      <td>0.0008</td>\n",
       "    </tr>\n",
       "    <tr>\n",
       "      <th>2019-10-02 03:00:00</th>\n",
       "      <td>1.0937</td>\n",
       "      <td>0.0000e+00</td>\n",
       "      <td>1.0918</td>\n",
       "      <td>1.0885</td>\n",
       "      <td>1.0938</td>\n",
       "      <td>2.6586e-04</td>\n",
       "      <td>0.0008</td>\n",
       "      <td>0</td>\n",
       "      <td>1.0937</td>\n",
       "      <td>1.0938</td>\n",
       "      <td>...</td>\n",
       "      <td>2.2911e-04</td>\n",
       "      <td>2.2449e-04</td>\n",
       "      <td>2.0165e-04</td>\n",
       "      <td>2.0626e-04</td>\n",
       "      <td>1.8789e-04</td>\n",
       "      <td>0.0008</td>\n",
       "      <td>0.0008</td>\n",
       "      <td>0.0008</td>\n",
       "      <td>0.0008</td>\n",
       "      <td>0.0008</td>\n",
       "    </tr>\n",
       "    <tr>\n",
       "      <th>2019-10-02 04:00:00</th>\n",
       "      <td>1.0936</td>\n",
       "      <td>-9.1437e-05</td>\n",
       "      <td>1.0921</td>\n",
       "      <td>1.0886</td>\n",
       "      <td>1.0938</td>\n",
       "      <td>2.3372e-04</td>\n",
       "      <td>0.0008</td>\n",
       "      <td>0</td>\n",
       "      <td>1.0937</td>\n",
       "      <td>1.0937</td>\n",
       "      <td>...</td>\n",
       "      <td>2.6586e-04</td>\n",
       "      <td>2.2911e-04</td>\n",
       "      <td>2.2449e-04</td>\n",
       "      <td>2.0165e-04</td>\n",
       "      <td>2.0626e-04</td>\n",
       "      <td>0.0008</td>\n",
       "      <td>0.0008</td>\n",
       "      <td>0.0008</td>\n",
       "      <td>0.0008</td>\n",
       "      <td>0.0008</td>\n",
       "    </tr>\n",
       "    <tr>\n",
       "      <th>2019-10-02 05:00:00</th>\n",
       "      <td>1.0933</td>\n",
       "      <td>-2.7436e-04</td>\n",
       "      <td>1.0923</td>\n",
       "      <td>1.0886</td>\n",
       "      <td>1.0938</td>\n",
       "      <td>1.8786e-04</td>\n",
       "      <td>0.0008</td>\n",
       "      <td>0</td>\n",
       "      <td>1.0936</td>\n",
       "      <td>1.0937</td>\n",
       "      <td>...</td>\n",
       "      <td>2.3372e-04</td>\n",
       "      <td>2.6586e-04</td>\n",
       "      <td>2.2911e-04</td>\n",
       "      <td>2.2449e-04</td>\n",
       "      <td>2.0165e-04</td>\n",
       "      <td>0.0008</td>\n",
       "      <td>0.0008</td>\n",
       "      <td>0.0008</td>\n",
       "      <td>0.0008</td>\n",
       "      <td>0.0008</td>\n",
       "    </tr>\n",
       "    <tr>\n",
       "      <th>2019-10-02 06:00:00</th>\n",
       "      <td>1.0935</td>\n",
       "      <td>1.8292e-04</td>\n",
       "      <td>1.0925</td>\n",
       "      <td>1.0886</td>\n",
       "      <td>1.0938</td>\n",
       "      <td>1.9700e-04</td>\n",
       "      <td>0.0008</td>\n",
       "      <td>1</td>\n",
       "      <td>1.0933</td>\n",
       "      <td>1.0936</td>\n",
       "      <td>...</td>\n",
       "      <td>1.8786e-04</td>\n",
       "      <td>2.3372e-04</td>\n",
       "      <td>2.6586e-04</td>\n",
       "      <td>2.2911e-04</td>\n",
       "      <td>2.2449e-04</td>\n",
       "      <td>0.0008</td>\n",
       "      <td>0.0008</td>\n",
       "      <td>0.0008</td>\n",
       "      <td>0.0008</td>\n",
       "      <td>0.0008</td>\n",
       "    </tr>\n",
       "    <tr>\n",
       "      <th>...</th>\n",
       "      <td>...</td>\n",
       "      <td>...</td>\n",
       "      <td>...</td>\n",
       "      <td>...</td>\n",
       "      <td>...</td>\n",
       "      <td>...</td>\n",
       "      <td>...</td>\n",
       "      <td>...</td>\n",
       "      <td>...</td>\n",
       "      <td>...</td>\n",
       "      <td>...</td>\n",
       "      <td>...</td>\n",
       "      <td>...</td>\n",
       "      <td>...</td>\n",
       "      <td>...</td>\n",
       "      <td>...</td>\n",
       "      <td>...</td>\n",
       "      <td>...</td>\n",
       "      <td>...</td>\n",
       "      <td>...</td>\n",
       "      <td>...</td>\n",
       "    </tr>\n",
       "    <tr>\n",
       "      <th>2019-12-31 20:00:00</th>\n",
       "      <td>1.1216</td>\n",
       "      <td>-5.3481e-04</td>\n",
       "      <td>1.1216</td>\n",
       "      <td>1.1201</td>\n",
       "      <td>1.1238</td>\n",
       "      <td>4.9061e-05</td>\n",
       "      <td>0.0006</td>\n",
       "      <td>0</td>\n",
       "      <td>1.1222</td>\n",
       "      <td>1.1226</td>\n",
       "      <td>...</td>\n",
       "      <td>9.8118e-05</td>\n",
       "      <td>1.0255e-04</td>\n",
       "      <td>1.2935e-04</td>\n",
       "      <td>1.0258e-04</td>\n",
       "      <td>7.1371e-05</td>\n",
       "      <td>0.0006</td>\n",
       "      <td>0.0006</td>\n",
       "      <td>0.0006</td>\n",
       "      <td>0.0007</td>\n",
       "      <td>0.0007</td>\n",
       "    </tr>\n",
       "    <tr>\n",
       "      <th>2019-12-31 21:00:00</th>\n",
       "      <td>1.1215</td>\n",
       "      <td>-8.9162e-05</td>\n",
       "      <td>1.1216</td>\n",
       "      <td>1.1201</td>\n",
       "      <td>1.1238</td>\n",
       "      <td>3.5679e-05</td>\n",
       "      <td>0.0006</td>\n",
       "      <td>0</td>\n",
       "      <td>1.1216</td>\n",
       "      <td>1.1222</td>\n",
       "      <td>...</td>\n",
       "      <td>4.9061e-05</td>\n",
       "      <td>9.8118e-05</td>\n",
       "      <td>1.0255e-04</td>\n",
       "      <td>1.2935e-04</td>\n",
       "      <td>1.0258e-04</td>\n",
       "      <td>0.0006</td>\n",
       "      <td>0.0006</td>\n",
       "      <td>0.0006</td>\n",
       "      <td>0.0006</td>\n",
       "      <td>0.0007</td>\n",
       "    </tr>\n",
       "    <tr>\n",
       "      <th>2019-12-31 22:00:00</th>\n",
       "      <td>1.1208</td>\n",
       "      <td>-6.2436e-04</td>\n",
       "      <td>1.1216</td>\n",
       "      <td>1.1201</td>\n",
       "      <td>1.1238</td>\n",
       "      <td>-1.7841e-05</td>\n",
       "      <td>0.0007</td>\n",
       "      <td>0</td>\n",
       "      <td>1.1215</td>\n",
       "      <td>1.1216</td>\n",
       "      <td>...</td>\n",
       "      <td>3.5679e-05</td>\n",
       "      <td>4.9061e-05</td>\n",
       "      <td>9.8118e-05</td>\n",
       "      <td>1.0255e-04</td>\n",
       "      <td>1.2935e-04</td>\n",
       "      <td>0.0006</td>\n",
       "      <td>0.0006</td>\n",
       "      <td>0.0006</td>\n",
       "      <td>0.0006</td>\n",
       "      <td>0.0006</td>\n",
       "    </tr>\n",
       "    <tr>\n",
       "      <th>2019-12-31 23:00:00</th>\n",
       "      <td>1.1211</td>\n",
       "      <td>2.6763e-04</td>\n",
       "      <td>1.1216</td>\n",
       "      <td>1.1201</td>\n",
       "      <td>1.1238</td>\n",
       "      <td>8.9206e-06</td>\n",
       "      <td>0.0007</td>\n",
       "      <td>1</td>\n",
       "      <td>1.1208</td>\n",
       "      <td>1.1215</td>\n",
       "      <td>...</td>\n",
       "      <td>-1.7841e-05</td>\n",
       "      <td>3.5679e-05</td>\n",
       "      <td>4.9061e-05</td>\n",
       "      <td>9.8118e-05</td>\n",
       "      <td>1.0255e-04</td>\n",
       "      <td>0.0007</td>\n",
       "      <td>0.0006</td>\n",
       "      <td>0.0006</td>\n",
       "      <td>0.0006</td>\n",
       "      <td>0.0006</td>\n",
       "    </tr>\n",
       "    <tr>\n",
       "      <th>2020-01-01 00:00:00</th>\n",
       "      <td>1.1211</td>\n",
       "      <td>0.0000e+00</td>\n",
       "      <td>1.1216</td>\n",
       "      <td>1.1201</td>\n",
       "      <td>1.1238</td>\n",
       "      <td>1.7843e-05</td>\n",
       "      <td>0.0007</td>\n",
       "      <td>0</td>\n",
       "      <td>1.1211</td>\n",
       "      <td>1.1208</td>\n",
       "      <td>...</td>\n",
       "      <td>8.9206e-06</td>\n",
       "      <td>-1.7841e-05</td>\n",
       "      <td>3.5679e-05</td>\n",
       "      <td>4.9061e-05</td>\n",
       "      <td>9.8118e-05</td>\n",
       "      <td>0.0007</td>\n",
       "      <td>0.0007</td>\n",
       "      <td>0.0006</td>\n",
       "      <td>0.0006</td>\n",
       "      <td>0.0006</td>\n",
       "    </tr>\n",
       "  </tbody>\n",
       "</table>\n",
       "<p>2183 rows × 48 columns</p>\n",
       "</div>"
      ]
     },
     "execution_count": 29,
     "metadata": {},
     "output_type": "execute_result"
    }
   ],
   "execution_count": 29
  },
  {
   "cell_type": "code",
   "metadata": {
    "ExecuteTime": {
     "end_time": "2024-09-22T07:46:00.089087Z",
     "start_time": "2024-09-22T07:46:00.086317Z"
    }
   },
   "source": [
    "len(data)"
   ],
   "outputs": [
    {
     "data": {
      "text/plain": [
       "2183"
      ]
     },
     "execution_count": 24,
     "metadata": {},
     "output_type": "execute_result"
    }
   ],
   "execution_count": 24
  },
  {
   "metadata": {
    "ExecuteTime": {
     "end_time": "2024-09-22T08:02:17.943103Z",
     "start_time": "2024-09-22T08:02:17.940014Z"
    }
   },
   "cell_type": "code",
   "source": "cols",
   "outputs": [
    {
     "data": {
      "text/plain": [
       "['EUR_USD_lag_1',\n",
       " 'EUR_USD_lag_2',\n",
       " 'EUR_USD_lag_3',\n",
       " 'EUR_USD_lag_4',\n",
       " 'EUR_USD_lag_5',\n",
       " 'r_lag_1',\n",
       " 'r_lag_2',\n",
       " 'r_lag_3',\n",
       " 'r_lag_4',\n",
       " 'r_lag_5',\n",
       " 'd_lag_1',\n",
       " 'd_lag_2',\n",
       " 'd_lag_3',\n",
       " 'd_lag_4',\n",
       " 'd_lag_5',\n",
       " 'sma_lag_1',\n",
       " 'sma_lag_2',\n",
       " 'sma_lag_3',\n",
       " 'sma_lag_4',\n",
       " 'sma_lag_5',\n",
       " 'min_lag_1',\n",
       " 'min_lag_2',\n",
       " 'min_lag_3',\n",
       " 'min_lag_4',\n",
       " 'min_lag_5',\n",
       " 'max_lag_1',\n",
       " 'max_lag_2',\n",
       " 'max_lag_3',\n",
       " 'max_lag_4',\n",
       " 'max_lag_5',\n",
       " 'mom_lag_1',\n",
       " 'mom_lag_2',\n",
       " 'mom_lag_3',\n",
       " 'mom_lag_4',\n",
       " 'mom_lag_5',\n",
       " 'vol_lag_1',\n",
       " 'vol_lag_2',\n",
       " 'vol_lag_3',\n",
       " 'vol_lag_4',\n",
       " 'vol_lag_5']"
      ]
     },
     "execution_count": 30,
     "metadata": {},
     "output_type": "execute_result"
    }
   ],
   "execution_count": 30
  },
  {
   "cell_type": "code",
   "execution_count": 15,
   "metadata": {},
   "outputs": [],
   "source": [
    "# data.iloc[:10, :14].round(4)"
   ]
  },
  {
   "cell_type": "code",
   "metadata": {
    "ExecuteTime": {
     "end_time": "2024-09-22T08:02:44.738349Z",
     "start_time": "2024-09-22T08:02:44.731142Z"
    }
   },
   "source": [
    "c = data['d'].value_counts()\n",
    "c"
   ],
   "outputs": [
    {
     "data": {
      "text/plain": [
       "d\n",
       "0    1445\n",
       "1     738\n",
       "Name: count, dtype: int64"
      ]
     },
     "execution_count": 31,
     "metadata": {},
     "output_type": "execute_result"
    }
   ],
   "execution_count": 31
  },
  {
   "cell_type": "code",
   "metadata": {
    "ExecuteTime": {
     "end_time": "2024-09-22T08:05:48.133871Z",
     "start_time": "2024-09-22T08:05:48.130106Z"
    }
   },
   "source": [
    "def cw(df):\n",
    "    c0, c1 = np.bincount(df['d'])\n",
    "    w0 = (1 / c0) * (len(df)) / 2\n",
    "    w1 = (1 / c1) * (len(df)) / 2\n",
    "    return {0: w0, 1: w1}"
   ],
   "outputs": [],
   "execution_count": 32
  },
  {
   "cell_type": "code",
   "metadata": {
    "ExecuteTime": {
     "end_time": "2024-09-22T08:06:56.723565Z",
     "start_time": "2024-09-22T08:06:56.720449Z"
    }
   },
   "source": [
    "class_weight = cw(data)"
   ],
   "outputs": [],
   "execution_count": 33
  },
  {
   "cell_type": "code",
   "metadata": {
    "ExecuteTime": {
     "end_time": "2024-09-22T08:06:58.923592Z",
     "start_time": "2024-09-22T08:06:58.920513Z"
    }
   },
   "source": [
    "class_weight"
   ],
   "outputs": [
    {
     "data": {
      "text/plain": [
       "{0: 0.755363321799308, 1: 1.4789972899728998}"
      ]
     },
     "execution_count": 34,
     "metadata": {},
     "output_type": "execute_result"
    }
   ],
   "execution_count": 34
  },
  {
   "cell_type": "code",
   "metadata": {
    "ExecuteTime": {
     "end_time": "2024-09-22T08:07:20.560785Z",
     "start_time": "2024-09-22T08:07:20.556464Z"
    }
   },
   "source": [
    "class_weight[0] * c[0]"
   ],
   "outputs": [
    {
     "data": {
      "text/plain": [
       "1091.5"
      ]
     },
     "execution_count": 35,
     "metadata": {},
     "output_type": "execute_result"
    }
   ],
   "execution_count": 35
  },
  {
   "cell_type": "code",
   "metadata": {
    "ExecuteTime": {
     "end_time": "2024-09-22T08:07:23.045460Z",
     "start_time": "2024-09-22T08:07:23.042465Z"
    }
   },
   "source": [
    "class_weight[1] * c[1]"
   ],
   "outputs": [
    {
     "data": {
      "text/plain": [
       "1091.5"
      ]
     },
     "execution_count": 36,
     "metadata": {},
     "output_type": "execute_result"
    }
   ],
   "execution_count": 36
  },
  {
   "cell_type": "code",
   "execution_count": 22,
   "metadata": {},
   "outputs": [],
   "source": [
    "os.environ['TF_CPP_MIN_LOG_LEVEL'] = '5'"
   ]
  },
  {
   "cell_type": "code",
   "metadata": {
    "ExecuteTime": {
     "end_time": "2024-09-22T08:08:41.581469Z",
     "start_time": "2024-09-22T08:08:39.493368Z"
    }
   },
   "source": [
    "import random\n",
    "import tensorflow as tf\n",
    "from tensorflow import keras\n",
    "from keras.layers import Dense\n",
    "from keras.models import Sequential\n",
    "from sklearn.metrics import accuracy_score"
   ],
   "outputs": [],
   "execution_count": 37
  },
  {
   "cell_type": "code",
   "metadata": {
    "ExecuteTime": {
     "end_time": "2024-09-22T08:11:12.394002Z",
     "start_time": "2024-09-22T08:11:12.391382Z"
    }
   },
   "source": [
    "def set_seeds(seed=100):\n",
    "    random.seed(seed)\n",
    "    np.random.seed(seed)\n",
    "    tf.random.set_seed(seed)"
   ],
   "outputs": [],
   "execution_count": 38
  },
  {
   "cell_type": "code",
   "metadata": {
    "ExecuteTime": {
     "end_time": "2024-09-22T08:12:17.997139Z",
     "start_time": "2024-09-22T08:12:17.984768Z"
    }
   },
   "source": [
    "from keras.src.optimizers import Adam\n",
    "\n",
    "# optimizer = keras.optimizers.legacy.Adam(learning_rate=0.001)\n",
    "optimizer = Adam(learning_rate=0.001)"
   ],
   "outputs": [],
   "execution_count": 42
  },
  {
   "cell_type": "code",
   "metadata": {
    "ExecuteTime": {
     "end_time": "2024-09-22T08:12:32.603432Z",
     "start_time": "2024-09-22T08:12:32.600301Z"
    }
   },
   "source": [
    "def create_model(hl=1, hu=128, optimizer=optimizer):\n",
    "    model = Sequential()\n",
    "    model.add(Dense(hu, input_dim=len(cols),\n",
    "                    activation='relu'))\n",
    "    for _ in range(hl):\n",
    "        model.add(Dense(hu, activation='relu'))\n",
    "    model.add(Dense(1, activation='sigmoid'))\n",
    "    model.compile(loss='binary_crossentropy',\n",
    "                  optimizer=optimizer,\n",
    "                  metrics=['accuracy'])\n",
    "    return model"
   ],
   "outputs": [],
   "execution_count": 43
  },
  {
   "cell_type": "code",
   "metadata": {
    "ExecuteTime": {
     "end_time": "2024-09-22T08:15:15.928378Z",
     "start_time": "2024-09-22T08:15:15.903919Z"
    }
   },
   "source": [
    "set_seeds()\n",
    "model = create_model(hl=1, hu=128)"
   ],
   "outputs": [
    {
     "name": "stderr",
     "output_type": "stream",
     "text": [
      "/Users/zhengshuang/miniconda3/envs/aiif/lib/python3.10/site-packages/keras/src/layers/core/dense.py:87: UserWarning: Do not pass an `input_shape`/`input_dim` argument to a layer. When using Sequential models, prefer using an `Input(shape)` object as the first layer in the model instead.\n",
      "  super().__init__(activity_regularizer=activity_regularizer, **kwargs)\n"
     ]
    }
   ],
   "execution_count": 44
  },
  {
   "metadata": {
    "ExecuteTime": {
     "end_time": "2024-09-22T08:15:36.348418Z",
     "start_time": "2024-09-22T08:15:36.340543Z"
    }
   },
   "cell_type": "code",
   "source": "model.summary()",
   "outputs": [
    {
     "data": {
      "text/plain": [
       "\u001B[1mModel: \"sequential\"\u001B[0m\n"
      ],
      "text/html": [
       "<pre style=\"white-space:pre;overflow-x:auto;line-height:normal;font-family:Menlo,'DejaVu Sans Mono',consolas,'Courier New',monospace\"><span style=\"font-weight: bold\">Model: \"sequential\"</span>\n",
       "</pre>\n"
      ]
     },
     "metadata": {},
     "output_type": "display_data"
    },
    {
     "data": {
      "text/plain": [
       "┏━━━━━━━━━━━━━━━━━━━━━━━━━━━━━━━━━┳━━━━━━━━━━━━━━━━━━━━━━━━┳━━━━━━━━━━━━━━━┓\n",
       "┃\u001B[1m \u001B[0m\u001B[1mLayer (type)                   \u001B[0m\u001B[1m \u001B[0m┃\u001B[1m \u001B[0m\u001B[1mOutput Shape          \u001B[0m\u001B[1m \u001B[0m┃\u001B[1m \u001B[0m\u001B[1m      Param #\u001B[0m\u001B[1m \u001B[0m┃\n",
       "┡━━━━━━━━━━━━━━━━━━━━━━━━━━━━━━━━━╇━━━━━━━━━━━━━━━━━━━━━━━━╇━━━━━━━━━━━━━━━┩\n",
       "│ dense (\u001B[38;5;33mDense\u001B[0m)                   │ (\u001B[38;5;45mNone\u001B[0m, \u001B[38;5;34m128\u001B[0m)            │         \u001B[38;5;34m5,248\u001B[0m │\n",
       "├─────────────────────────────────┼────────────────────────┼───────────────┤\n",
       "│ dense_1 (\u001B[38;5;33mDense\u001B[0m)                 │ (\u001B[38;5;45mNone\u001B[0m, \u001B[38;5;34m128\u001B[0m)            │        \u001B[38;5;34m16,512\u001B[0m │\n",
       "├─────────────────────────────────┼────────────────────────┼───────────────┤\n",
       "│ dense_2 (\u001B[38;5;33mDense\u001B[0m)                 │ (\u001B[38;5;45mNone\u001B[0m, \u001B[38;5;34m1\u001B[0m)              │           \u001B[38;5;34m129\u001B[0m │\n",
       "└─────────────────────────────────┴────────────────────────┴───────────────┘\n"
      ],
      "text/html": [
       "<pre style=\"white-space:pre;overflow-x:auto;line-height:normal;font-family:Menlo,'DejaVu Sans Mono',consolas,'Courier New',monospace\">┏━━━━━━━━━━━━━━━━━━━━━━━━━━━━━━━━━┳━━━━━━━━━━━━━━━━━━━━━━━━┳━━━━━━━━━━━━━━━┓\n",
       "┃<span style=\"font-weight: bold\"> Layer (type)                    </span>┃<span style=\"font-weight: bold\"> Output Shape           </span>┃<span style=\"font-weight: bold\">       Param # </span>┃\n",
       "┡━━━━━━━━━━━━━━━━━━━━━━━━━━━━━━━━━╇━━━━━━━━━━━━━━━━━━━━━━━━╇━━━━━━━━━━━━━━━┩\n",
       "│ dense (<span style=\"color: #0087ff; text-decoration-color: #0087ff\">Dense</span>)                   │ (<span style=\"color: #00d7ff; text-decoration-color: #00d7ff\">None</span>, <span style=\"color: #00af00; text-decoration-color: #00af00\">128</span>)            │         <span style=\"color: #00af00; text-decoration-color: #00af00\">5,248</span> │\n",
       "├─────────────────────────────────┼────────────────────────┼───────────────┤\n",
       "│ dense_1 (<span style=\"color: #0087ff; text-decoration-color: #0087ff\">Dense</span>)                 │ (<span style=\"color: #00d7ff; text-decoration-color: #00d7ff\">None</span>, <span style=\"color: #00af00; text-decoration-color: #00af00\">128</span>)            │        <span style=\"color: #00af00; text-decoration-color: #00af00\">16,512</span> │\n",
       "├─────────────────────────────────┼────────────────────────┼───────────────┤\n",
       "│ dense_2 (<span style=\"color: #0087ff; text-decoration-color: #0087ff\">Dense</span>)                 │ (<span style=\"color: #00d7ff; text-decoration-color: #00d7ff\">None</span>, <span style=\"color: #00af00; text-decoration-color: #00af00\">1</span>)              │           <span style=\"color: #00af00; text-decoration-color: #00af00\">129</span> │\n",
       "└─────────────────────────────────┴────────────────────────┴───────────────┘\n",
       "</pre>\n"
      ]
     },
     "metadata": {},
     "output_type": "display_data"
    },
    {
     "data": {
      "text/plain": [
       "\u001B[1m Total params: \u001B[0m\u001B[38;5;34m21,889\u001B[0m (85.50 KB)\n"
      ],
      "text/html": [
       "<pre style=\"white-space:pre;overflow-x:auto;line-height:normal;font-family:Menlo,'DejaVu Sans Mono',consolas,'Courier New',monospace\"><span style=\"font-weight: bold\"> Total params: </span><span style=\"color: #00af00; text-decoration-color: #00af00\">21,889</span> (85.50 KB)\n",
       "</pre>\n"
      ]
     },
     "metadata": {},
     "output_type": "display_data"
    },
    {
     "data": {
      "text/plain": [
       "\u001B[1m Trainable params: \u001B[0m\u001B[38;5;34m21,889\u001B[0m (85.50 KB)\n"
      ],
      "text/html": [
       "<pre style=\"white-space:pre;overflow-x:auto;line-height:normal;font-family:Menlo,'DejaVu Sans Mono',consolas,'Courier New',monospace\"><span style=\"font-weight: bold\"> Trainable params: </span><span style=\"color: #00af00; text-decoration-color: #00af00\">21,889</span> (85.50 KB)\n",
       "</pre>\n"
      ]
     },
     "metadata": {},
     "output_type": "display_data"
    },
    {
     "data": {
      "text/plain": [
       "\u001B[1m Non-trainable params: \u001B[0m\u001B[38;5;34m0\u001B[0m (0.00 B)\n"
      ],
      "text/html": [
       "<pre style=\"white-space:pre;overflow-x:auto;line-height:normal;font-family:Menlo,'DejaVu Sans Mono',consolas,'Courier New',monospace\"><span style=\"font-weight: bold\"> Non-trainable params: </span><span style=\"color: #00af00; text-decoration-color: #00af00\">0</span> (0.00 B)\n",
       "</pre>\n"
      ]
     },
     "metadata": {},
     "output_type": "display_data"
    }
   ],
   "execution_count": 45
  },
  {
   "cell_type": "code",
   "metadata": {
    "ExecuteTime": {
     "end_time": "2024-09-22T08:17:44.471715Z",
     "start_time": "2024-09-22T08:17:42.067115Z"
    }
   },
   "source": [
    "%%time\n",
    "model.fit(data[cols], data['d'], epochs=50,\n",
    "          verbose=False, class_weight=cw(data))"
   ],
   "outputs": [
    {
     "name": "stderr",
     "output_type": "stream",
     "text": [
      "/Users/zhengshuang/miniconda3/envs/aiif/lib/python3.10/site-packages/keras/src/trainers/data_adapters/data_adapter_utils.py:126: FutureWarning: Series.__getitem__ treating keys as positions is deprecated. In a future version, integer keys will always be treated as labels (consistent with DataFrame behavior). To access a value by position, use `ser.iloc[pos]`\n",
      "  sample_weight[i] = class_weight.get(int(y[i]), 1.0)\n",
      "2024-09-22 16:17:42.112140: W tensorflow/tsl/platform/profile_utils/cpu_utils.cc:128] Failed to get CPU frequency: 0 Hz\n"
     ]
    },
    {
     "name": "stdout",
     "output_type": "stream",
     "text": [
      "CPU times: user 2.71 s, sys: 387 ms, total: 3.09 s\n",
      "Wall time: 2.4 s\n"
     ]
    },
    {
     "data": {
      "text/plain": [
       "<keras.src.callbacks.history.History at 0x3191f2740>"
      ]
     },
     "execution_count": 46,
     "metadata": {},
     "output_type": "execute_result"
    }
   ],
   "execution_count": 46
  },
  {
   "cell_type": "code",
   "metadata": {
    "ExecuteTime": {
     "end_time": "2024-09-22T08:19:36.766882Z",
     "start_time": "2024-09-22T08:19:36.708420Z"
    }
   },
   "source": [
    "model.evaluate(data[cols], data['d'])"
   ],
   "outputs": [
    {
     "name": "stdout",
     "output_type": "stream",
     "text": [
      "\u001B[1m69/69\u001B[0m \u001B[32m━━━━━━━━━━━━━━━━━━━━\u001B[0m\u001B[37m\u001B[0m \u001B[1m0s\u001B[0m 340us/step - accuracy: 0.5747 - loss: 0.5962\n"
     ]
    },
    {
     "data": {
      "text/plain": [
       "[0.593904972076416, 0.584516704082489]"
      ]
     },
     "execution_count": 48,
     "metadata": {},
     "output_type": "execute_result"
    }
   ],
   "execution_count": 48
  },
  {
   "cell_type": "code",
   "metadata": {
    "ExecuteTime": {
     "end_time": "2024-09-22T08:22:30.710408Z",
     "start_time": "2024-09-22T08:22:30.622982Z"
    }
   },
   "source": [
    "data['p'] = np.where(model.predict(data[cols]) > 0.5, 1, 0)"
   ],
   "outputs": [
    {
     "name": "stdout",
     "output_type": "stream",
     "text": [
      "\u001B[1m69/69\u001B[0m \u001B[32m━━━━━━━━━━━━━━━━━━━━\u001B[0m\u001B[37m\u001B[0m \u001B[1m0s\u001B[0m 439us/step\n"
     ]
    }
   ],
   "execution_count": 49
  },
  {
   "cell_type": "code",
   "metadata": {
    "ExecuteTime": {
     "end_time": "2024-09-22T08:22:35.405950Z",
     "start_time": "2024-09-22T08:22:35.402521Z"
    }
   },
   "source": [
    "data['p'].value_counts()"
   ],
   "outputs": [
    {
     "data": {
      "text/plain": [
       "p\n",
       "1    1527\n",
       "0     656\n",
       "Name: count, dtype: int64"
      ]
     },
     "execution_count": 50,
     "metadata": {},
     "output_type": "execute_result"
    }
   ],
   "execution_count": 50
  },
  {
   "cell_type": "code",
   "metadata": {
    "ExecuteTime": {
     "end_time": "2024-09-22T08:24:03.444973Z",
     "start_time": "2024-09-22T08:24:03.442215Z"
    }
   },
   "source": [
    "split = int(len(data) * 0.8)\n",
    "split"
   ],
   "outputs": [
    {
     "data": {
      "text/plain": [
       "1746"
      ]
     },
     "execution_count": 52,
     "metadata": {},
     "output_type": "execute_result"
    }
   ],
   "execution_count": 52
  },
  {
   "cell_type": "code",
   "metadata": {
    "ExecuteTime": {
     "end_time": "2024-09-22T08:24:41.957521Z",
     "start_time": "2024-09-22T08:24:41.952784Z"
    }
   },
   "source": [
    "train = data.iloc[:split].copy()"
   ],
   "outputs": [],
   "execution_count": 53
  },
  {
   "cell_type": "code",
   "metadata": {
    "ExecuteTime": {
     "end_time": "2024-09-22T08:24:43.847183Z",
     "start_time": "2024-09-22T08:24:43.843923Z"
    }
   },
   "source": [
    "test = data.iloc[split:].copy()"
   ],
   "outputs": [],
   "execution_count": 54
  },
  {
   "cell_type": "code",
   "metadata": {
    "ExecuteTime": {
     "end_time": "2024-09-22T08:28:13.781066Z",
     "start_time": "2024-09-22T08:28:13.760253Z"
    }
   },
   "source": [
    "set_seeds()\n",
    "optimizer = Adam(learning_rate=0.001)\n",
    "model = create_model(hl=1, hu=128,optimizer=optimizer)"
   ],
   "outputs": [
    {
     "name": "stderr",
     "output_type": "stream",
     "text": [
      "/Users/zhengshuang/miniconda3/envs/aiif/lib/python3.10/site-packages/keras/src/layers/core/dense.py:87: UserWarning: Do not pass an `input_shape`/`input_dim` argument to a layer. When using Sequential models, prefer using an `Input(shape)` object as the first layer in the model instead.\n",
      "  super().__init__(activity_regularizer=activity_regularizer, **kwargs)\n"
     ]
    }
   ],
   "execution_count": 59
  },
  {
   "cell_type": "code",
   "metadata": {
    "ExecuteTime": {
     "end_time": "2024-09-22T08:28:20.683705Z",
     "start_time": "2024-09-22T08:28:18.075221Z"
    }
   },
   "source": [
    "%%time \n",
    "hist = model.fit(train[cols], train['d'],\n",
    "          epochs=50, verbose=False,\n",
    "          validation_split=0.2, shuffle=False,\n",
    "          class_weight=cw(train))"
   ],
   "outputs": [
    {
     "name": "stderr",
     "output_type": "stream",
     "text": [
      "/Users/zhengshuang/miniconda3/envs/aiif/lib/python3.10/site-packages/keras/src/trainers/data_adapters/data_adapter_utils.py:126: FutureWarning: Series.__getitem__ treating keys as positions is deprecated. In a future version, integer keys will always be treated as labels (consistent with DataFrame behavior). To access a value by position, use `ser.iloc[pos]`\n",
      "  sample_weight[i] = class_weight.get(int(y[i]), 1.0)\n"
     ]
    },
    {
     "name": "stdout",
     "output_type": "stream",
     "text": [
      "CPU times: user 2.81 s, sys: 439 ms, total: 3.24 s\n",
      "Wall time: 2.61 s\n"
     ]
    }
   ],
   "execution_count": 60
  },
  {
   "cell_type": "code",
   "metadata": {
    "ExecuteTime": {
     "end_time": "2024-09-22T08:28:27.174162Z",
     "start_time": "2024-09-22T08:28:27.124189Z"
    }
   },
   "source": [
    "model.evaluate(train[cols], train['d'])"
   ],
   "outputs": [
    {
     "name": "stdout",
     "output_type": "stream",
     "text": [
      "\u001B[1m55/55\u001B[0m \u001B[32m━━━━━━━━━━━━━━━━━━━━\u001B[0m\u001B[37m\u001B[0m \u001B[1m0s\u001B[0m 345us/step - accuracy: 0.5714 - loss: 0.6262\n"
     ]
    },
    {
     "data": {
      "text/plain": [
       "[0.629595160484314, 0.5756013989448547]"
      ]
     },
     "execution_count": 61,
     "metadata": {},
     "output_type": "execute_result"
    }
   ],
   "execution_count": 61
  },
  {
   "cell_type": "code",
   "metadata": {
    "ExecuteTime": {
     "end_time": "2024-09-22T08:28:32.454047Z",
     "start_time": "2024-09-22T08:28:32.418669Z"
    }
   },
   "source": [
    "model.evaluate(test[cols], test['d'])"
   ],
   "outputs": [
    {
     "name": "stdout",
     "output_type": "stream",
     "text": [
      "\u001B[1m14/14\u001B[0m \u001B[32m━━━━━━━━━━━━━━━━━━━━\u001B[0m\u001B[37m\u001B[0m \u001B[1m0s\u001B[0m 383us/step - accuracy: 0.6189 - loss: 0.5775\n"
     ]
    },
    {
     "data": {
      "text/plain": [
       "[0.6130309700965881, 0.5949656963348389]"
      ]
     },
     "execution_count": 62,
     "metadata": {},
     "output_type": "execute_result"
    }
   ],
   "execution_count": 62
  },
  {
   "cell_type": "code",
   "metadata": {
    "ExecuteTime": {
     "end_time": "2024-09-22T08:28:39.356051Z",
     "start_time": "2024-09-22T08:28:39.296518Z"
    }
   },
   "source": [
    "test['p'] = np.where(model.predict(test[cols]) > 0.5, 1, 0)"
   ],
   "outputs": [
    {
     "name": "stdout",
     "output_type": "stream",
     "text": [
      "\u001B[1m14/14\u001B[0m \u001B[32m━━━━━━━━━━━━━━━━━━━━\u001B[0m\u001B[37m\u001B[0m \u001B[1m0s\u001B[0m 1ms/step \n"
     ]
    }
   ],
   "execution_count": 63
  },
  {
   "cell_type": "code",
   "metadata": {
    "ExecuteTime": {
     "end_time": "2024-09-22T08:29:53.558281Z",
     "start_time": "2024-09-22T08:29:53.553353Z"
    }
   },
   "source": [
    "test['p'].value_counts()"
   ],
   "outputs": [
    {
     "data": {
      "text/plain": [
       "p\n",
       "1    302\n",
       "0    135\n",
       "Name: count, dtype: int64"
      ]
     },
     "execution_count": 65,
     "metadata": {},
     "output_type": "execute_result"
    }
   ],
   "execution_count": 65
  },
  {
   "cell_type": "code",
   "metadata": {
    "ExecuteTime": {
     "end_time": "2024-09-22T08:29:57.690965Z",
     "start_time": "2024-09-22T08:29:57.688618Z"
    }
   },
   "source": [
    "res = pd.DataFrame(hist.history)"
   ],
   "outputs": [],
   "execution_count": 66
  },
  {
   "metadata": {
    "ExecuteTime": {
     "end_time": "2024-09-22T08:32:46.622814Z",
     "start_time": "2024-09-22T08:32:46.545416Z"
    }
   },
   "cell_type": "code",
   "source": "res[['loss', 'val_loss']].plot(figsize=(10, 6), style='--');",
   "outputs": [
    {
     "data": {
      "text/plain": [
       "<Figure size 1000x600 with 1 Axes>"
      ],
      "image/png": "[encoded data removed]"
     },
     "metadata": {},
     "output_type": "display_data"
    }
   ],
   "execution_count": 68
  },
  {
   "cell_type": "code",
   "metadata": {
    "ExecuteTime": {
     "end_time": "2024-09-22T08:30:03.488175Z",
     "start_time": "2024-09-22T08:30:03.407047Z"
    }
   },
   "source": [
    "res[['accuracy', 'val_accuracy']].plot(figsize=(10, 6), style='--');"
   ],
   "outputs": [
    {
     "data": {
      "text/plain": [
       "<Figure size 1000x600 with 1 Axes>"
      ],
      "image/png": "[encoded data removed]"
     },
     "metadata": {},
     "output_type": "display_data"
    }
   ],
   "execution_count": 67
  },
  {
   "cell_type": "markdown",
   "metadata": {},
   "source": [
    "## Normalization"
   ]
  },
  {
   "cell_type": "code",
   "metadata": {
    "ExecuteTime": {
     "end_time": "2024-09-22T09:26:38.463312Z",
     "start_time": "2024-09-22T09:26:38.458949Z"
    }
   },
   "source": [
    "mu, std = train.mean(), train.std()"
   ],
   "outputs": [],
   "execution_count": 69
  },
  {
   "cell_type": "code",
   "metadata": {
    "ExecuteTime": {
     "end_time": "2024-09-22T09:26:39.811593Z",
     "start_time": "2024-09-22T09:26:39.806968Z"
    }
   },
   "source": [
    "train_ = (train - mu) / std"
   ],
   "outputs": [],
   "execution_count": 70
  },
  {
   "cell_type": "code",
   "execution_count": 45,
   "metadata": {},
   "outputs": [],
   "source": [
    "# train_.std().round(3)"
   ]
  },
  {
   "cell_type": "code",
   "metadata": {
    "ExecuteTime": {
     "end_time": "2024-09-22T09:27:06.343997Z",
     "start_time": "2024-09-22T09:27:06.320307Z"
    }
   },
   "source": [
    "set_seeds()\n",
    "optimizer = Adam(learning_rate=0.001)\n",
    "model = create_model(hl=2, hu=128, optimizer=optimizer)"
   ],
   "outputs": [
    {
     "name": "stderr",
     "output_type": "stream",
     "text": [
      "/Users/zhengshuang/miniconda3/envs/aiif/lib/python3.10/site-packages/keras/src/layers/core/dense.py:87: UserWarning: Do not pass an `input_shape`/`input_dim` argument to a layer. When using Sequential models, prefer using an `Input(shape)` object as the first layer in the model instead.\n",
      "  super().__init__(activity_regularizer=activity_regularizer, **kwargs)\n"
     ]
    }
   ],
   "execution_count": 72
  },
  {
   "cell_type": "code",
   "metadata": {
    "ExecuteTime": {
     "end_time": "2024-09-22T09:27:11.832716Z",
     "start_time": "2024-09-22T09:27:08.853752Z"
    }
   },
   "source": [
    "%%time \n",
    "hist = model.fit(train_[cols], train['d'],\n",
    "          epochs=50, verbose=False,\n",
    "          validation_split=0.2, shuffle=False,\n",
    "          class_weight=cw(train))"
   ],
   "outputs": [
    {
     "name": "stderr",
     "output_type": "stream",
     "text": [
      "/Users/zhengshuang/miniconda3/envs/aiif/lib/python3.10/site-packages/keras/src/trainers/data_adapters/data_adapter_utils.py:126: FutureWarning: Series.__getitem__ treating keys as positions is deprecated. In a future version, integer keys will always be treated as labels (consistent with DataFrame behavior). To access a value by position, use `ser.iloc[pos]`\n",
      "  sample_weight[i] = class_weight.get(int(y[i]), 1.0)\n"
     ]
    },
    {
     "name": "stdout",
     "output_type": "stream",
     "text": [
      "CPU times: user 3.18 s, sys: 438 ms, total: 3.62 s\n",
      "Wall time: 2.98 s\n"
     ]
    }
   ],
   "execution_count": 73
  },
  {
   "cell_type": "code",
   "metadata": {
    "ExecuteTime": {
     "end_time": "2024-09-22T09:27:13.928472Z",
     "start_time": "2024-09-22T09:27:13.877145Z"
    }
   },
   "source": [
    "model.evaluate(train_[cols], train['d'])"
   ],
   "outputs": [
    {
     "name": "stdout",
     "output_type": "stream",
     "text": [
      "\u001B[1m55/55\u001B[0m \u001B[32m━━━━━━━━━━━━━━━━━━━━\u001B[0m\u001B[37m\u001B[0m \u001B[1m0s\u001B[0m 351us/step - accuracy: 0.9287 - loss: 0.2051\n"
     ]
    },
    {
     "data": {
      "text/plain": [
       "[0.4331425130367279, 0.8894616365432739]"
      ]
     },
     "execution_count": 74,
     "metadata": {},
     "output_type": "execute_result"
    }
   ],
   "execution_count": 74
  },
  {
   "cell_type": "code",
   "metadata": {
    "ExecuteTime": {
     "end_time": "2024-09-22T09:27:17.312203Z",
     "start_time": "2024-09-22T09:27:17.308490Z"
    }
   },
   "source": [
    "test_ = (test - mu) / std"
   ],
   "outputs": [],
   "execution_count": 75
  },
  {
   "cell_type": "code",
   "metadata": {
    "ExecuteTime": {
     "end_time": "2024-09-22T09:27:19.568467Z",
     "start_time": "2024-09-22T09:27:19.532347Z"
    }
   },
   "source": [
    "model.evaluate(test_[cols], test['d'])"
   ],
   "outputs": [
    {
     "name": "stdout",
     "output_type": "stream",
     "text": [
      "\u001B[1m14/14\u001B[0m \u001B[32m━━━━━━━━━━━━━━━━━━━━\u001B[0m\u001B[37m\u001B[0m \u001B[1m0s\u001B[0m 414us/step - accuracy: 0.6714 - loss: 1.3593\n"
     ]
    },
    {
     "data": {
      "text/plain": [
       "[1.612546443939209, 0.6361556053161621]"
      ]
     },
     "execution_count": 76,
     "metadata": {},
     "output_type": "execute_result"
    }
   ],
   "execution_count": 76
  },
  {
   "cell_type": "code",
   "metadata": {
    "ExecuteTime": {
     "end_time": "2024-09-22T09:27:44.453948Z",
     "start_time": "2024-09-22T09:27:44.353424Z"
    }
   },
   "source": [
    "test['p'] = np.where(model.predict(test_[cols]) > 0.5, 1, 0)"
   ],
   "outputs": [
    {
     "name": "stdout",
     "output_type": "stream",
     "text": [
      "\u001B[1m14/14\u001B[0m \u001B[32m━━━━━━━━━━━━━━━━━━━━\u001B[0m\u001B[37m\u001B[0m \u001B[1m0s\u001B[0m 2ms/step \n"
     ]
    }
   ],
   "execution_count": 77
  },
  {
   "cell_type": "code",
   "metadata": {
    "ExecuteTime": {
     "end_time": "2024-09-22T09:27:46.725258Z",
     "start_time": "2024-09-22T09:27:46.721436Z"
    }
   },
   "source": [
    "test['p'].value_counts()"
   ],
   "outputs": [
    {
     "data": {
      "text/plain": [
       "p\n",
       "0    343\n",
       "1     94\n",
       "Name: count, dtype: int64"
      ]
     },
     "execution_count": 78,
     "metadata": {},
     "output_type": "execute_result"
    }
   ],
   "execution_count": 78
  },
  {
   "cell_type": "code",
   "metadata": {
    "ExecuteTime": {
     "end_time": "2024-09-22T09:28:36.683368Z",
     "start_time": "2024-09-22T09:28:36.680910Z"
    }
   },
   "source": [
    "res = pd.DataFrame(hist.history)"
   ],
   "outputs": [],
   "execution_count": 79
  },
  {
   "metadata": {
    "ExecuteTime": {
     "end_time": "2024-09-22T09:28:55.277781Z",
     "start_time": "2024-09-22T09:28:55.193113Z"
    }
   },
   "cell_type": "code",
   "source": "res[['loss', 'val_loss']].plot(figsize=(10, 6), style='--');",
   "outputs": [
    {
     "data": {
      "text/plain": [
       "<Figure size 1000x600 with 1 Axes>"
      ],
      "image/png": "[encoded data removed]"
     },
     "metadata": {},
     "output_type": "display_data"
    }
   ],
   "execution_count": 80
  },
  {
   "cell_type": "code",
   "metadata": {
    "ExecuteTime": {
     "end_time": "2024-09-22T09:29:06.535953Z",
     "start_time": "2024-09-22T09:29:06.461903Z"
    }
   },
   "source": [
    "res[['accuracy', 'val_accuracy']].plot(figsize=(10, 6), style='--');"
   ],
   "outputs": [
    {
     "data": {
      "text/plain": [
       "<Figure size 1000x600 with 1 Axes>"
      ],
      "image/png": "[encoded data removed]"
     },
     "metadata": {},
     "output_type": "display_data"
    }
   ],
   "execution_count": 81
  },
  {
   "cell_type": "markdown",
   "metadata": {},
   "source": [
    "## Dropout "
   ]
  },
  {
   "cell_type": "code",
   "metadata": {
    "ExecuteTime": {
     "end_time": "2024-09-22T09:45:15.746058Z",
     "start_time": "2024-09-22T09:45:15.744Z"
    }
   },
   "source": [
    "from keras.layers import Dropout"
   ],
   "outputs": [],
   "execution_count": 82
  },
  {
   "cell_type": "code",
   "metadata": {
    "ExecuteTime": {
     "end_time": "2024-09-22T09:45:25.165497Z",
     "start_time": "2024-09-22T09:45:25.162229Z"
    }
   },
   "source": [
    "def create_model(hl=1, hu=128, dropout=True, rate=0.3,\n",
    "                 optimizer=optimizer):\n",
    "    model = Sequential()\n",
    "    model.add(Dense(hu, input_dim=len(cols),\n",
    "                    activation='relu'))\n",
    "    if dropout:\n",
    "        model.add(Dropout(rate, seed=100))\n",
    "    for _ in range(hl):\n",
    "        model.add(Dense(hu, activation='relu'))\n",
    "        if dropout:\n",
    "            model.add(Dropout(rate, seed=100))\n",
    "    model.add(Dense(1, activation='sigmoid'))\n",
    "    model.compile(loss='binary_crossentropy', optimizer=optimizer,\n",
    "                 metrics=['accuracy'])\n",
    "    return model"
   ],
   "outputs": [],
   "execution_count": 83
  },
  {
   "cell_type": "code",
   "metadata": {
    "ExecuteTime": {
     "end_time": "2024-09-22T09:45:46.539529Z",
     "start_time": "2024-09-22T09:45:46.510789Z"
    }
   },
   "source": [
    "set_seeds()\n",
    "optimizer = Adam(learning_rate=0.001)\n",
    "model = create_model(hl=1, hu=128, rate=0.3,optimizer=optimizer)"
   ],
   "outputs": [
    {
     "name": "stderr",
     "output_type": "stream",
     "text": [
      "/Users/zhengshuang/miniconda3/envs/aiif/lib/python3.10/site-packages/keras/src/layers/core/dense.py:87: UserWarning: Do not pass an `input_shape`/`input_dim` argument to a layer. When using Sequential models, prefer using an `Input(shape)` object as the first layer in the model instead.\n",
      "  super().__init__(activity_regularizer=activity_regularizer, **kwargs)\n"
     ]
    }
   ],
   "execution_count": 84
  },
  {
   "cell_type": "code",
   "metadata": {
    "ExecuteTime": {
     "end_time": "2024-09-22T09:45:52.699478Z",
     "start_time": "2024-09-22T09:45:49.777303Z"
    }
   },
   "source": [
    "%%time \n",
    "hist = model.fit(train_[cols], train['d'],\n",
    "          epochs=50, verbose=False,\n",
    "          validation_split=0.15, shuffle=False,\n",
    "          class_weight=cw(train))"
   ],
   "outputs": [
    {
     "name": "stderr",
     "output_type": "stream",
     "text": [
      "/Users/zhengshuang/miniconda3/envs/aiif/lib/python3.10/site-packages/keras/src/trainers/data_adapters/data_adapter_utils.py:126: FutureWarning: Series.__getitem__ treating keys as positions is deprecated. In a future version, integer keys will always be treated as labels (consistent with DataFrame behavior). To access a value by position, use `ser.iloc[pos]`\n",
      "  sample_weight[i] = class_weight.get(int(y[i]), 1.0)\n"
     ]
    },
    {
     "name": "stdout",
     "output_type": "stream",
     "text": [
      "CPU times: user 3.12 s, sys: 421 ms, total: 3.55 s\n",
      "Wall time: 2.92 s\n"
     ]
    }
   ],
   "execution_count": 85
  },
  {
   "cell_type": "code",
   "metadata": {
    "ExecuteTime": {
     "end_time": "2024-09-22T09:45:55.419366Z",
     "start_time": "2024-09-22T09:45:55.368546Z"
    }
   },
   "source": [
    "model.evaluate(train_[cols], train['d'])"
   ],
   "outputs": [
    {
     "name": "stdout",
     "output_type": "stream",
     "text": [
      "\u001B[1m55/55\u001B[0m \u001B[32m━━━━━━━━━━━━━━━━━━━━\u001B[0m\u001B[37m\u001B[0m \u001B[1m0s\u001B[0m 377us/step - accuracy: 0.7931 - loss: 0.4226\n"
     ]
    },
    {
     "data": {
      "text/plain": [
       "[0.45998382568359375, 0.7628865838050842]"
      ]
     },
     "execution_count": 86,
     "metadata": {},
     "output_type": "execute_result"
    }
   ],
   "execution_count": 86
  },
  {
   "cell_type": "code",
   "metadata": {
    "ExecuteTime": {
     "end_time": "2024-09-22T09:45:59.716055Z",
     "start_time": "2024-09-22T09:45:59.679593Z"
    }
   },
   "source": [
    "model.evaluate(test_[cols], test['d'])"
   ],
   "outputs": [
    {
     "name": "stdout",
     "output_type": "stream",
     "text": [
      "\u001B[1m14/14\u001B[0m \u001B[32m━━━━━━━━━━━━━━━━━━━━\u001B[0m\u001B[37m\u001B[0m \u001B[1m0s\u001B[0m 363us/step - accuracy: 0.6780 - loss: 0.5145\n"
     ]
    },
    {
     "data": {
      "text/plain": [
       "[0.5556485652923584, 0.6636155843734741]"
      ]
     },
     "execution_count": 87,
     "metadata": {},
     "output_type": "execute_result"
    }
   ],
   "execution_count": 87
  },
  {
   "cell_type": "code",
   "metadata": {
    "ExecuteTime": {
     "end_time": "2024-09-22T09:46:04.000314Z",
     "start_time": "2024-09-22T09:46:03.998052Z"
    }
   },
   "source": [
    "res = pd.DataFrame(hist.history)"
   ],
   "outputs": [],
   "execution_count": 88
  },
  {
   "metadata": {
    "ExecuteTime": {
     "end_time": "2024-09-22T09:46:18.963640Z",
     "start_time": "2024-09-22T09:46:18.884230Z"
    }
   },
   "cell_type": "code",
   "source": "res[['loss', 'val_loss']].plot(figsize=(10, 6), style='--');",
   "outputs": [
    {
     "data": {
      "text/plain": [
       "<Figure size 1000x600 with 1 Axes>"
      ],
      "image/png": "[encoded data removed]"
     },
     "metadata": {},
     "output_type": "display_data"
    }
   ],
   "execution_count": 89
  },
  {
   "cell_type": "code",
   "metadata": {
    "ExecuteTime": {
     "end_time": "2024-09-22T09:46:28.845325Z",
     "start_time": "2024-09-22T09:46:28.767524Z"
    }
   },
   "source": [
    "res[['accuracy', 'val_accuracy']].plot(figsize=(10, 6), style='--');"
   ],
   "outputs": [
    {
     "data": {
      "text/plain": [
       "<Figure size 1000x600 with 1 Axes>"
      ],
      "image/png": "[encoded data removed]"
     },
     "metadata": {},
     "output_type": "display_data"
    }
   ],
   "execution_count": 90
  },
  {
   "cell_type": "markdown",
   "metadata": {},
   "source": [
    "## Regularization \n",
    "\n",
    "强迫估计出来的weight绝对值不要过大\n",
    "不如dropout强大，较少使用"
   ]
  },
  {
   "cell_type": "code",
   "metadata": {
    "ExecuteTime": {
     "end_time": "2024-09-22T09:50:14.418773Z",
     "start_time": "2024-09-22T09:50:14.414781Z"
    }
   },
   "source": [
    "from keras.regularizers import l1, l2"
   ],
   "outputs": [],
   "execution_count": 91
  },
  {
   "cell_type": "code",
   "metadata": {
    "ExecuteTime": {
     "end_time": "2024-09-22T10:41:44.623406Z",
     "start_time": "2024-09-22T10:41:44.619688Z"
    }
   },
   "source": [
    "def create_model(hl=1, hu=128, dropout=False, rate=0.3, \n",
    "                 regularize=False, reg=l1(0.0005),\n",
    "                 optimizer=optimizer, input_dim=len(cols)):\n",
    "    optimizer = Adam(learning_rate=0.001)\n",
    "    if not regularize:\n",
    "        reg = None\n",
    "    model = Sequential()\n",
    "    model.add(Dense(hu, input_dim=input_dim,\n",
    "                    activity_regularizer=reg,\n",
    "                    activation='relu'))\n",
    "    if dropout:\n",
    "        model.add(Dropout(rate, seed=100))\n",
    "    for _ in range(hl):\n",
    "        model.add(Dense(hu, activation='relu',\n",
    "                        activity_regularizer=reg))\n",
    "        if dropout:\n",
    "            model.add(Dropout(rate, seed=100))\n",
    "    model.add(Dense(1, activation='sigmoid'))\n",
    "    model.compile(loss='binary_crossentropy', optimizer=optimizer,\n",
    "                 metrics=['accuracy'])\n",
    "    return model"
   ],
   "outputs": [],
   "execution_count": 140
  },
  {
   "cell_type": "code",
   "metadata": {
    "ExecuteTime": {
     "end_time": "2024-09-22T09:54:48.586923Z",
     "start_time": "2024-09-22T09:54:48.561852Z"
    }
   },
   "source": [
    "set_seeds()\n",
    "optimizer = Adam(learning_rate=0.001)\n",
    "model = create_model(hl=1, hu=128, regularize=True,optimizer=optimizer)"
   ],
   "outputs": [
    {
     "name": "stderr",
     "output_type": "stream",
     "text": [
      "/Users/zhengshuang/miniconda3/envs/aiif/lib/python3.10/site-packages/keras/src/layers/core/dense.py:87: UserWarning: Do not pass an `input_shape`/`input_dim` argument to a layer. When using Sequential models, prefer using an `Input(shape)` object as the first layer in the model instead.\n",
      "  super().__init__(activity_regularizer=activity_regularizer, **kwargs)\n"
     ]
    }
   ],
   "execution_count": 102
  },
  {
   "cell_type": "code",
   "metadata": {
    "ExecuteTime": {
     "end_time": "2024-09-22T09:55:07.663892Z",
     "start_time": "2024-09-22T09:55:05.005782Z"
    }
   },
   "source": [
    "%%time \n",
    "hist = model.fit(train_[cols], train['d'],\n",
    "          epochs=50, verbose=False,\n",
    "          validation_split=0.2, shuffle=False,\n",
    "          class_weight=cw(train))"
   ],
   "outputs": [
    {
     "name": "stderr",
     "output_type": "stream",
     "text": [
      "/Users/zhengshuang/miniconda3/envs/aiif/lib/python3.10/site-packages/keras/src/trainers/data_adapters/data_adapter_utils.py:126: FutureWarning: Series.__getitem__ treating keys as positions is deprecated. In a future version, integer keys will always be treated as labels (consistent with DataFrame behavior). To access a value by position, use `ser.iloc[pos]`\n",
      "  sample_weight[i] = class_weight.get(int(y[i]), 1.0)\n"
     ]
    },
    {
     "name": "stdout",
     "output_type": "stream",
     "text": [
      "CPU times: user 2.87 s, sys: 419 ms, total: 3.29 s\n",
      "Wall time: 2.66 s\n"
     ]
    }
   ],
   "execution_count": 103
  },
  {
   "cell_type": "code",
   "metadata": {
    "ExecuteTime": {
     "end_time": "2024-09-22T09:55:14.315908Z",
     "start_time": "2024-09-22T09:55:14.265505Z"
    }
   },
   "source": [
    "model.evaluate(train_[cols], train['d'])"
   ],
   "outputs": [
    {
     "name": "stdout",
     "output_type": "stream",
     "text": [
      "\u001B[1m55/55\u001B[0m \u001B[32m━━━━━━━━━━━━━━━━━━━━\u001B[0m\u001B[37m\u001B[0m \u001B[1m0s\u001B[0m 375us/step - accuracy: 0.8425 - loss: 0.4345\n"
     ]
    },
    {
     "data": {
      "text/plain": [
       "[0.4927056133747101, 0.8018327355384827]"
      ]
     },
     "execution_count": 104,
     "metadata": {},
     "output_type": "execute_result"
    }
   ],
   "execution_count": 104
  },
  {
   "cell_type": "code",
   "metadata": {
    "ExecuteTime": {
     "end_time": "2024-09-22T09:56:14.264219Z",
     "start_time": "2024-09-22T09:56:14.222500Z"
    }
   },
   "source": [
    "model.evaluate(test_[cols], test['d'])"
   ],
   "outputs": [
    {
     "name": "stdout",
     "output_type": "stream",
     "text": [
      "\u001B[1m14/14\u001B[0m \u001B[32m━━━━━━━━━━━━━━━━━━━━\u001B[0m\u001B[37m\u001B[0m \u001B[1m0s\u001B[0m 490us/step - accuracy: 0.6767 - loss: 0.6832\n"
     ]
    },
    {
     "data": {
      "text/plain": [
       "[0.6954002976417542, 0.6544622182846069]"
      ]
     },
     "execution_count": 105,
     "metadata": {},
     "output_type": "execute_result"
    }
   ],
   "execution_count": 105
  },
  {
   "cell_type": "code",
   "metadata": {
    "ExecuteTime": {
     "end_time": "2024-09-22T09:56:49.611776Z",
     "start_time": "2024-09-22T09:56:49.608787Z"
    }
   },
   "source": [
    "res = pd.DataFrame(hist.history)"
   ],
   "outputs": [],
   "execution_count": 106
  },
  {
   "metadata": {
    "ExecuteTime": {
     "end_time": "2024-09-22T09:57:01.931975Z",
     "start_time": "2024-09-22T09:57:01.852535Z"
    }
   },
   "cell_type": "code",
   "source": "res[['loss', 'val_loss']].plot(figsize=(10, 6), style='--');",
   "outputs": [
    {
     "data": {
      "text/plain": [
       "<Figure size 1000x600 with 1 Axes>"
      ],
      "image/png": "[encoded data removed]"
     },
     "metadata": {},
     "output_type": "display_data"
    }
   ],
   "execution_count": 107
  },
  {
   "cell_type": "code",
   "metadata": {
    "ExecuteTime": {
     "end_time": "2024-09-22T09:57:04.791213Z",
     "start_time": "2024-09-22T09:57:04.712958Z"
    }
   },
   "source": [
    "res[['accuracy', 'val_accuracy']].plot(figsize=(10, 6), style='--');"
   ],
   "outputs": [
    {
     "data": {
      "text/plain": [
       "<Figure size 1000x600 with 1 Axes>"
      ],
      "image/png": "[encoded data removed]"
     },
     "metadata": {},
     "output_type": "display_data"
    }
   ],
   "execution_count": 108
  },
  {
   "cell_type": "code",
   "metadata": {
    "ExecuteTime": {
     "end_time": "2024-09-22T09:58:15.056187Z",
     "start_time": "2024-09-22T09:58:15.027310Z"
    }
   },
   "source": [
    "set_seeds()\n",
    "optimizer = Adam(learning_rate=0.001)\n",
    "model = create_model(hl=2, hu=128,\n",
    "                     dropout=True, rate=0.3,\n",
    "                     regularize=True, reg=l2(0.001),optimizer=optimizer\n",
    "                    )"
   ],
   "outputs": [
    {
     "name": "stderr",
     "output_type": "stream",
     "text": [
      "/Users/zhengshuang/miniconda3/envs/aiif/lib/python3.10/site-packages/keras/src/layers/core/dense.py:87: UserWarning: Do not pass an `input_shape`/`input_dim` argument to a layer. When using Sequential models, prefer using an `Input(shape)` object as the first layer in the model instead.\n",
      "  super().__init__(activity_regularizer=activity_regularizer, **kwargs)\n"
     ]
    }
   ],
   "execution_count": 111
  },
  {
   "cell_type": "code",
   "metadata": {
    "ExecuteTime": {
     "end_time": "2024-09-22T09:58:20.944724Z",
     "start_time": "2024-09-22T09:58:17.514189Z"
    }
   },
   "source": [
    "%%time \n",
    "hist = model.fit(train_[cols], train['d'],\n",
    "          epochs=50, verbose=False,\n",
    "          validation_split=0.2, shuffle=False,\n",
    "          class_weight=cw(train))"
   ],
   "outputs": [
    {
     "name": "stderr",
     "output_type": "stream",
     "text": [
      "/Users/zhengshuang/miniconda3/envs/aiif/lib/python3.10/site-packages/keras/src/trainers/data_adapters/data_adapter_utils.py:126: FutureWarning: Series.__getitem__ treating keys as positions is deprecated. In a future version, integer keys will always be treated as labels (consistent with DataFrame behavior). To access a value by position, use `ser.iloc[pos]`\n",
      "  sample_weight[i] = class_weight.get(int(y[i]), 1.0)\n"
     ]
    },
    {
     "name": "stdout",
     "output_type": "stream",
     "text": [
      "CPU times: user 3.63 s, sys: 498 ms, total: 4.13 s\n",
      "Wall time: 3.43 s\n"
     ]
    }
   ],
   "execution_count": 112
  },
  {
   "cell_type": "code",
   "metadata": {
    "ExecuteTime": {
     "end_time": "2024-09-22T09:58:22.687979Z",
     "start_time": "2024-09-22T09:58:22.634015Z"
    }
   },
   "source": [
    "model.evaluate(train_[cols], train['d'])"
   ],
   "outputs": [
    {
     "name": "stdout",
     "output_type": "stream",
     "text": [
      "\u001B[1m55/55\u001B[0m \u001B[32m━━━━━━━━━━━━━━━━━━━━\u001B[0m\u001B[37m\u001B[0m \u001B[1m0s\u001B[0m 395us/step - accuracy: 0.7798 - loss: 0.4848\n"
     ]
    },
    {
     "data": {
      "text/plain": [
       "[0.5114791393280029, 0.7514318227767944]"
      ]
     },
     "execution_count": 113,
     "metadata": {},
     "output_type": "execute_result"
    }
   ],
   "execution_count": 113
  },
  {
   "cell_type": "code",
   "metadata": {
    "ExecuteTime": {
     "end_time": "2024-09-22T09:58:53.490506Z",
     "start_time": "2024-09-22T09:58:53.446662Z"
    }
   },
   "source": [
    "model.evaluate(test_[cols], test['d'])"
   ],
   "outputs": [
    {
     "name": "stdout",
     "output_type": "stream",
     "text": [
      "\u001B[1m14/14\u001B[0m \u001B[32m━━━━━━━━━━━━━━━━━━━━\u001B[0m\u001B[37m\u001B[0m \u001B[1m0s\u001B[0m 540us/step - accuracy: 0.6639 - loss: 0.5925\n"
     ]
    },
    {
     "data": {
      "text/plain": [
       "[0.6176770925521851, 0.6453089118003845]"
      ]
     },
     "execution_count": 115,
     "metadata": {},
     "output_type": "execute_result"
    }
   ],
   "execution_count": 115
  },
  {
   "cell_type": "code",
   "execution_count": 75,
   "metadata": {},
   "outputs": [],
   "source": [
    "res = pd.DataFrame(hist.history)"
   ]
  },
  {
   "metadata": {
    "ExecuteTime": {
     "end_time": "2024-09-22T09:59:36.638187Z",
     "start_time": "2024-09-22T09:59:36.556487Z"
    }
   },
   "cell_type": "code",
   "source": "res[['loss', 'val_loss']].plot(figsize=(10, 6), style='--');",
   "outputs": [
    {
     "data": {
      "text/plain": [
       "<Figure size 1000x600 with 1 Axes>"
      ],
      "image/png": "[encoded data removed]"
     },
     "metadata": {},
     "output_type": "display_data"
    }
   ],
   "execution_count": 116
  },
  {
   "cell_type": "code",
   "metadata": {
    "ExecuteTime": {
     "end_time": "2024-09-22T09:59:43.942930Z",
     "start_time": "2024-09-22T09:59:43.865907Z"
    }
   },
   "source": [
    "res[['accuracy', 'val_accuracy']].plot(figsize=(10, 6), style='--');"
   ],
   "outputs": [
    {
     "data": {
      "text/plain": [
       "<Figure size 1000x600 with 1 Axes>"
      ],
      "image/png": "[encoded data removed]"
     },
     "metadata": {},
     "output_type": "display_data"
    }
   ],
   "execution_count": 117
  },
  {
   "cell_type": "code",
   "metadata": {
    "ExecuteTime": {
     "end_time": "2024-09-22T09:59:47.930503Z",
     "start_time": "2024-09-22T09:59:47.926781Z"
    }
   },
   "source": [
    "res.mean()['accuracy'] - res.mean()['val_accuracy']"
   ],
   "outputs": [
    {
     "data": {
      "text/plain": [
       "0.08740000247955326"
      ]
     },
     "execution_count": 118,
     "metadata": {},
     "output_type": "execute_result"
    }
   ],
   "execution_count": 118
  },
  {
   "cell_type": "markdown",
   "metadata": {},
   "source": [
    "## Bagging"
   ]
  },
  {
   "cell_type": "code",
   "metadata": {
    "ExecuteTime": {
     "end_time": "2024-09-22T10:21:30.077119Z",
     "start_time": "2024-09-22T10:21:29.946968Z"
    }
   },
   "source": [
    "from sklearn.ensemble import BaggingClassifier\n",
    "# from keras.wrappers.scikit_learn import KerasClassifier\n",
    "from scikeras.wrappers import KerasClassifier"
   ],
   "outputs": [],
   "execution_count": 119
  },
  {
   "cell_type": "code",
   "metadata": {
    "ExecuteTime": {
     "end_time": "2024-09-22T10:21:53.915415Z",
     "start_time": "2024-09-22T10:21:53.911509Z"
    }
   },
   "source": [
    "len(cols)"
   ],
   "outputs": [
    {
     "data": {
      "text/plain": [
       "40"
      ]
     },
     "execution_count": 120,
     "metadata": {},
     "output_type": "execute_result"
    }
   ],
   "execution_count": 120
  },
  {
   "cell_type": "code",
   "metadata": {
    "ExecuteTime": {
     "end_time": "2024-09-22T10:21:57.699968Z",
     "start_time": "2024-09-22T10:21:57.698016Z"
    }
   },
   "source": [
    "max_features = 0.75"
   ],
   "outputs": [],
   "execution_count": 121
  },
  {
   "metadata": {},
   "cell_type": "code",
   "outputs": [],
   "execution_count": null,
   "source": ""
  },
  {
   "cell_type": "code",
   "metadata": {
    "ExecuteTime": {
     "end_time": "2024-09-22T10:41:55.275982Z",
     "start_time": "2024-09-22T10:41:55.271393Z"
    }
   },
   "source": [
    "set_seeds()\n",
    "optimizer = Adam(learning_rate=0.001)\n",
    "base_estimator = KerasClassifier(model=create_model,\n",
    "                        verbose=False, epochs=20, hl=1, hu=128,\n",
    "                        dropout=True, regularize=False,\n",
    "                        input_dim=int(len(cols) * max_features))"
   ],
   "outputs": [],
   "execution_count": 142
  },
  {
   "cell_type": "code",
   "metadata": {
    "ExecuteTime": {
     "end_time": "2024-09-22T10:41:57.634710Z",
     "start_time": "2024-09-22T10:41:57.632025Z"
    }
   },
   "source": [
    "model_bag = BaggingClassifier(estimator=base_estimator,\n",
    "                          n_estimators=15,\n",
    "                          max_samples=0.75,\n",
    "                          max_features=max_features,\n",
    "                          bootstrap=True,\n",
    "                          bootstrap_features=True,\n",
    "                          n_jobs=1,\n",
    "                          random_state=100,\n",
    "                         )\n",
    "## bootstrap:是否有放回"
   ],
   "outputs": [],
   "execution_count": 143
  },
  {
   "cell_type": "code",
   "metadata": {
    "ExecuteTime": {
     "end_time": "2024-09-22T10:42:13.738304Z",
     "start_time": "2024-09-22T10:41:59.924954Z"
    }
   },
   "source": [
    "%time model_bag.fit(train_[cols], train['d'])"
   ],
   "outputs": [
    {
     "name": "stderr",
     "output_type": "stream",
     "text": [
      "/Users/zhengshuang/miniconda3/envs/aiif/lib/python3.10/site-packages/keras/src/layers/core/dense.py:87: UserWarning: Do not pass an `input_shape`/`input_dim` argument to a layer. When using Sequential models, prefer using an `Input(shape)` object as the first layer in the model instead.\n",
      "  super().__init__(activity_regularizer=activity_regularizer, **kwargs)\n",
      "/Users/zhengshuang/miniconda3/envs/aiif/lib/python3.10/site-packages/keras/src/layers/core/dense.py:87: UserWarning: Do not pass an `input_shape`/`input_dim` argument to a layer. When using Sequential models, prefer using an `Input(shape)` object as the first layer in the model instead.\n",
      "  super().__init__(activity_regularizer=activity_regularizer, **kwargs)\n",
      "/Users/zhengshuang/miniconda3/envs/aiif/lib/python3.10/site-packages/keras/src/layers/core/dense.py:87: UserWarning: Do not pass an `input_shape`/`input_dim` argument to a layer. When using Sequential models, prefer using an `Input(shape)` object as the first layer in the model instead.\n",
      "  super().__init__(activity_regularizer=activity_regularizer, **kwargs)\n",
      "/Users/zhengshuang/miniconda3/envs/aiif/lib/python3.10/site-packages/keras/src/layers/core/dense.py:87: UserWarning: Do not pass an `input_shape`/`input_dim` argument to a layer. When using Sequential models, prefer using an `Input(shape)` object as the first layer in the model instead.\n",
      "  super().__init__(activity_regularizer=activity_regularizer, **kwargs)\n",
      "/Users/zhengshuang/miniconda3/envs/aiif/lib/python3.10/site-packages/keras/src/layers/core/dense.py:87: UserWarning: Do not pass an `input_shape`/`input_dim` argument to a layer. When using Sequential models, prefer using an `Input(shape)` object as the first layer in the model instead.\n",
      "  super().__init__(activity_regularizer=activity_regularizer, **kwargs)\n",
      "/Users/zhengshuang/miniconda3/envs/aiif/lib/python3.10/site-packages/keras/src/layers/core/dense.py:87: UserWarning: Do not pass an `input_shape`/`input_dim` argument to a layer. When using Sequential models, prefer using an `Input(shape)` object as the first layer in the model instead.\n",
      "  super().__init__(activity_regularizer=activity_regularizer, **kwargs)\n",
      "/Users/zhengshuang/miniconda3/envs/aiif/lib/python3.10/site-packages/keras/src/layers/core/dense.py:87: UserWarning: Do not pass an `input_shape`/`input_dim` argument to a layer. When using Sequential models, prefer using an `Input(shape)` object as the first layer in the model instead.\n",
      "  super().__init__(activity_regularizer=activity_regularizer, **kwargs)\n",
      "/Users/zhengshuang/miniconda3/envs/aiif/lib/python3.10/site-packages/keras/src/layers/core/dense.py:87: UserWarning: Do not pass an `input_shape`/`input_dim` argument to a layer. When using Sequential models, prefer using an `Input(shape)` object as the first layer in the model instead.\n",
      "  super().__init__(activity_regularizer=activity_regularizer, **kwargs)\n",
      "/Users/zhengshuang/miniconda3/envs/aiif/lib/python3.10/site-packages/keras/src/layers/core/dense.py:87: UserWarning: Do not pass an `input_shape`/`input_dim` argument to a layer. When using Sequential models, prefer using an `Input(shape)` object as the first layer in the model instead.\n",
      "  super().__init__(activity_regularizer=activity_regularizer, **kwargs)\n",
      "/Users/zhengshuang/miniconda3/envs/aiif/lib/python3.10/site-packages/keras/src/layers/core/dense.py:87: UserWarning: Do not pass an `input_shape`/`input_dim` argument to a layer. When using Sequential models, prefer using an `Input(shape)` object as the first layer in the model instead.\n",
      "  super().__init__(activity_regularizer=activity_regularizer, **kwargs)\n",
      "/Users/zhengshuang/miniconda3/envs/aiif/lib/python3.10/site-packages/keras/src/layers/core/dense.py:87: UserWarning: Do not pass an `input_shape`/`input_dim` argument to a layer. When using Sequential models, prefer using an `Input(shape)` object as the first layer in the model instead.\n",
      "  super().__init__(activity_regularizer=activity_regularizer, **kwargs)\n",
      "/Users/zhengshuang/miniconda3/envs/aiif/lib/python3.10/site-packages/keras/src/layers/core/dense.py:87: UserWarning: Do not pass an `input_shape`/`input_dim` argument to a layer. When using Sequential models, prefer using an `Input(shape)` object as the first layer in the model instead.\n",
      "  super().__init__(activity_regularizer=activity_regularizer, **kwargs)\n",
      "/Users/zhengshuang/miniconda3/envs/aiif/lib/python3.10/site-packages/keras/src/layers/core/dense.py:87: UserWarning: Do not pass an `input_shape`/`input_dim` argument to a layer. When using Sequential models, prefer using an `Input(shape)` object as the first layer in the model instead.\n",
      "  super().__init__(activity_regularizer=activity_regularizer, **kwargs)\n",
      "/Users/zhengshuang/miniconda3/envs/aiif/lib/python3.10/site-packages/keras/src/layers/core/dense.py:87: UserWarning: Do not pass an `input_shape`/`input_dim` argument to a layer. When using Sequential models, prefer using an `Input(shape)` object as the first layer in the model instead.\n",
      "  super().__init__(activity_regularizer=activity_regularizer, **kwargs)\n",
      "/Users/zhengshuang/miniconda3/envs/aiif/lib/python3.10/site-packages/keras/src/layers/core/dense.py:87: UserWarning: Do not pass an `input_shape`/`input_dim` argument to a layer. When using Sequential models, prefer using an `Input(shape)` object as the first layer in the model instead.\n",
      "  super().__init__(activity_regularizer=activity_regularizer, **kwargs)\n"
     ]
    },
    {
     "name": "stdout",
     "output_type": "stream",
     "text": [
      "CPU times: user 14.7 s, sys: 1.65 s, total: 16.4 s\n",
      "Wall time: 13.8 s\n"
     ]
    },
    {
     "data": {
      "text/plain": [
       "BaggingClassifier(bootstrap_features=True,\n",
       "                  estimator=KerasClassifier(dropout=True, epochs=20, hl=1, hu=128, input_dim=30, model=<function create_model at 0x31e801630>, regularize=False, verbose=False),\n",
       "                  max_features=0.75, max_samples=0.75, n_estimators=15,\n",
       "                  n_jobs=1, random_state=100)"
      ],
      "text/html": [
       "<style>#sk-container-id-1 {\n",
       "  /* Definition of color scheme common for light and dark mode */\n",
       "  --sklearn-color-text: black;\n",
       "  --sklearn-color-line: gray;\n",
       "  /* Definition of color scheme for unfitted estimators */\n",
       "  --sklearn-color-unfitted-level-0: #fff5e6;\n",
       "  --sklearn-color-unfitted-level-1: #f6e4d2;\n",
       "  --sklearn-color-unfitted-level-2: #ffe0b3;\n",
       "  --sklearn-color-unfitted-level-3: chocolate;\n",
       "  /* Definition of color scheme for fitted estimators */\n",
       "  --sklearn-color-fitted-level-0: #f0f8ff;\n",
       "  --sklearn-color-fitted-level-1: #d4ebff;\n",
       "  --sklearn-color-fitted-level-2: #b3dbfd;\n",
       "  --sklearn-color-fitted-level-3: cornflowerblue;\n",
       "\n",
       "  /* Specific color for light theme */\n",
       "  --sklearn-color-text-on-default-background: var(--sg-text-color, var(--theme-code-foreground, var(--jp-content-font-color1, black)));\n",
       "  --sklearn-color-background: var(--sg-background-color, var(--theme-background, var(--jp-layout-color0, white)));\n",
       "  --sklearn-color-border-box: var(--sg-text-color, var(--theme-code-foreground, var(--jp-content-font-color1, black)));\n",
       "  --sklearn-color-icon: #696969;\n",
       "\n",
       "  @media (prefers-color-scheme: dark) {\n",
       "    /* Redefinition of color scheme for dark theme */\n",
       "    --sklearn-color-text-on-default-background: var(--sg-text-color, var(--theme-code-foreground, var(--jp-content-font-color1, white)));\n",
       "    --sklearn-color-background: var(--sg-background-color, var(--theme-background, var(--jp-layout-color0, #111)));\n",
       "    --sklearn-color-border-box: var(--sg-text-color, var(--theme-code-foreground, var(--jp-content-font-color1, white)));\n",
       "    --sklearn-color-icon: #878787;\n",
       "  }\n",
       "}\n",
       "\n",
       "#sk-container-id-1 {\n",
       "  color: var(--sklearn-color-text);\n",
       "}\n",
       "\n",
       "#sk-container-id-1 pre {\n",
       "  padding: 0;\n",
       "}\n",
       "\n",
       "#sk-container-id-1 input.sk-hidden--visually {\n",
       "  border: 0;\n",
       "  clip: rect(1px 1px 1px 1px);\n",
       "  clip: rect(1px, 1px, 1px, 1px);\n",
       "  height: 1px;\n",
       "  margin: -1px;\n",
       "  overflow: hidden;\n",
       "  padding: 0;\n",
       "  position: absolute;\n",
       "  width: 1px;\n",
       "}\n",
       "\n",
       "#sk-container-id-1 div.sk-dashed-wrapped {\n",
       "  border: 1px dashed var(--sklearn-color-line);\n",
       "  margin: 0 0.4em 0.5em 0.4em;\n",
       "  box-sizing: border-box;\n",
       "  padding-bottom: 0.4em;\n",
       "  background-color: var(--sklearn-color-background);\n",
       "}\n",
       "\n",
       "#sk-container-id-1 div.sk-container {\n",
       "  /* jupyter's `normalize.less` sets `[hidden] { display: none; }`\n",
       "     but bootstrap.min.css set `[hidden] { display: none !important; }`\n",
       "     so we also need the `!important` here to be able to override the\n",
       "     default hidden behavior on the sphinx rendered scikit-learn.org.\n",
       "     See: https://github.com/scikit-learn/scikit-learn/issues/21755 */\n",
       "  display: inline-block !important;\n",
       "  position: relative;\n",
       "}\n",
       "\n",
       "#sk-container-id-1 div.sk-text-repr-fallback {\n",
       "  display: none;\n",
       "}\n",
       "\n",
       "div.sk-parallel-item,\n",
       "div.sk-serial,\n",
       "div.sk-item {\n",
       "  /* draw centered vertical line to link estimators */\n",
       "  background-image: linear-gradient(var(--sklearn-color-text-on-default-background), var(--sklearn-color-text-on-default-background));\n",
       "  background-size: 2px 100%;\n",
       "  background-repeat: no-repeat;\n",
       "  background-position: center center;\n",
       "}\n",
       "\n",
       "/* Parallel-specific style estimator block */\n",
       "\n",
       "#sk-container-id-1 div.sk-parallel-item::after {\n",
       "  content: \"\";\n",
       "  width: 100%;\n",
       "  border-bottom: 2px solid var(--sklearn-color-text-on-default-background);\n",
       "  flex-grow: 1;\n",
       "}\n",
       "\n",
       "#sk-container-id-1 div.sk-parallel {\n",
       "  display: flex;\n",
       "  align-items: stretch;\n",
       "  justify-content: center;\n",
       "  background-color: var(--sklearn-color-background);\n",
       "  position: relative;\n",
       "}\n",
       "\n",
       "#sk-container-id-1 div.sk-parallel-item {\n",
       "  display: flex;\n",
       "  flex-direction: column;\n",
       "}\n",
       "\n",
       "#sk-container-id-1 div.sk-parallel-item:first-child::after {\n",
       "  align-self: flex-end;\n",
       "  width: 50%;\n",
       "}\n",
       "\n",
       "#sk-container-id-1 div.sk-parallel-item:last-child::after {\n",
       "  align-self: flex-start;\n",
       "  width: 50%;\n",
       "}\n",
       "\n",
       "#sk-container-id-1 div.sk-parallel-item:only-child::after {\n",
       "  width: 0;\n",
       "}\n",
       "\n",
       "/* Serial-specific style estimator block */\n",
       "\n",
       "#sk-container-id-1 div.sk-serial {\n",
       "  display: flex;\n",
       "  flex-direction: column;\n",
       "  align-items: center;\n",
       "  background-color: var(--sklearn-color-background);\n",
       "  padding-right: 1em;\n",
       "  padding-left: 1em;\n",
       "}\n",
       "\n",
       "\n",
       "/* Toggleable style: style used for estimator/Pipeline/ColumnTransformer box that is\n",
       "clickable and can be expanded/collapsed.\n",
       "- Pipeline and ColumnTransformer use this feature and define the default style\n",
       "- Estimators will overwrite some part of the style using the `sk-estimator` class\n",
       "*/\n",
       "\n",
       "/* Pipeline and ColumnTransformer style (default) */\n",
       "\n",
       "#sk-container-id-1 div.sk-toggleable {\n",
       "  /* Default theme specific background. It is overwritten whether we have a\n",
       "  specific estimator or a Pipeline/ColumnTransformer */\n",
       "  background-color: var(--sklearn-color-background);\n",
       "}\n",
       "\n",
       "/* Toggleable label */\n",
       "#sk-container-id-1 label.sk-toggleable__label {\n",
       "  cursor: pointer;\n",
       "  display: block;\n",
       "  width: 100%;\n",
       "  margin-bottom: 0;\n",
       "  padding: 0.5em;\n",
       "  box-sizing: border-box;\n",
       "  text-align: center;\n",
       "}\n",
       "\n",
       "#sk-container-id-1 label.sk-toggleable__label-arrow:before {\n",
       "  /* Arrow on the left of the label */\n",
       "  content: \"▸\";\n",
       "  float: left;\n",
       "  margin-right: 0.25em;\n",
       "  color: var(--sklearn-color-icon);\n",
       "}\n",
       "\n",
       "#sk-container-id-1 label.sk-toggleable__label-arrow:hover:before {\n",
       "  color: var(--sklearn-color-text);\n",
       "}\n",
       "\n",
       "/* Toggleable content - dropdown */\n",
       "\n",
       "#sk-container-id-1 div.sk-toggleable__content {\n",
       "  max-height: 0;\n",
       "  max-width: 0;\n",
       "  overflow: hidden;\n",
       "  text-align: left;\n",
       "  /* unfitted */\n",
       "  background-color: var(--sklearn-color-unfitted-level-0);\n",
       "}\n",
       "\n",
       "#sk-container-id-1 div.sk-toggleable__content.fitted {\n",
       "  /* fitted */\n",
       "  background-color: var(--sklearn-color-fitted-level-0);\n",
       "}\n",
       "\n",
       "#sk-container-id-1 div.sk-toggleable__content pre {\n",
       "  margin: 0.2em;\n",
       "  border-radius: 0.25em;\n",
       "  color: var(--sklearn-color-text);\n",
       "  /* unfitted */\n",
       "  background-color: var(--sklearn-color-unfitted-level-0);\n",
       "}\n",
       "\n",
       "#sk-container-id-1 div.sk-toggleable__content.fitted pre {\n",
       "  /* unfitted */\n",
       "  background-color: var(--sklearn-color-fitted-level-0);\n",
       "}\n",
       "\n",
       "#sk-container-id-1 input.sk-toggleable__control:checked~div.sk-toggleable__content {\n",
       "  /* Expand drop-down */\n",
       "  max-height: 200px;\n",
       "  max-width: 100%;\n",
       "  overflow: auto;\n",
       "}\n",
       "\n",
       "#sk-container-id-1 input.sk-toggleable__control:checked~label.sk-toggleable__label-arrow:before {\n",
       "  content: \"▾\";\n",
       "}\n",
       "\n",
       "/* Pipeline/ColumnTransformer-specific style */\n",
       "\n",
       "#sk-container-id-1 div.sk-label input.sk-toggleable__control:checked~label.sk-toggleable__label {\n",
       "  color: var(--sklearn-color-text);\n",
       "  background-color: var(--sklearn-color-unfitted-level-2);\n",
       "}\n",
       "\n",
       "#sk-container-id-1 div.sk-label.fitted input.sk-toggleable__control:checked~label.sk-toggleable__label {\n",
       "  background-color: var(--sklearn-color-fitted-level-2);\n",
       "}\n",
       "\n",
       "/* Estimator-specific style */\n",
       "\n",
       "/* Colorize estimator box */\n",
       "#sk-container-id-1 div.sk-estimator input.sk-toggleable__control:checked~label.sk-toggleable__label {\n",
       "  /* unfitted */\n",
       "  background-color: var(--sklearn-color-unfitted-level-2);\n",
       "}\n",
       "\n",
       "#sk-container-id-1 div.sk-estimator.fitted input.sk-toggleable__control:checked~label.sk-toggleable__label {\n",
       "  /* fitted */\n",
       "  background-color: var(--sklearn-color-fitted-level-2);\n",
       "}\n",
       "\n",
       "#sk-container-id-1 div.sk-label label.sk-toggleable__label,\n",
       "#sk-container-id-1 div.sk-label label {\n",
       "  /* The background is the default theme color */\n",
       "  color: var(--sklearn-color-text-on-default-background);\n",
       "}\n",
       "\n",
       "/* On hover, darken the color of the background */\n",
       "#sk-container-id-1 div.sk-label:hover label.sk-toggleable__label {\n",
       "  color: var(--sklearn-color-text);\n",
       "  background-color: var(--sklearn-color-unfitted-level-2);\n",
       "}\n",
       "\n",
       "/* Label box, darken color on hover, fitted */\n",
       "#sk-container-id-1 div.sk-label.fitted:hover label.sk-toggleable__label.fitted {\n",
       "  color: var(--sklearn-color-text);\n",
       "  background-color: var(--sklearn-color-fitted-level-2);\n",
       "}\n",
       "\n",
       "/* Estimator label */\n",
       "\n",
       "#sk-container-id-1 div.sk-label label {\n",
       "  font-family: monospace;\n",
       "  font-weight: bold;\n",
       "  display: inline-block;\n",
       "  line-height: 1.2em;\n",
       "}\n",
       "\n",
       "#sk-container-id-1 div.sk-label-container {\n",
       "  text-align: center;\n",
       "}\n",
       "\n",
       "/* Estimator-specific */\n",
       "#sk-container-id-1 div.sk-estimator {\n",
       "  font-family: monospace;\n",
       "  border: 1px dotted var(--sklearn-color-border-box);\n",
       "  border-radius: 0.25em;\n",
       "  box-sizing: border-box;\n",
       "  margin-bottom: 0.5em;\n",
       "  /* unfitted */\n",
       "  background-color: var(--sklearn-color-unfitted-level-0);\n",
       "}\n",
       "\n",
       "#sk-container-id-1 div.sk-estimator.fitted {\n",
       "  /* fitted */\n",
       "  background-color: var(--sklearn-color-fitted-level-0);\n",
       "}\n",
       "\n",
       "/* on hover */\n",
       "#sk-container-id-1 div.sk-estimator:hover {\n",
       "  /* unfitted */\n",
       "  background-color: var(--sklearn-color-unfitted-level-2);\n",
       "}\n",
       "\n",
       "#sk-container-id-1 div.sk-estimator.fitted:hover {\n",
       "  /* fitted */\n",
       "  background-color: var(--sklearn-color-fitted-level-2);\n",
       "}\n",
       "\n",
       "/* Specification for estimator info (e.g. \"i\" and \"?\") */\n",
       "\n",
       "/* Common style for \"i\" and \"?\" */\n",
       "\n",
       ".sk-estimator-doc-link,\n",
       "a:link.sk-estimator-doc-link,\n",
       "a:visited.sk-estimator-doc-link {\n",
       "  float: right;\n",
       "  font-size: smaller;\n",
       "  line-height: 1em;\n",
       "  font-family: monospace;\n",
       "  background-color: var(--sklearn-color-background);\n",
       "  border-radius: 1em;\n",
       "  height: 1em;\n",
       "  width: 1em;\n",
       "  text-decoration: none !important;\n",
       "  margin-left: 1ex;\n",
       "  /* unfitted */\n",
       "  border: var(--sklearn-color-unfitted-level-1) 1pt solid;\n",
       "  color: var(--sklearn-color-unfitted-level-1);\n",
       "}\n",
       "\n",
       ".sk-estimator-doc-link.fitted,\n",
       "a:link.sk-estimator-doc-link.fitted,\n",
       "a:visited.sk-estimator-doc-link.fitted {\n",
       "  /* fitted */\n",
       "  border: var(--sklearn-color-fitted-level-1) 1pt solid;\n",
       "  color: var(--sklearn-color-fitted-level-1);\n",
       "}\n",
       "\n",
       "/* On hover */\n",
       "div.sk-estimator:hover .sk-estimator-doc-link:hover,\n",
       ".sk-estimator-doc-link:hover,\n",
       "div.sk-label-container:hover .sk-estimator-doc-link:hover,\n",
       ".sk-estimator-doc-link:hover {\n",
       "  /* unfitted */\n",
       "  background-color: var(--sklearn-color-unfitted-level-3);\n",
       "  color: var(--sklearn-color-background);\n",
       "  text-decoration: none;\n",
       "}\n",
       "\n",
       "div.sk-estimator.fitted:hover .sk-estimator-doc-link.fitted:hover,\n",
       ".sk-estimator-doc-link.fitted:hover,\n",
       "div.sk-label-container:hover .sk-estimator-doc-link.fitted:hover,\n",
       ".sk-estimator-doc-link.fitted:hover {\n",
       "  /* fitted */\n",
       "  background-color: var(--sklearn-color-fitted-level-3);\n",
       "  color: var(--sklearn-color-background);\n",
       "  text-decoration: none;\n",
       "}\n",
       "\n",
       "/* Span, style for the box shown on hovering the info icon */\n",
       ".sk-estimator-doc-link span {\n",
       "  display: none;\n",
       "  z-index: 9999;\n",
       "  position: relative;\n",
       "  font-weight: normal;\n",
       "  right: .2ex;\n",
       "  padding: .5ex;\n",
       "  margin: .5ex;\n",
       "  width: min-content;\n",
       "  min-width: 20ex;\n",
       "  max-width: 50ex;\n",
       "  color: var(--sklearn-color-text);\n",
       "  box-shadow: 2pt 2pt 4pt #999;\n",
       "  /* unfitted */\n",
       "  background: var(--sklearn-color-unfitted-level-0);\n",
       "  border: .5pt solid var(--sklearn-color-unfitted-level-3);\n",
       "}\n",
       "\n",
       ".sk-estimator-doc-link.fitted span {\n",
       "  /* fitted */\n",
       "  background: var(--sklearn-color-fitted-level-0);\n",
       "  border: var(--sklearn-color-fitted-level-3);\n",
       "}\n",
       "\n",
       ".sk-estimator-doc-link:hover span {\n",
       "  display: block;\n",
       "}\n",
       "\n",
       "/* \"?\"-specific style due to the `<a>` HTML tag */\n",
       "\n",
       "#sk-container-id-1 a.estimator_doc_link {\n",
       "  float: right;\n",
       "  font-size: 1rem;\n",
       "  line-height: 1em;\n",
       "  font-family: monospace;\n",
       "  background-color: var(--sklearn-color-background);\n",
       "  border-radius: 1rem;\n",
       "  height: 1rem;\n",
       "  width: 1rem;\n",
       "  text-decoration: none;\n",
       "  /* unfitted */\n",
       "  color: var(--sklearn-color-unfitted-level-1);\n",
       "  border: var(--sklearn-color-unfitted-level-1) 1pt solid;\n",
       "}\n",
       "\n",
       "#sk-container-id-1 a.estimator_doc_link.fitted {\n",
       "  /* fitted */\n",
       "  border: var(--sklearn-color-fitted-level-1) 1pt solid;\n",
       "  color: var(--sklearn-color-fitted-level-1);\n",
       "}\n",
       "\n",
       "/* On hover */\n",
       "#sk-container-id-1 a.estimator_doc_link:hover {\n",
       "  /* unfitted */\n",
       "  background-color: var(--sklearn-color-unfitted-level-3);\n",
       "  color: var(--sklearn-color-background);\n",
       "  text-decoration: none;\n",
       "}\n",
       "\n",
       "#sk-container-id-1 a.estimator_doc_link.fitted:hover {\n",
       "  /* fitted */\n",
       "  background-color: var(--sklearn-color-fitted-level-3);\n",
       "}\n",
       "</style><div id=\"sk-container-id-1\" class=\"sk-top-container\"><div class=\"sk-text-repr-fallback\"><pre>BaggingClassifier(bootstrap_features=True,\n",
       "                  estimator=KerasClassifier(dropout=True, epochs=20, hl=1, hu=128, input_dim=30, model=&lt;function create_model at 0x31e801630&gt;, regularize=False, verbose=False),\n",
       "                  max_features=0.75, max_samples=0.75, n_estimators=15,\n",
       "                  n_jobs=1, random_state=100)</pre><b>In a Jupyter environment, please rerun this cell to show the HTML representation or trust the notebook. <br />On GitHub, the HTML representation is unable to render, please try loading this page with nbviewer.org.</b></div><div class=\"sk-container\" hidden><div class=\"sk-item sk-dashed-wrapped\"><div class=\"sk-label-container\"><div class=\"sk-label fitted sk-toggleable\"><input class=\"sk-toggleable__control sk-hidden--visually\" id=\"sk-estimator-id-1\" type=\"checkbox\" ><label for=\"sk-estimator-id-1\" class=\"sk-toggleable__label fitted sk-toggleable__label-arrow fitted\">&nbsp;&nbsp;BaggingClassifier<a class=\"sk-estimator-doc-link fitted\" rel=\"noreferrer\" target=\"_blank\" href=\"https://scikit-learn.org/1.5/modules/generated/sklearn.ensemble.BaggingClassifier.html\">?<span>Documentation for BaggingClassifier</span></a><span class=\"sk-estimator-doc-link fitted\">i<span>Fitted</span></span></label><div class=\"sk-toggleable__content fitted\"><pre>BaggingClassifier(bootstrap_features=True,\n",
       "                  estimator=KerasClassifier(dropout=True, epochs=20, hl=1, hu=128, input_dim=30, model=&lt;function create_model at 0x31e801630&gt;, regularize=False, verbose=False),\n",
       "                  max_features=0.75, max_samples=0.75, n_estimators=15,\n",
       "                  n_jobs=1, random_state=100)</pre></div> </div></div><div class=\"sk-parallel\"><div class=\"sk-parallel-item\"><div class=\"sk-item\"><div class=\"sk-label-container\"><div class=\"sk-label fitted sk-toggleable\"><input class=\"sk-toggleable__control sk-hidden--visually\" id=\"sk-estimator-id-2\" type=\"checkbox\" ><label for=\"sk-estimator-id-2\" class=\"sk-toggleable__label fitted sk-toggleable__label-arrow fitted\">estimator: KerasClassifier</label><div class=\"sk-toggleable__content fitted\"><pre>KerasClassifier(\n",
       "\tmodel=&lt;function create_model at 0x31e801630&gt;\n",
       "\tbuild_fn=None\n",
       "\twarm_start=False\n",
       "\trandom_state=None\n",
       "\toptimizer=rmsprop\n",
       "\tloss=None\n",
       "\tmetrics=None\n",
       "\tbatch_size=None\n",
       "\tvalidation_batch_size=None\n",
       "\tverbose=False\n",
       "\tcallbacks=None\n",
       "\tvalidation_split=0.0\n",
       "\tshuffle=True\n",
       "\trun_eagerly=False\n",
       "\tepochs=20\n",
       "\thl=1\n",
       "\thu=128\n",
       "\tdropout=True\n",
       "\tregularize=False\n",
       "\tinput_dim=30\n",
       "\tclass_weight=None\n",
       ")</pre></div> </div></div><div class=\"sk-serial\"><div class=\"sk-item\"><div class=\"sk-estimator fitted sk-toggleable\"><input class=\"sk-toggleable__control sk-hidden--visually\" id=\"sk-estimator-id-3\" type=\"checkbox\" ><label for=\"sk-estimator-id-3\" class=\"sk-toggleable__label fitted sk-toggleable__label-arrow fitted\">KerasClassifier</label><div class=\"sk-toggleable__content fitted\"><pre>KerasClassifier(\n",
       "\tmodel=&lt;function create_model at 0x31e801630&gt;\n",
       "\tbuild_fn=None\n",
       "\twarm_start=False\n",
       "\trandom_state=None\n",
       "\toptimizer=rmsprop\n",
       "\tloss=None\n",
       "\tmetrics=None\n",
       "\tbatch_size=None\n",
       "\tvalidation_batch_size=None\n",
       "\tverbose=False\n",
       "\tcallbacks=None\n",
       "\tvalidation_split=0.0\n",
       "\tshuffle=True\n",
       "\trun_eagerly=False\n",
       "\tepochs=20\n",
       "\thl=1\n",
       "\thu=128\n",
       "\tdropout=True\n",
       "\tregularize=False\n",
       "\tinput_dim=30\n",
       "\tclass_weight=None\n",
       ")</pre></div> </div></div></div></div></div></div></div></div></div>"
      ]
     },
     "execution_count": 144,
     "metadata": {},
     "output_type": "execute_result"
    }
   ],
   "execution_count": 144
  },
  {
   "cell_type": "code",
   "metadata": {
    "ExecuteTime": {
     "end_time": "2024-09-22T10:42:21.148212Z",
     "start_time": "2024-09-22T10:42:20.145854Z"
    }
   },
   "source": [
    "model_bag.score(train_[cols], train['d'])"
   ],
   "outputs": [
    {
     "data": {
      "text/plain": [
       "0.7084765177548683"
      ]
     },
     "execution_count": 145,
     "metadata": {},
     "output_type": "execute_result"
    }
   ],
   "execution_count": 145
  },
  {
   "cell_type": "code",
   "metadata": {
    "ExecuteTime": {
     "end_time": "2024-09-22T10:42:24.371319Z",
     "start_time": "2024-09-22T10:42:23.987971Z"
    }
   },
   "source": [
    "model_bag.score(test_[cols], test['d'])"
   ],
   "outputs": [
    {
     "data": {
      "text/plain": [
       "0.6613272311212814"
      ]
     },
     "execution_count": 146,
     "metadata": {},
     "output_type": "execute_result"
    }
   ],
   "execution_count": 146
  },
  {
   "cell_type": "code",
   "metadata": {
    "ExecuteTime": {
     "end_time": "2024-09-22T10:42:28.983597Z",
     "start_time": "2024-09-22T10:42:28.603810Z"
    }
   },
   "source": [
    "test['p'] = model_bag.predict(test_[cols])"
   ],
   "outputs": [],
   "execution_count": 147
  },
  {
   "cell_type": "code",
   "metadata": {
    "ExecuteTime": {
     "end_time": "2024-09-22T10:42:31.647879Z",
     "start_time": "2024-09-22T10:42:31.644309Z"
    }
   },
   "source": [
    "test['p'].value_counts()"
   ],
   "outputs": [
    {
     "data": {
      "text/plain": [
       "p\n",
       "0    420\n",
       "1     17\n",
       "Name: count, dtype: int64"
      ]
     },
     "execution_count": 148,
     "metadata": {},
     "output_type": "execute_result"
    }
   ],
   "execution_count": 148
  },
  {
   "cell_type": "markdown",
   "metadata": {},
   "source": [
    "## Optimizers"
   ]
  },
  {
   "cell_type": "code",
   "metadata": {
    "ExecuteTime": {
     "end_time": "2024-09-22T10:47:14.026576Z",
     "start_time": "2024-09-22T10:47:14.024422Z"
    }
   },
   "source": [
    "import time"
   ],
   "outputs": [],
   "execution_count": 149
  },
  {
   "cell_type": "code",
   "metadata": {
    "ExecuteTime": {
     "end_time": "2024-09-22T10:47:15.398283Z",
     "start_time": "2024-09-22T10:47:15.396220Z"
    }
   },
   "source": [
    "optimizers = ['sgd', 'rmsprop', 'adagrad', 'adadelta',\n",
    "              'adam', 'adamax', 'nadam']"
   ],
   "outputs": [],
   "execution_count": 150
  },
  {
   "metadata": {
    "ExecuteTime": {
     "end_time": "2024-09-22T10:50:00.181155Z",
     "start_time": "2024-09-22T10:50:00.177887Z"
    }
   },
   "cell_type": "code",
   "source": [
    "def create_model(hl=1, hu=128, dropout=False, rate=0.3, \n",
    "                 regularize=False, reg=l1(0.0005),\n",
    "                 optimizer=optimizer, input_dim=len(cols)):\n",
    "    if not regularize:\n",
    "        reg = None\n",
    "    model = Sequential()\n",
    "    model.add(Dense(hu, input_dim=input_dim,\n",
    "                    activity_regularizer=reg,\n",
    "                    activation='relu'))\n",
    "    if dropout:\n",
    "        model.add(Dropout(rate, seed=100))\n",
    "    for _ in range(hl):\n",
    "        model.add(Dense(hu, activation='relu',\n",
    "                        activity_regularizer=reg))\n",
    "        if dropout:\n",
    "            model.add(Dropout(rate, seed=100))\n",
    "    model.add(Dense(1, activation='sigmoid'))\n",
    "    model.compile(loss='binary_crossentropy', optimizer=optimizer,\n",
    "                 metrics=['accuracy'])\n",
    "    return model"
   ],
   "outputs": [],
   "execution_count": 152
  },
  {
   "cell_type": "code",
   "metadata": {
    "ExecuteTime": {
     "end_time": "2024-09-22T10:50:25.982847Z",
     "start_time": "2024-09-22T10:50:06.943040Z"
    }
   },
   "source": [
    "%%time\n",
    "for optimizer in optimizers:\n",
    "    set_seeds()\n",
    "    model = create_model(hl=1, hu=128,\n",
    "                     dropout=True, rate=0.3,\n",
    "                     regularize=False, reg=l2(0.001),\n",
    "                     optimizer=optimizer\n",
    "                    )\n",
    "    t0 = time.time()\n",
    "    model.fit(train_[cols], train['d'],\n",
    "              epochs=50, verbose=False,\n",
    "              validation_split=0.2, shuffle=False,\n",
    "              class_weight=cw(train))\n",
    "    t1 = time.time()\n",
    "    t = t1 - t0\n",
    "    acc_tr = model.evaluate(train_[cols], train['d'], verbose=False)[1]\n",
    "    acc_te = model.evaluate(test_[cols], test['d'], verbose=False)[1]\n",
    "    out = f'{optimizer:10s} | time[s]: {t:.4f} | in-sample={acc_tr:.4f}'\n",
    "    out += f' | out-of-sample={acc_te:.4f}'\n",
    "    print(out)"
   ],
   "outputs": [
    {
     "name": "stderr",
     "output_type": "stream",
     "text": [
      "/Users/zhengshuang/miniconda3/envs/aiif/lib/python3.10/site-packages/keras/src/layers/core/dense.py:87: UserWarning: Do not pass an `input_shape`/`input_dim` argument to a layer. When using Sequential models, prefer using an `Input(shape)` object as the first layer in the model instead.\n",
      "  super().__init__(activity_regularizer=activity_regularizer, **kwargs)\n",
      "/Users/zhengshuang/miniconda3/envs/aiif/lib/python3.10/site-packages/keras/src/trainers/data_adapters/data_adapter_utils.py:126: FutureWarning: Series.__getitem__ treating keys as positions is deprecated. In a future version, integer keys will always be treated as labels (consistent with DataFrame behavior). To access a value by position, use `ser.iloc[pos]`\n",
      "  sample_weight[i] = class_weight.get(int(y[i]), 1.0)\n"
     ]
    },
    {
     "name": "stdout",
     "output_type": "stream",
     "text": [
      "sgd        | time[s]: 2.4136 | in-sample=0.6306 | out-of-sample=0.6613\n"
     ]
    },
    {
     "name": "stderr",
     "output_type": "stream",
     "text": [
      "/Users/zhengshuang/miniconda3/envs/aiif/lib/python3.10/site-packages/keras/src/layers/core/dense.py:87: UserWarning: Do not pass an `input_shape`/`input_dim` argument to a layer. When using Sequential models, prefer using an `Input(shape)` object as the first layer in the model instead.\n",
      "  super().__init__(activity_regularizer=activity_regularizer, **kwargs)\n",
      "/Users/zhengshuang/miniconda3/envs/aiif/lib/python3.10/site-packages/keras/src/trainers/data_adapters/data_adapter_utils.py:126: FutureWarning: Series.__getitem__ treating keys as positions is deprecated. In a future version, integer keys will always be treated as labels (consistent with DataFrame behavior). To access a value by position, use `ser.iloc[pos]`\n",
      "  sample_weight[i] = class_weight.get(int(y[i]), 1.0)\n"
     ]
    },
    {
     "name": "stdout",
     "output_type": "stream",
     "text": [
      "rmsprop    | time[s]: 2.4568 | in-sample=0.7595 | out-of-sample=0.6384\n"
     ]
    },
    {
     "name": "stderr",
     "output_type": "stream",
     "text": [
      "/Users/zhengshuang/miniconda3/envs/aiif/lib/python3.10/site-packages/keras/src/layers/core/dense.py:87: UserWarning: Do not pass an `input_shape`/`input_dim` argument to a layer. When using Sequential models, prefer using an `Input(shape)` object as the first layer in the model instead.\n",
      "  super().__init__(activity_regularizer=activity_regularizer, **kwargs)\n",
      "/Users/zhengshuang/miniconda3/envs/aiif/lib/python3.10/site-packages/keras/src/trainers/data_adapters/data_adapter_utils.py:126: FutureWarning: Series.__getitem__ treating keys as positions is deprecated. In a future version, integer keys will always be treated as labels (consistent with DataFrame behavior). To access a value by position, use `ser.iloc[pos]`\n",
      "  sample_weight[i] = class_weight.get(int(y[i]), 1.0)\n"
     ]
    },
    {
     "name": "stdout",
     "output_type": "stream",
     "text": [
      "adagrad    | time[s]: 2.4286 | in-sample=0.6243 | out-of-sample=0.6568\n"
     ]
    },
    {
     "name": "stderr",
     "output_type": "stream",
     "text": [
      "/Users/zhengshuang/miniconda3/envs/aiif/lib/python3.10/site-packages/keras/src/layers/core/dense.py:87: UserWarning: Do not pass an `input_shape`/`input_dim` argument to a layer. When using Sequential models, prefer using an `Input(shape)` object as the first layer in the model instead.\n",
      "  super().__init__(activity_regularizer=activity_regularizer, **kwargs)\n",
      "/Users/zhengshuang/miniconda3/envs/aiif/lib/python3.10/site-packages/keras/src/trainers/data_adapters/data_adapter_utils.py:126: FutureWarning: Series.__getitem__ treating keys as positions is deprecated. In a future version, integer keys will always be treated as labels (consistent with DataFrame behavior). To access a value by position, use `ser.iloc[pos]`\n",
      "  sample_weight[i] = class_weight.get(int(y[i]), 1.0)\n"
     ]
    },
    {
     "name": "stdout",
     "output_type": "stream",
     "text": [
      "adadelta   | time[s]: 2.7836 | in-sample=0.3396 | out-of-sample=0.3501\n"
     ]
    },
    {
     "name": "stderr",
     "output_type": "stream",
     "text": [
      "/Users/zhengshuang/miniconda3/envs/aiif/lib/python3.10/site-packages/keras/src/layers/core/dense.py:87: UserWarning: Do not pass an `input_shape`/`input_dim` argument to a layer. When using Sequential models, prefer using an `Input(shape)` object as the first layer in the model instead.\n",
      "  super().__init__(activity_regularizer=activity_regularizer, **kwargs)\n",
      "/Users/zhengshuang/miniconda3/envs/aiif/lib/python3.10/site-packages/keras/src/trainers/data_adapters/data_adapter_utils.py:126: FutureWarning: Series.__getitem__ treating keys as positions is deprecated. In a future version, integer keys will always be treated as labels (consistent with DataFrame behavior). To access a value by position, use `ser.iloc[pos]`\n",
      "  sample_weight[i] = class_weight.get(int(y[i]), 1.0)\n"
     ]
    },
    {
     "name": "stdout",
     "output_type": "stream",
     "text": [
      "adam       | time[s]: 2.6944 | in-sample=0.7142 | out-of-sample=0.5812\n"
     ]
    },
    {
     "name": "stderr",
     "output_type": "stream",
     "text": [
      "/Users/zhengshuang/miniconda3/envs/aiif/lib/python3.10/site-packages/keras/src/layers/core/dense.py:87: UserWarning: Do not pass an `input_shape`/`input_dim` argument to a layer. When using Sequential models, prefer using an `Input(shape)` object as the first layer in the model instead.\n",
      "  super().__init__(activity_regularizer=activity_regularizer, **kwargs)\n",
      "/Users/zhengshuang/miniconda3/envs/aiif/lib/python3.10/site-packages/keras/src/trainers/data_adapters/data_adapter_utils.py:126: FutureWarning: Series.__getitem__ treating keys as positions is deprecated. In a future version, integer keys will always be treated as labels (consistent with DataFrame behavior). To access a value by position, use `ser.iloc[pos]`\n",
      "  sample_weight[i] = class_weight.get(int(y[i]), 1.0)\n"
     ]
    },
    {
     "name": "stdout",
     "output_type": "stream",
     "text": [
      "adamax     | time[s]: 2.7596 | in-sample=0.6770 | out-of-sample=0.6430\n"
     ]
    },
    {
     "name": "stderr",
     "output_type": "stream",
     "text": [
      "/Users/zhengshuang/miniconda3/envs/aiif/lib/python3.10/site-packages/keras/src/layers/core/dense.py:87: UserWarning: Do not pass an `input_shape`/`input_dim` argument to a layer. When using Sequential models, prefer using an `Input(shape)` object as the first layer in the model instead.\n",
      "  super().__init__(activity_regularizer=activity_regularizer, **kwargs)\n",
      "/Users/zhengshuang/miniconda3/envs/aiif/lib/python3.10/site-packages/keras/src/trainers/data_adapters/data_adapter_utils.py:126: FutureWarning: Series.__getitem__ treating keys as positions is deprecated. In a future version, integer keys will always be treated as labels (consistent with DataFrame behavior). To access a value by position, use `ser.iloc[pos]`\n",
      "  sample_weight[i] = class_weight.get(int(y[i]), 1.0)\n"
     ]
    },
    {
     "name": "stdout",
     "output_type": "stream",
     "text": [
      "nadam      | time[s]: 2.8922 | in-sample=0.7446 | out-of-sample=0.6316\n",
      "CPU times: user 20.6 s, sys: 2.81 s, total: 23.4 s\n",
      "Wall time: 19 s\n"
     ]
    }
   ],
   "execution_count": 153
  },
  {
   "cell_type": "code",
   "metadata": {
    "ExecuteTime": {
     "end_time": "2024-09-22T10:54:59.154626Z",
     "start_time": "2024-09-22T10:54:59.085070Z"
    }
   },
   "source": [
    "test['p'] = np.where(model.predict(test_[cols]) > 0.5, 1, 0)"
   ],
   "outputs": [
    {
     "name": "stdout",
     "output_type": "stream",
     "text": [
      "\u001B[1m14/14\u001B[0m \u001B[32m━━━━━━━━━━━━━━━━━━━━\u001B[0m\u001B[37m\u001B[0m \u001B[1m0s\u001B[0m 1ms/step \n"
     ]
    }
   ],
   "execution_count": 154
  },
  {
   "cell_type": "code",
   "metadata": {
    "ExecuteTime": {
     "end_time": "2024-09-22T10:55:02.274896Z",
     "start_time": "2024-09-22T10:55:02.271293Z"
    }
   },
   "source": [
    "test['p'].value_counts()"
   ],
   "outputs": [
    {
     "data": {
      "text/plain": [
       "p\n",
       "1    226\n",
       "0    211\n",
       "Name: count, dtype: int64"
      ]
     },
     "execution_count": 155,
     "metadata": {},
     "output_type": "execute_result"
    }
   ],
   "execution_count": 155
  },
  {
   "cell_type": "code",
   "metadata": {
    "ExecuteTime": {
     "end_time": "2024-09-22T10:55:06.261891Z",
     "start_time": "2024-09-22T10:55:06.258501Z"
    }
   },
   "source": [
    "accuracy_score(test['p'], test['d'])"
   ],
   "outputs": [
    {
     "data": {
      "text/plain": [
       "0.631578947368421"
      ]
     },
     "execution_count": 156,
     "metadata": {},
     "output_type": "execute_result"
    }
   ],
   "execution_count": 156
  },
  {
   "metadata": {},
   "cell_type": "markdown",
   "source": "Revisited"
  },
  {
   "metadata": {
    "ExecuteTime": {
     "end_time": "2024-09-22T10:59:58.011141Z",
     "start_time": "2024-09-22T10:59:39.304984Z"
    }
   },
   "cell_type": "code",
   "source": [
    "%%time\n",
    "for optimizer in optimizers:\n",
    "    set_seeds()\n",
    "    model = create_model(hl=1, hu=128,\n",
    "                     dropout=True, rate=0.3,\n",
    "                     regularize=False, reg=l2(0.001),\n",
    "                     optimizer=optimizer\n",
    "                    )\n",
    "    t0 = time.time()\n",
    "    h=model.fit(train_[cols], train['d'],\n",
    "              epochs=50, verbose=False,\n",
    "              validation_split=0.2, shuffle=False,\n",
    "              class_weight=cw(train))\n",
    "    t1 = time.time()\n",
    "    t = t1 - t0\n",
    "    # acc_tr = model.evaluate(train_[cols], train['d'], verbose=False)[1]\n",
    "    # acc_te = model.evaluate(test_[cols], test['d'], verbose=False)[1]\n",
    "    acc_tr = h.history['accuracy'][-1]\n",
    "    acc_va = h.history['val_accuracy'][-1]\n",
    "    out = f'{optimizer:10s} | time[s]: {t:.4f} | train-sample={acc_tr:.4f}'\n",
    "    out += f' | val-sample={acc_va:.4f}'\n",
    "    print(out)"
   ],
   "outputs": [
    {
     "name": "stderr",
     "output_type": "stream",
     "text": [
      "/Users/zhengshuang/miniconda3/envs/aiif/lib/python3.10/site-packages/keras/src/layers/core/dense.py:87: UserWarning: Do not pass an `input_shape`/`input_dim` argument to a layer. When using Sequential models, prefer using an `Input(shape)` object as the first layer in the model instead.\n",
      "  super().__init__(activity_regularizer=activity_regularizer, **kwargs)\n",
      "/Users/zhengshuang/miniconda3/envs/aiif/lib/python3.10/site-packages/keras/src/trainers/data_adapters/data_adapter_utils.py:126: FutureWarning: Series.__getitem__ treating keys as positions is deprecated. In a future version, integer keys will always be treated as labels (consistent with DataFrame behavior). To access a value by position, use `ser.iloc[pos]`\n",
      "  sample_weight[i] = class_weight.get(int(y[i]), 1.0)\n"
     ]
    },
    {
     "name": "stdout",
     "output_type": "stream",
     "text": [
      "sgd        | time[s]: 2.7458 | train-sample=0.6275 | val-sample=0.6114\n"
     ]
    },
    {
     "name": "stderr",
     "output_type": "stream",
     "text": [
      "/Users/zhengshuang/miniconda3/envs/aiif/lib/python3.10/site-packages/keras/src/layers/core/dense.py:87: UserWarning: Do not pass an `input_shape`/`input_dim` argument to a layer. When using Sequential models, prefer using an `Input(shape)` object as the first layer in the model instead.\n",
      "  super().__init__(activity_regularizer=activity_regularizer, **kwargs)\n",
      "/Users/zhengshuang/miniconda3/envs/aiif/lib/python3.10/site-packages/keras/src/trainers/data_adapters/data_adapter_utils.py:126: FutureWarning: Series.__getitem__ treating keys as positions is deprecated. In a future version, integer keys will always be treated as labels (consistent with DataFrame behavior). To access a value by position, use `ser.iloc[pos]`\n",
      "  sample_weight[i] = class_weight.get(int(y[i]), 1.0)\n"
     ]
    },
    {
     "name": "stdout",
     "output_type": "stream",
     "text": [
      "rmsprop    | time[s]: 2.4827 | train-sample=0.7228 | val-sample=0.6429\n"
     ]
    },
    {
     "name": "stderr",
     "output_type": "stream",
     "text": [
      "/Users/zhengshuang/miniconda3/envs/aiif/lib/python3.10/site-packages/keras/src/layers/core/dense.py:87: UserWarning: Do not pass an `input_shape`/`input_dim` argument to a layer. When using Sequential models, prefer using an `Input(shape)` object as the first layer in the model instead.\n",
      "  super().__init__(activity_regularizer=activity_regularizer, **kwargs)\n",
      "/Users/zhengshuang/miniconda3/envs/aiif/lib/python3.10/site-packages/keras/src/trainers/data_adapters/data_adapter_utils.py:126: FutureWarning: Series.__getitem__ treating keys as positions is deprecated. In a future version, integer keys will always be treated as labels (consistent with DataFrame behavior). To access a value by position, use `ser.iloc[pos]`\n",
      "  sample_weight[i] = class_weight.get(int(y[i]), 1.0)\n"
     ]
    },
    {
     "name": "stdout",
     "output_type": "stream",
     "text": [
      "adagrad    | time[s]: 2.5259 | train-sample=0.6039 | val-sample=0.5914\n"
     ]
    },
    {
     "name": "stderr",
     "output_type": "stream",
     "text": [
      "/Users/zhengshuang/miniconda3/envs/aiif/lib/python3.10/site-packages/keras/src/layers/core/dense.py:87: UserWarning: Do not pass an `input_shape`/`input_dim` argument to a layer. When using Sequential models, prefer using an `Input(shape)` object as the first layer in the model instead.\n",
      "  super().__init__(activity_regularizer=activity_regularizer, **kwargs)\n",
      "/Users/zhengshuang/miniconda3/envs/aiif/lib/python3.10/site-packages/keras/src/trainers/data_adapters/data_adapter_utils.py:126: FutureWarning: Series.__getitem__ treating keys as positions is deprecated. In a future version, integer keys will always be treated as labels (consistent with DataFrame behavior). To access a value by position, use `ser.iloc[pos]`\n",
      "  sample_weight[i] = class_weight.get(int(y[i]), 1.0)\n"
     ]
    },
    {
     "name": "stdout",
     "output_type": "stream",
     "text": [
      "adadelta   | time[s]: 2.7284 | train-sample=0.3804 | val-sample=0.3371\n"
     ]
    },
    {
     "name": "stderr",
     "output_type": "stream",
     "text": [
      "/Users/zhengshuang/miniconda3/envs/aiif/lib/python3.10/site-packages/keras/src/layers/core/dense.py:87: UserWarning: Do not pass an `input_shape`/`input_dim` argument to a layer. When using Sequential models, prefer using an `Input(shape)` object as the first layer in the model instead.\n",
      "  super().__init__(activity_regularizer=activity_regularizer, **kwargs)\n",
      "/Users/zhengshuang/miniconda3/envs/aiif/lib/python3.10/site-packages/keras/src/trainers/data_adapters/data_adapter_utils.py:126: FutureWarning: Series.__getitem__ treating keys as positions is deprecated. In a future version, integer keys will always be treated as labels (consistent with DataFrame behavior). To access a value by position, use `ser.iloc[pos]`\n",
      "  sample_weight[i] = class_weight.get(int(y[i]), 1.0)\n"
     ]
    },
    {
     "name": "stdout",
     "output_type": "stream",
     "text": [
      "adam       | time[s]: 2.6292 | train-sample=0.7328 | val-sample=0.6171\n"
     ]
    },
    {
     "name": "stderr",
     "output_type": "stream",
     "text": [
      "/Users/zhengshuang/miniconda3/envs/aiif/lib/python3.10/site-packages/keras/src/layers/core/dense.py:87: UserWarning: Do not pass an `input_shape`/`input_dim` argument to a layer. When using Sequential models, prefer using an `Input(shape)` object as the first layer in the model instead.\n",
      "  super().__init__(activity_regularizer=activity_regularizer, **kwargs)\n",
      "/Users/zhengshuang/miniconda3/envs/aiif/lib/python3.10/site-packages/keras/src/trainers/data_adapters/data_adapter_utils.py:126: FutureWarning: Series.__getitem__ treating keys as positions is deprecated. In a future version, integer keys will always be treated as labels (consistent with DataFrame behavior). To access a value by position, use `ser.iloc[pos]`\n",
      "  sample_weight[i] = class_weight.get(int(y[i]), 1.0)\n"
     ]
    },
    {
     "name": "stdout",
     "output_type": "stream",
     "text": [
      "adamax     | time[s]: 2.6378 | train-sample=0.6519 | val-sample=0.6343\n"
     ]
    },
    {
     "name": "stderr",
     "output_type": "stream",
     "text": [
      "/Users/zhengshuang/miniconda3/envs/aiif/lib/python3.10/site-packages/keras/src/layers/core/dense.py:87: UserWarning: Do not pass an `input_shape`/`input_dim` argument to a layer. When using Sequential models, prefer using an `Input(shape)` object as the first layer in the model instead.\n",
      "  super().__init__(activity_regularizer=activity_regularizer, **kwargs)\n",
      "/Users/zhengshuang/miniconda3/envs/aiif/lib/python3.10/site-packages/keras/src/trainers/data_adapters/data_adapter_utils.py:126: FutureWarning: Series.__getitem__ treating keys as positions is deprecated. In a future version, integer keys will always be treated as labels (consistent with DataFrame behavior). To access a value by position, use `ser.iloc[pos]`\n",
      "  sample_weight[i] = class_weight.get(int(y[i]), 1.0)\n"
     ]
    },
    {
     "name": "stdout",
     "output_type": "stream",
     "text": [
      "nadam      | time[s]: 2.8136 | train-sample=0.7371 | val-sample=0.6200\n",
      "CPU times: user 20.2 s, sys: 2.74 s, total: 22.9 s\n",
      "Wall time: 18.7 s\n"
     ]
    }
   ],
   "execution_count": 158
  },
  {
   "metadata": {
    "ExecuteTime": {
     "end_time": "2024-09-22T11:02:46.447707Z",
     "start_time": "2024-09-22T11:02:43.455230Z"
    }
   },
   "cell_type": "code",
   "source": [
    "set_seeds()\n",
    "optimizer = optimizers[4]\n",
    "model = create_model(hl=1, hu=128,\n",
    "                 dropout=True, rate=0.3,\n",
    "                 regularize=False, reg=l2(0.001),\n",
    "                 optimizer=optimizer\n",
    "                )\n",
    "t0 = time.time()\n",
    "h=model.fit(train_[cols], train['d'],\n",
    "          epochs=50, verbose=False,\n",
    "          validation_split=0.2, shuffle=False,\n",
    "          class_weight=cw(train))\n",
    "t1 = time.time()\n",
    "t = t1 - t0\n",
    "\n",
    "acc_te = model.evaluate(test_[cols], test['d'], verbose=False)[1]\n",
    "\n",
    "out = f'{optimizer:10s} | time[s]: {t:.4f} | out-of-sample={acc_te:.4f}'\n",
    "print(out)"
   ],
   "outputs": [
    {
     "name": "stderr",
     "output_type": "stream",
     "text": [
      "/Users/zhengshuang/miniconda3/envs/aiif/lib/python3.10/site-packages/keras/src/layers/core/dense.py:87: UserWarning: Do not pass an `input_shape`/`input_dim` argument to a layer. When using Sequential models, prefer using an `Input(shape)` object as the first layer in the model instead.\n",
      "  super().__init__(activity_regularizer=activity_regularizer, **kwargs)\n",
      "/Users/zhengshuang/miniconda3/envs/aiif/lib/python3.10/site-packages/keras/src/trainers/data_adapters/data_adapter_utils.py:126: FutureWarning: Series.__getitem__ treating keys as positions is deprecated. In a future version, integer keys will always be treated as labels (consistent with DataFrame behavior). To access a value by position, use `ser.iloc[pos]`\n",
      "  sample_weight[i] = class_weight.get(int(y[i]), 1.0)\n"
     ]
    },
    {
     "name": "stdout",
     "output_type": "stream",
     "text": [
      "adam       | time[s]: 2.9409 | out-of-sample=0.5812\n"
     ]
    }
   ],
   "execution_count": 159
  },
  {
   "cell_type": "markdown",
   "metadata": {},
   "source": [
    "<img src='http://hilpisch.com/taim_logo.png' width=\"350px\" align=\"right\">\n",
    "\n",
    "<br><br><br><a href=\"http://tpq.io\" target=\"_blank\">http://tpq.io</a> | <a href=\"http://twitter.com/dyjh\" target=\"_blank\">@dyjh</a> | <a href=\"mailto:ai@tpq.io\">ai@tpq.io</a>"
   ]
  }
 ],
 "metadata": {
  "kernelspec": {
   "display_name": "Python 3 (ipykernel)",
   "language": "python",
   "name": "python3"
  },
  "language_info": {
   "codemirror_mode": {
    "name": "ipython",
    "version": 3
   },
   "file_extension": ".py",
   "mimetype": "text/x-python",
   "name": "python",
   "nbconvert_exporter": "python",
   "pygments_lexer": "ipython3",
   "version": "3.10.12"
  }
 },
 "nbformat": 4,
 "nbformat_minor": 4
}
