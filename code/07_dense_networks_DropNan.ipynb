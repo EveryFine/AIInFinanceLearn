{
 "cells": [
  {
   "cell_type": "markdown",
   "metadata": {},
   "source": [
    "<img src=\"https://certificate.tpq.io/taim_logo.png\" width=\"350px\" align=\"right\">"
   ]
  },
  {
   "cell_type": "markdown",
   "metadata": {},
   "source": [
    "# Artificial Intelligence in Finance"
   ]
  },
  {
   "cell_type": "markdown",
   "metadata": {},
   "source": [
    "## Dense Neural Networks"
   ]
  },
  {
   "cell_type": "markdown",
   "metadata": {},
   "source": [
    "Dr Yves J Hilpisch | The AI Machine\n",
    "\n",
    "http://aimachine.io | http://twitter.com/dyjh"
   ]
  },
  {
   "cell_type": "code",
   "metadata": {
    "ExecuteTime": {
     "end_time": "2024-09-22T08:36:06.322140Z",
     "start_time": "2024-09-22T08:36:05.737995Z"
    }
   },
   "source": [
    "import os\n",
    "import numpy as np\n",
    "import pandas as pd\n",
    "from pylab import plt, mpl\n",
    "plt.style.use('seaborn-v0_8')\n",
    "mpl.rcParams['savefig.dpi'] = 300\n",
    "mpl.rcParams['font.family'] = 'serif'\n",
    "pd.set_option('display.precision', 4)\n",
    "np.set_printoptions(suppress=True, precision=4)\n",
    "os.environ['PYTHONHASHSEED'] = '0'"
   ],
   "outputs": [],
   "execution_count": 2
  },
  {
   "metadata": {
    "ExecuteTime": {
     "end_time": "2024-09-22T06:54:02.915775Z",
     "start_time": "2024-09-22T06:54:02.912914Z"
    }
   },
   "cell_type": "code",
   "source": "os.environ?",
   "outputs": [],
   "execution_count": 4
  },
  {
   "cell_type": "markdown",
   "metadata": {},
   "source": [
    "## The Data"
   ]
  },
  {
   "cell_type": "code",
   "metadata": {
    "ExecuteTime": {
     "end_time": "2024-09-22T08:36:08.895251Z",
     "start_time": "2024-09-22T08:36:08.893264Z"
    }
   },
   "source": [
    "url = 'http://hilpisch.com/aiif_eikon_id_eur_usd.csv'"
   ],
   "outputs": [],
   "execution_count": 3
  },
  {
   "cell_type": "code",
   "metadata": {
    "ExecuteTime": {
     "end_time": "2024-09-22T08:36:10.691753Z",
     "start_time": "2024-09-22T08:36:10.689572Z"
    }
   },
   "source": [
    "symbol = 'EUR_USD'"
   ],
   "outputs": [],
   "execution_count": 4
  },
  {
   "cell_type": "code",
   "metadata": {
    "ExecuteTime": {
     "end_time": "2024-09-22T08:36:17.143151Z",
     "start_time": "2024-09-22T08:36:11.907995Z"
    }
   },
   "source": [
    "raw = pd.read_csv(url, index_col=0, parse_dates=True)"
   ],
   "outputs": [],
   "execution_count": 5
  },
  {
   "cell_type": "code",
   "metadata": {
    "ExecuteTime": {
     "end_time": "2024-09-22T06:55:30.615767Z",
     "start_time": "2024-09-22T06:55:30.608431Z"
    }
   },
   "source": [
    "raw.head()"
   ],
   "outputs": [
    {
     "data": {
      "text/plain": [
       "                       HIGH     LOW    OPEN   CLOSE\n",
       "Date                                               \n",
       "2019-10-01 00:00:00  1.0899  1.0897  1.0897  1.0899\n",
       "2019-10-01 00:01:00  1.0899  1.0896  1.0899  1.0898\n",
       "2019-10-01 00:02:00  1.0898  1.0896  1.0898  1.0896\n",
       "2019-10-01 00:03:00  1.0898  1.0896  1.0897  1.0898\n",
       "2019-10-01 00:04:00  1.0898  1.0896  1.0897  1.0898"
      ],
      "text/html": [
       "<div>\n",
       "<style scoped>\n",
       "    .dataframe tbody tr th:only-of-type {\n",
       "        vertical-align: middle;\n",
       "    }\n",
       "\n",
       "    .dataframe tbody tr th {\n",
       "        vertical-align: top;\n",
       "    }\n",
       "\n",
       "    .dataframe thead th {\n",
       "        text-align: right;\n",
       "    }\n",
       "</style>\n",
       "<table border=\"1\" class=\"dataframe\">\n",
       "  <thead>\n",
       "    <tr style=\"text-align: right;\">\n",
       "      <th></th>\n",
       "      <th>HIGH</th>\n",
       "      <th>LOW</th>\n",
       "      <th>OPEN</th>\n",
       "      <th>CLOSE</th>\n",
       "    </tr>\n",
       "    <tr>\n",
       "      <th>Date</th>\n",
       "      <th></th>\n",
       "      <th></th>\n",
       "      <th></th>\n",
       "      <th></th>\n",
       "    </tr>\n",
       "  </thead>\n",
       "  <tbody>\n",
       "    <tr>\n",
       "      <th>2019-10-01 00:00:00</th>\n",
       "      <td>1.0899</td>\n",
       "      <td>1.0897</td>\n",
       "      <td>1.0897</td>\n",
       "      <td>1.0899</td>\n",
       "    </tr>\n",
       "    <tr>\n",
       "      <th>2019-10-01 00:01:00</th>\n",
       "      <td>1.0899</td>\n",
       "      <td>1.0896</td>\n",
       "      <td>1.0899</td>\n",
       "      <td>1.0898</td>\n",
       "    </tr>\n",
       "    <tr>\n",
       "      <th>2019-10-01 00:02:00</th>\n",
       "      <td>1.0898</td>\n",
       "      <td>1.0896</td>\n",
       "      <td>1.0898</td>\n",
       "      <td>1.0896</td>\n",
       "    </tr>\n",
       "    <tr>\n",
       "      <th>2019-10-01 00:03:00</th>\n",
       "      <td>1.0898</td>\n",
       "      <td>1.0896</td>\n",
       "      <td>1.0897</td>\n",
       "      <td>1.0898</td>\n",
       "    </tr>\n",
       "    <tr>\n",
       "      <th>2019-10-01 00:04:00</th>\n",
       "      <td>1.0898</td>\n",
       "      <td>1.0896</td>\n",
       "      <td>1.0897</td>\n",
       "      <td>1.0898</td>\n",
       "    </tr>\n",
       "  </tbody>\n",
       "</table>\n",
       "</div>"
      ]
     },
     "execution_count": 8,
     "metadata": {},
     "output_type": "execute_result"
    }
   ],
   "execution_count": 8
  },
  {
   "metadata": {
    "ExecuteTime": {
     "end_time": "2024-09-22T06:56:50.789587Z",
     "start_time": "2024-09-22T06:56:50.784549Z"
    }
   },
   "cell_type": "code",
   "source": "raw.tail()",
   "outputs": [
    {
     "data": {
      "text/plain": [
       "                       HIGH     LOW    OPEN   CLOSE\n",
       "Date                                               \n",
       "2019-12-31 22:11:00  1.1212  1.1211  1.1212  1.1211\n",
       "2019-12-31 23:01:00  1.1212  1.1211  1.1211  1.1211\n",
       "2019-12-31 23:03:00  1.1212  1.1211  1.1212  1.1211\n",
       "2019-12-31 23:05:00  1.1212  1.1212  1.1212  1.1212\n",
       "2019-12-31 23:06:00  1.1211  1.1211  1.1211  1.1211"
      ],
      "text/html": [
       "<div>\n",
       "<style scoped>\n",
       "    .dataframe tbody tr th:only-of-type {\n",
       "        vertical-align: middle;\n",
       "    }\n",
       "\n",
       "    .dataframe tbody tr th {\n",
       "        vertical-align: top;\n",
       "    }\n",
       "\n",
       "    .dataframe thead th {\n",
       "        text-align: right;\n",
       "    }\n",
       "</style>\n",
       "<table border=\"1\" class=\"dataframe\">\n",
       "  <thead>\n",
       "    <tr style=\"text-align: right;\">\n",
       "      <th></th>\n",
       "      <th>HIGH</th>\n",
       "      <th>LOW</th>\n",
       "      <th>OPEN</th>\n",
       "      <th>CLOSE</th>\n",
       "    </tr>\n",
       "    <tr>\n",
       "      <th>Date</th>\n",
       "      <th></th>\n",
       "      <th></th>\n",
       "      <th></th>\n",
       "      <th></th>\n",
       "    </tr>\n",
       "  </thead>\n",
       "  <tbody>\n",
       "    <tr>\n",
       "      <th>2019-12-31 22:11:00</th>\n",
       "      <td>1.1212</td>\n",
       "      <td>1.1211</td>\n",
       "      <td>1.1212</td>\n",
       "      <td>1.1211</td>\n",
       "    </tr>\n",
       "    <tr>\n",
       "      <th>2019-12-31 23:01:00</th>\n",
       "      <td>1.1212</td>\n",
       "      <td>1.1211</td>\n",
       "      <td>1.1211</td>\n",
       "      <td>1.1211</td>\n",
       "    </tr>\n",
       "    <tr>\n",
       "      <th>2019-12-31 23:03:00</th>\n",
       "      <td>1.1212</td>\n",
       "      <td>1.1211</td>\n",
       "      <td>1.1212</td>\n",
       "      <td>1.1211</td>\n",
       "    </tr>\n",
       "    <tr>\n",
       "      <th>2019-12-31 23:05:00</th>\n",
       "      <td>1.1212</td>\n",
       "      <td>1.1212</td>\n",
       "      <td>1.1212</td>\n",
       "      <td>1.1212</td>\n",
       "    </tr>\n",
       "    <tr>\n",
       "      <th>2019-12-31 23:06:00</th>\n",
       "      <td>1.1211</td>\n",
       "      <td>1.1211</td>\n",
       "      <td>1.1211</td>\n",
       "      <td>1.1211</td>\n",
       "    </tr>\n",
       "  </tbody>\n",
       "</table>\n",
       "</div>"
      ]
     },
     "execution_count": 10,
     "metadata": {},
     "output_type": "execute_result"
    }
   ],
   "execution_count": 10
  },
  {
   "cell_type": "code",
   "metadata": {
    "ExecuteTime": {
     "end_time": "2024-09-22T08:36:22.012293Z",
     "start_time": "2024-09-22T08:36:22.005710Z"
    }
   },
   "source": [
    "raw.info()"
   ],
   "outputs": [
    {
     "name": "stdout",
     "output_type": "stream",
     "text": [
      "<class 'pandas.core.frame.DataFrame'>\n",
      "DatetimeIndex: 96526 entries, 2019-10-01 00:00:00 to 2019-12-31 23:06:00\n",
      "Data columns (total 4 columns):\n",
      " #   Column  Non-Null Count  Dtype  \n",
      "---  ------  --------------  -----  \n",
      " 0   HIGH    96526 non-null  float64\n",
      " 1   LOW     96526 non-null  float64\n",
      " 2   OPEN    96526 non-null  float64\n",
      " 3   CLOSE   96526 non-null  float64\n",
      "dtypes: float64(4)\n",
      "memory usage: 3.7 MB\n"
     ]
    }
   ],
   "execution_count": 6
  },
  {
   "metadata": {
    "ExecuteTime": {
     "end_time": "2024-09-22T06:58:52.359357Z",
     "start_time": "2024-09-22T06:58:52.344507Z"
    }
   },
   "cell_type": "code",
   "source": "raw.loc['2019-10-04 21:00:00':'2019-10-06 22:00:00']",
   "outputs": [
    {
     "data": {
      "text/plain": [
       "                       HIGH     LOW    OPEN   CLOSE\n",
       "Date                                               \n",
       "2019-10-04 21:00:00  1.0979  1.0976  1.0978  1.0976\n",
       "2019-10-04 21:01:00  1.0976  1.0976  1.0976  1.0976\n",
       "2019-10-06 17:51:00  1.0975  1.0975  1.0975  1.0975\n",
       "2019-10-06 17:58:00  1.0977  1.0977  1.0977  1.0977\n",
       "2019-10-06 18:01:00  1.0974  1.0974  1.0974  1.0974\n",
       "...                     ...     ...     ...     ...\n",
       "2019-10-06 21:56:00  1.0978  1.0977  1.0978  1.0978\n",
       "2019-10-06 21:57:00  1.0978  1.0977  1.0977  1.0978\n",
       "2019-10-06 21:58:00  1.0978  1.0977  1.0977  1.0978\n",
       "2019-10-06 21:59:00  1.0978  1.0977  1.0977  1.0978\n",
       "2019-10-06 22:00:00  1.0978  1.0975  1.0978  1.0977\n",
       "\n",
       "[151 rows x 4 columns]"
      ],
      "text/html": [
       "<div>\n",
       "<style scoped>\n",
       "    .dataframe tbody tr th:only-of-type {\n",
       "        vertical-align: middle;\n",
       "    }\n",
       "\n",
       "    .dataframe tbody tr th {\n",
       "        vertical-align: top;\n",
       "    }\n",
       "\n",
       "    .dataframe thead th {\n",
       "        text-align: right;\n",
       "    }\n",
       "</style>\n",
       "<table border=\"1\" class=\"dataframe\">\n",
       "  <thead>\n",
       "    <tr style=\"text-align: right;\">\n",
       "      <th></th>\n",
       "      <th>HIGH</th>\n",
       "      <th>LOW</th>\n",
       "      <th>OPEN</th>\n",
       "      <th>CLOSE</th>\n",
       "    </tr>\n",
       "    <tr>\n",
       "      <th>Date</th>\n",
       "      <th></th>\n",
       "      <th></th>\n",
       "      <th></th>\n",
       "      <th></th>\n",
       "    </tr>\n",
       "  </thead>\n",
       "  <tbody>\n",
       "    <tr>\n",
       "      <th>2019-10-04 21:00:00</th>\n",
       "      <td>1.0979</td>\n",
       "      <td>1.0976</td>\n",
       "      <td>1.0978</td>\n",
       "      <td>1.0976</td>\n",
       "    </tr>\n",
       "    <tr>\n",
       "      <th>2019-10-04 21:01:00</th>\n",
       "      <td>1.0976</td>\n",
       "      <td>1.0976</td>\n",
       "      <td>1.0976</td>\n",
       "      <td>1.0976</td>\n",
       "    </tr>\n",
       "    <tr>\n",
       "      <th>2019-10-06 17:51:00</th>\n",
       "      <td>1.0975</td>\n",
       "      <td>1.0975</td>\n",
       "      <td>1.0975</td>\n",
       "      <td>1.0975</td>\n",
       "    </tr>\n",
       "    <tr>\n",
       "      <th>2019-10-06 17:58:00</th>\n",
       "      <td>1.0977</td>\n",
       "      <td>1.0977</td>\n",
       "      <td>1.0977</td>\n",
       "      <td>1.0977</td>\n",
       "    </tr>\n",
       "    <tr>\n",
       "      <th>2019-10-06 18:01:00</th>\n",
       "      <td>1.0974</td>\n",
       "      <td>1.0974</td>\n",
       "      <td>1.0974</td>\n",
       "      <td>1.0974</td>\n",
       "    </tr>\n",
       "    <tr>\n",
       "      <th>...</th>\n",
       "      <td>...</td>\n",
       "      <td>...</td>\n",
       "      <td>...</td>\n",
       "      <td>...</td>\n",
       "    </tr>\n",
       "    <tr>\n",
       "      <th>2019-10-06 21:56:00</th>\n",
       "      <td>1.0978</td>\n",
       "      <td>1.0977</td>\n",
       "      <td>1.0978</td>\n",
       "      <td>1.0978</td>\n",
       "    </tr>\n",
       "    <tr>\n",
       "      <th>2019-10-06 21:57:00</th>\n",
       "      <td>1.0978</td>\n",
       "      <td>1.0977</td>\n",
       "      <td>1.0977</td>\n",
       "      <td>1.0978</td>\n",
       "    </tr>\n",
       "    <tr>\n",
       "      <th>2019-10-06 21:58:00</th>\n",
       "      <td>1.0978</td>\n",
       "      <td>1.0977</td>\n",
       "      <td>1.0977</td>\n",
       "      <td>1.0978</td>\n",
       "    </tr>\n",
       "    <tr>\n",
       "      <th>2019-10-06 21:59:00</th>\n",
       "      <td>1.0978</td>\n",
       "      <td>1.0977</td>\n",
       "      <td>1.0977</td>\n",
       "      <td>1.0978</td>\n",
       "    </tr>\n",
       "    <tr>\n",
       "      <th>2019-10-06 22:00:00</th>\n",
       "      <td>1.0978</td>\n",
       "      <td>1.0975</td>\n",
       "      <td>1.0978</td>\n",
       "      <td>1.0977</td>\n",
       "    </tr>\n",
       "  </tbody>\n",
       "</table>\n",
       "<p>151 rows × 4 columns</p>\n",
       "</div>"
      ]
     },
     "execution_count": 11,
     "metadata": {},
     "output_type": "execute_result"
    }
   ],
   "execution_count": 11
  },
  {
   "cell_type": "code",
   "metadata": {
    "ExecuteTime": {
     "end_time": "2024-09-22T08:36:28.658727Z",
     "start_time": "2024-09-22T08:36:28.656256Z"
    }
   },
   "source": [
    "data = pd.DataFrame(raw['CLOSE'].loc[:])\n",
    "data.columns = [symbol]"
   ],
   "outputs": [],
   "execution_count": 7
  },
  {
   "metadata": {
    "ExecuteTime": {
     "end_time": "2024-09-22T07:21:52.467558Z",
     "start_time": "2024-09-22T07:21:52.458977Z"
    }
   },
   "cell_type": "code",
   "source": "list(data.loc['2019-10-01 00:00:00':'2019-10-01 02:00:00'].resample('1h'))",
   "outputs": [
    {
     "data": {
      "text/plain": [
       "[(Timestamp('2019-10-01 00:00:00'),\n",
       "                       EUR_USD\n",
       "  Date                        \n",
       "  2019-10-01 00:00:00   1.0899\n",
       "  2019-10-01 00:01:00   1.0898\n",
       "  2019-10-01 00:02:00   1.0896\n",
       "  2019-10-01 00:03:00   1.0898\n",
       "  2019-10-01 00:04:00   1.0898\n",
       "  2019-10-01 00:05:00   1.0898\n",
       "  2019-10-01 00:06:00   1.0899\n",
       "  2019-10-01 00:07:00   1.0899\n",
       "  2019-10-01 00:08:00   1.0899\n",
       "  2019-10-01 00:09:00   1.0899\n",
       "  2019-10-01 00:10:00   1.0899\n",
       "  2019-10-01 00:11:00   1.0897\n",
       "  2019-10-01 00:12:00   1.0899\n",
       "  2019-10-01 00:13:00   1.0899\n",
       "  2019-10-01 00:14:00   1.0899\n",
       "  2019-10-01 00:15:00   1.0899\n",
       "  2019-10-01 00:16:00   1.0899\n",
       "  2019-10-01 00:17:00   1.0899\n",
       "  2019-10-01 00:18:00   1.0899\n",
       "  2019-10-01 00:19:00   1.0899\n",
       "  2019-10-01 00:20:00   1.0900\n",
       "  2019-10-01 00:21:00   1.0899\n",
       "  2019-10-01 00:22:00   1.0900\n",
       "  2019-10-01 00:23:00   1.0899\n",
       "  2019-10-01 00:24:00   1.0898\n",
       "  2019-10-01 00:25:00   1.0898\n",
       "  2019-10-01 00:26:00   1.0898\n",
       "  2019-10-01 00:27:00   1.0899\n",
       "  2019-10-01 00:28:00   1.0899\n",
       "  2019-10-01 00:29:00   1.0899\n",
       "  2019-10-01 00:30:00   1.0897\n",
       "  2019-10-01 00:31:00   1.0899\n",
       "  2019-10-01 00:32:00   1.0898\n",
       "  2019-10-01 00:33:00   1.0897\n",
       "  2019-10-01 00:34:00   1.0899\n",
       "  2019-10-01 00:35:00   1.0898\n",
       "  2019-10-01 00:36:00   1.0897\n",
       "  2019-10-01 00:37:00   1.0898\n",
       "  2019-10-01 00:38:00   1.0899\n",
       "  2019-10-01 00:39:00   1.0898\n",
       "  2019-10-01 00:40:00   1.0898\n",
       "  2019-10-01 00:41:00   1.0898\n",
       "  2019-10-01 00:42:00   1.0899\n",
       "  2019-10-01 00:43:00   1.0898\n",
       "  2019-10-01 00:44:00   1.0898\n",
       "  2019-10-01 00:45:00   1.0898\n",
       "  2019-10-01 00:46:00   1.0898\n",
       "  2019-10-01 00:47:00   1.0898\n",
       "  2019-10-01 00:48:00   1.0899\n",
       "  2019-10-01 00:49:00   1.0899\n",
       "  2019-10-01 00:50:00   1.0898\n",
       "  2019-10-01 00:51:00   1.0897\n",
       "  2019-10-01 00:52:00   1.0898\n",
       "  2019-10-01 00:53:00   1.0898\n",
       "  2019-10-01 00:54:00   1.0898\n",
       "  2019-10-01 00:55:00   1.0894\n",
       "  2019-10-01 00:56:00   1.0894\n",
       "  2019-10-01 00:57:00   1.0896\n",
       "  2019-10-01 00:58:00   1.0896\n",
       "  2019-10-01 00:59:00   1.0896),\n",
       " (Timestamp('2019-10-01 01:00:00'),\n",
       "                       EUR_USD\n",
       "  Date                        \n",
       "  2019-10-01 01:00:00   1.0895\n",
       "  2019-10-01 01:01:00   1.0896\n",
       "  2019-10-01 01:02:00   1.0894\n",
       "  2019-10-01 01:03:00   1.0894\n",
       "  2019-10-01 01:04:00   1.0895\n",
       "  2019-10-01 01:05:00   1.0893\n",
       "  2019-10-01 01:06:00   1.0893\n",
       "  2019-10-01 01:07:00   1.0895\n",
       "  2019-10-01 01:08:00   1.0895\n",
       "  2019-10-01 01:09:00   1.0896\n",
       "  2019-10-01 01:10:00   1.0895\n",
       "  2019-10-01 01:11:00   1.0895\n",
       "  2019-10-01 01:12:00   1.0895\n",
       "  2019-10-01 01:13:00   1.0894\n",
       "  2019-10-01 01:14:00   1.0894\n",
       "  2019-10-01 01:15:00   1.0893\n",
       "  2019-10-01 01:16:00   1.0893\n",
       "  2019-10-01 01:17:00   1.0893\n",
       "  2019-10-01 01:18:00   1.0893\n",
       "  2019-10-01 01:19:00   1.0891\n",
       "  2019-10-01 01:20:00   1.0889\n",
       "  2019-10-01 01:21:00   1.0890\n",
       "  2019-10-01 01:22:00   1.0888\n",
       "  2019-10-01 01:23:00   1.0888\n",
       "  2019-10-01 01:24:00   1.0889\n",
       "  2019-10-01 01:25:00   1.0890\n",
       "  2019-10-01 01:26:00   1.0892\n",
       "  2019-10-01 01:27:00   1.0892\n",
       "  2019-10-01 01:28:00   1.0892\n",
       "  2019-10-01 01:29:00   1.0892\n",
       "  2019-10-01 01:30:00   1.0892\n",
       "  2019-10-01 01:31:00   1.0891\n",
       "  2019-10-01 01:32:00   1.0891\n",
       "  2019-10-01 01:33:00   1.0893\n",
       "  2019-10-01 01:34:00   1.0893\n",
       "  2019-10-01 01:35:00   1.0893\n",
       "  2019-10-01 01:36:00   1.0894\n",
       "  2019-10-01 01:37:00   1.0893\n",
       "  2019-10-01 01:38:00   1.0894\n",
       "  2019-10-01 01:39:00   1.0894\n",
       "  2019-10-01 01:40:00   1.0894\n",
       "  2019-10-01 01:41:00   1.0894\n",
       "  2019-10-01 01:42:00   1.0892\n",
       "  2019-10-01 01:43:00   1.0894\n",
       "  2019-10-01 01:44:00   1.0894\n",
       "  2019-10-01 01:45:00   1.0894\n",
       "  2019-10-01 01:46:00   1.0894\n",
       "  2019-10-01 01:47:00   1.0894\n",
       "  2019-10-01 01:48:00   1.0891\n",
       "  2019-10-01 01:49:00   1.0892\n",
       "  2019-10-01 01:50:00   1.0892\n",
       "  2019-10-01 01:51:00   1.0891\n",
       "  2019-10-01 01:52:00   1.0891\n",
       "  2019-10-01 01:53:00   1.0890\n",
       "  2019-10-01 01:54:00   1.0889\n",
       "  2019-10-01 01:55:00   1.0890\n",
       "  2019-10-01 01:56:00   1.0889\n",
       "  2019-10-01 01:57:00   1.0891\n",
       "  2019-10-01 01:58:00   1.0888\n",
       "  2019-10-01 01:59:00   1.0890),\n",
       " (Timestamp('2019-10-01 02:00:00'),\n",
       "                       EUR_USD\n",
       "  Date                        \n",
       "  2019-10-01 02:00:00   1.0889)]"
      ]
     },
     "execution_count": 13,
     "metadata": {},
     "output_type": "execute_result"
    }
   ],
   "execution_count": 13
  },
  {
   "cell_type": "code",
   "metadata": {
    "ExecuteTime": {
     "end_time": "2024-09-22T08:37:08.862112Z",
     "start_time": "2024-09-22T08:37:08.858131Z"
    }
   },
   "source": [
    "data = data.resample('1h', label='right').last()\n",
    "data = data.dropna()"
   ],
   "outputs": [],
   "execution_count": 10
  },
  {
   "cell_type": "code",
   "metadata": {
    "ExecuteTime": {
     "end_time": "2024-09-22T08:37:10.588889Z",
     "start_time": "2024-09-22T08:37:10.582309Z"
    }
   },
   "source": [
    "data.info()"
   ],
   "outputs": [
    {
     "name": "stdout",
     "output_type": "stream",
     "text": [
      "<class 'pandas.core.frame.DataFrame'>\n",
      "DatetimeIndex: 1654 entries, 2019-10-01 02:00:00 to 2020-01-01 01:00:00\n",
      "Data columns (total 1 columns):\n",
      " #   Column   Non-Null Count  Dtype  \n",
      "---  ------   --------------  -----  \n",
      " 0   EUR_USD  1654 non-null   float64\n",
      "dtypes: float64(1)\n",
      "memory usage: 25.8 KB\n"
     ]
    }
   ],
   "execution_count": 11
  },
  {
   "metadata": {
    "ExecuteTime": {
     "end_time": "2024-09-22T07:38:44.783616Z",
     "start_time": "2024-09-22T07:38:44.779150Z"
    }
   },
   "cell_type": "code",
   "source": "data.head()",
   "outputs": [
    {
     "data": {
      "text/plain": [
       "                     EUR_USD\n",
       "Date                        \n",
       "2019-10-01 01:00:00   1.0896\n",
       "2019-10-01 02:00:00   1.0890\n",
       "2019-10-01 03:00:00   1.0886\n",
       "2019-10-01 04:00:00   1.0888\n",
       "2019-10-01 05:00:00   1.0889"
      ],
      "text/html": [
       "<div>\n",
       "<style scoped>\n",
       "    .dataframe tbody tr th:only-of-type {\n",
       "        vertical-align: middle;\n",
       "    }\n",
       "\n",
       "    .dataframe tbody tr th {\n",
       "        vertical-align: top;\n",
       "    }\n",
       "\n",
       "    .dataframe thead th {\n",
       "        text-align: right;\n",
       "    }\n",
       "</style>\n",
       "<table border=\"1\" class=\"dataframe\">\n",
       "  <thead>\n",
       "    <tr style=\"text-align: right;\">\n",
       "      <th></th>\n",
       "      <th>EUR_USD</th>\n",
       "    </tr>\n",
       "    <tr>\n",
       "      <th>Date</th>\n",
       "      <th></th>\n",
       "    </tr>\n",
       "  </thead>\n",
       "  <tbody>\n",
       "    <tr>\n",
       "      <th>2019-10-01 01:00:00</th>\n",
       "      <td>1.0896</td>\n",
       "    </tr>\n",
       "    <tr>\n",
       "      <th>2019-10-01 02:00:00</th>\n",
       "      <td>1.0890</td>\n",
       "    </tr>\n",
       "    <tr>\n",
       "      <th>2019-10-01 03:00:00</th>\n",
       "      <td>1.0886</td>\n",
       "    </tr>\n",
       "    <tr>\n",
       "      <th>2019-10-01 04:00:00</th>\n",
       "      <td>1.0888</td>\n",
       "    </tr>\n",
       "    <tr>\n",
       "      <th>2019-10-01 05:00:00</th>\n",
       "      <td>1.0889</td>\n",
       "    </tr>\n",
       "  </tbody>\n",
       "</table>\n",
       "</div>"
      ]
     },
     "execution_count": 17,
     "metadata": {},
     "output_type": "execute_result"
    }
   ],
   "execution_count": 17
  },
  {
   "metadata": {
    "ExecuteTime": {
     "end_time": "2024-09-22T08:37:25.148406Z",
     "start_time": "2024-09-22T08:37:25.142777Z"
    }
   },
   "cell_type": "code",
   "source": "data.loc['2019-10-04 21:00:00':'2019-10-06 18:00:00']",
   "outputs": [
    {
     "data": {
      "text/plain": [
       "                     EUR_USD\n",
       "Date                        \n",
       "2019-10-04 21:00:00   1.0979\n",
       "2019-10-04 22:00:00   1.0977\n",
       "2019-10-04 23:00:00   1.0976"
      ],
      "text/html": [
       "<div>\n",
       "<style scoped>\n",
       "    .dataframe tbody tr th:only-of-type {\n",
       "        vertical-align: middle;\n",
       "    }\n",
       "\n",
       "    .dataframe tbody tr th {\n",
       "        vertical-align: top;\n",
       "    }\n",
       "\n",
       "    .dataframe thead th {\n",
       "        text-align: right;\n",
       "    }\n",
       "</style>\n",
       "<table border=\"1\" class=\"dataframe\">\n",
       "  <thead>\n",
       "    <tr style=\"text-align: right;\">\n",
       "      <th></th>\n",
       "      <th>EUR_USD</th>\n",
       "    </tr>\n",
       "    <tr>\n",
       "      <th>Date</th>\n",
       "      <th></th>\n",
       "    </tr>\n",
       "  </thead>\n",
       "  <tbody>\n",
       "    <tr>\n",
       "      <th>2019-10-04 21:00:00</th>\n",
       "      <td>1.0979</td>\n",
       "    </tr>\n",
       "    <tr>\n",
       "      <th>2019-10-04 22:00:00</th>\n",
       "      <td>1.0977</td>\n",
       "    </tr>\n",
       "    <tr>\n",
       "      <th>2019-10-04 23:00:00</th>\n",
       "      <td>1.0976</td>\n",
       "    </tr>\n",
       "  </tbody>\n",
       "</table>\n",
       "</div>"
      ]
     },
     "execution_count": 12,
     "metadata": {},
     "output_type": "execute_result"
    }
   ],
   "execution_count": 12
  },
  {
   "cell_type": "code",
   "metadata": {
    "ExecuteTime": {
     "end_time": "2024-09-22T08:37:48.747969Z",
     "start_time": "2024-09-22T08:37:48.607141Z"
    }
   },
   "source": [
    "data.plot(figsize=(10, 6));"
   ],
   "outputs": [
    {
     "data": {
      "text/plain": [
       "<Figure size 1000x600 with 1 Axes>"
      ],
      "image/png": "[encoded data removed]"
     },
     "metadata": {},
     "output_type": "display_data"
    }
   ],
   "execution_count": 13
  },
  {
   "cell_type": "markdown",
   "metadata": {},
   "source": [
    "## Baseline Prediction"
   ]
  },
  {
   "cell_type": "code",
   "metadata": {
    "ExecuteTime": {
     "end_time": "2024-09-22T08:38:03.868107Z",
     "start_time": "2024-09-22T08:38:03.865829Z"
    }
   },
   "source": [
    "lags = 5"
   ],
   "outputs": [],
   "execution_count": 14
  },
  {
   "cell_type": "code",
   "metadata": {
    "ExecuteTime": {
     "end_time": "2024-09-22T08:38:05.751118Z",
     "start_time": "2024-09-22T08:38:05.747256Z"
    }
   },
   "source": [
    "def add_lags(data, symbol, lags, window=20):\n",
    "    cols = []\n",
    "    df = data.copy()\n",
    "    df.dropna(inplace=True)\n",
    "    df['r'] = np.log(df / df.shift())\n",
    "    df['sma'] = df[symbol].rolling(window).mean()\n",
    "    df['min'] = df[symbol].rolling(window).min()\n",
    "    df['max'] = df[symbol].rolling(window).max()\n",
    "    df['mom'] = df['r'].rolling(window).mean()\n",
    "    df['vol'] = df['r'].rolling(window).std()\n",
    "    df.dropna(inplace=True)\n",
    "    df['d'] = np.where(df['r'] > 0, 1, 0)\n",
    "    features = [symbol, 'r', 'd', 'sma', 'min', 'max', 'mom', 'vol']\n",
    "    for f in features:\n",
    "        for lag in range(1, lags + 1):\n",
    "            col = f'{f}_lag_{lag}'\n",
    "            df[col] = df[f].shift(lag)\n",
    "            cols.append(col)\n",
    "    df.dropna(inplace=True)\n",
    "    return df, cols"
   ],
   "outputs": [],
   "execution_count": 15
  },
  {
   "cell_type": "code",
   "metadata": {
    "ExecuteTime": {
     "end_time": "2024-09-22T08:38:09.243921Z",
     "start_time": "2024-09-22T08:38:09.233629Z"
    }
   },
   "source": [
    "data, cols = add_lags(data, symbol, lags)"
   ],
   "outputs": [],
   "execution_count": 16
  },
  {
   "metadata": {
    "ExecuteTime": {
     "end_time": "2024-09-22T08:38:13.243451Z",
     "start_time": "2024-09-22T08:38:13.231427Z"
    }
   },
   "cell_type": "code",
   "source": "data",
   "outputs": [
    {
     "data": {
      "text/plain": [
       "                     EUR_USD           r     sma     min     max         mom  \\\n",
       "Date                                                                           \n",
       "2019-10-02 03:00:00   1.0937 -9.1429e-05  1.0916  1.0879  1.0938  2.2911e-04   \n",
       "2019-10-02 04:00:00   1.0937  0.0000e+00  1.0918  1.0885  1.0938  2.6586e-04   \n",
       "2019-10-02 05:00:00   1.0936 -9.1437e-05  1.0921  1.0886  1.0938  2.3372e-04   \n",
       "2019-10-02 06:00:00   1.0933 -2.7436e-04  1.0923  1.0886  1.0938  1.8786e-04   \n",
       "2019-10-02 07:00:00   1.0935  1.8292e-04  1.0925  1.0886  1.0938  1.9700e-04   \n",
       "...                      ...         ...     ...     ...     ...         ...   \n",
       "2019-12-31 21:00:00   1.1216 -5.3481e-04  1.1216  1.1201  1.1238  4.9061e-05   \n",
       "2019-12-31 22:00:00   1.1215 -8.9162e-05  1.1216  1.1201  1.1238  3.5679e-05   \n",
       "2019-12-31 23:00:00   1.1208 -6.2436e-04  1.1216  1.1201  1.1238 -1.7841e-05   \n",
       "2020-01-01 00:00:00   1.1211  2.6763e-04  1.1216  1.1201  1.1238  8.9206e-06   \n",
       "2020-01-01 01:00:00   1.1211  0.0000e+00  1.1216  1.1201  1.1238  1.7843e-05   \n",
       "\n",
       "                        vol  d  EUR_USD_lag_1  EUR_USD_lag_2  ...   mom_lag_1  \\\n",
       "Date                                                          ...               \n",
       "2019-10-02 03:00:00  0.0008  0         1.0938         1.0932  ...  2.2449e-04   \n",
       "2019-10-02 04:00:00  0.0008  0         1.0937         1.0938  ...  2.2911e-04   \n",
       "2019-10-02 05:00:00  0.0008  0         1.0937         1.0937  ...  2.6586e-04   \n",
       "2019-10-02 06:00:00  0.0008  0         1.0936         1.0937  ...  2.3372e-04   \n",
       "2019-10-02 07:00:00  0.0008  1         1.0933         1.0936  ...  1.8786e-04   \n",
       "...                     ... ..            ...            ...  ...         ...   \n",
       "2019-12-31 21:00:00  0.0006  0         1.1222         1.1226  ...  9.8118e-05   \n",
       "2019-12-31 22:00:00  0.0006  0         1.1216         1.1222  ...  4.9061e-05   \n",
       "2019-12-31 23:00:00  0.0007  0         1.1215         1.1216  ...  3.5679e-05   \n",
       "2020-01-01 00:00:00  0.0007  1         1.1208         1.1215  ... -1.7841e-05   \n",
       "2020-01-01 01:00:00  0.0007  0         1.1211         1.1208  ...  8.9206e-06   \n",
       "\n",
       "                      mom_lag_2   mom_lag_3   mom_lag_4   mom_lag_5  \\\n",
       "Date                                                                  \n",
       "2019-10-02 03:00:00  2.0165e-04  2.0626e-04  1.8789e-04  1.6035e-04   \n",
       "2019-10-02 04:00:00  2.2449e-04  2.0165e-04  2.0626e-04  1.8789e-04   \n",
       "2019-10-02 05:00:00  2.2911e-04  2.2449e-04  2.0165e-04  2.0626e-04   \n",
       "2019-10-02 06:00:00  2.6586e-04  2.2911e-04  2.2449e-04  2.0165e-04   \n",
       "2019-10-02 07:00:00  2.3372e-04  2.6586e-04  2.2911e-04  2.2449e-04   \n",
       "...                         ...         ...         ...         ...   \n",
       "2019-12-31 21:00:00  1.0255e-04  1.2935e-04  1.0258e-04  7.1371e-05   \n",
       "2019-12-31 22:00:00  9.8118e-05  1.0255e-04  1.2935e-04  1.0258e-04   \n",
       "2019-12-31 23:00:00  4.9061e-05  9.8118e-05  1.0255e-04  1.2935e-04   \n",
       "2020-01-01 00:00:00  3.5679e-05  4.9061e-05  9.8118e-05  1.0255e-04   \n",
       "2020-01-01 01:00:00 -1.7841e-05  3.5679e-05  4.9061e-05  9.8118e-05   \n",
       "\n",
       "                     vol_lag_1  vol_lag_2  vol_lag_3  vol_lag_4  vol_lag_5  \n",
       "Date                                                                        \n",
       "2019-10-02 03:00:00     0.0008     0.0008     0.0008     0.0008     0.0008  \n",
       "2019-10-02 04:00:00     0.0008     0.0008     0.0008     0.0008     0.0008  \n",
       "2019-10-02 05:00:00     0.0008     0.0008     0.0008     0.0008     0.0008  \n",
       "2019-10-02 06:00:00     0.0008     0.0008     0.0008     0.0008     0.0008  \n",
       "2019-10-02 07:00:00     0.0008     0.0008     0.0008     0.0008     0.0008  \n",
       "...                        ...        ...        ...        ...        ...  \n",
       "2019-12-31 21:00:00     0.0006     0.0006     0.0006     0.0007     0.0007  \n",
       "2019-12-31 22:00:00     0.0006     0.0006     0.0006     0.0006     0.0007  \n",
       "2019-12-31 23:00:00     0.0006     0.0006     0.0006     0.0006     0.0006  \n",
       "2020-01-01 00:00:00     0.0007     0.0006     0.0006     0.0006     0.0006  \n",
       "2020-01-01 01:00:00     0.0007     0.0007     0.0006     0.0006     0.0006  \n",
       "\n",
       "[1629 rows x 48 columns]"
      ],
      "text/html": [
       "<div>\n",
       "<style scoped>\n",
       "    .dataframe tbody tr th:only-of-type {\n",
       "        vertical-align: middle;\n",
       "    }\n",
       "\n",
       "    .dataframe tbody tr th {\n",
       "        vertical-align: top;\n",
       "    }\n",
       "\n",
       "    .dataframe thead th {\n",
       "        text-align: right;\n",
       "    }\n",
       "</style>\n",
       "<table border=\"1\" class=\"dataframe\">\n",
       "  <thead>\n",
       "    <tr style=\"text-align: right;\">\n",
       "      <th></th>\n",
       "      <th>EUR_USD</th>\n",
       "      <th>r</th>\n",
       "      <th>sma</th>\n",
       "      <th>min</th>\n",
       "      <th>max</th>\n",
       "      <th>mom</th>\n",
       "      <th>vol</th>\n",
       "      <th>d</th>\n",
       "      <th>EUR_USD_lag_1</th>\n",
       "      <th>EUR_USD_lag_2</th>\n",
       "      <th>...</th>\n",
       "      <th>mom_lag_1</th>\n",
       "      <th>mom_lag_2</th>\n",
       "      <th>mom_lag_3</th>\n",
       "      <th>mom_lag_4</th>\n",
       "      <th>mom_lag_5</th>\n",
       "      <th>vol_lag_1</th>\n",
       "      <th>vol_lag_2</th>\n",
       "      <th>vol_lag_3</th>\n",
       "      <th>vol_lag_4</th>\n",
       "      <th>vol_lag_5</th>\n",
       "    </tr>\n",
       "    <tr>\n",
       "      <th>Date</th>\n",
       "      <th></th>\n",
       "      <th></th>\n",
       "      <th></th>\n",
       "      <th></th>\n",
       "      <th></th>\n",
       "      <th></th>\n",
       "      <th></th>\n",
       "      <th></th>\n",
       "      <th></th>\n",
       "      <th></th>\n",
       "      <th></th>\n",
       "      <th></th>\n",
       "      <th></th>\n",
       "      <th></th>\n",
       "      <th></th>\n",
       "      <th></th>\n",
       "      <th></th>\n",
       "      <th></th>\n",
       "      <th></th>\n",
       "      <th></th>\n",
       "      <th></th>\n",
       "    </tr>\n",
       "  </thead>\n",
       "  <tbody>\n",
       "    <tr>\n",
       "      <th>2019-10-02 03:00:00</th>\n",
       "      <td>1.0937</td>\n",
       "      <td>-9.1429e-05</td>\n",
       "      <td>1.0916</td>\n",
       "      <td>1.0879</td>\n",
       "      <td>1.0938</td>\n",
       "      <td>2.2911e-04</td>\n",
       "      <td>0.0008</td>\n",
       "      <td>0</td>\n",
       "      <td>1.0938</td>\n",
       "      <td>1.0932</td>\n",
       "      <td>...</td>\n",
       "      <td>2.2449e-04</td>\n",
       "      <td>2.0165e-04</td>\n",
       "      <td>2.0626e-04</td>\n",
       "      <td>1.8789e-04</td>\n",
       "      <td>1.6035e-04</td>\n",
       "      <td>0.0008</td>\n",
       "      <td>0.0008</td>\n",
       "      <td>0.0008</td>\n",
       "      <td>0.0008</td>\n",
       "      <td>0.0008</td>\n",
       "    </tr>\n",
       "    <tr>\n",
       "      <th>2019-10-02 04:00:00</th>\n",
       "      <td>1.0937</td>\n",
       "      <td>0.0000e+00</td>\n",
       "      <td>1.0918</td>\n",
       "      <td>1.0885</td>\n",
       "      <td>1.0938</td>\n",
       "      <td>2.6586e-04</td>\n",
       "      <td>0.0008</td>\n",
       "      <td>0</td>\n",
       "      <td>1.0937</td>\n",
       "      <td>1.0938</td>\n",
       "      <td>...</td>\n",
       "      <td>2.2911e-04</td>\n",
       "      <td>2.2449e-04</td>\n",
       "      <td>2.0165e-04</td>\n",
       "      <td>2.0626e-04</td>\n",
       "      <td>1.8789e-04</td>\n",
       "      <td>0.0008</td>\n",
       "      <td>0.0008</td>\n",
       "      <td>0.0008</td>\n",
       "      <td>0.0008</td>\n",
       "      <td>0.0008</td>\n",
       "    </tr>\n",
       "    <tr>\n",
       "      <th>2019-10-02 05:00:00</th>\n",
       "      <td>1.0936</td>\n",
       "      <td>-9.1437e-05</td>\n",
       "      <td>1.0921</td>\n",
       "      <td>1.0886</td>\n",
       "      <td>1.0938</td>\n",
       "      <td>2.3372e-04</td>\n",
       "      <td>0.0008</td>\n",
       "      <td>0</td>\n",
       "      <td>1.0937</td>\n",
       "      <td>1.0937</td>\n",
       "      <td>...</td>\n",
       "      <td>2.6586e-04</td>\n",
       "      <td>2.2911e-04</td>\n",
       "      <td>2.2449e-04</td>\n",
       "      <td>2.0165e-04</td>\n",
       "      <td>2.0626e-04</td>\n",
       "      <td>0.0008</td>\n",
       "      <td>0.0008</td>\n",
       "      <td>0.0008</td>\n",
       "      <td>0.0008</td>\n",
       "      <td>0.0008</td>\n",
       "    </tr>\n",
       "    <tr>\n",
       "      <th>2019-10-02 06:00:00</th>\n",
       "      <td>1.0933</td>\n",
       "      <td>-2.7436e-04</td>\n",
       "      <td>1.0923</td>\n",
       "      <td>1.0886</td>\n",
       "      <td>1.0938</td>\n",
       "      <td>1.8786e-04</td>\n",
       "      <td>0.0008</td>\n",
       "      <td>0</td>\n",
       "      <td>1.0936</td>\n",
       "      <td>1.0937</td>\n",
       "      <td>...</td>\n",
       "      <td>2.3372e-04</td>\n",
       "      <td>2.6586e-04</td>\n",
       "      <td>2.2911e-04</td>\n",
       "      <td>2.2449e-04</td>\n",
       "      <td>2.0165e-04</td>\n",
       "      <td>0.0008</td>\n",
       "      <td>0.0008</td>\n",
       "      <td>0.0008</td>\n",
       "      <td>0.0008</td>\n",
       "      <td>0.0008</td>\n",
       "    </tr>\n",
       "    <tr>\n",
       "      <th>2019-10-02 07:00:00</th>\n",
       "      <td>1.0935</td>\n",
       "      <td>1.8292e-04</td>\n",
       "      <td>1.0925</td>\n",
       "      <td>1.0886</td>\n",
       "      <td>1.0938</td>\n",
       "      <td>1.9700e-04</td>\n",
       "      <td>0.0008</td>\n",
       "      <td>1</td>\n",
       "      <td>1.0933</td>\n",
       "      <td>1.0936</td>\n",
       "      <td>...</td>\n",
       "      <td>1.8786e-04</td>\n",
       "      <td>2.3372e-04</td>\n",
       "      <td>2.6586e-04</td>\n",
       "      <td>2.2911e-04</td>\n",
       "      <td>2.2449e-04</td>\n",
       "      <td>0.0008</td>\n",
       "      <td>0.0008</td>\n",
       "      <td>0.0008</td>\n",
       "      <td>0.0008</td>\n",
       "      <td>0.0008</td>\n",
       "    </tr>\n",
       "    <tr>\n",
       "      <th>...</th>\n",
       "      <td>...</td>\n",
       "      <td>...</td>\n",
       "      <td>...</td>\n",
       "      <td>...</td>\n",
       "      <td>...</td>\n",
       "      <td>...</td>\n",
       "      <td>...</td>\n",
       "      <td>...</td>\n",
       "      <td>...</td>\n",
       "      <td>...</td>\n",
       "      <td>...</td>\n",
       "      <td>...</td>\n",
       "      <td>...</td>\n",
       "      <td>...</td>\n",
       "      <td>...</td>\n",
       "      <td>...</td>\n",
       "      <td>...</td>\n",
       "      <td>...</td>\n",
       "      <td>...</td>\n",
       "      <td>...</td>\n",
       "      <td>...</td>\n",
       "    </tr>\n",
       "    <tr>\n",
       "      <th>2019-12-31 21:00:00</th>\n",
       "      <td>1.1216</td>\n",
       "      <td>-5.3481e-04</td>\n",
       "      <td>1.1216</td>\n",
       "      <td>1.1201</td>\n",
       "      <td>1.1238</td>\n",
       "      <td>4.9061e-05</td>\n",
       "      <td>0.0006</td>\n",
       "      <td>0</td>\n",
       "      <td>1.1222</td>\n",
       "      <td>1.1226</td>\n",
       "      <td>...</td>\n",
       "      <td>9.8118e-05</td>\n",
       "      <td>1.0255e-04</td>\n",
       "      <td>1.2935e-04</td>\n",
       "      <td>1.0258e-04</td>\n",
       "      <td>7.1371e-05</td>\n",
       "      <td>0.0006</td>\n",
       "      <td>0.0006</td>\n",
       "      <td>0.0006</td>\n",
       "      <td>0.0007</td>\n",
       "      <td>0.0007</td>\n",
       "    </tr>\n",
       "    <tr>\n",
       "      <th>2019-12-31 22:00:00</th>\n",
       "      <td>1.1215</td>\n",
       "      <td>-8.9162e-05</td>\n",
       "      <td>1.1216</td>\n",
       "      <td>1.1201</td>\n",
       "      <td>1.1238</td>\n",
       "      <td>3.5679e-05</td>\n",
       "      <td>0.0006</td>\n",
       "      <td>0</td>\n",
       "      <td>1.1216</td>\n",
       "      <td>1.1222</td>\n",
       "      <td>...</td>\n",
       "      <td>4.9061e-05</td>\n",
       "      <td>9.8118e-05</td>\n",
       "      <td>1.0255e-04</td>\n",
       "      <td>1.2935e-04</td>\n",
       "      <td>1.0258e-04</td>\n",
       "      <td>0.0006</td>\n",
       "      <td>0.0006</td>\n",
       "      <td>0.0006</td>\n",
       "      <td>0.0006</td>\n",
       "      <td>0.0007</td>\n",
       "    </tr>\n",
       "    <tr>\n",
       "      <th>2019-12-31 23:00:00</th>\n",
       "      <td>1.1208</td>\n",
       "      <td>-6.2436e-04</td>\n",
       "      <td>1.1216</td>\n",
       "      <td>1.1201</td>\n",
       "      <td>1.1238</td>\n",
       "      <td>-1.7841e-05</td>\n",
       "      <td>0.0007</td>\n",
       "      <td>0</td>\n",
       "      <td>1.1215</td>\n",
       "      <td>1.1216</td>\n",
       "      <td>...</td>\n",
       "      <td>3.5679e-05</td>\n",
       "      <td>4.9061e-05</td>\n",
       "      <td>9.8118e-05</td>\n",
       "      <td>1.0255e-04</td>\n",
       "      <td>1.2935e-04</td>\n",
       "      <td>0.0006</td>\n",
       "      <td>0.0006</td>\n",
       "      <td>0.0006</td>\n",
       "      <td>0.0006</td>\n",
       "      <td>0.0006</td>\n",
       "    </tr>\n",
       "    <tr>\n",
       "      <th>2020-01-01 00:00:00</th>\n",
       "      <td>1.1211</td>\n",
       "      <td>2.6763e-04</td>\n",
       "      <td>1.1216</td>\n",
       "      <td>1.1201</td>\n",
       "      <td>1.1238</td>\n",
       "      <td>8.9206e-06</td>\n",
       "      <td>0.0007</td>\n",
       "      <td>1</td>\n",
       "      <td>1.1208</td>\n",
       "      <td>1.1215</td>\n",
       "      <td>...</td>\n",
       "      <td>-1.7841e-05</td>\n",
       "      <td>3.5679e-05</td>\n",
       "      <td>4.9061e-05</td>\n",
       "      <td>9.8118e-05</td>\n",
       "      <td>1.0255e-04</td>\n",
       "      <td>0.0007</td>\n",
       "      <td>0.0006</td>\n",
       "      <td>0.0006</td>\n",
       "      <td>0.0006</td>\n",
       "      <td>0.0006</td>\n",
       "    </tr>\n",
       "    <tr>\n",
       "      <th>2020-01-01 01:00:00</th>\n",
       "      <td>1.1211</td>\n",
       "      <td>0.0000e+00</td>\n",
       "      <td>1.1216</td>\n",
       "      <td>1.1201</td>\n",
       "      <td>1.1238</td>\n",
       "      <td>1.7843e-05</td>\n",
       "      <td>0.0007</td>\n",
       "      <td>0</td>\n",
       "      <td>1.1211</td>\n",
       "      <td>1.1208</td>\n",
       "      <td>...</td>\n",
       "      <td>8.9206e-06</td>\n",
       "      <td>-1.7841e-05</td>\n",
       "      <td>3.5679e-05</td>\n",
       "      <td>4.9061e-05</td>\n",
       "      <td>9.8118e-05</td>\n",
       "      <td>0.0007</td>\n",
       "      <td>0.0007</td>\n",
       "      <td>0.0006</td>\n",
       "      <td>0.0006</td>\n",
       "      <td>0.0006</td>\n",
       "    </tr>\n",
       "  </tbody>\n",
       "</table>\n",
       "<p>1629 rows × 48 columns</p>\n",
       "</div>"
      ]
     },
     "execution_count": 17,
     "metadata": {},
     "output_type": "execute_result"
    }
   ],
   "execution_count": 17
  },
  {
   "cell_type": "code",
   "metadata": {
    "ExecuteTime": {
     "end_time": "2024-09-22T08:38:19.502895Z",
     "start_time": "2024-09-22T08:38:19.500253Z"
    }
   },
   "source": [
    "len(data)"
   ],
   "outputs": [
    {
     "data": {
      "text/plain": [
       "1629"
      ]
     },
     "execution_count": 18,
     "metadata": {},
     "output_type": "execute_result"
    }
   ],
   "execution_count": 18
  },
  {
   "metadata": {
    "ExecuteTime": {
     "end_time": "2024-09-22T08:02:17.943103Z",
     "start_time": "2024-09-22T08:02:17.940014Z"
    }
   },
   "cell_type": "code",
   "source": "cols",
   "outputs": [
    {
     "data": {
      "text/plain": [
       "['EUR_USD_lag_1',\n",
       " 'EUR_USD_lag_2',\n",
       " 'EUR_USD_lag_3',\n",
       " 'EUR_USD_lag_4',\n",
       " 'EUR_USD_lag_5',\n",
       " 'r_lag_1',\n",
       " 'r_lag_2',\n",
       " 'r_lag_3',\n",
       " 'r_lag_4',\n",
       " 'r_lag_5',\n",
       " 'd_lag_1',\n",
       " 'd_lag_2',\n",
       " 'd_lag_3',\n",
       " 'd_lag_4',\n",
       " 'd_lag_5',\n",
       " 'sma_lag_1',\n",
       " 'sma_lag_2',\n",
       " 'sma_lag_3',\n",
       " 'sma_lag_4',\n",
       " 'sma_lag_5',\n",
       " 'min_lag_1',\n",
       " 'min_lag_2',\n",
       " 'min_lag_3',\n",
       " 'min_lag_4',\n",
       " 'min_lag_5',\n",
       " 'max_lag_1',\n",
       " 'max_lag_2',\n",
       " 'max_lag_3',\n",
       " 'max_lag_4',\n",
       " 'max_lag_5',\n",
       " 'mom_lag_1',\n",
       " 'mom_lag_2',\n",
       " 'mom_lag_3',\n",
       " 'mom_lag_4',\n",
       " 'mom_lag_5',\n",
       " 'vol_lag_1',\n",
       " 'vol_lag_2',\n",
       " 'vol_lag_3',\n",
       " 'vol_lag_4',\n",
       " 'vol_lag_5']"
      ]
     },
     "execution_count": 30,
     "metadata": {},
     "output_type": "execute_result"
    }
   ],
   "execution_count": 30
  },
  {
   "cell_type": "code",
   "execution_count": 15,
   "metadata": {},
   "outputs": [],
   "source": [
    "# data.iloc[:10, :14].round(4)"
   ]
  },
  {
   "cell_type": "code",
   "metadata": {
    "ExecuteTime": {
     "end_time": "2024-09-22T08:38:30.591341Z",
     "start_time": "2024-09-22T08:38:30.586095Z"
    }
   },
   "source": [
    "c = data['d'].value_counts()\n",
    "c"
   ],
   "outputs": [
    {
     "data": {
      "text/plain": [
       "d\n",
       "0    891\n",
       "1    738\n",
       "Name: count, dtype: int64"
      ]
     },
     "execution_count": 19,
     "metadata": {},
     "output_type": "execute_result"
    }
   ],
   "execution_count": 19
  },
  {
   "cell_type": "code",
   "metadata": {
    "ExecuteTime": {
     "end_time": "2024-09-22T08:38:38.048516Z",
     "start_time": "2024-09-22T08:38:38.045328Z"
    }
   },
   "source": [
    "def cw(df):\n",
    "    c0, c1 = np.bincount(df['d'])\n",
    "    w0 = (1 / c0) * (len(df)) / 2\n",
    "    w1 = (1 / c1) * (len(df)) / 2\n",
    "    return {0: w0, 1: w1}"
   ],
   "outputs": [],
   "execution_count": 20
  },
  {
   "cell_type": "code",
   "metadata": {
    "ExecuteTime": {
     "end_time": "2024-09-22T08:38:40.368799Z",
     "start_time": "2024-09-22T08:38:40.366960Z"
    }
   },
   "source": [
    "class_weight = cw(data)"
   ],
   "outputs": [],
   "execution_count": 21
  },
  {
   "cell_type": "code",
   "metadata": {
    "ExecuteTime": {
     "end_time": "2024-09-22T08:38:42.183011Z",
     "start_time": "2024-09-22T08:38:42.180439Z"
    }
   },
   "source": [
    "class_weight"
   ],
   "outputs": [
    {
     "data": {
      "text/plain": [
       "{0: 0.9141414141414143, 1: 1.103658536585366}"
      ]
     },
     "execution_count": 22,
     "metadata": {},
     "output_type": "execute_result"
    }
   ],
   "execution_count": 22
  },
  {
   "cell_type": "code",
   "metadata": {
    "ExecuteTime": {
     "end_time": "2024-09-22T08:38:52.528871Z",
     "start_time": "2024-09-22T08:38:52.525064Z"
    }
   },
   "source": [
    "class_weight[0] * c[0]"
   ],
   "outputs": [
    {
     "data": {
      "text/plain": [
       "814.5000000000001"
      ]
     },
     "execution_count": 23,
     "metadata": {},
     "output_type": "execute_result"
    }
   ],
   "execution_count": 23
  },
  {
   "cell_type": "code",
   "metadata": {
    "ExecuteTime": {
     "end_time": "2024-09-22T08:38:55.209805Z",
     "start_time": "2024-09-22T08:38:55.206822Z"
    }
   },
   "source": [
    "class_weight[1] * c[1]"
   ],
   "outputs": [
    {
     "data": {
      "text/plain": [
       "814.5000000000001"
      ]
     },
     "execution_count": 24,
     "metadata": {},
     "output_type": "execute_result"
    }
   ],
   "execution_count": 24
  },
  {
   "cell_type": "code",
   "execution_count": 22,
   "metadata": {},
   "outputs": [],
   "source": [
    "os.environ['TF_CPP_MIN_LOG_LEVEL'] = '5'"
   ]
  },
  {
   "cell_type": "code",
   "metadata": {
    "ExecuteTime": {
     "end_time": "2024-09-22T08:38:59.857672Z",
     "start_time": "2024-09-22T08:38:58.009829Z"
    }
   },
   "source": [
    "import random\n",
    "import tensorflow as tf\n",
    "from tensorflow import keras\n",
    "from keras.layers import Dense\n",
    "from keras.models import Sequential\n",
    "from sklearn.metrics import accuracy_score"
   ],
   "outputs": [],
   "execution_count": 25
  },
  {
   "cell_type": "code",
   "metadata": {
    "ExecuteTime": {
     "end_time": "2024-09-22T08:39:02.253603Z",
     "start_time": "2024-09-22T08:39:02.251188Z"
    }
   },
   "source": [
    "def set_seeds(seed=100):\n",
    "    random.seed(seed)\n",
    "    np.random.seed(seed)\n",
    "    tf.random.set_seed(seed)"
   ],
   "outputs": [],
   "execution_count": 26
  },
  {
   "cell_type": "code",
   "metadata": {
    "ExecuteTime": {
     "end_time": "2024-09-22T08:39:04.322356Z",
     "start_time": "2024-09-22T08:39:04.309191Z"
    }
   },
   "source": [
    "from keras.src.optimizers import Adam\n",
    "\n",
    "# optimizer = keras.optimizers.legacy.Adam(learning_rate=0.001)\n",
    "optimizer = Adam(learning_rate=0.001)"
   ],
   "outputs": [],
   "execution_count": 27
  },
  {
   "cell_type": "code",
   "metadata": {
    "ExecuteTime": {
     "end_time": "2024-09-22T08:39:06.137624Z",
     "start_time": "2024-09-22T08:39:06.134531Z"
    }
   },
   "source": [
    "def create_model(hl=1, hu=128, optimizer=optimizer):\n",
    "    model = Sequential()\n",
    "    model.add(Dense(hu, input_dim=len(cols),\n",
    "                    activation='relu'))\n",
    "    for _ in range(hl):\n",
    "        model.add(Dense(hu, activation='relu'))\n",
    "    model.add(Dense(1, activation='sigmoid'))\n",
    "    model.compile(loss='binary_crossentropy',\n",
    "                  optimizer=optimizer,\n",
    "                  metrics=['accuracy'])\n",
    "    return model"
   ],
   "outputs": [],
   "execution_count": 28
  },
  {
   "cell_type": "code",
   "metadata": {
    "ExecuteTime": {
     "end_time": "2024-09-22T08:39:08.663671Z",
     "start_time": "2024-09-22T08:39:08.641144Z"
    }
   },
   "source": [
    "set_seeds()\n",
    "model = create_model(hl=1, hu=128)"
   ],
   "outputs": [
    {
     "name": "stderr",
     "output_type": "stream",
     "text": [
      "/Users/zhengshuang/miniconda3/envs/aiif/lib/python3.10/site-packages/keras/src/layers/core/dense.py:87: UserWarning: Do not pass an `input_shape`/`input_dim` argument to a layer. When using Sequential models, prefer using an `Input(shape)` object as the first layer in the model instead.\n",
      "  super().__init__(activity_regularizer=activity_regularizer, **kwargs)\n"
     ]
    }
   ],
   "execution_count": 29
  },
  {
   "metadata": {
    "ExecuteTime": {
     "end_time": "2024-09-22T08:15:36.348418Z",
     "start_time": "2024-09-22T08:15:36.340543Z"
    }
   },
   "cell_type": "code",
   "source": "model.summary()",
   "outputs": [
    {
     "data": {
      "text/plain": [
       "\u001B[1mModel: \"sequential\"\u001B[0m\n"
      ],
      "text/html": [
       "<pre style=\"white-space:pre;overflow-x:auto;line-height:normal;font-family:Menlo,'DejaVu Sans Mono',consolas,'Courier New',monospace\"><span style=\"font-weight: bold\">Model: \"sequential\"</span>\n",
       "</pre>\n"
      ]
     },
     "metadata": {},
     "output_type": "display_data"
    },
    {
     "data": {
      "text/plain": [
       "┏━━━━━━━━━━━━━━━━━━━━━━━━━━━━━━━━━┳━━━━━━━━━━━━━━━━━━━━━━━━┳━━━━━━━━━━━━━━━┓\n",
       "┃\u001B[1m \u001B[0m\u001B[1mLayer (type)                   \u001B[0m\u001B[1m \u001B[0m┃\u001B[1m \u001B[0m\u001B[1mOutput Shape          \u001B[0m\u001B[1m \u001B[0m┃\u001B[1m \u001B[0m\u001B[1m      Param #\u001B[0m\u001B[1m \u001B[0m┃\n",
       "┡━━━━━━━━━━━━━━━━━━━━━━━━━━━━━━━━━╇━━━━━━━━━━━━━━━━━━━━━━━━╇━━━━━━━━━━━━━━━┩\n",
       "│ dense (\u001B[38;5;33mDense\u001B[0m)                   │ (\u001B[38;5;45mNone\u001B[0m, \u001B[38;5;34m128\u001B[0m)            │         \u001B[38;5;34m5,248\u001B[0m │\n",
       "├─────────────────────────────────┼────────────────────────┼───────────────┤\n",
       "│ dense_1 (\u001B[38;5;33mDense\u001B[0m)                 │ (\u001B[38;5;45mNone\u001B[0m, \u001B[38;5;34m128\u001B[0m)            │        \u001B[38;5;34m16,512\u001B[0m │\n",
       "├─────────────────────────────────┼────────────────────────┼───────────────┤\n",
       "│ dense_2 (\u001B[38;5;33mDense\u001B[0m)                 │ (\u001B[38;5;45mNone\u001B[0m, \u001B[38;5;34m1\u001B[0m)              │           \u001B[38;5;34m129\u001B[0m │\n",
       "└─────────────────────────────────┴────────────────────────┴───────────────┘\n"
      ],
      "text/html": [
       "<pre style=\"white-space:pre;overflow-x:auto;line-height:normal;font-family:Menlo,'DejaVu Sans Mono',consolas,'Courier New',monospace\">┏━━━━━━━━━━━━━━━━━━━━━━━━━━━━━━━━━┳━━━━━━━━━━━━━━━━━━━━━━━━┳━━━━━━━━━━━━━━━┓\n",
       "┃<span style=\"font-weight: bold\"> Layer (type)                    </span>┃<span style=\"font-weight: bold\"> Output Shape           </span>┃<span style=\"font-weight: bold\">       Param # </span>┃\n",
       "┡━━━━━━━━━━━━━━━━━━━━━━━━━━━━━━━━━╇━━━━━━━━━━━━━━━━━━━━━━━━╇━━━━━━━━━━━━━━━┩\n",
       "│ dense (<span style=\"color: #0087ff; text-decoration-color: #0087ff\">Dense</span>)                   │ (<span style=\"color: #00d7ff; text-decoration-color: #00d7ff\">None</span>, <span style=\"color: #00af00; text-decoration-color: #00af00\">128</span>)            │         <span style=\"color: #00af00; text-decoration-color: #00af00\">5,248</span> │\n",
       "├─────────────────────────────────┼────────────────────────┼───────────────┤\n",
       "│ dense_1 (<span style=\"color: #0087ff; text-decoration-color: #0087ff\">Dense</span>)                 │ (<span style=\"color: #00d7ff; text-decoration-color: #00d7ff\">None</span>, <span style=\"color: #00af00; text-decoration-color: #00af00\">128</span>)            │        <span style=\"color: #00af00; text-decoration-color: #00af00\">16,512</span> │\n",
       "├─────────────────────────────────┼────────────────────────┼───────────────┤\n",
       "│ dense_2 (<span style=\"color: #0087ff; text-decoration-color: #0087ff\">Dense</span>)                 │ (<span style=\"color: #00d7ff; text-decoration-color: #00d7ff\">None</span>, <span style=\"color: #00af00; text-decoration-color: #00af00\">1</span>)              │           <span style=\"color: #00af00; text-decoration-color: #00af00\">129</span> │\n",
       "└─────────────────────────────────┴────────────────────────┴───────────────┘\n",
       "</pre>\n"
      ]
     },
     "metadata": {},
     "output_type": "display_data"
    },
    {
     "data": {
      "text/plain": [
       "\u001B[1m Total params: \u001B[0m\u001B[38;5;34m21,889\u001B[0m (85.50 KB)\n"
      ],
      "text/html": [
       "<pre style=\"white-space:pre;overflow-x:auto;line-height:normal;font-family:Menlo,'DejaVu Sans Mono',consolas,'Courier New',monospace\"><span style=\"font-weight: bold\"> Total params: </span><span style=\"color: #00af00; text-decoration-color: #00af00\">21,889</span> (85.50 KB)\n",
       "</pre>\n"
      ]
     },
     "metadata": {},
     "output_type": "display_data"
    },
    {
     "data": {
      "text/plain": [
       "\u001B[1m Trainable params: \u001B[0m\u001B[38;5;34m21,889\u001B[0m (85.50 KB)\n"
      ],
      "text/html": [
       "<pre style=\"white-space:pre;overflow-x:auto;line-height:normal;font-family:Menlo,'DejaVu Sans Mono',consolas,'Courier New',monospace\"><span style=\"font-weight: bold\"> Trainable params: </span><span style=\"color: #00af00; text-decoration-color: #00af00\">21,889</span> (85.50 KB)\n",
       "</pre>\n"
      ]
     },
     "metadata": {},
     "output_type": "display_data"
    },
    {
     "data": {
      "text/plain": [
       "\u001B[1m Non-trainable params: \u001B[0m\u001B[38;5;34m0\u001B[0m (0.00 B)\n"
      ],
      "text/html": [
       "<pre style=\"white-space:pre;overflow-x:auto;line-height:normal;font-family:Menlo,'DejaVu Sans Mono',consolas,'Courier New',monospace\"><span style=\"font-weight: bold\"> Non-trainable params: </span><span style=\"color: #00af00; text-decoration-color: #00af00\">0</span> (0.00 B)\n",
       "</pre>\n"
      ]
     },
     "metadata": {},
     "output_type": "display_data"
    }
   ],
   "execution_count": 45
  },
  {
   "cell_type": "code",
   "metadata": {
    "ExecuteTime": {
     "end_time": "2024-09-22T08:39:16.455228Z",
     "start_time": "2024-09-22T08:39:14.333278Z"
    }
   },
   "source": [
    "%%time\n",
    "model.fit(data[cols], data['d'], epochs=50,\n",
    "          verbose=False, class_weight=cw(data))"
   ],
   "outputs": [
    {
     "name": "stderr",
     "output_type": "stream",
     "text": [
      "/Users/zhengshuang/miniconda3/envs/aiif/lib/python3.10/site-packages/keras/src/trainers/data_adapters/data_adapter_utils.py:126: FutureWarning: Series.__getitem__ treating keys as positions is deprecated. In a future version, integer keys will always be treated as labels (consistent with DataFrame behavior). To access a value by position, use `ser.iloc[pos]`\n",
      "  sample_weight[i] = class_weight.get(int(y[i]), 1.0)\n",
      "2024-09-22 16:39:14.369686: W tensorflow/tsl/platform/profile_utils/cpu_utils.cc:128] Failed to get CPU frequency: 0 Hz\n"
     ]
    },
    {
     "name": "stdout",
     "output_type": "stream",
     "text": [
      "CPU times: user 2.3 s, sys: 365 ms, total: 2.66 s\n",
      "Wall time: 2.12 s\n"
     ]
    },
    {
     "data": {
      "text/plain": [
       "<keras.src.callbacks.history.History at 0x14ed10820>"
      ]
     },
     "execution_count": 30,
     "metadata": {},
     "output_type": "execute_result"
    }
   ],
   "execution_count": 30
  },
  {
   "cell_type": "code",
   "metadata": {
    "ExecuteTime": {
     "end_time": "2024-09-22T08:39:20.579895Z",
     "start_time": "2024-09-22T08:39:20.484498Z"
    }
   },
   "source": [
    "model.evaluate(data[cols], data['d'])"
   ],
   "outputs": [
    {
     "name": "stdout",
     "output_type": "stream",
     "text": [
      "\u001B[1m51/51\u001B[0m \u001B[32m━━━━━━━━━━━━━━━━━━━━\u001B[0m\u001B[37m\u001B[0m \u001B[1m0s\u001B[0m 436us/step - accuracy: 0.5758 - loss: 0.6809\n"
     ]
    },
    {
     "data": {
      "text/plain": [
       "[0.6838529706001282, 0.5567833185195923]"
      ]
     },
     "execution_count": 31,
     "metadata": {},
     "output_type": "execute_result"
    }
   ],
   "execution_count": 31
  },
  {
   "cell_type": "code",
   "metadata": {
    "ExecuteTime": {
     "end_time": "2024-09-22T08:39:26.702051Z",
     "start_time": "2024-09-22T08:39:26.617693Z"
    }
   },
   "source": [
    "data['p'] = np.where(model.predict(data[cols]) > 0.5, 1, 0)"
   ],
   "outputs": [
    {
     "name": "stdout",
     "output_type": "stream",
     "text": [
      "\u001B[1m51/51\u001B[0m \u001B[32m━━━━━━━━━━━━━━━━━━━━\u001B[0m\u001B[37m\u001B[0m \u001B[1m0s\u001B[0m 565us/step\n"
     ]
    }
   ],
   "execution_count": 32
  },
  {
   "cell_type": "code",
   "metadata": {
    "ExecuteTime": {
     "end_time": "2024-09-22T08:39:29.796838Z",
     "start_time": "2024-09-22T08:39:29.793802Z"
    }
   },
   "source": [
    "data['p'].value_counts()"
   ],
   "outputs": [
    {
     "data": {
      "text/plain": [
       "p\n",
       "0    957\n",
       "1    672\n",
       "Name: count, dtype: int64"
      ]
     },
     "execution_count": 33,
     "metadata": {},
     "output_type": "execute_result"
    }
   ],
   "execution_count": 33
  },
  {
   "cell_type": "code",
   "metadata": {
    "ExecuteTime": {
     "end_time": "2024-09-22T08:39:32.714075Z",
     "start_time": "2024-09-22T08:39:32.709829Z"
    }
   },
   "source": [
    "split = int(len(data) * 0.8)\n",
    "split"
   ],
   "outputs": [
    {
     "data": {
      "text/plain": [
       "1303"
      ]
     },
     "execution_count": 34,
     "metadata": {},
     "output_type": "execute_result"
    }
   ],
   "execution_count": 34
  },
  {
   "cell_type": "code",
   "metadata": {
    "ExecuteTime": {
     "end_time": "2024-09-22T08:39:34.665560Z",
     "start_time": "2024-09-22T08:39:34.662258Z"
    }
   },
   "source": [
    "train = data.iloc[:split].copy()"
   ],
   "outputs": [],
   "execution_count": 35
  },
  {
   "cell_type": "code",
   "metadata": {
    "ExecuteTime": {
     "end_time": "2024-09-22T08:39:36.026489Z",
     "start_time": "2024-09-22T08:39:36.023222Z"
    }
   },
   "source": [
    "test = data.iloc[split:].copy()"
   ],
   "outputs": [],
   "execution_count": 36
  },
  {
   "cell_type": "code",
   "metadata": {
    "ExecuteTime": {
     "end_time": "2024-09-22T08:39:38.009168Z",
     "start_time": "2024-09-22T08:39:37.986082Z"
    }
   },
   "source": [
    "set_seeds()\n",
    "optimizer = Adam(learning_rate=0.001)\n",
    "model = create_model(hl=1, hu=128,optimizer=optimizer)"
   ],
   "outputs": [
    {
     "name": "stderr",
     "output_type": "stream",
     "text": [
      "/Users/zhengshuang/miniconda3/envs/aiif/lib/python3.10/site-packages/keras/src/layers/core/dense.py:87: UserWarning: Do not pass an `input_shape`/`input_dim` argument to a layer. When using Sequential models, prefer using an `Input(shape)` object as the first layer in the model instead.\n",
      "  super().__init__(activity_regularizer=activity_regularizer, **kwargs)\n"
     ]
    }
   ],
   "execution_count": 37
  },
  {
   "cell_type": "code",
   "metadata": {
    "ExecuteTime": {
     "end_time": "2024-09-22T08:39:42.946104Z",
     "start_time": "2024-09-22T08:39:40.462003Z"
    }
   },
   "source": [
    "%%time \n",
    "hist = model.fit(train[cols], train['d'],\n",
    "          epochs=50, verbose=False,\n",
    "          validation_split=0.2, shuffle=False,\n",
    "          class_weight=cw(train))"
   ],
   "outputs": [
    {
     "name": "stderr",
     "output_type": "stream",
     "text": [
      "/Users/zhengshuang/miniconda3/envs/aiif/lib/python3.10/site-packages/keras/src/trainers/data_adapters/data_adapter_utils.py:126: FutureWarning: Series.__getitem__ treating keys as positions is deprecated. In a future version, integer keys will always be treated as labels (consistent with DataFrame behavior). To access a value by position, use `ser.iloc[pos]`\n",
      "  sample_weight[i] = class_weight.get(int(y[i]), 1.0)\n"
     ]
    },
    {
     "name": "stdout",
     "output_type": "stream",
     "text": [
      "CPU times: user 2.57 s, sys: 384 ms, total: 2.95 s\n",
      "Wall time: 2.48 s\n"
     ]
    }
   ],
   "execution_count": 38
  },
  {
   "cell_type": "code",
   "metadata": {
    "ExecuteTime": {
     "end_time": "2024-09-22T08:39:46.356170Z",
     "start_time": "2024-09-22T08:39:46.309640Z"
    }
   },
   "source": [
    "model.evaluate(train[cols], train['d'])"
   ],
   "outputs": [
    {
     "name": "stdout",
     "output_type": "stream",
     "text": [
      "\u001B[1m41/41\u001B[0m \u001B[32m━━━━━━━━━━━━━━━━━━━━\u001B[0m\u001B[37m\u001B[0m \u001B[1m0s\u001B[0m 409us/step - accuracy: 0.5632 - loss: 0.6810\n"
     ]
    },
    {
     "data": {
      "text/plain": [
       "[0.6847175359725952, 0.5495011806488037]"
      ]
     },
     "execution_count": 39,
     "metadata": {},
     "output_type": "execute_result"
    }
   ],
   "execution_count": 39
  },
  {
   "cell_type": "code",
   "metadata": {
    "ExecuteTime": {
     "end_time": "2024-09-22T08:39:52.106883Z",
     "start_time": "2024-09-22T08:39:52.067651Z"
    }
   },
   "source": [
    "model.evaluate(test[cols], test['d'])"
   ],
   "outputs": [
    {
     "name": "stdout",
     "output_type": "stream",
     "text": [
      "\u001B[1m11/11\u001B[0m \u001B[32m━━━━━━━━━━━━━━━━━━━━\u001B[0m\u001B[37m\u001B[0m \u001B[1m0s\u001B[0m 471us/step - accuracy: 0.4884 - loss: 0.7102\n"
     ]
    },
    {
     "data": {
      "text/plain": [
       "[0.7036775350570679, 0.512269914150238]"
      ]
     },
     "execution_count": 40,
     "metadata": {},
     "output_type": "execute_result"
    }
   ],
   "execution_count": 40
  },
  {
   "cell_type": "code",
   "metadata": {
    "ExecuteTime": {
     "end_time": "2024-09-22T08:39:58.504438Z",
     "start_time": "2024-09-22T08:39:58.444176Z"
    }
   },
   "source": [
    "test['p'] = np.where(model.predict(test[cols]) > 0.5, 1, 0)"
   ],
   "outputs": [
    {
     "name": "stdout",
     "output_type": "stream",
     "text": [
      "\u001B[1m11/11\u001B[0m \u001B[32m━━━━━━━━━━━━━━━━━━━━\u001B[0m\u001B[37m\u001B[0m \u001B[1m0s\u001B[0m 1ms/step \n"
     ]
    }
   ],
   "execution_count": 41
  },
  {
   "cell_type": "code",
   "metadata": {
    "ExecuteTime": {
     "end_time": "2024-09-22T08:40:00.910894Z",
     "start_time": "2024-09-22T08:40:00.907441Z"
    }
   },
   "source": [
    "test['p'].value_counts()"
   ],
   "outputs": [
    {
     "data": {
      "text/plain": [
       "p\n",
       "1    164\n",
       "0    162\n",
       "Name: count, dtype: int64"
      ]
     },
     "execution_count": 42,
     "metadata": {},
     "output_type": "execute_result"
    }
   ],
   "execution_count": 42
  },
  {
   "cell_type": "code",
   "metadata": {
    "ExecuteTime": {
     "end_time": "2024-09-22T08:40:04.271795Z",
     "start_time": "2024-09-22T08:40:04.268529Z"
    }
   },
   "source": [
    "res = pd.DataFrame(hist.history)"
   ],
   "outputs": [],
   "execution_count": 43
  },
  {
   "metadata": {
    "ExecuteTime": {
     "end_time": "2024-09-22T08:40:05.723199Z",
     "start_time": "2024-09-22T08:40:05.644192Z"
    }
   },
   "cell_type": "code",
   "source": "res[['loss', 'val_loss']].plot(figsize=(10, 6), style='--');",
   "outputs": [
    {
     "data": {
      "text/plain": [
       "<Figure size 1000x600 with 1 Axes>"
      ],
      "image/png": "[encoded data removed]"
     },
     "metadata": {},
     "output_type": "display_data"
    }
   ],
   "execution_count": 44
  },
  {
   "cell_type": "code",
   "metadata": {
    "ExecuteTime": {
     "end_time": "2024-09-22T08:40:09.537658Z",
     "start_time": "2024-09-22T08:40:09.457886Z"
    }
   },
   "source": [
    "res[['accuracy', 'val_accuracy']].plot(figsize=(10, 6), style='--');"
   ],
   "outputs": [
    {
     "data": {
      "text/plain": [
       "<Figure size 1000x600 with 1 Axes>"
      ],
      "image/png": "[encoded data removed]"
     },
     "metadata": {},
     "output_type": "display_data"
    }
   ],
   "execution_count": 45
  },
  {
   "cell_type": "markdown",
   "metadata": {},
   "source": [
    "## Normalization"
   ]
  },
  {
   "cell_type": "code",
   "metadata": {
    "ExecuteTime": {
     "end_time": "2024-09-22T09:15:25.758644Z",
     "start_time": "2024-09-22T09:15:25.753616Z"
    }
   },
   "source": [
    "mu, std = train.mean(), train.std()"
   ],
   "outputs": [],
   "execution_count": 46
  },
  {
   "cell_type": "code",
   "metadata": {
    "ExecuteTime": {
     "end_time": "2024-09-22T09:15:27.342413Z",
     "start_time": "2024-09-22T09:15:27.337790Z"
    }
   },
   "source": [
    "train_ = (train - mu) / std"
   ],
   "outputs": [],
   "execution_count": 47
  },
  {
   "cell_type": "code",
   "metadata": {
    "ExecuteTime": {
     "end_time": "2024-09-22T09:15:43.440471Z",
     "start_time": "2024-09-22T09:15:43.433562Z"
    }
   },
   "source": "train_.std().round(3)",
   "outputs": [
    {
     "data": {
      "text/plain": [
       "EUR_USD          1.0\n",
       "r                1.0\n",
       "sma              1.0\n",
       "min              1.0\n",
       "max              1.0\n",
       "mom              1.0\n",
       "vol              1.0\n",
       "d                1.0\n",
       "EUR_USD_lag_1    1.0\n",
       "EUR_USD_lag_2    1.0\n",
       "EUR_USD_lag_3    1.0\n",
       "EUR_USD_lag_4    1.0\n",
       "EUR_USD_lag_5    1.0\n",
       "r_lag_1          1.0\n",
       "r_lag_2          1.0\n",
       "r_lag_3          1.0\n",
       "r_lag_4          1.0\n",
       "r_lag_5          1.0\n",
       "d_lag_1          1.0\n",
       "d_lag_2          1.0\n",
       "d_lag_3          1.0\n",
       "d_lag_4          1.0\n",
       "d_lag_5          1.0\n",
       "sma_lag_1        1.0\n",
       "sma_lag_2        1.0\n",
       "sma_lag_3        1.0\n",
       "sma_lag_4        1.0\n",
       "sma_lag_5        1.0\n",
       "min_lag_1        1.0\n",
       "min_lag_2        1.0\n",
       "min_lag_3        1.0\n",
       "min_lag_4        1.0\n",
       "min_lag_5        1.0\n",
       "max_lag_1        1.0\n",
       "max_lag_2        1.0\n",
       "max_lag_3        1.0\n",
       "max_lag_4        1.0\n",
       "max_lag_5        1.0\n",
       "mom_lag_1        1.0\n",
       "mom_lag_2        1.0\n",
       "mom_lag_3        1.0\n",
       "mom_lag_4        1.0\n",
       "mom_lag_5        1.0\n",
       "vol_lag_1        1.0\n",
       "vol_lag_2        1.0\n",
       "vol_lag_3        1.0\n",
       "vol_lag_4        1.0\n",
       "vol_lag_5        1.0\n",
       "p                1.0\n",
       "dtype: float64"
      ]
     },
     "execution_count": 48,
     "metadata": {},
     "output_type": "execute_result"
    }
   ],
   "execution_count": 48
  },
  {
   "cell_type": "code",
   "metadata": {
    "ExecuteTime": {
     "end_time": "2024-09-22T09:23:27.689584Z",
     "start_time": "2024-09-22T09:23:27.664429Z"
    }
   },
   "source": [
    "set_seeds()\n",
    "optimizer = Adam(learning_rate=0.001)\n",
    "model = create_model(hl=2, hu=128, optimizer=optimizer)"
   ],
   "outputs": [
    {
     "name": "stderr",
     "output_type": "stream",
     "text": [
      "/Users/zhengshuang/miniconda3/envs/aiif/lib/python3.10/site-packages/keras/src/layers/core/dense.py:87: UserWarning: Do not pass an `input_shape`/`input_dim` argument to a layer. When using Sequential models, prefer using an `Input(shape)` object as the first layer in the model instead.\n",
      "  super().__init__(activity_regularizer=activity_regularizer, **kwargs)\n"
     ]
    }
   ],
   "execution_count": 55
  },
  {
   "cell_type": "code",
   "metadata": {
    "ExecuteTime": {
     "end_time": "2024-09-22T09:23:32.544375Z",
     "start_time": "2024-09-22T09:23:29.882427Z"
    }
   },
   "source": [
    "%%time \n",
    "hist = model.fit(train_[cols], train['d'],\n",
    "          epochs=50, verbose=False,\n",
    "          validation_split=0.2, shuffle=False,\n",
    "          class_weight=cw(train))"
   ],
   "outputs": [
    {
     "name": "stderr",
     "output_type": "stream",
     "text": [
      "/Users/zhengshuang/miniconda3/envs/aiif/lib/python3.10/site-packages/keras/src/trainers/data_adapters/data_adapter_utils.py:126: FutureWarning: Series.__getitem__ treating keys as positions is deprecated. In a future version, integer keys will always be treated as labels (consistent with DataFrame behavior). To access a value by position, use `ser.iloc[pos]`\n",
      "  sample_weight[i] = class_weight.get(int(y[i]), 1.0)\n"
     ]
    },
    {
     "name": "stdout",
     "output_type": "stream",
     "text": [
      "CPU times: user 2.8 s, sys: 396 ms, total: 3.19 s\n",
      "Wall time: 2.66 s\n"
     ]
    }
   ],
   "execution_count": 56
  },
  {
   "cell_type": "code",
   "metadata": {
    "ExecuteTime": {
     "end_time": "2024-09-22T09:24:57.048728Z",
     "start_time": "2024-09-22T09:24:56.998722Z"
    }
   },
   "source": [
    "model.evaluate(train_[cols], train['d'])"
   ],
   "outputs": [
    {
     "name": "stdout",
     "output_type": "stream",
     "text": [
      "\u001B[1m41/41\u001B[0m \u001B[32m━━━━━━━━━━━━━━━━━━━━\u001B[0m\u001B[37m\u001B[0m \u001B[1m0s\u001B[0m 354us/step - accuracy: 0.8595 - loss: 0.3261\n"
     ]
    },
    {
     "data": {
      "text/plain": [
       "[0.47142598032951355, 0.8142747282981873]"
      ]
     },
     "execution_count": 65,
     "metadata": {},
     "output_type": "execute_result"
    }
   ],
   "execution_count": 65
  },
  {
   "cell_type": "code",
   "metadata": {
    "ExecuteTime": {
     "end_time": "2024-09-22T09:25:12.226020Z",
     "start_time": "2024-09-22T09:25:12.220840Z"
    }
   },
   "source": [
    "test_ = (test - mu) / std"
   ],
   "outputs": [],
   "execution_count": 66
  },
  {
   "cell_type": "code",
   "metadata": {
    "ExecuteTime": {
     "end_time": "2024-09-22T09:25:16.221732Z",
     "start_time": "2024-09-22T09:25:16.187098Z"
    }
   },
   "source": [
    "model.evaluate(test_[cols], test['d'])"
   ],
   "outputs": [
    {
     "name": "stdout",
     "output_type": "stream",
     "text": [
      "\u001B[1m11/11\u001B[0m \u001B[32m━━━━━━━━━━━━━━━━━━━━\u001B[0m\u001B[37m\u001B[0m \u001B[1m0s\u001B[0m 509us/step - accuracy: 0.5333 - loss: 1.2546\n"
     ]
    },
    {
     "data": {
      "text/plain": [
       "[1.1239142417907715, 0.5306748747825623]"
      ]
     },
     "execution_count": 67,
     "metadata": {},
     "output_type": "execute_result"
    }
   ],
   "execution_count": 67
  },
  {
   "cell_type": "code",
   "metadata": {
    "ExecuteTime": {
     "end_time": "2024-09-22T09:23:39.820271Z",
     "start_time": "2024-09-22T09:23:39.753584Z"
    }
   },
   "source": [
    "test['p'] = np.where(model.predict(test_[cols]) > 0.5, 1, 0)"
   ],
   "outputs": [
    {
     "name": "stdout",
     "output_type": "stream",
     "text": [
      "\u001B[1m11/11\u001B[0m \u001B[32m━━━━━━━━━━━━━━━━━━━━\u001B[0m\u001B[37m\u001B[0m \u001B[1m0s\u001B[0m 2ms/step \n"
     ]
    }
   ],
   "execution_count": 60
  },
  {
   "cell_type": "code",
   "metadata": {
    "ExecuteTime": {
     "end_time": "2024-09-22T09:23:42.875214Z",
     "start_time": "2024-09-22T09:23:42.871468Z"
    }
   },
   "source": [
    "test['p'].value_counts()"
   ],
   "outputs": [
    {
     "data": {
      "text/plain": [
       "p\n",
       "1    230\n",
       "0     96\n",
       "Name: count, dtype: int64"
      ]
     },
     "execution_count": 61,
     "metadata": {},
     "output_type": "execute_result"
    }
   ],
   "execution_count": 61
  },
  {
   "cell_type": "code",
   "metadata": {
    "ExecuteTime": {
     "end_time": "2024-09-22T09:23:45.722425Z",
     "start_time": "2024-09-22T09:23:45.719875Z"
    }
   },
   "source": [
    "res = pd.DataFrame(hist.history)"
   ],
   "outputs": [],
   "execution_count": 62
  },
  {
   "metadata": {
    "ExecuteTime": {
     "end_time": "2024-09-22T09:24:06.969765Z",
     "start_time": "2024-09-22T09:24:06.887294Z"
    }
   },
   "cell_type": "code",
   "source": "res[['loss', 'val_loss']].plot(figsize=(10, 6), style='--');",
   "outputs": [
    {
     "data": {
      "text/plain": [
       "<Figure size 1000x600 with 1 Axes>"
      ],
      "image/png": "[encoded data removed]"
     },
     "metadata": {},
     "output_type": "display_data"
    }
   ],
   "execution_count": 64
  },
  {
   "cell_type": "code",
   "metadata": {
    "ExecuteTime": {
     "end_time": "2024-09-22T09:23:47.320152Z",
     "start_time": "2024-09-22T09:23:47.243445Z"
    }
   },
   "source": [
    "res[['accuracy', 'val_accuracy']].plot(figsize=(10, 6), style='--');"
   ],
   "outputs": [
    {
     "data": {
      "text/plain": [
       "<Figure size 1000x600 with 1 Axes>"
      ],
      "image/png": "[encoded data removed]"
     },
     "metadata": {},
     "output_type": "display_data"
    }
   ],
   "execution_count": 63
  },
  {
   "cell_type": "markdown",
   "metadata": {},
   "source": [
    "## Dropout \n",
    "\n",
    "Dropout: 随机丢弃一部分神经元，下面例子中随机丢掉30%"
   ]
  },
  {
   "cell_type": "code",
   "metadata": {
    "ExecuteTime": {
     "end_time": "2024-09-22T09:35:16.821977Z",
     "start_time": "2024-09-22T09:35:16.819915Z"
    }
   },
   "source": [
    "from keras.layers import Dropout"
   ],
   "outputs": [],
   "execution_count": 68
  },
  {
   "cell_type": "code",
   "metadata": {
    "ExecuteTime": {
     "end_time": "2024-09-22T09:35:19.254411Z",
     "start_time": "2024-09-22T09:35:19.251122Z"
    }
   },
   "source": [
    "def create_model(hl=1, hu=128, dropout=True, rate=0.3,\n",
    "                 optimizer=optimizer):\n",
    "    model = Sequential()\n",
    "    model.add(Dense(hu, input_dim=len(cols),\n",
    "                    activation='relu'))\n",
    "    if dropout:\n",
    "        model.add(Dropout(rate, seed=100))\n",
    "    for _ in range(hl):\n",
    "        model.add(Dense(hu, activation='relu'))\n",
    "        if dropout:\n",
    "            model.add(Dropout(rate, seed=100))\n",
    "    model.add(Dense(1, activation='sigmoid'))\n",
    "    model.compile(loss='binary_crossentropy', optimizer=optimizer,\n",
    "                 metrics=['accuracy'])\n",
    "    return model"
   ],
   "outputs": [],
   "execution_count": 69
  },
  {
   "cell_type": "code",
   "metadata": {
    "ExecuteTime": {
     "end_time": "2024-09-22T09:36:05.391100Z",
     "start_time": "2024-09-22T09:36:05.363207Z"
    }
   },
   "source": [
    "set_seeds()\n",
    "optimizer = Adam(learning_rate=0.001)\n",
    "model = create_model(hl=1, hu=128, rate=0.3, optimizer=optimizer)"
   ],
   "outputs": [
    {
     "name": "stderr",
     "output_type": "stream",
     "text": [
      "/Users/zhengshuang/miniconda3/envs/aiif/lib/python3.10/site-packages/keras/src/layers/core/dense.py:87: UserWarning: Do not pass an `input_shape`/`input_dim` argument to a layer. When using Sequential models, prefer using an `Input(shape)` object as the first layer in the model instead.\n",
      "  super().__init__(activity_regularizer=activity_regularizer, **kwargs)\n"
     ]
    }
   ],
   "execution_count": 70
  },
  {
   "metadata": {
    "ExecuteTime": {
     "end_time": "2024-09-22T09:43:07.063755Z",
     "start_time": "2024-09-22T09:43:07.055018Z"
    }
   },
   "cell_type": "code",
   "source": "model.summary()",
   "outputs": [
    {
     "data": {
      "text/plain": [
       "\u001B[1mModel: \"sequential_6\"\u001B[0m\n"
      ],
      "text/html": [
       "<pre style=\"white-space:pre;overflow-x:auto;line-height:normal;font-family:Menlo,'DejaVu Sans Mono',consolas,'Courier New',monospace\"><span style=\"font-weight: bold\">Model: \"sequential_6\"</span>\n",
       "</pre>\n"
      ]
     },
     "metadata": {},
     "output_type": "display_data"
    },
    {
     "data": {
      "text/plain": [
       "┏━━━━━━━━━━━━━━━━━━━━━━━━━━━━━━━━━┳━━━━━━━━━━━━━━━━━━━━━━━━┳━━━━━━━━━━━━━━━┓\n",
       "┃\u001B[1m \u001B[0m\u001B[1mLayer (type)                   \u001B[0m\u001B[1m \u001B[0m┃\u001B[1m \u001B[0m\u001B[1mOutput Shape          \u001B[0m\u001B[1m \u001B[0m┃\u001B[1m \u001B[0m\u001B[1m      Param #\u001B[0m\u001B[1m \u001B[0m┃\n",
       "┡━━━━━━━━━━━━━━━━━━━━━━━━━━━━━━━━━╇━━━━━━━━━━━━━━━━━━━━━━━━╇━━━━━━━━━━━━━━━┩\n",
       "│ dense_22 (\u001B[38;5;33mDense\u001B[0m)                │ (\u001B[38;5;45mNone\u001B[0m, \u001B[38;5;34m128\u001B[0m)            │         \u001B[38;5;34m5,248\u001B[0m │\n",
       "├─────────────────────────────────┼────────────────────────┼───────────────┤\n",
       "│ dropout (\u001B[38;5;33mDropout\u001B[0m)               │ (\u001B[38;5;45mNone\u001B[0m, \u001B[38;5;34m128\u001B[0m)            │             \u001B[38;5;34m0\u001B[0m │\n",
       "├─────────────────────────────────┼────────────────────────┼───────────────┤\n",
       "│ dense_23 (\u001B[38;5;33mDense\u001B[0m)                │ (\u001B[38;5;45mNone\u001B[0m, \u001B[38;5;34m128\u001B[0m)            │        \u001B[38;5;34m16,512\u001B[0m │\n",
       "├─────────────────────────────────┼────────────────────────┼───────────────┤\n",
       "│ dropout_1 (\u001B[38;5;33mDropout\u001B[0m)             │ (\u001B[38;5;45mNone\u001B[0m, \u001B[38;5;34m128\u001B[0m)            │             \u001B[38;5;34m0\u001B[0m │\n",
       "├─────────────────────────────────┼────────────────────────┼───────────────┤\n",
       "│ dense_24 (\u001B[38;5;33mDense\u001B[0m)                │ (\u001B[38;5;45mNone\u001B[0m, \u001B[38;5;34m1\u001B[0m)              │           \u001B[38;5;34m129\u001B[0m │\n",
       "└─────────────────────────────────┴────────────────────────┴───────────────┘\n"
      ],
      "text/html": [
       "<pre style=\"white-space:pre;overflow-x:auto;line-height:normal;font-family:Menlo,'DejaVu Sans Mono',consolas,'Courier New',monospace\">┏━━━━━━━━━━━━━━━━━━━━━━━━━━━━━━━━━┳━━━━━━━━━━━━━━━━━━━━━━━━┳━━━━━━━━━━━━━━━┓\n",
       "┃<span style=\"font-weight: bold\"> Layer (type)                    </span>┃<span style=\"font-weight: bold\"> Output Shape           </span>┃<span style=\"font-weight: bold\">       Param # </span>┃\n",
       "┡━━━━━━━━━━━━━━━━━━━━━━━━━━━━━━━━━╇━━━━━━━━━━━━━━━━━━━━━━━━╇━━━━━━━━━━━━━━━┩\n",
       "│ dense_22 (<span style=\"color: #0087ff; text-decoration-color: #0087ff\">Dense</span>)                │ (<span style=\"color: #00d7ff; text-decoration-color: #00d7ff\">None</span>, <span style=\"color: #00af00; text-decoration-color: #00af00\">128</span>)            │         <span style=\"color: #00af00; text-decoration-color: #00af00\">5,248</span> │\n",
       "├─────────────────────────────────┼────────────────────────┼───────────────┤\n",
       "│ dropout (<span style=\"color: #0087ff; text-decoration-color: #0087ff\">Dropout</span>)               │ (<span style=\"color: #00d7ff; text-decoration-color: #00d7ff\">None</span>, <span style=\"color: #00af00; text-decoration-color: #00af00\">128</span>)            │             <span style=\"color: #00af00; text-decoration-color: #00af00\">0</span> │\n",
       "├─────────────────────────────────┼────────────────────────┼───────────────┤\n",
       "│ dense_23 (<span style=\"color: #0087ff; text-decoration-color: #0087ff\">Dense</span>)                │ (<span style=\"color: #00d7ff; text-decoration-color: #00d7ff\">None</span>, <span style=\"color: #00af00; text-decoration-color: #00af00\">128</span>)            │        <span style=\"color: #00af00; text-decoration-color: #00af00\">16,512</span> │\n",
       "├─────────────────────────────────┼────────────────────────┼───────────────┤\n",
       "│ dropout_1 (<span style=\"color: #0087ff; text-decoration-color: #0087ff\">Dropout</span>)             │ (<span style=\"color: #00d7ff; text-decoration-color: #00d7ff\">None</span>, <span style=\"color: #00af00; text-decoration-color: #00af00\">128</span>)            │             <span style=\"color: #00af00; text-decoration-color: #00af00\">0</span> │\n",
       "├─────────────────────────────────┼────────────────────────┼───────────────┤\n",
       "│ dense_24 (<span style=\"color: #0087ff; text-decoration-color: #0087ff\">Dense</span>)                │ (<span style=\"color: #00d7ff; text-decoration-color: #00d7ff\">None</span>, <span style=\"color: #00af00; text-decoration-color: #00af00\">1</span>)              │           <span style=\"color: #00af00; text-decoration-color: #00af00\">129</span> │\n",
       "└─────────────────────────────────┴────────────────────────┴───────────────┘\n",
       "</pre>\n"
      ]
     },
     "metadata": {},
     "output_type": "display_data"
    },
    {
     "data": {
      "text/plain": [
       "\u001B[1m Total params: \u001B[0m\u001B[38;5;34m65,669\u001B[0m (256.52 KB)\n"
      ],
      "text/html": [
       "<pre style=\"white-space:pre;overflow-x:auto;line-height:normal;font-family:Menlo,'DejaVu Sans Mono',consolas,'Courier New',monospace\"><span style=\"font-weight: bold\"> Total params: </span><span style=\"color: #00af00; text-decoration-color: #00af00\">65,669</span> (256.52 KB)\n",
       "</pre>\n"
      ]
     },
     "metadata": {},
     "output_type": "display_data"
    },
    {
     "data": {
      "text/plain": [
       "\u001B[1m Trainable params: \u001B[0m\u001B[38;5;34m21,889\u001B[0m (85.50 KB)\n"
      ],
      "text/html": [
       "<pre style=\"white-space:pre;overflow-x:auto;line-height:normal;font-family:Menlo,'DejaVu Sans Mono',consolas,'Courier New',monospace\"><span style=\"font-weight: bold\"> Trainable params: </span><span style=\"color: #00af00; text-decoration-color: #00af00\">21,889</span> (85.50 KB)\n",
       "</pre>\n"
      ]
     },
     "metadata": {},
     "output_type": "display_data"
    },
    {
     "data": {
      "text/plain": [
       "\u001B[1m Non-trainable params: \u001B[0m\u001B[38;5;34m0\u001B[0m (0.00 B)\n"
      ],
      "text/html": [
       "<pre style=\"white-space:pre;overflow-x:auto;line-height:normal;font-family:Menlo,'DejaVu Sans Mono',consolas,'Courier New',monospace\"><span style=\"font-weight: bold\"> Non-trainable params: </span><span style=\"color: #00af00; text-decoration-color: #00af00\">0</span> (0.00 B)\n",
       "</pre>\n"
      ]
     },
     "metadata": {},
     "output_type": "display_data"
    },
    {
     "data": {
      "text/plain": [
       "\u001B[1m Optimizer params: \u001B[0m\u001B[38;5;34m43,780\u001B[0m (171.02 KB)\n"
      ],
      "text/html": [
       "<pre style=\"white-space:pre;overflow-x:auto;line-height:normal;font-family:Menlo,'DejaVu Sans Mono',consolas,'Courier New',monospace\"><span style=\"font-weight: bold\"> Optimizer params: </span><span style=\"color: #00af00; text-decoration-color: #00af00\">43,780</span> (171.02 KB)\n",
       "</pre>\n"
      ]
     },
     "metadata": {},
     "output_type": "display_data"
    }
   ],
   "execution_count": 73
  },
  {
   "cell_type": "code",
   "metadata": {
    "ExecuteTime": {
     "end_time": "2024-09-22T09:44:40.392859Z",
     "start_time": "2024-09-22T09:44:38.338117Z"
    }
   },
   "source": [
    "%%time \n",
    "hist = model.fit(train_[cols], train['d'],\n",
    "          epochs=50, verbose=False,\n",
    "          validation_split=0.15, shuffle=False,\n",
    "          class_weight=cw(train))"
   ],
   "outputs": [
    {
     "name": "stderr",
     "output_type": "stream",
     "text": [
      "/Users/zhengshuang/miniconda3/envs/aiif/lib/python3.10/site-packages/keras/src/trainers/data_adapters/data_adapter_utils.py:126: FutureWarning: Series.__getitem__ treating keys as positions is deprecated. In a future version, integer keys will always be treated as labels (consistent with DataFrame behavior). To access a value by position, use `ser.iloc[pos]`\n",
      "  sample_weight[i] = class_weight.get(int(y[i]), 1.0)\n"
     ]
    },
    {
     "name": "stdout",
     "output_type": "stream",
     "text": [
      "CPU times: user 2.2 s, sys: 289 ms, total: 2.49 s\n",
      "Wall time: 2.05 s\n"
     ]
    }
   ],
   "execution_count": 74
  },
  {
   "cell_type": "code",
   "metadata": {
    "ExecuteTime": {
     "end_time": "2024-09-22T09:44:42.858966Z",
     "start_time": "2024-09-22T09:44:42.815642Z"
    }
   },
   "source": [
    "model.evaluate(train_[cols], train['d'])"
   ],
   "outputs": [
    {
     "name": "stdout",
     "output_type": "stream",
     "text": [
      "\u001B[1m41/41\u001B[0m \u001B[32m━━━━━━━━━━━━━━━━━━━━\u001B[0m\u001B[37m\u001B[0m \u001B[1m0s\u001B[0m 324us/step - accuracy: 0.8730 - loss: 0.3544\n"
     ]
    },
    {
     "data": {
      "text/plain": [
       "[0.4423079490661621, 0.8135073184967041]"
      ]
     },
     "execution_count": 75,
     "metadata": {},
     "output_type": "execute_result"
    }
   ],
   "execution_count": 75
  },
  {
   "cell_type": "code",
   "metadata": {
    "ExecuteTime": {
     "end_time": "2024-09-22T09:44:55.703776Z",
     "start_time": "2024-09-22T09:44:55.664603Z"
    }
   },
   "source": [
    "model.evaluate(test_[cols], test['d'])"
   ],
   "outputs": [
    {
     "name": "stdout",
     "output_type": "stream",
     "text": [
      "\u001B[1m11/11\u001B[0m \u001B[32m━━━━━━━━━━━━━━━━━━━━\u001B[0m\u001B[37m\u001B[0m \u001B[1m0s\u001B[0m 460us/step - accuracy: 0.4962 - loss: 1.0887\n"
     ]
    },
    {
     "data": {
      "text/plain": [
       "[0.9939177632331848, 0.5214723944664001]"
      ]
     },
     "execution_count": 76,
     "metadata": {},
     "output_type": "execute_result"
    }
   ],
   "execution_count": 76
  },
  {
   "cell_type": "code",
   "execution_count": 61,
   "metadata": {},
   "outputs": [],
   "source": [
    "res = pd.DataFrame(hist.history)"
   ]
  },
  {
   "cell_type": "code",
   "execution_count": 62,
   "metadata": {},
   "outputs": [
    {
     "data": {
      "image/png": "[encoded data removed]",
      "text/plain": [
       "<Figure size 1000x600 with 1 Axes>"
      ]
     },
     "metadata": {},
     "output_type": "display_data"
    }
   ],
   "source": [
    "res[['accuracy', 'val_accuracy']].plot(figsize=(10, 6), style='--');"
   ]
  },
  {
   "cell_type": "markdown",
   "metadata": {},
   "source": [
    "## Regularization "
   ]
  },
  {
   "cell_type": "code",
   "metadata": {
    "ExecuteTime": {
     "end_time": "2024-09-22T10:00:35.215630Z",
     "start_time": "2024-09-22T10:00:35.211358Z"
    }
   },
   "source": [
    "from keras.regularizers import l1, l2"
   ],
   "outputs": [],
   "execution_count": 77
  },
  {
   "cell_type": "code",
   "metadata": {
    "ExecuteTime": {
     "end_time": "2024-09-22T10:45:06.633952Z",
     "start_time": "2024-09-22T10:45:06.630736Z"
    }
   },
   "source": [
    "def create_model(hl=1, hu=128, dropout=False, rate=0.3, \n",
    "                 regularize=False, reg=l1(0.0005),\n",
    "                 optimizer=optimizer, input_dim=len(cols)):\n",
    "    optimizer = Adam(learning_rate=0.001)\n",
    "    if not regularize:\n",
    "        reg = None\n",
    "    model = Sequential()\n",
    "    model.add(Dense(hu, input_dim=input_dim,\n",
    "                    activity_regularizer=reg,\n",
    "                    activation='relu'))\n",
    "    if dropout:\n",
    "        model.add(Dropout(rate, seed=100))\n",
    "    for _ in range(hl):\n",
    "        model.add(Dense(hu, activation='relu',\n",
    "                        activity_regularizer=reg))\n",
    "        if dropout:\n",
    "            model.add(Dropout(rate, seed=100))\n",
    "    model.add(Dense(1, activation='sigmoid'))\n",
    "    model.compile(loss='binary_crossentropy', optimizer=optimizer,\n",
    "                 metrics=['accuracy'])\n",
    "    return model"
   ],
   "outputs": [],
   "execution_count": 100
  },
  {
   "cell_type": "code",
   "metadata": {
    "ExecuteTime": {
     "end_time": "2024-09-22T10:00:52.886844Z",
     "start_time": "2024-09-22T10:00:52.862835Z"
    }
   },
   "source": [
    "set_seeds()\n",
    "optimizer = Adam(learning_rate=0.001)\n",
    "model = create_model(hl=1, hu=128, regularize=True,optimizer=optimizer)"
   ],
   "outputs": [
    {
     "name": "stderr",
     "output_type": "stream",
     "text": [
      "/Users/zhengshuang/miniconda3/envs/aiif/lib/python3.10/site-packages/keras/src/layers/core/dense.py:87: UserWarning: Do not pass an `input_shape`/`input_dim` argument to a layer. When using Sequential models, prefer using an `Input(shape)` object as the first layer in the model instead.\n",
      "  super().__init__(activity_regularizer=activity_regularizer, **kwargs)\n"
     ]
    }
   ],
   "execution_count": 79
  },
  {
   "cell_type": "code",
   "metadata": {
    "ExecuteTime": {
     "end_time": "2024-09-22T10:00:57.594361Z",
     "start_time": "2024-09-22T10:00:55.127781Z"
    }
   },
   "source": [
    "%%time \n",
    "hist = model.fit(train_[cols], train['d'],\n",
    "          epochs=50, verbose=False,\n",
    "          validation_split=0.2, shuffle=False,\n",
    "          class_weight=cw(train))"
   ],
   "outputs": [
    {
     "name": "stderr",
     "output_type": "stream",
     "text": [
      "/Users/zhengshuang/miniconda3/envs/aiif/lib/python3.10/site-packages/keras/src/trainers/data_adapters/data_adapter_utils.py:126: FutureWarning: Series.__getitem__ treating keys as positions is deprecated. In a future version, integer keys will always be treated as labels (consistent with DataFrame behavior). To access a value by position, use `ser.iloc[pos]`\n",
      "  sample_weight[i] = class_weight.get(int(y[i]), 1.0)\n"
     ]
    },
    {
     "name": "stdout",
     "output_type": "stream",
     "text": [
      "CPU times: user 2.6 s, sys: 382 ms, total: 2.98 s\n",
      "Wall time: 2.46 s\n"
     ]
    }
   ],
   "execution_count": 80
  },
  {
   "cell_type": "code",
   "metadata": {
    "ExecuteTime": {
     "end_time": "2024-09-22T10:00:59.349953Z",
     "start_time": "2024-09-22T10:00:59.303922Z"
    }
   },
   "source": [
    "model.evaluate(train_[cols], train['d'])"
   ],
   "outputs": [
    {
     "name": "stdout",
     "output_type": "stream",
     "text": [
      "\u001B[1m41/41\u001B[0m \u001B[32m━━━━━━━━━━━━━━━━━━━━\u001B[0m\u001B[37m\u001B[0m \u001B[1m0s\u001B[0m 369us/step - accuracy: 0.7194 - loss: 0.6031\n"
     ]
    },
    {
     "data": {
      "text/plain": [
       "[0.6371609568595886, 0.6792018413543701]"
      ]
     },
     "execution_count": 81,
     "metadata": {},
     "output_type": "execute_result"
    }
   ],
   "execution_count": 81
  },
  {
   "cell_type": "code",
   "metadata": {
    "ExecuteTime": {
     "end_time": "2024-09-22T10:01:02.436591Z",
     "start_time": "2024-09-22T10:01:02.397004Z"
    }
   },
   "source": [
    "model.evaluate(test_[cols], test['d'])"
   ],
   "outputs": [
    {
     "name": "stdout",
     "output_type": "stream",
     "text": [
      "\u001B[1m11/11\u001B[0m \u001B[32m━━━━━━━━━━━━━━━━━━━━\u001B[0m\u001B[37m\u001B[0m \u001B[1m0s\u001B[0m 575us/step - accuracy: 0.5192 - loss: 0.8764\n"
     ]
    },
    {
     "data": {
      "text/plain": [
       "[0.8428676128387451, 0.5153374075889587]"
      ]
     },
     "execution_count": 82,
     "metadata": {},
     "output_type": "execute_result"
    }
   ],
   "execution_count": 82
  },
  {
   "cell_type": "code",
   "metadata": {
    "ExecuteTime": {
     "end_time": "2024-09-22T10:01:06.151997Z",
     "start_time": "2024-09-22T10:01:06.149640Z"
    }
   },
   "source": [
    "res = pd.DataFrame(hist.history)"
   ],
   "outputs": [],
   "execution_count": 83
  },
  {
   "metadata": {
    "ExecuteTime": {
     "end_time": "2024-09-22T10:01:23.739580Z",
     "start_time": "2024-09-22T10:01:23.664807Z"
    }
   },
   "cell_type": "code",
   "source": "res[['loss', 'val_loss']].plot(figsize=(10, 6), style='--');",
   "outputs": [
    {
     "data": {
      "text/plain": [
       "<Figure size 1000x600 with 1 Axes>"
      ],
      "image/png": "[encoded data removed]"
     },
     "metadata": {},
     "output_type": "display_data"
    }
   ],
   "execution_count": 85
  },
  {
   "cell_type": "code",
   "metadata": {
    "ExecuteTime": {
     "end_time": "2024-09-22T10:01:10.567153Z",
     "start_time": "2024-09-22T10:01:10.479660Z"
    }
   },
   "source": [
    "res[['accuracy', 'val_accuracy']].plot(figsize=(10, 6), style='--');"
   ],
   "outputs": [
    {
     "data": {
      "text/plain": [
       "<Figure size 1000x600 with 1 Axes>"
      ],
      "image/png": "[encoded data removed]"
     },
     "metadata": {},
     "output_type": "display_data"
    }
   ],
   "execution_count": 84
  },
  {
   "cell_type": "code",
   "metadata": {
    "ExecuteTime": {
     "end_time": "2024-09-22T10:02:08.368948Z",
     "start_time": "2024-09-22T10:02:08.336117Z"
    }
   },
   "source": [
    "set_seeds()\n",
    "optimizer = Adam(learning_rate=0.001)\n",
    "model = create_model(hl=2, hu=128,\n",
    "                     dropout=True, rate=0.3,\n",
    "                     regularize=True, reg=l2(0.001),\n",
    "                    optimizer=optimizer)"
   ],
   "outputs": [
    {
     "name": "stderr",
     "output_type": "stream",
     "text": [
      "/Users/zhengshuang/miniconda3/envs/aiif/lib/python3.10/site-packages/keras/src/layers/core/dense.py:87: UserWarning: Do not pass an `input_shape`/`input_dim` argument to a layer. When using Sequential models, prefer using an `Input(shape)` object as the first layer in the model instead.\n",
      "  super().__init__(activity_regularizer=activity_regularizer, **kwargs)\n"
     ]
    }
   ],
   "execution_count": 86
  },
  {
   "cell_type": "code",
   "metadata": {
    "ExecuteTime": {
     "end_time": "2024-09-22T10:02:13.727483Z",
     "start_time": "2024-09-22T10:02:10.789967Z"
    }
   },
   "source": [
    "%%time \n",
    "hist = model.fit(train_[cols], train['d'],\n",
    "          epochs=50, verbose=False,\n",
    "          validation_split=0.2, shuffle=False,\n",
    "          class_weight=cw(train))"
   ],
   "outputs": [
    {
     "name": "stderr",
     "output_type": "stream",
     "text": [
      "/Users/zhengshuang/miniconda3/envs/aiif/lib/python3.10/site-packages/keras/src/trainers/data_adapters/data_adapter_utils.py:126: FutureWarning: Series.__getitem__ treating keys as positions is deprecated. In a future version, integer keys will always be treated as labels (consistent with DataFrame behavior). To access a value by position, use `ser.iloc[pos]`\n",
      "  sample_weight[i] = class_weight.get(int(y[i]), 1.0)\n"
     ]
    },
    {
     "name": "stdout",
     "output_type": "stream",
     "text": [
      "CPU times: user 3.06 s, sys: 398 ms, total: 3.46 s\n",
      "Wall time: 2.94 s\n"
     ]
    }
   ],
   "execution_count": 87
  },
  {
   "cell_type": "code",
   "metadata": {
    "ExecuteTime": {
     "end_time": "2024-09-22T10:02:16.776524Z",
     "start_time": "2024-09-22T10:02:16.725077Z"
    }
   },
   "source": [
    "model.evaluate(train_[cols], train['d'])"
   ],
   "outputs": [
    {
     "name": "stdout",
     "output_type": "stream",
     "text": [
      "\u001B[1m41/41\u001B[0m \u001B[32m━━━━━━━━━━━━━━━━━━━━\u001B[0m\u001B[37m\u001B[0m \u001B[1m0s\u001B[0m 365us/step - accuracy: 0.6726 - loss: 0.6410\n"
     ]
    },
    {
     "data": {
      "text/plain": [
       "[0.6515108942985535, 0.6515733003616333]"
      ]
     },
     "execution_count": 88,
     "metadata": {},
     "output_type": "execute_result"
    }
   ],
   "execution_count": 88
  },
  {
   "cell_type": "code",
   "metadata": {
    "ExecuteTime": {
     "end_time": "2024-09-22T10:02:22.930488Z",
     "start_time": "2024-09-22T10:02:22.895129Z"
    }
   },
   "source": [
    "model.evaluate(test_[cols], test['d'])"
   ],
   "outputs": [
    {
     "name": "stdout",
     "output_type": "stream",
     "text": [
      "\u001B[1m11/11\u001B[0m \u001B[32m━━━━━━━━━━━━━━━━━━━━\u001B[0m\u001B[37m\u001B[0m \u001B[1m0s\u001B[0m 428us/step - accuracy: 0.5079 - loss: 0.8750\n"
     ]
    },
    {
     "data": {
      "text/plain": [
       "[0.8446894884109497, 0.5306748747825623]"
      ]
     },
     "execution_count": 89,
     "metadata": {},
     "output_type": "execute_result"
    }
   ],
   "execution_count": 89
  },
  {
   "cell_type": "code",
   "metadata": {
    "ExecuteTime": {
     "end_time": "2024-09-22T10:02:27.616120Z",
     "start_time": "2024-09-22T10:02:27.613715Z"
    }
   },
   "source": [
    "res = pd.DataFrame(hist.history)"
   ],
   "outputs": [],
   "execution_count": 90
  },
  {
   "metadata": {
    "ExecuteTime": {
     "end_time": "2024-09-22T10:02:51.313225Z",
     "start_time": "2024-09-22T10:02:51.230091Z"
    }
   },
   "cell_type": "code",
   "source": "res[['loss', 'val_loss']].plot(figsize=(10, 6), style='--');",
   "outputs": [
    {
     "data": {
      "text/plain": [
       "<Figure size 1000x600 with 1 Axes>"
      ],
      "image/png": "[encoded data removed]"
     },
     "metadata": {},
     "output_type": "display_data"
    }
   ],
   "execution_count": 93
  },
  {
   "cell_type": "code",
   "metadata": {
    "ExecuteTime": {
     "end_time": "2024-09-22T10:02:28.971413Z",
     "start_time": "2024-09-22T10:02:28.893895Z"
    }
   },
   "source": [
    "res[['accuracy', 'val_accuracy']].plot(figsize=(10, 6), style='--');"
   ],
   "outputs": [
    {
     "data": {
      "text/plain": [
       "<Figure size 1000x600 with 1 Axes>"
      ],
      "image/png": "[encoded data removed]"
     },
     "metadata": {},
     "output_type": "display_data"
    }
   ],
   "execution_count": 91
  },
  {
   "cell_type": "code",
   "metadata": {
    "ExecuteTime": {
     "end_time": "2024-09-22T10:03:18.323198Z",
     "start_time": "2024-09-22T10:03:18.318299Z"
    }
   },
   "source": [
    "res.mean()['accuracy'] - res.mean()['val_accuracy']"
   ],
   "outputs": [
    {
     "data": {
      "text/plain": [
       "0.0584336811304092"
      ]
     },
     "execution_count": 94,
     "metadata": {},
     "output_type": "execute_result"
    }
   ],
   "execution_count": 94
  },
  {
   "cell_type": "markdown",
   "metadata": {},
   "source": [
    "## Bagging"
   ]
  },
  {
   "cell_type": "code",
   "metadata": {
    "ExecuteTime": {
     "end_time": "2024-09-22T10:44:41.045920Z",
     "start_time": "2024-09-22T10:44:40.921851Z"
    }
   },
   "source": [
    "from sklearn.ensemble import BaggingClassifier\n",
    "# from keras.wrappers.scikit_learn import KerasClassifier\n",
    "from scikeras.wrappers import KerasClassifier"
   ],
   "outputs": [],
   "execution_count": 95
  },
  {
   "cell_type": "code",
   "execution_count": 79,
   "metadata": {},
   "outputs": [
    {
     "data": {
      "text/plain": [
       "40"
      ]
     },
     "execution_count": 79,
     "metadata": {},
     "output_type": "execute_result"
    }
   ],
   "source": [
    "len(cols)"
   ]
  },
  {
   "cell_type": "code",
   "metadata": {
    "ExecuteTime": {
     "end_time": "2024-09-22T10:44:44.082145Z",
     "start_time": "2024-09-22T10:44:44.079992Z"
    }
   },
   "source": [
    "max_features = 0.75"
   ],
   "outputs": [],
   "execution_count": 96
  },
  {
   "cell_type": "code",
   "metadata": {
    "ExecuteTime": {
     "end_time": "2024-09-22T10:45:17.351441Z",
     "start_time": "2024-09-22T10:45:17.348596Z"
    }
   },
   "source": [
    "set_seeds()\n",
    "base_estimator = KerasClassifier(model=create_model,\n",
    "                        verbose=False, epochs=20, hl=1, hu=128,\n",
    "                        dropout=True, regularize=False,\n",
    "                        input_dim=int(len(cols) * max_features))"
   ],
   "outputs": [],
   "execution_count": 101
  },
  {
   "cell_type": "code",
   "metadata": {
    "ExecuteTime": {
     "end_time": "2024-09-22T10:45:20.482909Z",
     "start_time": "2024-09-22T10:45:20.480426Z"
    }
   },
   "source": [
    "model_bag = BaggingClassifier(estimator=base_estimator,\n",
    "                          n_estimators=15,\n",
    "                          max_samples=0.75,\n",
    "                          max_features=max_features,\n",
    "                          bootstrap=True,\n",
    "                          bootstrap_features=True,\n",
    "                          n_jobs=1,\n",
    "                          random_state=100,\n",
    "                         )"
   ],
   "outputs": [],
   "execution_count": 102
  },
  {
   "cell_type": "code",
   "metadata": {
    "ExecuteTime": {
     "end_time": "2024-09-22T10:45:36.331945Z",
     "start_time": "2024-09-22T10:45:23.448430Z"
    }
   },
   "source": [
    "%time model_bag.fit(train_[cols], train['d'])"
   ],
   "outputs": [
    {
     "name": "stderr",
     "output_type": "stream",
     "text": [
      "/Users/zhengshuang/miniconda3/envs/aiif/lib/python3.10/site-packages/keras/src/layers/core/dense.py:87: UserWarning: Do not pass an `input_shape`/`input_dim` argument to a layer. When using Sequential models, prefer using an `Input(shape)` object as the first layer in the model instead.\n",
      "  super().__init__(activity_regularizer=activity_regularizer, **kwargs)\n",
      "/Users/zhengshuang/miniconda3/envs/aiif/lib/python3.10/site-packages/keras/src/layers/core/dense.py:87: UserWarning: Do not pass an `input_shape`/`input_dim` argument to a layer. When using Sequential models, prefer using an `Input(shape)` object as the first layer in the model instead.\n",
      "  super().__init__(activity_regularizer=activity_regularizer, **kwargs)\n",
      "/Users/zhengshuang/miniconda3/envs/aiif/lib/python3.10/site-packages/keras/src/layers/core/dense.py:87: UserWarning: Do not pass an `input_shape`/`input_dim` argument to a layer. When using Sequential models, prefer using an `Input(shape)` object as the first layer in the model instead.\n",
      "  super().__init__(activity_regularizer=activity_regularizer, **kwargs)\n",
      "/Users/zhengshuang/miniconda3/envs/aiif/lib/python3.10/site-packages/keras/src/layers/core/dense.py:87: UserWarning: Do not pass an `input_shape`/`input_dim` argument to a layer. When using Sequential models, prefer using an `Input(shape)` object as the first layer in the model instead.\n",
      "  super().__init__(activity_regularizer=activity_regularizer, **kwargs)\n",
      "/Users/zhengshuang/miniconda3/envs/aiif/lib/python3.10/site-packages/keras/src/layers/core/dense.py:87: UserWarning: Do not pass an `input_shape`/`input_dim` argument to a layer. When using Sequential models, prefer using an `Input(shape)` object as the first layer in the model instead.\n",
      "  super().__init__(activity_regularizer=activity_regularizer, **kwargs)\n",
      "/Users/zhengshuang/miniconda3/envs/aiif/lib/python3.10/site-packages/keras/src/layers/core/dense.py:87: UserWarning: Do not pass an `input_shape`/`input_dim` argument to a layer. When using Sequential models, prefer using an `Input(shape)` object as the first layer in the model instead.\n",
      "  super().__init__(activity_regularizer=activity_regularizer, **kwargs)\n",
      "/Users/zhengshuang/miniconda3/envs/aiif/lib/python3.10/site-packages/keras/src/layers/core/dense.py:87: UserWarning: Do not pass an `input_shape`/`input_dim` argument to a layer. When using Sequential models, prefer using an `Input(shape)` object as the first layer in the model instead.\n",
      "  super().__init__(activity_regularizer=activity_regularizer, **kwargs)\n",
      "/Users/zhengshuang/miniconda3/envs/aiif/lib/python3.10/site-packages/keras/src/layers/core/dense.py:87: UserWarning: Do not pass an `input_shape`/`input_dim` argument to a layer. When using Sequential models, prefer using an `Input(shape)` object as the first layer in the model instead.\n",
      "  super().__init__(activity_regularizer=activity_regularizer, **kwargs)\n",
      "/Users/zhengshuang/miniconda3/envs/aiif/lib/python3.10/site-packages/keras/src/layers/core/dense.py:87: UserWarning: Do not pass an `input_shape`/`input_dim` argument to a layer. When using Sequential models, prefer using an `Input(shape)` object as the first layer in the model instead.\n",
      "  super().__init__(activity_regularizer=activity_regularizer, **kwargs)\n",
      "/Users/zhengshuang/miniconda3/envs/aiif/lib/python3.10/site-packages/keras/src/layers/core/dense.py:87: UserWarning: Do not pass an `input_shape`/`input_dim` argument to a layer. When using Sequential models, prefer using an `Input(shape)` object as the first layer in the model instead.\n",
      "  super().__init__(activity_regularizer=activity_regularizer, **kwargs)\n",
      "/Users/zhengshuang/miniconda3/envs/aiif/lib/python3.10/site-packages/keras/src/layers/core/dense.py:87: UserWarning: Do not pass an `input_shape`/`input_dim` argument to a layer. When using Sequential models, prefer using an `Input(shape)` object as the first layer in the model instead.\n",
      "  super().__init__(activity_regularizer=activity_regularizer, **kwargs)\n",
      "/Users/zhengshuang/miniconda3/envs/aiif/lib/python3.10/site-packages/keras/src/layers/core/dense.py:87: UserWarning: Do not pass an `input_shape`/`input_dim` argument to a layer. When using Sequential models, prefer using an `Input(shape)` object as the first layer in the model instead.\n",
      "  super().__init__(activity_regularizer=activity_regularizer, **kwargs)\n",
      "/Users/zhengshuang/miniconda3/envs/aiif/lib/python3.10/site-packages/keras/src/layers/core/dense.py:87: UserWarning: Do not pass an `input_shape`/`input_dim` argument to a layer. When using Sequential models, prefer using an `Input(shape)` object as the first layer in the model instead.\n",
      "  super().__init__(activity_regularizer=activity_regularizer, **kwargs)\n",
      "/Users/zhengshuang/miniconda3/envs/aiif/lib/python3.10/site-packages/keras/src/layers/core/dense.py:87: UserWarning: Do not pass an `input_shape`/`input_dim` argument to a layer. When using Sequential models, prefer using an `Input(shape)` object as the first layer in the model instead.\n",
      "  super().__init__(activity_regularizer=activity_regularizer, **kwargs)\n",
      "/Users/zhengshuang/miniconda3/envs/aiif/lib/python3.10/site-packages/keras/src/layers/core/dense.py:87: UserWarning: Do not pass an `input_shape`/`input_dim` argument to a layer. When using Sequential models, prefer using an `Input(shape)` object as the first layer in the model instead.\n",
      "  super().__init__(activity_regularizer=activity_regularizer, **kwargs)\n"
     ]
    },
    {
     "name": "stdout",
     "output_type": "stream",
     "text": [
      "CPU times: user 13.6 s, sys: 1.5 s, total: 15.1 s\n",
      "Wall time: 12.9 s\n"
     ]
    },
    {
     "data": {
      "text/plain": [
       "BaggingClassifier(bootstrap_features=True,\n",
       "                  estimator=KerasClassifier(dropout=True, epochs=20, hl=1, hu=128, input_dim=30, model=<function create_model at 0x1582ea4d0>, regularize=False, verbose=False),\n",
       "                  max_features=0.75, max_samples=0.75, n_estimators=15,\n",
       "                  n_jobs=1, random_state=100)"
      ],
      "text/html": [
       "<style>#sk-container-id-1 {\n",
       "  /* Definition of color scheme common for light and dark mode */\n",
       "  --sklearn-color-text: black;\n",
       "  --sklearn-color-line: gray;\n",
       "  /* Definition of color scheme for unfitted estimators */\n",
       "  --sklearn-color-unfitted-level-0: #fff5e6;\n",
       "  --sklearn-color-unfitted-level-1: #f6e4d2;\n",
       "  --sklearn-color-unfitted-level-2: #ffe0b3;\n",
       "  --sklearn-color-unfitted-level-3: chocolate;\n",
       "  /* Definition of color scheme for fitted estimators */\n",
       "  --sklearn-color-fitted-level-0: #f0f8ff;\n",
       "  --sklearn-color-fitted-level-1: #d4ebff;\n",
       "  --sklearn-color-fitted-level-2: #b3dbfd;\n",
       "  --sklearn-color-fitted-level-3: cornflowerblue;\n",
       "\n",
       "  /* Specific color for light theme */\n",
       "  --sklearn-color-text-on-default-background: var(--sg-text-color, var(--theme-code-foreground, var(--jp-content-font-color1, black)));\n",
       "  --sklearn-color-background: var(--sg-background-color, var(--theme-background, var(--jp-layout-color0, white)));\n",
       "  --sklearn-color-border-box: var(--sg-text-color, var(--theme-code-foreground, var(--jp-content-font-color1, black)));\n",
       "  --sklearn-color-icon: #696969;\n",
       "\n",
       "  @media (prefers-color-scheme: dark) {\n",
       "    /* Redefinition of color scheme for dark theme */\n",
       "    --sklearn-color-text-on-default-background: var(--sg-text-color, var(--theme-code-foreground, var(--jp-content-font-color1, white)));\n",
       "    --sklearn-color-background: var(--sg-background-color, var(--theme-background, var(--jp-layout-color0, #111)));\n",
       "    --sklearn-color-border-box: var(--sg-text-color, var(--theme-code-foreground, var(--jp-content-font-color1, white)));\n",
       "    --sklearn-color-icon: #878787;\n",
       "  }\n",
       "}\n",
       "\n",
       "#sk-container-id-1 {\n",
       "  color: var(--sklearn-color-text);\n",
       "}\n",
       "\n",
       "#sk-container-id-1 pre {\n",
       "  padding: 0;\n",
       "}\n",
       "\n",
       "#sk-container-id-1 input.sk-hidden--visually {\n",
       "  border: 0;\n",
       "  clip: rect(1px 1px 1px 1px);\n",
       "  clip: rect(1px, 1px, 1px, 1px);\n",
       "  height: 1px;\n",
       "  margin: -1px;\n",
       "  overflow: hidden;\n",
       "  padding: 0;\n",
       "  position: absolute;\n",
       "  width: 1px;\n",
       "}\n",
       "\n",
       "#sk-container-id-1 div.sk-dashed-wrapped {\n",
       "  border: 1px dashed var(--sklearn-color-line);\n",
       "  margin: 0 0.4em 0.5em 0.4em;\n",
       "  box-sizing: border-box;\n",
       "  padding-bottom: 0.4em;\n",
       "  background-color: var(--sklearn-color-background);\n",
       "}\n",
       "\n",
       "#sk-container-id-1 div.sk-container {\n",
       "  /* jupyter's `normalize.less` sets `[hidden] { display: none; }`\n",
       "     but bootstrap.min.css set `[hidden] { display: none !important; }`\n",
       "     so we also need the `!important` here to be able to override the\n",
       "     default hidden behavior on the sphinx rendered scikit-learn.org.\n",
       "     See: https://github.com/scikit-learn/scikit-learn/issues/21755 */\n",
       "  display: inline-block !important;\n",
       "  position: relative;\n",
       "}\n",
       "\n",
       "#sk-container-id-1 div.sk-text-repr-fallback {\n",
       "  display: none;\n",
       "}\n",
       "\n",
       "div.sk-parallel-item,\n",
       "div.sk-serial,\n",
       "div.sk-item {\n",
       "  /* draw centered vertical line to link estimators */\n",
       "  background-image: linear-gradient(var(--sklearn-color-text-on-default-background), var(--sklearn-color-text-on-default-background));\n",
       "  background-size: 2px 100%;\n",
       "  background-repeat: no-repeat;\n",
       "  background-position: center center;\n",
       "}\n",
       "\n",
       "/* Parallel-specific style estimator block */\n",
       "\n",
       "#sk-container-id-1 div.sk-parallel-item::after {\n",
       "  content: \"\";\n",
       "  width: 100%;\n",
       "  border-bottom: 2px solid var(--sklearn-color-text-on-default-background);\n",
       "  flex-grow: 1;\n",
       "}\n",
       "\n",
       "#sk-container-id-1 div.sk-parallel {\n",
       "  display: flex;\n",
       "  align-items: stretch;\n",
       "  justify-content: center;\n",
       "  background-color: var(--sklearn-color-background);\n",
       "  position: relative;\n",
       "}\n",
       "\n",
       "#sk-container-id-1 div.sk-parallel-item {\n",
       "  display: flex;\n",
       "  flex-direction: column;\n",
       "}\n",
       "\n",
       "#sk-container-id-1 div.sk-parallel-item:first-child::after {\n",
       "  align-self: flex-end;\n",
       "  width: 50%;\n",
       "}\n",
       "\n",
       "#sk-container-id-1 div.sk-parallel-item:last-child::after {\n",
       "  align-self: flex-start;\n",
       "  width: 50%;\n",
       "}\n",
       "\n",
       "#sk-container-id-1 div.sk-parallel-item:only-child::after {\n",
       "  width: 0;\n",
       "}\n",
       "\n",
       "/* Serial-specific style estimator block */\n",
       "\n",
       "#sk-container-id-1 div.sk-serial {\n",
       "  display: flex;\n",
       "  flex-direction: column;\n",
       "  align-items: center;\n",
       "  background-color: var(--sklearn-color-background);\n",
       "  padding-right: 1em;\n",
       "  padding-left: 1em;\n",
       "}\n",
       "\n",
       "\n",
       "/* Toggleable style: style used for estimator/Pipeline/ColumnTransformer box that is\n",
       "clickable and can be expanded/collapsed.\n",
       "- Pipeline and ColumnTransformer use this feature and define the default style\n",
       "- Estimators will overwrite some part of the style using the `sk-estimator` class\n",
       "*/\n",
       "\n",
       "/* Pipeline and ColumnTransformer style (default) */\n",
       "\n",
       "#sk-container-id-1 div.sk-toggleable {\n",
       "  /* Default theme specific background. It is overwritten whether we have a\n",
       "  specific estimator or a Pipeline/ColumnTransformer */\n",
       "  background-color: var(--sklearn-color-background);\n",
       "}\n",
       "\n",
       "/* Toggleable label */\n",
       "#sk-container-id-1 label.sk-toggleable__label {\n",
       "  cursor: pointer;\n",
       "  display: block;\n",
       "  width: 100%;\n",
       "  margin-bottom: 0;\n",
       "  padding: 0.5em;\n",
       "  box-sizing: border-box;\n",
       "  text-align: center;\n",
       "}\n",
       "\n",
       "#sk-container-id-1 label.sk-toggleable__label-arrow:before {\n",
       "  /* Arrow on the left of the label */\n",
       "  content: \"▸\";\n",
       "  float: left;\n",
       "  margin-right: 0.25em;\n",
       "  color: var(--sklearn-color-icon);\n",
       "}\n",
       "\n",
       "#sk-container-id-1 label.sk-toggleable__label-arrow:hover:before {\n",
       "  color: var(--sklearn-color-text);\n",
       "}\n",
       "\n",
       "/* Toggleable content - dropdown */\n",
       "\n",
       "#sk-container-id-1 div.sk-toggleable__content {\n",
       "  max-height: 0;\n",
       "  max-width: 0;\n",
       "  overflow: hidden;\n",
       "  text-align: left;\n",
       "  /* unfitted */\n",
       "  background-color: var(--sklearn-color-unfitted-level-0);\n",
       "}\n",
       "\n",
       "#sk-container-id-1 div.sk-toggleable__content.fitted {\n",
       "  /* fitted */\n",
       "  background-color: var(--sklearn-color-fitted-level-0);\n",
       "}\n",
       "\n",
       "#sk-container-id-1 div.sk-toggleable__content pre {\n",
       "  margin: 0.2em;\n",
       "  border-radius: 0.25em;\n",
       "  color: var(--sklearn-color-text);\n",
       "  /* unfitted */\n",
       "  background-color: var(--sklearn-color-unfitted-level-0);\n",
       "}\n",
       "\n",
       "#sk-container-id-1 div.sk-toggleable__content.fitted pre {\n",
       "  /* unfitted */\n",
       "  background-color: var(--sklearn-color-fitted-level-0);\n",
       "}\n",
       "\n",
       "#sk-container-id-1 input.sk-toggleable__control:checked~div.sk-toggleable__content {\n",
       "  /* Expand drop-down */\n",
       "  max-height: 200px;\n",
       "  max-width: 100%;\n",
       "  overflow: auto;\n",
       "}\n",
       "\n",
       "#sk-container-id-1 input.sk-toggleable__control:checked~label.sk-toggleable__label-arrow:before {\n",
       "  content: \"▾\";\n",
       "}\n",
       "\n",
       "/* Pipeline/ColumnTransformer-specific style */\n",
       "\n",
       "#sk-container-id-1 div.sk-label input.sk-toggleable__control:checked~label.sk-toggleable__label {\n",
       "  color: var(--sklearn-color-text);\n",
       "  background-color: var(--sklearn-color-unfitted-level-2);\n",
       "}\n",
       "\n",
       "#sk-container-id-1 div.sk-label.fitted input.sk-toggleable__control:checked~label.sk-toggleable__label {\n",
       "  background-color: var(--sklearn-color-fitted-level-2);\n",
       "}\n",
       "\n",
       "/* Estimator-specific style */\n",
       "\n",
       "/* Colorize estimator box */\n",
       "#sk-container-id-1 div.sk-estimator input.sk-toggleable__control:checked~label.sk-toggleable__label {\n",
       "  /* unfitted */\n",
       "  background-color: var(--sklearn-color-unfitted-level-2);\n",
       "}\n",
       "\n",
       "#sk-container-id-1 div.sk-estimator.fitted input.sk-toggleable__control:checked~label.sk-toggleable__label {\n",
       "  /* fitted */\n",
       "  background-color: var(--sklearn-color-fitted-level-2);\n",
       "}\n",
       "\n",
       "#sk-container-id-1 div.sk-label label.sk-toggleable__label,\n",
       "#sk-container-id-1 div.sk-label label {\n",
       "  /* The background is the default theme color */\n",
       "  color: var(--sklearn-color-text-on-default-background);\n",
       "}\n",
       "\n",
       "/* On hover, darken the color of the background */\n",
       "#sk-container-id-1 div.sk-label:hover label.sk-toggleable__label {\n",
       "  color: var(--sklearn-color-text);\n",
       "  background-color: var(--sklearn-color-unfitted-level-2);\n",
       "}\n",
       "\n",
       "/* Label box, darken color on hover, fitted */\n",
       "#sk-container-id-1 div.sk-label.fitted:hover label.sk-toggleable__label.fitted {\n",
       "  color: var(--sklearn-color-text);\n",
       "  background-color: var(--sklearn-color-fitted-level-2);\n",
       "}\n",
       "\n",
       "/* Estimator label */\n",
       "\n",
       "#sk-container-id-1 div.sk-label label {\n",
       "  font-family: monospace;\n",
       "  font-weight: bold;\n",
       "  display: inline-block;\n",
       "  line-height: 1.2em;\n",
       "}\n",
       "\n",
       "#sk-container-id-1 div.sk-label-container {\n",
       "  text-align: center;\n",
       "}\n",
       "\n",
       "/* Estimator-specific */\n",
       "#sk-container-id-1 div.sk-estimator {\n",
       "  font-family: monospace;\n",
       "  border: 1px dotted var(--sklearn-color-border-box);\n",
       "  border-radius: 0.25em;\n",
       "  box-sizing: border-box;\n",
       "  margin-bottom: 0.5em;\n",
       "  /* unfitted */\n",
       "  background-color: var(--sklearn-color-unfitted-level-0);\n",
       "}\n",
       "\n",
       "#sk-container-id-1 div.sk-estimator.fitted {\n",
       "  /* fitted */\n",
       "  background-color: var(--sklearn-color-fitted-level-0);\n",
       "}\n",
       "\n",
       "/* on hover */\n",
       "#sk-container-id-1 div.sk-estimator:hover {\n",
       "  /* unfitted */\n",
       "  background-color: var(--sklearn-color-unfitted-level-2);\n",
       "}\n",
       "\n",
       "#sk-container-id-1 div.sk-estimator.fitted:hover {\n",
       "  /* fitted */\n",
       "  background-color: var(--sklearn-color-fitted-level-2);\n",
       "}\n",
       "\n",
       "/* Specification for estimator info (e.g. \"i\" and \"?\") */\n",
       "\n",
       "/* Common style for \"i\" and \"?\" */\n",
       "\n",
       ".sk-estimator-doc-link,\n",
       "a:link.sk-estimator-doc-link,\n",
       "a:visited.sk-estimator-doc-link {\n",
       "  float: right;\n",
       "  font-size: smaller;\n",
       "  line-height: 1em;\n",
       "  font-family: monospace;\n",
       "  background-color: var(--sklearn-color-background);\n",
       "  border-radius: 1em;\n",
       "  height: 1em;\n",
       "  width: 1em;\n",
       "  text-decoration: none !important;\n",
       "  margin-left: 1ex;\n",
       "  /* unfitted */\n",
       "  border: var(--sklearn-color-unfitted-level-1) 1pt solid;\n",
       "  color: var(--sklearn-color-unfitted-level-1);\n",
       "}\n",
       "\n",
       ".sk-estimator-doc-link.fitted,\n",
       "a:link.sk-estimator-doc-link.fitted,\n",
       "a:visited.sk-estimator-doc-link.fitted {\n",
       "  /* fitted */\n",
       "  border: var(--sklearn-color-fitted-level-1) 1pt solid;\n",
       "  color: var(--sklearn-color-fitted-level-1);\n",
       "}\n",
       "\n",
       "/* On hover */\n",
       "div.sk-estimator:hover .sk-estimator-doc-link:hover,\n",
       ".sk-estimator-doc-link:hover,\n",
       "div.sk-label-container:hover .sk-estimator-doc-link:hover,\n",
       ".sk-estimator-doc-link:hover {\n",
       "  /* unfitted */\n",
       "  background-color: var(--sklearn-color-unfitted-level-3);\n",
       "  color: var(--sklearn-color-background);\n",
       "  text-decoration: none;\n",
       "}\n",
       "\n",
       "div.sk-estimator.fitted:hover .sk-estimator-doc-link.fitted:hover,\n",
       ".sk-estimator-doc-link.fitted:hover,\n",
       "div.sk-label-container:hover .sk-estimator-doc-link.fitted:hover,\n",
       ".sk-estimator-doc-link.fitted:hover {\n",
       "  /* fitted */\n",
       "  background-color: var(--sklearn-color-fitted-level-3);\n",
       "  color: var(--sklearn-color-background);\n",
       "  text-decoration: none;\n",
       "}\n",
       "\n",
       "/* Span, style for the box shown on hovering the info icon */\n",
       ".sk-estimator-doc-link span {\n",
       "  display: none;\n",
       "  z-index: 9999;\n",
       "  position: relative;\n",
       "  font-weight: normal;\n",
       "  right: .2ex;\n",
       "  padding: .5ex;\n",
       "  margin: .5ex;\n",
       "  width: min-content;\n",
       "  min-width: 20ex;\n",
       "  max-width: 50ex;\n",
       "  color: var(--sklearn-color-text);\n",
       "  box-shadow: 2pt 2pt 4pt #999;\n",
       "  /* unfitted */\n",
       "  background: var(--sklearn-color-unfitted-level-0);\n",
       "  border: .5pt solid var(--sklearn-color-unfitted-level-3);\n",
       "}\n",
       "\n",
       ".sk-estimator-doc-link.fitted span {\n",
       "  /* fitted */\n",
       "  background: var(--sklearn-color-fitted-level-0);\n",
       "  border: var(--sklearn-color-fitted-level-3);\n",
       "}\n",
       "\n",
       ".sk-estimator-doc-link:hover span {\n",
       "  display: block;\n",
       "}\n",
       "\n",
       "/* \"?\"-specific style due to the `<a>` HTML tag */\n",
       "\n",
       "#sk-container-id-1 a.estimator_doc_link {\n",
       "  float: right;\n",
       "  font-size: 1rem;\n",
       "  line-height: 1em;\n",
       "  font-family: monospace;\n",
       "  background-color: var(--sklearn-color-background);\n",
       "  border-radius: 1rem;\n",
       "  height: 1rem;\n",
       "  width: 1rem;\n",
       "  text-decoration: none;\n",
       "  /* unfitted */\n",
       "  color: var(--sklearn-color-unfitted-level-1);\n",
       "  border: var(--sklearn-color-unfitted-level-1) 1pt solid;\n",
       "}\n",
       "\n",
       "#sk-container-id-1 a.estimator_doc_link.fitted {\n",
       "  /* fitted */\n",
       "  border: var(--sklearn-color-fitted-level-1) 1pt solid;\n",
       "  color: var(--sklearn-color-fitted-level-1);\n",
       "}\n",
       "\n",
       "/* On hover */\n",
       "#sk-container-id-1 a.estimator_doc_link:hover {\n",
       "  /* unfitted */\n",
       "  background-color: var(--sklearn-color-unfitted-level-3);\n",
       "  color: var(--sklearn-color-background);\n",
       "  text-decoration: none;\n",
       "}\n",
       "\n",
       "#sk-container-id-1 a.estimator_doc_link.fitted:hover {\n",
       "  /* fitted */\n",
       "  background-color: var(--sklearn-color-fitted-level-3);\n",
       "}\n",
       "</style><div id=\"sk-container-id-1\" class=\"sk-top-container\"><div class=\"sk-text-repr-fallback\"><pre>BaggingClassifier(bootstrap_features=True,\n",
       "                  estimator=KerasClassifier(dropout=True, epochs=20, hl=1, hu=128, input_dim=30, model=&lt;function create_model at 0x1582ea4d0&gt;, regularize=False, verbose=False),\n",
       "                  max_features=0.75, max_samples=0.75, n_estimators=15,\n",
       "                  n_jobs=1, random_state=100)</pre><b>In a Jupyter environment, please rerun this cell to show the HTML representation or trust the notebook. <br />On GitHub, the HTML representation is unable to render, please try loading this page with nbviewer.org.</b></div><div class=\"sk-container\" hidden><div class=\"sk-item sk-dashed-wrapped\"><div class=\"sk-label-container\"><div class=\"sk-label fitted sk-toggleable\"><input class=\"sk-toggleable__control sk-hidden--visually\" id=\"sk-estimator-id-1\" type=\"checkbox\" ><label for=\"sk-estimator-id-1\" class=\"sk-toggleable__label fitted sk-toggleable__label-arrow fitted\">&nbsp;&nbsp;BaggingClassifier<a class=\"sk-estimator-doc-link fitted\" rel=\"noreferrer\" target=\"_blank\" href=\"https://scikit-learn.org/1.5/modules/generated/sklearn.ensemble.BaggingClassifier.html\">?<span>Documentation for BaggingClassifier</span></a><span class=\"sk-estimator-doc-link fitted\">i<span>Fitted</span></span></label><div class=\"sk-toggleable__content fitted\"><pre>BaggingClassifier(bootstrap_features=True,\n",
       "                  estimator=KerasClassifier(dropout=True, epochs=20, hl=1, hu=128, input_dim=30, model=&lt;function create_model at 0x1582ea4d0&gt;, regularize=False, verbose=False),\n",
       "                  max_features=0.75, max_samples=0.75, n_estimators=15,\n",
       "                  n_jobs=1, random_state=100)</pre></div> </div></div><div class=\"sk-parallel\"><div class=\"sk-parallel-item\"><div class=\"sk-item\"><div class=\"sk-label-container\"><div class=\"sk-label fitted sk-toggleable\"><input class=\"sk-toggleable__control sk-hidden--visually\" id=\"sk-estimator-id-2\" type=\"checkbox\" ><label for=\"sk-estimator-id-2\" class=\"sk-toggleable__label fitted sk-toggleable__label-arrow fitted\">estimator: KerasClassifier</label><div class=\"sk-toggleable__content fitted\"><pre>KerasClassifier(\n",
       "\tmodel=&lt;function create_model at 0x1582ea4d0&gt;\n",
       "\tbuild_fn=None\n",
       "\twarm_start=False\n",
       "\trandom_state=None\n",
       "\toptimizer=rmsprop\n",
       "\tloss=None\n",
       "\tmetrics=None\n",
       "\tbatch_size=None\n",
       "\tvalidation_batch_size=None\n",
       "\tverbose=False\n",
       "\tcallbacks=None\n",
       "\tvalidation_split=0.0\n",
       "\tshuffle=True\n",
       "\trun_eagerly=False\n",
       "\tepochs=20\n",
       "\thl=1\n",
       "\thu=128\n",
       "\tdropout=True\n",
       "\tregularize=False\n",
       "\tinput_dim=30\n",
       "\tclass_weight=None\n",
       ")</pre></div> </div></div><div class=\"sk-serial\"><div class=\"sk-item\"><div class=\"sk-estimator fitted sk-toggleable\"><input class=\"sk-toggleable__control sk-hidden--visually\" id=\"sk-estimator-id-3\" type=\"checkbox\" ><label for=\"sk-estimator-id-3\" class=\"sk-toggleable__label fitted sk-toggleable__label-arrow fitted\">KerasClassifier</label><div class=\"sk-toggleable__content fitted\"><pre>KerasClassifier(\n",
       "\tmodel=&lt;function create_model at 0x1582ea4d0&gt;\n",
       "\tbuild_fn=None\n",
       "\twarm_start=False\n",
       "\trandom_state=None\n",
       "\toptimizer=rmsprop\n",
       "\tloss=None\n",
       "\tmetrics=None\n",
       "\tbatch_size=None\n",
       "\tvalidation_batch_size=None\n",
       "\tverbose=False\n",
       "\tcallbacks=None\n",
       "\tvalidation_split=0.0\n",
       "\tshuffle=True\n",
       "\trun_eagerly=False\n",
       "\tepochs=20\n",
       "\thl=1\n",
       "\thu=128\n",
       "\tdropout=True\n",
       "\tregularize=False\n",
       "\tinput_dim=30\n",
       "\tclass_weight=None\n",
       ")</pre></div> </div></div></div></div></div></div></div></div></div>"
      ]
     },
     "execution_count": 103,
     "metadata": {},
     "output_type": "execute_result"
    }
   ],
   "execution_count": 103
  },
  {
   "cell_type": "code",
   "metadata": {
    "ExecuteTime": {
     "end_time": "2024-09-22T10:45:45.390271Z",
     "start_time": "2024-09-22T10:45:44.551360Z"
    }
   },
   "source": [
    "model_bag.score(train_[cols], train['d'])"
   ],
   "outputs": [
    {
     "data": {
      "text/plain": [
       "0.6231772831926324"
      ]
     },
     "execution_count": 104,
     "metadata": {},
     "output_type": "execute_result"
    }
   ],
   "execution_count": 104
  },
  {
   "cell_type": "code",
   "metadata": {
    "ExecuteTime": {
     "end_time": "2024-09-22T10:45:48.353977Z",
     "start_time": "2024-09-22T10:45:47.997419Z"
    }
   },
   "source": [
    "model_bag.score(test_[cols], test['d'])"
   ],
   "outputs": [
    {
     "data": {
      "text/plain": [
       "0.5368098159509203"
      ]
     },
     "execution_count": 105,
     "metadata": {},
     "output_type": "execute_result"
    }
   ],
   "execution_count": 105
  },
  {
   "cell_type": "code",
   "metadata": {
    "ExecuteTime": {
     "end_time": "2024-09-22T10:45:51.397751Z",
     "start_time": "2024-09-22T10:45:51.036355Z"
    }
   },
   "source": [
    "test['p'] = model_bag.predict(test_[cols])"
   ],
   "outputs": [],
   "execution_count": 106
  },
  {
   "cell_type": "code",
   "metadata": {
    "ExecuteTime": {
     "end_time": "2024-09-22T10:45:53.536635Z",
     "start_time": "2024-09-22T10:45:53.532524Z"
    }
   },
   "source": [
    "test['p'].value_counts()"
   ],
   "outputs": [
    {
     "data": {
      "text/plain": [
       "p\n",
       "0    310\n",
       "1     16\n",
       "Name: count, dtype: int64"
      ]
     },
     "execution_count": 107,
     "metadata": {},
     "output_type": "execute_result"
    }
   ],
   "execution_count": 107
  },
  {
   "cell_type": "markdown",
   "metadata": {},
   "source": [
    "## Optimizers"
   ]
  },
  {
   "cell_type": "code",
   "metadata": {
    "ExecuteTime": {
     "end_time": "2024-09-22T11:04:39.095538Z",
     "start_time": "2024-09-22T11:04:39.093204Z"
    }
   },
   "source": [
    "import time"
   ],
   "outputs": [],
   "execution_count": 108
  },
  {
   "cell_type": "code",
   "metadata": {
    "ExecuteTime": {
     "end_time": "2024-09-22T11:05:23.016014Z",
     "start_time": "2024-09-22T11:05:23.013689Z"
    }
   },
   "source": [
    "optimizers = ['sgd', 'rmsprop', 'adagrad', 'adadelta',\n",
    "              'adam', 'adamax', 'nadam']"
   ],
   "outputs": [],
   "execution_count": 111
  },
  {
   "metadata": {
    "ExecuteTime": {
     "end_time": "2024-09-22T11:05:24.880598Z",
     "start_time": "2024-09-22T11:05:24.876253Z"
    }
   },
   "cell_type": "code",
   "source": [
    "def create_model(hl=1, hu=128, dropout=False, rate=0.3, \n",
    "                 regularize=False, reg=l1(0.0005),\n",
    "                 optimizer=optimizer, input_dim=len(cols)):\n",
    "    if not regularize:\n",
    "        reg = None\n",
    "    model = Sequential()\n",
    "    model.add(Dense(hu, input_dim=input_dim,\n",
    "                    activity_regularizer=reg,\n",
    "                    activation='relu'))\n",
    "    if dropout:\n",
    "        model.add(Dropout(rate, seed=100))\n",
    "    for _ in range(hl):\n",
    "        model.add(Dense(hu, activation='relu',\n",
    "                        activity_regularizer=reg))\n",
    "        if dropout:\n",
    "            model.add(Dropout(rate, seed=100))\n",
    "    model.add(Dense(1, activation='sigmoid'))\n",
    "    model.compile(loss='binary_crossentropy', optimizer=optimizer,\n",
    "                 metrics=['accuracy'])\n",
    "    return model"
   ],
   "outputs": [],
   "execution_count": 112
  },
  {
   "cell_type": "code",
   "metadata": {
    "ExecuteTime": {
     "end_time": "2024-09-22T11:05:44.837375Z",
     "start_time": "2024-09-22T11:05:27.570891Z"
    }
   },
   "source": [
    "%%time\n",
    "for optimizer in optimizers:\n",
    "    set_seeds()\n",
    "    model = create_model(hl=1, hu=128,\n",
    "                     dropout=True, rate=0.3,\n",
    "                     regularize=False, reg=l2(0.001),\n",
    "                     optimizer=optimizer\n",
    "                    )\n",
    "    t0 = time.time()\n",
    "    model.fit(train_[cols], train['d'],\n",
    "              epochs=50, verbose=False,\n",
    "              validation_split=0.2, shuffle=False,\n",
    "              class_weight=cw(train))\n",
    "    t1 = time.time()\n",
    "    t = t1 - t0\n",
    "    acc_tr = model.evaluate(train_[cols], train['d'], verbose=False)[1]\n",
    "    acc_te = model.evaluate(test_[cols], test['d'], verbose=False)[1]\n",
    "    out = f'{optimizer:10s} | time[s]: {t:.4f} | in-sample={acc_tr:.4f}'\n",
    "    out += f' | out-of-sample={acc_te:.4f}'\n",
    "    print(out)"
   ],
   "outputs": [
    {
     "name": "stderr",
     "output_type": "stream",
     "text": [
      "/Users/zhengshuang/miniconda3/envs/aiif/lib/python3.10/site-packages/keras/src/layers/core/dense.py:87: UserWarning: Do not pass an `input_shape`/`input_dim` argument to a layer. When using Sequential models, prefer using an `Input(shape)` object as the first layer in the model instead.\n",
      "  super().__init__(activity_regularizer=activity_regularizer, **kwargs)\n",
      "/Users/zhengshuang/miniconda3/envs/aiif/lib/python3.10/site-packages/keras/src/trainers/data_adapters/data_adapter_utils.py:126: FutureWarning: Series.__getitem__ treating keys as positions is deprecated. In a future version, integer keys will always be treated as labels (consistent with DataFrame behavior). To access a value by position, use `ser.iloc[pos]`\n",
      "  sample_weight[i] = class_weight.get(int(y[i]), 1.0)\n"
     ]
    },
    {
     "name": "stdout",
     "output_type": "stream",
     "text": [
      "sgd        | time[s]: 2.2906 | in-sample=0.5994 | out-of-sample=0.5245\n"
     ]
    },
    {
     "name": "stderr",
     "output_type": "stream",
     "text": [
      "/Users/zhengshuang/miniconda3/envs/aiif/lib/python3.10/site-packages/keras/src/layers/core/dense.py:87: UserWarning: Do not pass an `input_shape`/`input_dim` argument to a layer. When using Sequential models, prefer using an `Input(shape)` object as the first layer in the model instead.\n",
      "  super().__init__(activity_regularizer=activity_regularizer, **kwargs)\n",
      "/Users/zhengshuang/miniconda3/envs/aiif/lib/python3.10/site-packages/keras/src/trainers/data_adapters/data_adapter_utils.py:126: FutureWarning: Series.__getitem__ treating keys as positions is deprecated. In a future version, integer keys will always be treated as labels (consistent with DataFrame behavior). To access a value by position, use `ser.iloc[pos]`\n",
      "  sample_weight[i] = class_weight.get(int(y[i]), 1.0)\n"
     ]
    },
    {
     "name": "stdout",
     "output_type": "stream",
     "text": [
      "rmsprop    | time[s]: 2.3053 | in-sample=0.7322 | out-of-sample=0.5123\n"
     ]
    },
    {
     "name": "stderr",
     "output_type": "stream",
     "text": [
      "/Users/zhengshuang/miniconda3/envs/aiif/lib/python3.10/site-packages/keras/src/layers/core/dense.py:87: UserWarning: Do not pass an `input_shape`/`input_dim` argument to a layer. When using Sequential models, prefer using an `Input(shape)` object as the first layer in the model instead.\n",
      "  super().__init__(activity_regularizer=activity_regularizer, **kwargs)\n",
      "/Users/zhengshuang/miniconda3/envs/aiif/lib/python3.10/site-packages/keras/src/trainers/data_adapters/data_adapter_utils.py:126: FutureWarning: Series.__getitem__ treating keys as positions is deprecated. In a future version, integer keys will always be treated as labels (consistent with DataFrame behavior). To access a value by position, use `ser.iloc[pos]`\n",
      "  sample_weight[i] = class_weight.get(int(y[i]), 1.0)\n"
     ]
    },
    {
     "name": "stdout",
     "output_type": "stream",
     "text": [
      "adagrad    | time[s]: 2.2173 | in-sample=0.5687 | out-of-sample=0.5123\n"
     ]
    },
    {
     "name": "stderr",
     "output_type": "stream",
     "text": [
      "/Users/zhengshuang/miniconda3/envs/aiif/lib/python3.10/site-packages/keras/src/layers/core/dense.py:87: UserWarning: Do not pass an `input_shape`/`input_dim` argument to a layer. When using Sequential models, prefer using an `Input(shape)` object as the first layer in the model instead.\n",
      "  super().__init__(activity_regularizer=activity_regularizer, **kwargs)\n",
      "/Users/zhengshuang/miniconda3/envs/aiif/lib/python3.10/site-packages/keras/src/trainers/data_adapters/data_adapter_utils.py:126: FutureWarning: Series.__getitem__ treating keys as positions is deprecated. In a future version, integer keys will always be treated as labels (consistent with DataFrame behavior). To access a value by position, use `ser.iloc[pos]`\n",
      "  sample_weight[i] = class_weight.get(int(y[i]), 1.0)\n"
     ]
    },
    {
     "name": "stdout",
     "output_type": "stream",
     "text": [
      "adadelta   | time[s]: 2.4850 | in-sample=0.4467 | out-of-sample=0.4877\n"
     ]
    },
    {
     "name": "stderr",
     "output_type": "stream",
     "text": [
      "/Users/zhengshuang/miniconda3/envs/aiif/lib/python3.10/site-packages/keras/src/layers/core/dense.py:87: UserWarning: Do not pass an `input_shape`/`input_dim` argument to a layer. When using Sequential models, prefer using an `Input(shape)` object as the first layer in the model instead.\n",
      "  super().__init__(activity_regularizer=activity_regularizer, **kwargs)\n",
      "/Users/zhengshuang/miniconda3/envs/aiif/lib/python3.10/site-packages/keras/src/trainers/data_adapters/data_adapter_utils.py:126: FutureWarning: Series.__getitem__ treating keys as positions is deprecated. In a future version, integer keys will always be treated as labels (consistent with DataFrame behavior). To access a value by position, use `ser.iloc[pos]`\n",
      "  sample_weight[i] = class_weight.get(int(y[i]), 1.0)\n"
     ]
    },
    {
     "name": "stdout",
     "output_type": "stream",
     "text": [
      "adam       | time[s]: 2.3712 | in-sample=0.7460 | out-of-sample=0.5031\n"
     ]
    },
    {
     "name": "stderr",
     "output_type": "stream",
     "text": [
      "/Users/zhengshuang/miniconda3/envs/aiif/lib/python3.10/site-packages/keras/src/layers/core/dense.py:87: UserWarning: Do not pass an `input_shape`/`input_dim` argument to a layer. When using Sequential models, prefer using an `Input(shape)` object as the first layer in the model instead.\n",
      "  super().__init__(activity_regularizer=activity_regularizer, **kwargs)\n",
      "/Users/zhengshuang/miniconda3/envs/aiif/lib/python3.10/site-packages/keras/src/trainers/data_adapters/data_adapter_utils.py:126: FutureWarning: Series.__getitem__ treating keys as positions is deprecated. In a future version, integer keys will always be treated as labels (consistent with DataFrame behavior). To access a value by position, use `ser.iloc[pos]`\n",
      "  sample_weight[i] = class_weight.get(int(y[i]), 1.0)\n"
     ]
    },
    {
     "name": "stdout",
     "output_type": "stream",
     "text": [
      "adamax     | time[s]: 2.3359 | in-sample=0.6523 | out-of-sample=0.5061\n"
     ]
    },
    {
     "name": "stderr",
     "output_type": "stream",
     "text": [
      "/Users/zhengshuang/miniconda3/envs/aiif/lib/python3.10/site-packages/keras/src/layers/core/dense.py:87: UserWarning: Do not pass an `input_shape`/`input_dim` argument to a layer. When using Sequential models, prefer using an `Input(shape)` object as the first layer in the model instead.\n",
      "  super().__init__(activity_regularizer=activity_regularizer, **kwargs)\n",
      "/Users/zhengshuang/miniconda3/envs/aiif/lib/python3.10/site-packages/keras/src/trainers/data_adapters/data_adapter_utils.py:126: FutureWarning: Series.__getitem__ treating keys as positions is deprecated. In a future version, integer keys will always be treated as labels (consistent with DataFrame behavior). To access a value by position, use `ser.iloc[pos]`\n",
      "  sample_weight[i] = class_weight.get(int(y[i]), 1.0)\n"
     ]
    },
    {
     "name": "stdout",
     "output_type": "stream",
     "text": [
      "nadam      | time[s]: 2.6739 | in-sample=0.7437 | out-of-sample=0.4939\n",
      "CPU times: user 18.4 s, sys: 2.56 s, total: 21 s\n",
      "Wall time: 17.3 s\n"
     ]
    }
   ],
   "execution_count": 113
  },
  {
   "cell_type": "code",
   "metadata": {
    "ExecuteTime": {
     "end_time": "2024-09-22T11:05:50.724982Z",
     "start_time": "2024-09-22T11:05:50.663264Z"
    }
   },
   "source": [
    "test['p'] = np.where(model.predict(test_[cols]) > 0.5, 1, 0)"
   ],
   "outputs": [
    {
     "name": "stdout",
     "output_type": "stream",
     "text": [
      "\u001B[1m11/11\u001B[0m \u001B[32m━━━━━━━━━━━━━━━━━━━━\u001B[0m\u001B[37m\u001B[0m \u001B[1m0s\u001B[0m 2ms/step \n"
     ]
    }
   ],
   "execution_count": 114
  },
  {
   "cell_type": "code",
   "metadata": {
    "ExecuteTime": {
     "end_time": "2024-09-22T11:05:53.336970Z",
     "start_time": "2024-09-22T11:05:53.332532Z"
    }
   },
   "source": [
    "test['p'].value_counts()"
   ],
   "outputs": [
    {
     "data": {
      "text/plain": [
       "p\n",
       "0    240\n",
       "1     86\n",
       "Name: count, dtype: int64"
      ]
     },
     "execution_count": 115,
     "metadata": {},
     "output_type": "execute_result"
    }
   ],
   "execution_count": 115
  },
  {
   "cell_type": "code",
   "execution_count": 93,
   "metadata": {},
   "outputs": [
    {
     "data": {
      "text/plain": [
       "0.665903890160183"
      ]
     },
     "execution_count": 93,
     "metadata": {},
     "output_type": "execute_result"
    }
   ],
   "source": [
    "accuracy_score(test['p'], test['d'])"
   ]
  },
  {
   "cell_type": "markdown",
   "metadata": {},
   "source": [
    "<img src='http://hilpisch.com/taim_logo.png' width=\"350px\" align=\"right\">\n",
    "\n",
    "<br><br><br><a href=\"http://tpq.io\" target=\"_blank\">http://tpq.io</a> | <a href=\"http://twitter.com/dyjh\" target=\"_blank\">@dyjh</a> | <a href=\"mailto:ai@tpq.io\">ai@tpq.io</a>"
   ]
  }
 ],
 "metadata": {
  "kernelspec": {
   "display_name": "Python 3 (ipykernel)",
   "language": "python",
   "name": "python3"
  },
  "language_info": {
   "codemirror_mode": {
    "name": "ipython",
    "version": 3
   },
   "file_extension": ".py",
   "mimetype": "text/x-python",
   "name": "python",
   "nbconvert_exporter": "python",
   "pygments_lexer": "ipython3",
   "version": "3.10.12"
  }
 },
 "nbformat": 4,
 "nbformat_minor": 4
}
